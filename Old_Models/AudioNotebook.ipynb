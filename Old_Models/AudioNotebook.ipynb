{
 "cells": [
  {
   "cell_type": "code",
   "execution_count": 2,
   "id": "15e63369",
   "metadata": {},
   "outputs": [
    {
     "name": "stdout",
     "output_type": "stream",
     "text": [
      "Please install GPU version of TF\n"
     ]
    }
   ],
   "source": [
    "import tensorflow as tf\n",
    "\n",
    "if tf.test.gpu_device_name():\n",
    "    print('Default GPU Device: {}'.format(tf.test.gpu_device_name()))\n",
    "else:\n",
    "    print(\"Please install GPU version of TF\")"
   ]
  },
  {
   "cell_type": "code",
   "execution_count": 3,
   "id": "9b34644b",
   "metadata": {},
   "outputs": [],
   "source": [
    "import os\n",
    "import numpy as np\n",
    "import pandas as pd\n",
    "import librosa\n",
    "import librosa.display\n",
    "import matplotlib.pyplot as plt\n",
    "import seaborn as sns\n",
    "from tqdm.notebook import tqdm\n",
    "from sklearn.model_selection import train_test_split\n",
    "from sklearn.preprocessing import scale, LabelEncoder, OneHotEncoder\n",
    "from sklearn.utils import shuffle\n",
    "from collections import Counter\n",
    "from tensorflow.keras.models import Sequential\n",
    "from tensorflow.keras.layers import Conv1D, Conv2D, MaxPooling1D,MaxPooling2D, LSTM, Dense, Dropout, BatchNormalization, Flatten, Bidirectional\n",
    "from tensorflow.keras.layers import Conv2D, MaxPooling2D, Flatten, Dense, Dropout, BatchNormalization, LSTM, Bidirectional, Reshape\n",
    "from tensorflow.keras.callbacks import ModelCheckpoint, EarlyStopping, TensorBoard\n",
    "from tensorflow.keras.optimizers import Adam\n",
    "from keras.utils import plot_model\n",
    "from IPython.display import Image\n",
    "import datetime\n",
    "from multiprocessing import cpu_count\n",
    "from tqdm.contrib.concurrent import process_map\n",
    "import random"
   ]
  },
  {
   "cell_type": "code",
   "execution_count": 4,
   "id": "f2d7a6ac",
   "metadata": {},
   "outputs": [],
   "source": [
    "def load_audio(file_path, sample_rate=16000):\n",
    "    audio, _ = librosa.load(file_path, sr=sample_rate)\n",
    "    return audio\n"
   ]
  },
  {
   "cell_type": "code",
   "execution_count": 5,
   "id": "9047cacc",
   "metadata": {},
   "outputs": [],
   "source": [
    "def normalize_audio(audio):\n",
    "    return librosa.util.normalize(audio)\n"
   ]
  },
  {
   "cell_type": "code",
   "execution_count": 6,
   "id": "65cb3233",
   "metadata": {},
   "outputs": [],
   "source": [
    "def to_mono(audio):\n",
    "    if audio.ndim > 1:\n",
    "        return librosa.to_mono(audio)\n",
    "    return audio\n"
   ]
  },
  {
   "cell_type": "code",
   "execution_count": 7,
   "id": "fb78379f",
   "metadata": {},
   "outputs": [],
   "source": [
    "def extract_mfccs(audio, sample_rate=16000, n_mfcc=23):\n",
    "    \"\"\"\n",
    "    Extract MFCCs from audio data.\n",
    "\n",
    "    Parameters:\n",
    "    audio (np.ndarray): Audio data.\n",
    "    sample_rate (int): Sample rate of the audio data.\n",
    "    n_mfcc (int): Number of MFCCs to extract.\n",
    "\n",
    "    Returns:\n",
    "    np.ndarray: MFCCs of the audio data.\n",
    "    \"\"\"\n",
    "    return librosa.feature.mfcc(y=audio, sr=sample_rate, n_mfcc=n_mfcc)\n"
   ]
  },
  {
   "cell_type": "code",
   "execution_count": 8,
   "id": "4eaabf42",
   "metadata": {},
   "outputs": [],
   "source": [
    "def extract_spectrogram(audio):\n",
    "    stft = np.abs(librosa.stft(audio))\n",
    "    return librosa.amplitude_to_db(stft, ref=np.max)\n"
   ]
  },
  {
   "cell_type": "code",
   "execution_count": 9,
   "id": "9808103c",
   "metadata": {},
   "outputs": [],
   "source": [
    "# def sample_audio_files(speaker_dir):\n",
    "#     \"\"\"\n",
    "#     Get all audio files from a speaker's directory and its subdirectories.\n",
    "\n",
    "#     Parameters:\n",
    "#     speaker_dir (str): Path to the speaker's directory.\n",
    "\n",
    "#     Returns:\n",
    "#     list: List of paths to all audio files in the directory and its subdirectories.\n",
    "#     \"\"\"\n",
    "#     all_files = []\n",
    "#     for root, _, files in os.walk(speaker_dir):\n",
    "#         audio_files = [os.path.join(root, f) for f in files if f.endswith('.wav')]\n",
    "#         all_files.extend(audio_files)\n",
    "\n",
    "#     return all_files"
   ]
  },
  {
   "cell_type": "code",
   "execution_count": 10,
   "id": "c9cf25c8",
   "metadata": {},
   "outputs": [],
   "source": [
    "def sample_audio_files(speaker_dir, sample_limit):\n",
    "    \"\"\"\n",
    "    Get all audio files from a speaker's directory.\n",
    "\n",
    "    Parameters:\n",
    "    speaker_dir (str): Path to the speaker's directory.\n",
    "    sample_limit (int): Number of audio files to sample.\n",
    "\n",
    "    Returns:\n",
    "    list: List of paths to all audio files in the directory.\n",
    "    \"\"\"\n",
    "    all_files = []\n",
    "    for video_id in os.listdir(speaker_dir):\n",
    "        video_dir = os.path.join(speaker_dir, video_id)\n",
    "        if os.path.isdir(video_dir):\n",
    "            audio_files = [os.path.join(video_dir, f) for f in os.listdir(video_dir) if f.endswith('.wav')]\n",
    "            all_files.extend(audio_files)\n",
    "\n",
    "    if sample_limit is not None and sample_limit < len(all_files):\n",
    "        # Randomly sample the files if sample_limit is provided\n",
    "        sampled_files = random.sample(all_files, sample_limit)\n",
    "    else:\n",
    "        # Otherwise, use all the files\n",
    "        sampled_files = all_files\n",
    "\n",
    "    return sampled_files"
   ]
  },
  {
   "cell_type": "code",
   "execution_count": 11,
   "id": "e856a6b7",
   "metadata": {},
   "outputs": [],
   "source": [
    "def process_audio_files(files, sample_rate=16000, feature_type='mfcc'):\n",
    "    \"\"\"\n",
    "    Process the sampled audio files.\n",
    "\n",
    "    Parameters:\n",
    "    files (list): List of audio file paths.\n",
    "    sample_rate (int): Sample rate for audio processing.\n",
    "    feature_type (str): Type of feature to extract ('mfcc' or 'spectrogram').\n",
    "\n",
    "    Returns:\n",
    "    list: List of extracted features from the processed audio files.\n",
    "    \"\"\"\n",
    "    processed_features = []\n",
    "\n",
    "    for file_path in tqdm(files, desc=\"Processing audio files\"):\n",
    "        audio = load_audio(file_path, sample_rate)\n",
    "        audio = normalize_audio(audio)\n",
    "        audio = to_mono(audio)\n",
    "\n",
    "        if feature_type == 'mfcc':\n",
    "            feature = extract_mfccs(audio, sample_rate)\n",
    "        elif feature_type == 'spectrogram':\n",
    "            feature = extract_spectrogram(audio)\n",
    "\n",
    "        processed_features.append(feature)\n",
    "\n",
    "    return processed_features"
   ]
  },
  {
   "cell_type": "code",
   "execution_count": 12,
   "id": "9aa526b6",
   "metadata": {},
   "outputs": [],
   "source": [
    "# def preprocess_voxceleb1(root_dir, sample_rate=16000, feature_type='mfcc'):\n",
    "#     \"\"\"\n",
    "#     Preprocess the VoxCeleb1 dataset.\n",
    "\n",
    "#     Parameters:\n",
    "#     root_dir (str): Root directory of the VoxCeleb1 dataset.\n",
    "#     sample_rate (int): Target sample rate for the audio files.\n",
    "#     feature_type (str): Type of feature to extract ('mfcc' or 'spectrogram').\n",
    "\n",
    "#     Returns:\n",
    "#     dict: Dictionary with speaker IDs as keys and lists of processed features as values.\n",
    "#     \"\"\"\n",
    "#     processed_data = {}\n",
    "\n",
    "#     speaker_dirs = os.listdir(root_dir)\n",
    "#     for speaker_id in tqdm(speaker_dirs, desc=\"Processing speakers\"):\n",
    "#         speaker_dir = os.path.join(root_dir, speaker_id)\n",
    "#         if os.path.isdir(speaker_dir):\n",
    "#             audio_files = sample_audio_files(speaker_dir)\n",
    "#             processed_data[speaker_id] = process_audio_files(audio_files, sample_rate, feature_type)\n",
    "\n",
    "#     return processed_data"
   ]
  },
  {
   "cell_type": "code",
   "execution_count": 13,
   "id": "5a5e1256",
   "metadata": {},
   "outputs": [],
   "source": [
    "def preprocess_voxceleb1(root_dir, sample_rate=16000, sample_limit=None, feature_type='mfcc'):\n",
    "    \"\"\"\n",
    "    Preprocess the VoxCeleb1 dataset.\n",
    "\n",
    "    Parameters:\n",
    "    root_dir (str): Root directory of the VoxCeleb1 dataset.\n",
    "    sample_rate (int): Target sample rate for the audio files.\n",
    "    sample_limit (int): Max number of audio samples to process per speaker.\n",
    "    feature_type (str): Type of feature to extract ('mfcc' or 'spectrogram').\n",
    "\n",
    "    Returns:\n",
    "    dict: Dictionary with speaker IDs as keys and lists of processed features as values.\n",
    "    \"\"\"\n",
    "    processed_data = {}\n",
    "\n",
    "    speaker_dirs = os.listdir(root_dir)\n",
    "    for speaker_id in tqdm(speaker_dirs, desc=\"Processing speakers\"):\n",
    "        speaker_dir = os.path.join(root_dir, speaker_id)\n",
    "        if os.path.isdir(speaker_dir):\n",
    "            # Sample audio files with the specified limit\n",
    "            audio_files = sample_audio_files(speaker_dir, sample_limit)\n",
    "            \n",
    "            # Ensure each person has the same number of audio files\n",
    "            if sample_limit is not None:\n",
    "                # Count the number of audio files for this speaker\n",
    "                num_files = len(audio_files)\n",
    "                \n",
    "                # If there are more files than the limit, sample a subset\n",
    "                if num_files > sample_limit:\n",
    "                    audio_files = random.sample(audio_files, sample_limit)\n",
    "                elif num_files < sample_limit:\n",
    "                    # If there are fewer files, duplicate randomly until reaching the limit\n",
    "                    while len(audio_files) < sample_limit:\n",
    "                        audio_files.extend(random.sample(audio_files, min(sample_limit - len(audio_files), num_files)))\n",
    "            \n",
    "            # Process the sampled audio files\n",
    "            processed_data[speaker_id] = process_audio_files(audio_files, sample_rate, feature_type)\n",
    "\n",
    "    return processed_data"
   ]
  },
  {
   "cell_type": "code",
   "execution_count": 14,
   "id": "f72b59ca",
   "metadata": {},
   "outputs": [
    {
     "data": {
      "application/vnd.jupyter.widget-view+json": {
       "model_id": "10b0d7a18a1f4b2798c1476234bd4c08",
       "version_major": 2,
       "version_minor": 0
      },
      "text/plain": [
       "Processing speakers:   0%|          | 0/1211 [00:00<?, ?it/s]"
      ]
     },
     "metadata": {},
     "output_type": "display_data"
    },
    {
     "data": {
      "application/vnd.jupyter.widget-view+json": {
       "model_id": "4c17942e0ab74883a1e47906944af208",
       "version_major": 2,
       "version_minor": 0
      },
      "text/plain": [
       "Processing audio files:   0%|          | 0/50 [00:00<?, ?it/s]"
      ]
     },
     "metadata": {},
     "output_type": "display_data"
    },
    {
     "data": {
      "application/vnd.jupyter.widget-view+json": {
       "model_id": "21d104762b504149a53c375672fb0f17",
       "version_major": 2,
       "version_minor": 0
      },
      "text/plain": [
       "Processing audio files:   0%|          | 0/50 [00:00<?, ?it/s]"
      ]
     },
     "metadata": {},
     "output_type": "display_data"
    },
    {
     "data": {
      "application/vnd.jupyter.widget-view+json": {
       "model_id": "576addd4906442d8865288c94a4033a1",
       "version_major": 2,
       "version_minor": 0
      },
      "text/plain": [
       "Processing audio files:   0%|          | 0/50 [00:00<?, ?it/s]"
      ]
     },
     "metadata": {},
     "output_type": "display_data"
    },
    {
     "data": {
      "application/vnd.jupyter.widget-view+json": {
       "model_id": "33efe8c7380e4f2dbdfce6534b3f2fce",
       "version_major": 2,
       "version_minor": 0
      },
      "text/plain": [
       "Processing audio files:   0%|          | 0/50 [00:00<?, ?it/s]"
      ]
     },
     "metadata": {},
     "output_type": "display_data"
    },
    {
     "data": {
      "application/vnd.jupyter.widget-view+json": {
       "model_id": "302b5cdcb7be475586413453cb0f504b",
       "version_major": 2,
       "version_minor": 0
      },
      "text/plain": [
       "Processing audio files:   0%|          | 0/50 [00:00<?, ?it/s]"
      ]
     },
     "metadata": {},
     "output_type": "display_data"
    },
    {
     "data": {
      "application/vnd.jupyter.widget-view+json": {
       "model_id": "a36b1429d0274be0b453bf84b20aeff5",
       "version_major": 2,
       "version_minor": 0
      },
      "text/plain": [
       "Processing audio files:   0%|          | 0/50 [00:00<?, ?it/s]"
      ]
     },
     "metadata": {},
     "output_type": "display_data"
    },
    {
     "data": {
      "application/vnd.jupyter.widget-view+json": {
       "model_id": "0206eee5490243ce818f4b005f943bc4",
       "version_major": 2,
       "version_minor": 0
      },
      "text/plain": [
       "Processing audio files:   0%|          | 0/50 [00:00<?, ?it/s]"
      ]
     },
     "metadata": {},
     "output_type": "display_data"
    },
    {
     "data": {
      "application/vnd.jupyter.widget-view+json": {
       "model_id": "658e5595984f48e392cc5b7f0b728292",
       "version_major": 2,
       "version_minor": 0
      },
      "text/plain": [
       "Processing audio files:   0%|          | 0/50 [00:00<?, ?it/s]"
      ]
     },
     "metadata": {},
     "output_type": "display_data"
    },
    {
     "data": {
      "application/vnd.jupyter.widget-view+json": {
       "model_id": "a7444330925c447dac138ad2252d5cee",
       "version_major": 2,
       "version_minor": 0
      },
      "text/plain": [
       "Processing audio files:   0%|          | 0/50 [00:00<?, ?it/s]"
      ]
     },
     "metadata": {},
     "output_type": "display_data"
    },
    {
     "data": {
      "application/vnd.jupyter.widget-view+json": {
       "model_id": "949b667a242242b8a2ee1d72e432443d",
       "version_major": 2,
       "version_minor": 0
      },
      "text/plain": [
       "Processing audio files:   0%|          | 0/50 [00:00<?, ?it/s]"
      ]
     },
     "metadata": {},
     "output_type": "display_data"
    },
    {
     "data": {
      "application/vnd.jupyter.widget-view+json": {
       "model_id": "78bad389118b45d5925206b0da89d539",
       "version_major": 2,
       "version_minor": 0
      },
      "text/plain": [
       "Processing audio files:   0%|          | 0/50 [00:00<?, ?it/s]"
      ]
     },
     "metadata": {},
     "output_type": "display_data"
    },
    {
     "data": {
      "application/vnd.jupyter.widget-view+json": {
       "model_id": "c0c75a6598024954b08f7d79156920a1",
       "version_major": 2,
       "version_minor": 0
      },
      "text/plain": [
       "Processing audio files:   0%|          | 0/50 [00:00<?, ?it/s]"
      ]
     },
     "metadata": {},
     "output_type": "display_data"
    },
    {
     "data": {
      "application/vnd.jupyter.widget-view+json": {
       "model_id": "6ddbd0d26aec4aaa831821fbb4403114",
       "version_major": 2,
       "version_minor": 0
      },
      "text/plain": [
       "Processing audio files:   0%|          | 0/50 [00:00<?, ?it/s]"
      ]
     },
     "metadata": {},
     "output_type": "display_data"
    },
    {
     "data": {
      "application/vnd.jupyter.widget-view+json": {
       "model_id": "4e1cf61d7b18470cb980f2a17b2b0a11",
       "version_major": 2,
       "version_minor": 0
      },
      "text/plain": [
       "Processing audio files:   0%|          | 0/50 [00:00<?, ?it/s]"
      ]
     },
     "metadata": {},
     "output_type": "display_data"
    },
    {
     "data": {
      "application/vnd.jupyter.widget-view+json": {
       "model_id": "df949bf22b4345aa9a42700f4fc6fac7",
       "version_major": 2,
       "version_minor": 0
      },
      "text/plain": [
       "Processing audio files:   0%|          | 0/50 [00:00<?, ?it/s]"
      ]
     },
     "metadata": {},
     "output_type": "display_data"
    },
    {
     "data": {
      "application/vnd.jupyter.widget-view+json": {
       "model_id": "bc025282ed954a18897139060c1414d6",
       "version_major": 2,
       "version_minor": 0
      },
      "text/plain": [
       "Processing audio files:   0%|          | 0/50 [00:00<?, ?it/s]"
      ]
     },
     "metadata": {},
     "output_type": "display_data"
    },
    {
     "data": {
      "application/vnd.jupyter.widget-view+json": {
       "model_id": "301776a774374a5ea4ffe65de378da2e",
       "version_major": 2,
       "version_minor": 0
      },
      "text/plain": [
       "Processing audio files:   0%|          | 0/50 [00:00<?, ?it/s]"
      ]
     },
     "metadata": {},
     "output_type": "display_data"
    },
    {
     "data": {
      "application/vnd.jupyter.widget-view+json": {
       "model_id": "b041cd124da54da8b6f8fb4775ec544d",
       "version_major": 2,
       "version_minor": 0
      },
      "text/plain": [
       "Processing audio files:   0%|          | 0/50 [00:00<?, ?it/s]"
      ]
     },
     "metadata": {},
     "output_type": "display_data"
    },
    {
     "data": {
      "application/vnd.jupyter.widget-view+json": {
       "model_id": "a13ea600eb6a4c2cb8a9dd82aa07714b",
       "version_major": 2,
       "version_minor": 0
      },
      "text/plain": [
       "Processing audio files:   0%|          | 0/50 [00:00<?, ?it/s]"
      ]
     },
     "metadata": {},
     "output_type": "display_data"
    },
    {
     "data": {
      "application/vnd.jupyter.widget-view+json": {
       "model_id": "514fe8fa945a4c78815b3bb70b31dcf3",
       "version_major": 2,
       "version_minor": 0
      },
      "text/plain": [
       "Processing audio files:   0%|          | 0/50 [00:00<?, ?it/s]"
      ]
     },
     "metadata": {},
     "output_type": "display_data"
    },
    {
     "data": {
      "application/vnd.jupyter.widget-view+json": {
       "model_id": "ab2692157d2547d4ae0fd687a20c9f07",
       "version_major": 2,
       "version_minor": 0
      },
      "text/plain": [
       "Processing audio files:   0%|          | 0/50 [00:00<?, ?it/s]"
      ]
     },
     "metadata": {},
     "output_type": "display_data"
    },
    {
     "data": {
      "application/vnd.jupyter.widget-view+json": {
       "model_id": "43759fb044354318928fa2d85254d57d",
       "version_major": 2,
       "version_minor": 0
      },
      "text/plain": [
       "Processing audio files:   0%|          | 0/50 [00:00<?, ?it/s]"
      ]
     },
     "metadata": {},
     "output_type": "display_data"
    },
    {
     "data": {
      "application/vnd.jupyter.widget-view+json": {
       "model_id": "2d8988272c55460a89dce10cb746b81e",
       "version_major": 2,
       "version_minor": 0
      },
      "text/plain": [
       "Processing audio files:   0%|          | 0/50 [00:00<?, ?it/s]"
      ]
     },
     "metadata": {},
     "output_type": "display_data"
    },
    {
     "data": {
      "application/vnd.jupyter.widget-view+json": {
       "model_id": "8a3fce219d2041a8ab9e487ee436d10f",
       "version_major": 2,
       "version_minor": 0
      },
      "text/plain": [
       "Processing audio files:   0%|          | 0/50 [00:00<?, ?it/s]"
      ]
     },
     "metadata": {},
     "output_type": "display_data"
    },
    {
     "data": {
      "application/vnd.jupyter.widget-view+json": {
       "model_id": "84caa7059f97466aa9cdef5dbc57ed97",
       "version_major": 2,
       "version_minor": 0
      },
      "text/plain": [
       "Processing audio files:   0%|          | 0/50 [00:00<?, ?it/s]"
      ]
     },
     "metadata": {},
     "output_type": "display_data"
    },
    {
     "data": {
      "application/vnd.jupyter.widget-view+json": {
       "model_id": "d63ef33a5ba64888bb4f3c105866e40d",
       "version_major": 2,
       "version_minor": 0
      },
      "text/plain": [
       "Processing audio files:   0%|          | 0/50 [00:00<?, ?it/s]"
      ]
     },
     "metadata": {},
     "output_type": "display_data"
    },
    {
     "data": {
      "application/vnd.jupyter.widget-view+json": {
       "model_id": "4a4dd755cceb4b7bb82eedadb22df83b",
       "version_major": 2,
       "version_minor": 0
      },
      "text/plain": [
       "Processing audio files:   0%|          | 0/50 [00:00<?, ?it/s]"
      ]
     },
     "metadata": {},
     "output_type": "display_data"
    },
    {
     "data": {
      "application/vnd.jupyter.widget-view+json": {
       "model_id": "d955c085dd094e9bb97e92675b761be4",
       "version_major": 2,
       "version_minor": 0
      },
      "text/plain": [
       "Processing audio files:   0%|          | 0/50 [00:00<?, ?it/s]"
      ]
     },
     "metadata": {},
     "output_type": "display_data"
    },
    {
     "data": {
      "application/vnd.jupyter.widget-view+json": {
       "model_id": "4c5fb9b0a2a4475e9f57406ab2e684af",
       "version_major": 2,
       "version_minor": 0
      },
      "text/plain": [
       "Processing audio files:   0%|          | 0/50 [00:00<?, ?it/s]"
      ]
     },
     "metadata": {},
     "output_type": "display_data"
    },
    {
     "data": {
      "application/vnd.jupyter.widget-view+json": {
       "model_id": "3c9b31d65bdc4372946f0ca92b8a70cd",
       "version_major": 2,
       "version_minor": 0
      },
      "text/plain": [
       "Processing audio files:   0%|          | 0/50 [00:00<?, ?it/s]"
      ]
     },
     "metadata": {},
     "output_type": "display_data"
    },
    {
     "data": {
      "application/vnd.jupyter.widget-view+json": {
       "model_id": "59485a8975a344fd9abc693a2230ae0d",
       "version_major": 2,
       "version_minor": 0
      },
      "text/plain": [
       "Processing audio files:   0%|          | 0/50 [00:00<?, ?it/s]"
      ]
     },
     "metadata": {},
     "output_type": "display_data"
    },
    {
     "data": {
      "application/vnd.jupyter.widget-view+json": {
       "model_id": "5adcaf3613644a35bd6954d8f2826fa3",
       "version_major": 2,
       "version_minor": 0
      },
      "text/plain": [
       "Processing audio files:   0%|          | 0/50 [00:00<?, ?it/s]"
      ]
     },
     "metadata": {},
     "output_type": "display_data"
    },
    {
     "data": {
      "application/vnd.jupyter.widget-view+json": {
       "model_id": "0c4b04d70dd64bbabcd6ec117af48fe7",
       "version_major": 2,
       "version_minor": 0
      },
      "text/plain": [
       "Processing audio files:   0%|          | 0/50 [00:00<?, ?it/s]"
      ]
     },
     "metadata": {},
     "output_type": "display_data"
    },
    {
     "data": {
      "application/vnd.jupyter.widget-view+json": {
       "model_id": "639b5012ac8346f287045b02474b0539",
       "version_major": 2,
       "version_minor": 0
      },
      "text/plain": [
       "Processing audio files:   0%|          | 0/50 [00:00<?, ?it/s]"
      ]
     },
     "metadata": {},
     "output_type": "display_data"
    },
    {
     "data": {
      "application/vnd.jupyter.widget-view+json": {
       "model_id": "1e375e741eb74e52bf714d54c3125080",
       "version_major": 2,
       "version_minor": 0
      },
      "text/plain": [
       "Processing audio files:   0%|          | 0/50 [00:00<?, ?it/s]"
      ]
     },
     "metadata": {},
     "output_type": "display_data"
    },
    {
     "data": {
      "application/vnd.jupyter.widget-view+json": {
       "model_id": "a43af7ed2f7a4ef98008f277731ed230",
       "version_major": 2,
       "version_minor": 0
      },
      "text/plain": [
       "Processing audio files:   0%|          | 0/50 [00:00<?, ?it/s]"
      ]
     },
     "metadata": {},
     "output_type": "display_data"
    },
    {
     "data": {
      "application/vnd.jupyter.widget-view+json": {
       "model_id": "70b66fccfcfc43fc8565a0ed6c2f7a23",
       "version_major": 2,
       "version_minor": 0
      },
      "text/plain": [
       "Processing audio files:   0%|          | 0/50 [00:00<?, ?it/s]"
      ]
     },
     "metadata": {},
     "output_type": "display_data"
    },
    {
     "data": {
      "application/vnd.jupyter.widget-view+json": {
       "model_id": "14c9a941a229450ea273a2f9c30fa11c",
       "version_major": 2,
       "version_minor": 0
      },
      "text/plain": [
       "Processing audio files:   0%|          | 0/50 [00:00<?, ?it/s]"
      ]
     },
     "metadata": {},
     "output_type": "display_data"
    },
    {
     "data": {
      "application/vnd.jupyter.widget-view+json": {
       "model_id": "7fecd87bd801483299377536abfc4caa",
       "version_major": 2,
       "version_minor": 0
      },
      "text/plain": [
       "Processing audio files:   0%|          | 0/50 [00:00<?, ?it/s]"
      ]
     },
     "metadata": {},
     "output_type": "display_data"
    },
    {
     "data": {
      "application/vnd.jupyter.widget-view+json": {
       "model_id": "1309031bd7c84882a4ff3431760effb3",
       "version_major": 2,
       "version_minor": 0
      },
      "text/plain": [
       "Processing audio files:   0%|          | 0/50 [00:00<?, ?it/s]"
      ]
     },
     "metadata": {},
     "output_type": "display_data"
    },
    {
     "data": {
      "application/vnd.jupyter.widget-view+json": {
       "model_id": "8f381ee9bd334827b65d90aee12fe6b0",
       "version_major": 2,
       "version_minor": 0
      },
      "text/plain": [
       "Processing audio files:   0%|          | 0/50 [00:00<?, ?it/s]"
      ]
     },
     "metadata": {},
     "output_type": "display_data"
    },
    {
     "data": {
      "application/vnd.jupyter.widget-view+json": {
       "model_id": "71e642e6047a43829b55cae2c605b145",
       "version_major": 2,
       "version_minor": 0
      },
      "text/plain": [
       "Processing audio files:   0%|          | 0/50 [00:00<?, ?it/s]"
      ]
     },
     "metadata": {},
     "output_type": "display_data"
    },
    {
     "data": {
      "application/vnd.jupyter.widget-view+json": {
       "model_id": "aa3b33ccffa74db387faf483f0797856",
       "version_major": 2,
       "version_minor": 0
      },
      "text/plain": [
       "Processing audio files:   0%|          | 0/50 [00:00<?, ?it/s]"
      ]
     },
     "metadata": {},
     "output_type": "display_data"
    },
    {
     "data": {
      "application/vnd.jupyter.widget-view+json": {
       "model_id": "c8dc0ab528304fc6a50bd760eff398fe",
       "version_major": 2,
       "version_minor": 0
      },
      "text/plain": [
       "Processing audio files:   0%|          | 0/50 [00:00<?, ?it/s]"
      ]
     },
     "metadata": {},
     "output_type": "display_data"
    },
    {
     "data": {
      "application/vnd.jupyter.widget-view+json": {
       "model_id": "baf810c9d181461ebb38c16fdc35c104",
       "version_major": 2,
       "version_minor": 0
      },
      "text/plain": [
       "Processing audio files:   0%|          | 0/50 [00:00<?, ?it/s]"
      ]
     },
     "metadata": {},
     "output_type": "display_data"
    },
    {
     "data": {
      "application/vnd.jupyter.widget-view+json": {
       "model_id": "a2aa762efffe4813a380ec9a01467e28",
       "version_major": 2,
       "version_minor": 0
      },
      "text/plain": [
       "Processing audio files:   0%|          | 0/50 [00:00<?, ?it/s]"
      ]
     },
     "metadata": {},
     "output_type": "display_data"
    },
    {
     "data": {
      "application/vnd.jupyter.widget-view+json": {
       "model_id": "9e1a1e742b53400a9b3ffd998c9239b3",
       "version_major": 2,
       "version_minor": 0
      },
      "text/plain": [
       "Processing audio files:   0%|          | 0/50 [00:00<?, ?it/s]"
      ]
     },
     "metadata": {},
     "output_type": "display_data"
    },
    {
     "data": {
      "application/vnd.jupyter.widget-view+json": {
       "model_id": "de5554051f9f49ff8ade3661da9ade9b",
       "version_major": 2,
       "version_minor": 0
      },
      "text/plain": [
       "Processing audio files:   0%|          | 0/50 [00:00<?, ?it/s]"
      ]
     },
     "metadata": {},
     "output_type": "display_data"
    },
    {
     "data": {
      "application/vnd.jupyter.widget-view+json": {
       "model_id": "437f53e1ec8240ceaab53dbc64eb2964",
       "version_major": 2,
       "version_minor": 0
      },
      "text/plain": [
       "Processing audio files:   0%|          | 0/50 [00:00<?, ?it/s]"
      ]
     },
     "metadata": {},
     "output_type": "display_data"
    },
    {
     "data": {
      "application/vnd.jupyter.widget-view+json": {
       "model_id": "c3f71da62d8c49fcbd5f7638f094dba5",
       "version_major": 2,
       "version_minor": 0
      },
      "text/plain": [
       "Processing audio files:   0%|          | 0/50 [00:00<?, ?it/s]"
      ]
     },
     "metadata": {},
     "output_type": "display_data"
    },
    {
     "data": {
      "application/vnd.jupyter.widget-view+json": {
       "model_id": "d8b190e5e0eb49e1b46ddadde44050fb",
       "version_major": 2,
       "version_minor": 0
      },
      "text/plain": [
       "Processing audio files:   0%|          | 0/50 [00:00<?, ?it/s]"
      ]
     },
     "metadata": {},
     "output_type": "display_data"
    },
    {
     "data": {
      "application/vnd.jupyter.widget-view+json": {
       "model_id": "8d35c27aeb76412ba5424dd04a9fb953",
       "version_major": 2,
       "version_minor": 0
      },
      "text/plain": [
       "Processing audio files:   0%|          | 0/50 [00:00<?, ?it/s]"
      ]
     },
     "metadata": {},
     "output_type": "display_data"
    },
    {
     "data": {
      "application/vnd.jupyter.widget-view+json": {
       "model_id": "67eda150f31e4ec48711a4a82854759a",
       "version_major": 2,
       "version_minor": 0
      },
      "text/plain": [
       "Processing audio files:   0%|          | 0/50 [00:00<?, ?it/s]"
      ]
     },
     "metadata": {},
     "output_type": "display_data"
    },
    {
     "data": {
      "application/vnd.jupyter.widget-view+json": {
       "model_id": "53fb79805d4a4c36a39676c670757374",
       "version_major": 2,
       "version_minor": 0
      },
      "text/plain": [
       "Processing audio files:   0%|          | 0/50 [00:00<?, ?it/s]"
      ]
     },
     "metadata": {},
     "output_type": "display_data"
    },
    {
     "data": {
      "application/vnd.jupyter.widget-view+json": {
       "model_id": "974c97d6d027406aa60ef05b2c605588",
       "version_major": 2,
       "version_minor": 0
      },
      "text/plain": [
       "Processing audio files:   0%|          | 0/50 [00:00<?, ?it/s]"
      ]
     },
     "metadata": {},
     "output_type": "display_data"
    },
    {
     "data": {
      "application/vnd.jupyter.widget-view+json": {
       "model_id": "9cdd425cd1344c85921efd8c4a5d150b",
       "version_major": 2,
       "version_minor": 0
      },
      "text/plain": [
       "Processing audio files:   0%|          | 0/50 [00:00<?, ?it/s]"
      ]
     },
     "metadata": {},
     "output_type": "display_data"
    },
    {
     "data": {
      "application/vnd.jupyter.widget-view+json": {
       "model_id": "ae83a3f40f3a47dfb752219ef997dc72",
       "version_major": 2,
       "version_minor": 0
      },
      "text/plain": [
       "Processing audio files:   0%|          | 0/50 [00:00<?, ?it/s]"
      ]
     },
     "metadata": {},
     "output_type": "display_data"
    },
    {
     "data": {
      "application/vnd.jupyter.widget-view+json": {
       "model_id": "375127c07f7e41e6bd5e481f1f79fd06",
       "version_major": 2,
       "version_minor": 0
      },
      "text/plain": [
       "Processing audio files:   0%|          | 0/50 [00:00<?, ?it/s]"
      ]
     },
     "metadata": {},
     "output_type": "display_data"
    },
    {
     "data": {
      "application/vnd.jupyter.widget-view+json": {
       "model_id": "e7efdae0b2464e7f8b79caf6c48c55eb",
       "version_major": 2,
       "version_minor": 0
      },
      "text/plain": [
       "Processing audio files:   0%|          | 0/50 [00:00<?, ?it/s]"
      ]
     },
     "metadata": {},
     "output_type": "display_data"
    },
    {
     "data": {
      "application/vnd.jupyter.widget-view+json": {
       "model_id": "52882d7b28d142ffb8eead4a9734f514",
       "version_major": 2,
       "version_minor": 0
      },
      "text/plain": [
       "Processing audio files:   0%|          | 0/50 [00:00<?, ?it/s]"
      ]
     },
     "metadata": {},
     "output_type": "display_data"
    },
    {
     "data": {
      "application/vnd.jupyter.widget-view+json": {
       "model_id": "155408d24b044371b2edf65e13ec9f89",
       "version_major": 2,
       "version_minor": 0
      },
      "text/plain": [
       "Processing audio files:   0%|          | 0/50 [00:00<?, ?it/s]"
      ]
     },
     "metadata": {},
     "output_type": "display_data"
    },
    {
     "data": {
      "application/vnd.jupyter.widget-view+json": {
       "model_id": "cf7b38280c774058b0e88a99e961d380",
       "version_major": 2,
       "version_minor": 0
      },
      "text/plain": [
       "Processing audio files:   0%|          | 0/50 [00:00<?, ?it/s]"
      ]
     },
     "metadata": {},
     "output_type": "display_data"
    },
    {
     "data": {
      "application/vnd.jupyter.widget-view+json": {
       "model_id": "780bd6bcae904664a79ee44e4f0c3e1d",
       "version_major": 2,
       "version_minor": 0
      },
      "text/plain": [
       "Processing audio files:   0%|          | 0/50 [00:00<?, ?it/s]"
      ]
     },
     "metadata": {},
     "output_type": "display_data"
    },
    {
     "data": {
      "application/vnd.jupyter.widget-view+json": {
       "model_id": "d511b3c1b9584e748cedd86a31b157c0",
       "version_major": 2,
       "version_minor": 0
      },
      "text/plain": [
       "Processing audio files:   0%|          | 0/50 [00:00<?, ?it/s]"
      ]
     },
     "metadata": {},
     "output_type": "display_data"
    },
    {
     "data": {
      "application/vnd.jupyter.widget-view+json": {
       "model_id": "13fe2bdb71bd48bb87ee803b454b4c2e",
       "version_major": 2,
       "version_minor": 0
      },
      "text/plain": [
       "Processing audio files:   0%|          | 0/50 [00:00<?, ?it/s]"
      ]
     },
     "metadata": {},
     "output_type": "display_data"
    },
    {
     "data": {
      "application/vnd.jupyter.widget-view+json": {
       "model_id": "50f9bab75ec54b0398aac84172c774e4",
       "version_major": 2,
       "version_minor": 0
      },
      "text/plain": [
       "Processing audio files:   0%|          | 0/50 [00:00<?, ?it/s]"
      ]
     },
     "metadata": {},
     "output_type": "display_data"
    },
    {
     "data": {
      "application/vnd.jupyter.widget-view+json": {
       "model_id": "b3c1654c89bd4842a450e480539bc351",
       "version_major": 2,
       "version_minor": 0
      },
      "text/plain": [
       "Processing audio files:   0%|          | 0/50 [00:00<?, ?it/s]"
      ]
     },
     "metadata": {},
     "output_type": "display_data"
    },
    {
     "data": {
      "application/vnd.jupyter.widget-view+json": {
       "model_id": "dcbe653c528d4c6ea71f4ca75f49ed9b",
       "version_major": 2,
       "version_minor": 0
      },
      "text/plain": [
       "Processing audio files:   0%|          | 0/50 [00:00<?, ?it/s]"
      ]
     },
     "metadata": {},
     "output_type": "display_data"
    },
    {
     "data": {
      "application/vnd.jupyter.widget-view+json": {
       "model_id": "960426beb94b4802a0315770db18ab7a",
       "version_major": 2,
       "version_minor": 0
      },
      "text/plain": [
       "Processing audio files:   0%|          | 0/50 [00:00<?, ?it/s]"
      ]
     },
     "metadata": {},
     "output_type": "display_data"
    },
    {
     "data": {
      "application/vnd.jupyter.widget-view+json": {
       "model_id": "372d23bbd1234d34bb12c3a9f1fcbe56",
       "version_major": 2,
       "version_minor": 0
      },
      "text/plain": [
       "Processing audio files:   0%|          | 0/50 [00:00<?, ?it/s]"
      ]
     },
     "metadata": {},
     "output_type": "display_data"
    },
    {
     "data": {
      "application/vnd.jupyter.widget-view+json": {
       "model_id": "8368f471659d4576a01e14a93c819684",
       "version_major": 2,
       "version_minor": 0
      },
      "text/plain": [
       "Processing audio files:   0%|          | 0/50 [00:00<?, ?it/s]"
      ]
     },
     "metadata": {},
     "output_type": "display_data"
    },
    {
     "data": {
      "application/vnd.jupyter.widget-view+json": {
       "model_id": "237e2736c8d94893a0252970bb9246e1",
       "version_major": 2,
       "version_minor": 0
      },
      "text/plain": [
       "Processing audio files:   0%|          | 0/50 [00:00<?, ?it/s]"
      ]
     },
     "metadata": {},
     "output_type": "display_data"
    },
    {
     "data": {
      "application/vnd.jupyter.widget-view+json": {
       "model_id": "923bc06aace742fbaecfe25021bc7011",
       "version_major": 2,
       "version_minor": 0
      },
      "text/plain": [
       "Processing audio files:   0%|          | 0/50 [00:00<?, ?it/s]"
      ]
     },
     "metadata": {},
     "output_type": "display_data"
    },
    {
     "data": {
      "application/vnd.jupyter.widget-view+json": {
       "model_id": "9710af7295454749b25fde1baa2be898",
       "version_major": 2,
       "version_minor": 0
      },
      "text/plain": [
       "Processing audio files:   0%|          | 0/50 [00:00<?, ?it/s]"
      ]
     },
     "metadata": {},
     "output_type": "display_data"
    },
    {
     "data": {
      "application/vnd.jupyter.widget-view+json": {
       "model_id": "f2ef9a4b0cf8499b9da31b0efccba857",
       "version_major": 2,
       "version_minor": 0
      },
      "text/plain": [
       "Processing audio files:   0%|          | 0/50 [00:00<?, ?it/s]"
      ]
     },
     "metadata": {},
     "output_type": "display_data"
    },
    {
     "data": {
      "application/vnd.jupyter.widget-view+json": {
       "model_id": "43c813a3548149b6876e0c8080c6e5bd",
       "version_major": 2,
       "version_minor": 0
      },
      "text/plain": [
       "Processing audio files:   0%|          | 0/50 [00:00<?, ?it/s]"
      ]
     },
     "metadata": {},
     "output_type": "display_data"
    },
    {
     "data": {
      "application/vnd.jupyter.widget-view+json": {
       "model_id": "8e6828a3ab814ec4b2be67407f0c0b68",
       "version_major": 2,
       "version_minor": 0
      },
      "text/plain": [
       "Processing audio files:   0%|          | 0/50 [00:00<?, ?it/s]"
      ]
     },
     "metadata": {},
     "output_type": "display_data"
    },
    {
     "data": {
      "application/vnd.jupyter.widget-view+json": {
       "model_id": "27ecd6269aad4570b1df3e04b4892ec3",
       "version_major": 2,
       "version_minor": 0
      },
      "text/plain": [
       "Processing audio files:   0%|          | 0/50 [00:00<?, ?it/s]"
      ]
     },
     "metadata": {},
     "output_type": "display_data"
    },
    {
     "data": {
      "application/vnd.jupyter.widget-view+json": {
       "model_id": "3e031daa6ad0448ba385998a3991642f",
       "version_major": 2,
       "version_minor": 0
      },
      "text/plain": [
       "Processing audio files:   0%|          | 0/50 [00:00<?, ?it/s]"
      ]
     },
     "metadata": {},
     "output_type": "display_data"
    },
    {
     "data": {
      "application/vnd.jupyter.widget-view+json": {
       "model_id": "08e908be878f4deca53f07cbffdba47c",
       "version_major": 2,
       "version_minor": 0
      },
      "text/plain": [
       "Processing audio files:   0%|          | 0/50 [00:00<?, ?it/s]"
      ]
     },
     "metadata": {},
     "output_type": "display_data"
    },
    {
     "data": {
      "application/vnd.jupyter.widget-view+json": {
       "model_id": "c5fa5598122b416b9f998bf98f4337da",
       "version_major": 2,
       "version_minor": 0
      },
      "text/plain": [
       "Processing audio files:   0%|          | 0/50 [00:00<?, ?it/s]"
      ]
     },
     "metadata": {},
     "output_type": "display_data"
    },
    {
     "data": {
      "application/vnd.jupyter.widget-view+json": {
       "model_id": "7da186eb8afe477b883a5f93477ebb67",
       "version_major": 2,
       "version_minor": 0
      },
      "text/plain": [
       "Processing audio files:   0%|          | 0/50 [00:00<?, ?it/s]"
      ]
     },
     "metadata": {},
     "output_type": "display_data"
    },
    {
     "data": {
      "application/vnd.jupyter.widget-view+json": {
       "model_id": "ec55b194498b4edfa4c829b86bd4b19e",
       "version_major": 2,
       "version_minor": 0
      },
      "text/plain": [
       "Processing audio files:   0%|          | 0/50 [00:00<?, ?it/s]"
      ]
     },
     "metadata": {},
     "output_type": "display_data"
    },
    {
     "data": {
      "application/vnd.jupyter.widget-view+json": {
       "model_id": "56abe3665a7f4a33b42bc6301696f86e",
       "version_major": 2,
       "version_minor": 0
      },
      "text/plain": [
       "Processing audio files:   0%|          | 0/50 [00:00<?, ?it/s]"
      ]
     },
     "metadata": {},
     "output_type": "display_data"
    },
    {
     "data": {
      "application/vnd.jupyter.widget-view+json": {
       "model_id": "5d3388cc3a0444cea9ea03365ce3bf29",
       "version_major": 2,
       "version_minor": 0
      },
      "text/plain": [
       "Processing audio files:   0%|          | 0/50 [00:00<?, ?it/s]"
      ]
     },
     "metadata": {},
     "output_type": "display_data"
    },
    {
     "data": {
      "application/vnd.jupyter.widget-view+json": {
       "model_id": "e149374a21794b1b92deed981333f69d",
       "version_major": 2,
       "version_minor": 0
      },
      "text/plain": [
       "Processing audio files:   0%|          | 0/50 [00:00<?, ?it/s]"
      ]
     },
     "metadata": {},
     "output_type": "display_data"
    },
    {
     "data": {
      "application/vnd.jupyter.widget-view+json": {
       "model_id": "e321a3fc673a4818bf4f0c6dd0b06d43",
       "version_major": 2,
       "version_minor": 0
      },
      "text/plain": [
       "Processing audio files:   0%|          | 0/50 [00:00<?, ?it/s]"
      ]
     },
     "metadata": {},
     "output_type": "display_data"
    },
    {
     "data": {
      "application/vnd.jupyter.widget-view+json": {
       "model_id": "bbafac3b507c4f71877192b139e8a026",
       "version_major": 2,
       "version_minor": 0
      },
      "text/plain": [
       "Processing audio files:   0%|          | 0/50 [00:00<?, ?it/s]"
      ]
     },
     "metadata": {},
     "output_type": "display_data"
    },
    {
     "data": {
      "application/vnd.jupyter.widget-view+json": {
       "model_id": "25835325002a40938ed35d9d4f230a8d",
       "version_major": 2,
       "version_minor": 0
      },
      "text/plain": [
       "Processing audio files:   0%|          | 0/50 [00:00<?, ?it/s]"
      ]
     },
     "metadata": {},
     "output_type": "display_data"
    },
    {
     "data": {
      "application/vnd.jupyter.widget-view+json": {
       "model_id": "a5ec5f6836b54baf83a6d3c869b6051e",
       "version_major": 2,
       "version_minor": 0
      },
      "text/plain": [
       "Processing audio files:   0%|          | 0/50 [00:00<?, ?it/s]"
      ]
     },
     "metadata": {},
     "output_type": "display_data"
    },
    {
     "data": {
      "application/vnd.jupyter.widget-view+json": {
       "model_id": "d2040e1384854f3b86030f65f19922e6",
       "version_major": 2,
       "version_minor": 0
      },
      "text/plain": [
       "Processing audio files:   0%|          | 0/50 [00:00<?, ?it/s]"
      ]
     },
     "metadata": {},
     "output_type": "display_data"
    },
    {
     "data": {
      "application/vnd.jupyter.widget-view+json": {
       "model_id": "f1c0ae551fe94127b4f09230ac1b7883",
       "version_major": 2,
       "version_minor": 0
      },
      "text/plain": [
       "Processing audio files:   0%|          | 0/50 [00:00<?, ?it/s]"
      ]
     },
     "metadata": {},
     "output_type": "display_data"
    },
    {
     "data": {
      "application/vnd.jupyter.widget-view+json": {
       "model_id": "259aed305e7740ee9af6817ce469b87b",
       "version_major": 2,
       "version_minor": 0
      },
      "text/plain": [
       "Processing audio files:   0%|          | 0/50 [00:00<?, ?it/s]"
      ]
     },
     "metadata": {},
     "output_type": "display_data"
    },
    {
     "data": {
      "application/vnd.jupyter.widget-view+json": {
       "model_id": "ca0a693bedfb42a89682ae664808bc0a",
       "version_major": 2,
       "version_minor": 0
      },
      "text/plain": [
       "Processing audio files:   0%|          | 0/50 [00:00<?, ?it/s]"
      ]
     },
     "metadata": {},
     "output_type": "display_data"
    },
    {
     "data": {
      "application/vnd.jupyter.widget-view+json": {
       "model_id": "ed21c6aae7974d3d9d97ed1472676e33",
       "version_major": 2,
       "version_minor": 0
      },
      "text/plain": [
       "Processing audio files:   0%|          | 0/50 [00:00<?, ?it/s]"
      ]
     },
     "metadata": {},
     "output_type": "display_data"
    },
    {
     "data": {
      "application/vnd.jupyter.widget-view+json": {
       "model_id": "76f3a526fa3a4d12887bedc5d13dd67f",
       "version_major": 2,
       "version_minor": 0
      },
      "text/plain": [
       "Processing audio files:   0%|          | 0/50 [00:00<?, ?it/s]"
      ]
     },
     "metadata": {},
     "output_type": "display_data"
    },
    {
     "data": {
      "application/vnd.jupyter.widget-view+json": {
       "model_id": "2340a451c2cb46a5bc38789a0d6a5980",
       "version_major": 2,
       "version_minor": 0
      },
      "text/plain": [
       "Processing audio files:   0%|          | 0/50 [00:00<?, ?it/s]"
      ]
     },
     "metadata": {},
     "output_type": "display_data"
    },
    {
     "data": {
      "application/vnd.jupyter.widget-view+json": {
       "model_id": "21d1a6f28e10434ea14b7493aacd9883",
       "version_major": 2,
       "version_minor": 0
      },
      "text/plain": [
       "Processing audio files:   0%|          | 0/50 [00:00<?, ?it/s]"
      ]
     },
     "metadata": {},
     "output_type": "display_data"
    },
    {
     "data": {
      "application/vnd.jupyter.widget-view+json": {
       "model_id": "0e27c095900f4688981cf80cc02263b4",
       "version_major": 2,
       "version_minor": 0
      },
      "text/plain": [
       "Processing audio files:   0%|          | 0/50 [00:00<?, ?it/s]"
      ]
     },
     "metadata": {},
     "output_type": "display_data"
    },
    {
     "data": {
      "application/vnd.jupyter.widget-view+json": {
       "model_id": "842942d330f74d86b6214cdce94cc763",
       "version_major": 2,
       "version_minor": 0
      },
      "text/plain": [
       "Processing audio files:   0%|          | 0/50 [00:00<?, ?it/s]"
      ]
     },
     "metadata": {},
     "output_type": "display_data"
    },
    {
     "data": {
      "application/vnd.jupyter.widget-view+json": {
       "model_id": "a9145af60bfd42998144845250fbccb7",
       "version_major": 2,
       "version_minor": 0
      },
      "text/plain": [
       "Processing audio files:   0%|          | 0/50 [00:00<?, ?it/s]"
      ]
     },
     "metadata": {},
     "output_type": "display_data"
    },
    {
     "data": {
      "application/vnd.jupyter.widget-view+json": {
       "model_id": "13271143251344d0b7301c79d06ca0a7",
       "version_major": 2,
       "version_minor": 0
      },
      "text/plain": [
       "Processing audio files:   0%|          | 0/50 [00:00<?, ?it/s]"
      ]
     },
     "metadata": {},
     "output_type": "display_data"
    },
    {
     "data": {
      "application/vnd.jupyter.widget-view+json": {
       "model_id": "c639ac7ceee543ef8b82c4837437f967",
       "version_major": 2,
       "version_minor": 0
      },
      "text/plain": [
       "Processing audio files:   0%|          | 0/50 [00:00<?, ?it/s]"
      ]
     },
     "metadata": {},
     "output_type": "display_data"
    },
    {
     "data": {
      "application/vnd.jupyter.widget-view+json": {
       "model_id": "316299d63f444ebb9198de10e22435c4",
       "version_major": 2,
       "version_minor": 0
      },
      "text/plain": [
       "Processing audio files:   0%|          | 0/50 [00:00<?, ?it/s]"
      ]
     },
     "metadata": {},
     "output_type": "display_data"
    },
    {
     "data": {
      "application/vnd.jupyter.widget-view+json": {
       "model_id": "f687a005c8bf43aaa053d7c79f50d860",
       "version_major": 2,
       "version_minor": 0
      },
      "text/plain": [
       "Processing audio files:   0%|          | 0/50 [00:00<?, ?it/s]"
      ]
     },
     "metadata": {},
     "output_type": "display_data"
    },
    {
     "data": {
      "application/vnd.jupyter.widget-view+json": {
       "model_id": "cd6cda630f3743eab5beda4a6446cfa3",
       "version_major": 2,
       "version_minor": 0
      },
      "text/plain": [
       "Processing audio files:   0%|          | 0/50 [00:00<?, ?it/s]"
      ]
     },
     "metadata": {},
     "output_type": "display_data"
    },
    {
     "data": {
      "application/vnd.jupyter.widget-view+json": {
       "model_id": "ff6de6714184446195c1e395ec4f410b",
       "version_major": 2,
       "version_minor": 0
      },
      "text/plain": [
       "Processing audio files:   0%|          | 0/50 [00:00<?, ?it/s]"
      ]
     },
     "metadata": {},
     "output_type": "display_data"
    },
    {
     "data": {
      "application/vnd.jupyter.widget-view+json": {
       "model_id": "1f66f91022544caf883756cc0aacb3a7",
       "version_major": 2,
       "version_minor": 0
      },
      "text/plain": [
       "Processing audio files:   0%|          | 0/50 [00:00<?, ?it/s]"
      ]
     },
     "metadata": {},
     "output_type": "display_data"
    },
    {
     "data": {
      "application/vnd.jupyter.widget-view+json": {
       "model_id": "e0a2472217ff48d9aa12ca34eb819ada",
       "version_major": 2,
       "version_minor": 0
      },
      "text/plain": [
       "Processing audio files:   0%|          | 0/50 [00:00<?, ?it/s]"
      ]
     },
     "metadata": {},
     "output_type": "display_data"
    },
    {
     "data": {
      "application/vnd.jupyter.widget-view+json": {
       "model_id": "119ba37502ac49acb42691b61ba10440",
       "version_major": 2,
       "version_minor": 0
      },
      "text/plain": [
       "Processing audio files:   0%|          | 0/50 [00:00<?, ?it/s]"
      ]
     },
     "metadata": {},
     "output_type": "display_data"
    },
    {
     "data": {
      "application/vnd.jupyter.widget-view+json": {
       "model_id": "3ebfd7d314894b78b72215f6e02b4002",
       "version_major": 2,
       "version_minor": 0
      },
      "text/plain": [
       "Processing audio files:   0%|          | 0/50 [00:00<?, ?it/s]"
      ]
     },
     "metadata": {},
     "output_type": "display_data"
    },
    {
     "data": {
      "application/vnd.jupyter.widget-view+json": {
       "model_id": "d51ccae080fd450baef075963086f8eb",
       "version_major": 2,
       "version_minor": 0
      },
      "text/plain": [
       "Processing audio files:   0%|          | 0/50 [00:00<?, ?it/s]"
      ]
     },
     "metadata": {},
     "output_type": "display_data"
    },
    {
     "data": {
      "application/vnd.jupyter.widget-view+json": {
       "model_id": "a6dada8b93f1477b84ee35c49e51853f",
       "version_major": 2,
       "version_minor": 0
      },
      "text/plain": [
       "Processing audio files:   0%|          | 0/50 [00:00<?, ?it/s]"
      ]
     },
     "metadata": {},
     "output_type": "display_data"
    },
    {
     "data": {
      "application/vnd.jupyter.widget-view+json": {
       "model_id": "ce33a0da29cb430b989da40f33da7dec",
       "version_major": 2,
       "version_minor": 0
      },
      "text/plain": [
       "Processing audio files:   0%|          | 0/50 [00:00<?, ?it/s]"
      ]
     },
     "metadata": {},
     "output_type": "display_data"
    },
    {
     "data": {
      "application/vnd.jupyter.widget-view+json": {
       "model_id": "c5bf9b310dc0474bbd447f32d574bcf0",
       "version_major": 2,
       "version_minor": 0
      },
      "text/plain": [
       "Processing audio files:   0%|          | 0/50 [00:00<?, ?it/s]"
      ]
     },
     "metadata": {},
     "output_type": "display_data"
    },
    {
     "data": {
      "application/vnd.jupyter.widget-view+json": {
       "model_id": "1c8f647fdaeb4bc1838ef2db6641544a",
       "version_major": 2,
       "version_minor": 0
      },
      "text/plain": [
       "Processing audio files:   0%|          | 0/50 [00:00<?, ?it/s]"
      ]
     },
     "metadata": {},
     "output_type": "display_data"
    },
    {
     "data": {
      "application/vnd.jupyter.widget-view+json": {
       "model_id": "c5c247b5dbd94bff941afd6dee4b32ec",
       "version_major": 2,
       "version_minor": 0
      },
      "text/plain": [
       "Processing audio files:   0%|          | 0/50 [00:00<?, ?it/s]"
      ]
     },
     "metadata": {},
     "output_type": "display_data"
    },
    {
     "data": {
      "application/vnd.jupyter.widget-view+json": {
       "model_id": "c0b8330cbc074ac2a07cefc4892a7c45",
       "version_major": 2,
       "version_minor": 0
      },
      "text/plain": [
       "Processing audio files:   0%|          | 0/50 [00:00<?, ?it/s]"
      ]
     },
     "metadata": {},
     "output_type": "display_data"
    },
    {
     "data": {
      "application/vnd.jupyter.widget-view+json": {
       "model_id": "fb826cc260934906970a7ae914427958",
       "version_major": 2,
       "version_minor": 0
      },
      "text/plain": [
       "Processing audio files:   0%|          | 0/50 [00:00<?, ?it/s]"
      ]
     },
     "metadata": {},
     "output_type": "display_data"
    },
    {
     "data": {
      "application/vnd.jupyter.widget-view+json": {
       "model_id": "6203a0890aa54b23babe0458dd71233c",
       "version_major": 2,
       "version_minor": 0
      },
      "text/plain": [
       "Processing audio files:   0%|          | 0/50 [00:00<?, ?it/s]"
      ]
     },
     "metadata": {},
     "output_type": "display_data"
    },
    {
     "data": {
      "application/vnd.jupyter.widget-view+json": {
       "model_id": "57d71fec7eb64defb3a8cd3cc963ed22",
       "version_major": 2,
       "version_minor": 0
      },
      "text/plain": [
       "Processing audio files:   0%|          | 0/50 [00:00<?, ?it/s]"
      ]
     },
     "metadata": {},
     "output_type": "display_data"
    },
    {
     "data": {
      "application/vnd.jupyter.widget-view+json": {
       "model_id": "84513887b89343c19a7c4ef3a0373b52",
       "version_major": 2,
       "version_minor": 0
      },
      "text/plain": [
       "Processing audio files:   0%|          | 0/50 [00:00<?, ?it/s]"
      ]
     },
     "metadata": {},
     "output_type": "display_data"
    },
    {
     "data": {
      "application/vnd.jupyter.widget-view+json": {
       "model_id": "7e5ae9f3be8c45a297643c8d3a1a1887",
       "version_major": 2,
       "version_minor": 0
      },
      "text/plain": [
       "Processing audio files:   0%|          | 0/50 [00:00<?, ?it/s]"
      ]
     },
     "metadata": {},
     "output_type": "display_data"
    },
    {
     "data": {
      "application/vnd.jupyter.widget-view+json": {
       "model_id": "88aa68f2c8d245378592e9c2813b6a32",
       "version_major": 2,
       "version_minor": 0
      },
      "text/plain": [
       "Processing audio files:   0%|          | 0/50 [00:00<?, ?it/s]"
      ]
     },
     "metadata": {},
     "output_type": "display_data"
    },
    {
     "data": {
      "application/vnd.jupyter.widget-view+json": {
       "model_id": "9448b2b15ba04b9f8f5ca56be8200e99",
       "version_major": 2,
       "version_minor": 0
      },
      "text/plain": [
       "Processing audio files:   0%|          | 0/50 [00:00<?, ?it/s]"
      ]
     },
     "metadata": {},
     "output_type": "display_data"
    },
    {
     "data": {
      "application/vnd.jupyter.widget-view+json": {
       "model_id": "7accedaf44df4173b6247cd2b4bd6169",
       "version_major": 2,
       "version_minor": 0
      },
      "text/plain": [
       "Processing audio files:   0%|          | 0/50 [00:00<?, ?it/s]"
      ]
     },
     "metadata": {},
     "output_type": "display_data"
    },
    {
     "data": {
      "application/vnd.jupyter.widget-view+json": {
       "model_id": "f508d22253dc4f0cb3f1f81f5838da26",
       "version_major": 2,
       "version_minor": 0
      },
      "text/plain": [
       "Processing audio files:   0%|          | 0/50 [00:00<?, ?it/s]"
      ]
     },
     "metadata": {},
     "output_type": "display_data"
    },
    {
     "data": {
      "application/vnd.jupyter.widget-view+json": {
       "model_id": "a61122ce62794468bfbdbdb01c18f775",
       "version_major": 2,
       "version_minor": 0
      },
      "text/plain": [
       "Processing audio files:   0%|          | 0/50 [00:00<?, ?it/s]"
      ]
     },
     "metadata": {},
     "output_type": "display_data"
    },
    {
     "data": {
      "application/vnd.jupyter.widget-view+json": {
       "model_id": "fcb6c322166045b2aa9bf3f1ace1ce44",
       "version_major": 2,
       "version_minor": 0
      },
      "text/plain": [
       "Processing audio files:   0%|          | 0/50 [00:00<?, ?it/s]"
      ]
     },
     "metadata": {},
     "output_type": "display_data"
    },
    {
     "data": {
      "application/vnd.jupyter.widget-view+json": {
       "model_id": "5a3dcdaec5df4416a28ef5b763d8d5dd",
       "version_major": 2,
       "version_minor": 0
      },
      "text/plain": [
       "Processing audio files:   0%|          | 0/50 [00:00<?, ?it/s]"
      ]
     },
     "metadata": {},
     "output_type": "display_data"
    },
    {
     "data": {
      "application/vnd.jupyter.widget-view+json": {
       "model_id": "09ec9071b8a040c6a3a13b5b2d819554",
       "version_major": 2,
       "version_minor": 0
      },
      "text/plain": [
       "Processing audio files:   0%|          | 0/50 [00:00<?, ?it/s]"
      ]
     },
     "metadata": {},
     "output_type": "display_data"
    },
    {
     "data": {
      "application/vnd.jupyter.widget-view+json": {
       "model_id": "7abb416de2c94c55bf9ee62cbb1fb706",
       "version_major": 2,
       "version_minor": 0
      },
      "text/plain": [
       "Processing audio files:   0%|          | 0/50 [00:00<?, ?it/s]"
      ]
     },
     "metadata": {},
     "output_type": "display_data"
    },
    {
     "data": {
      "application/vnd.jupyter.widget-view+json": {
       "model_id": "42ba71f46f1a456185592bd371a8e1b0",
       "version_major": 2,
       "version_minor": 0
      },
      "text/plain": [
       "Processing audio files:   0%|          | 0/50 [00:00<?, ?it/s]"
      ]
     },
     "metadata": {},
     "output_type": "display_data"
    },
    {
     "data": {
      "application/vnd.jupyter.widget-view+json": {
       "model_id": "d74c998f35f34806a0d636c9eadfe1a2",
       "version_major": 2,
       "version_minor": 0
      },
      "text/plain": [
       "Processing audio files:   0%|          | 0/50 [00:00<?, ?it/s]"
      ]
     },
     "metadata": {},
     "output_type": "display_data"
    },
    {
     "data": {
      "application/vnd.jupyter.widget-view+json": {
       "model_id": "0a358d11f79a48dfbb82a7d8a477db21",
       "version_major": 2,
       "version_minor": 0
      },
      "text/plain": [
       "Processing audio files:   0%|          | 0/50 [00:00<?, ?it/s]"
      ]
     },
     "metadata": {},
     "output_type": "display_data"
    },
    {
     "data": {
      "application/vnd.jupyter.widget-view+json": {
       "model_id": "416ba7f8d56d4fdfa27c2f068f4988c6",
       "version_major": 2,
       "version_minor": 0
      },
      "text/plain": [
       "Processing audio files:   0%|          | 0/50 [00:00<?, ?it/s]"
      ]
     },
     "metadata": {},
     "output_type": "display_data"
    },
    {
     "data": {
      "application/vnd.jupyter.widget-view+json": {
       "model_id": "0a6c269848924d589e6273f6decad5cf",
       "version_major": 2,
       "version_minor": 0
      },
      "text/plain": [
       "Processing audio files:   0%|          | 0/50 [00:00<?, ?it/s]"
      ]
     },
     "metadata": {},
     "output_type": "display_data"
    },
    {
     "data": {
      "application/vnd.jupyter.widget-view+json": {
       "model_id": "064797416da14fb1a643b0775f9bda56",
       "version_major": 2,
       "version_minor": 0
      },
      "text/plain": [
       "Processing audio files:   0%|          | 0/50 [00:00<?, ?it/s]"
      ]
     },
     "metadata": {},
     "output_type": "display_data"
    },
    {
     "data": {
      "application/vnd.jupyter.widget-view+json": {
       "model_id": "98c26106fe6e415685f3aca315d11e64",
       "version_major": 2,
       "version_minor": 0
      },
      "text/plain": [
       "Processing audio files:   0%|          | 0/50 [00:00<?, ?it/s]"
      ]
     },
     "metadata": {},
     "output_type": "display_data"
    },
    {
     "data": {
      "application/vnd.jupyter.widget-view+json": {
       "model_id": "9478e3a04b0f4952bfb831073636a75b",
       "version_major": 2,
       "version_minor": 0
      },
      "text/plain": [
       "Processing audio files:   0%|          | 0/50 [00:00<?, ?it/s]"
      ]
     },
     "metadata": {},
     "output_type": "display_data"
    },
    {
     "data": {
      "application/vnd.jupyter.widget-view+json": {
       "model_id": "d4ae7d16a4034c35a9dfcf8adbc955b7",
       "version_major": 2,
       "version_minor": 0
      },
      "text/plain": [
       "Processing audio files:   0%|          | 0/50 [00:00<?, ?it/s]"
      ]
     },
     "metadata": {},
     "output_type": "display_data"
    },
    {
     "data": {
      "application/vnd.jupyter.widget-view+json": {
       "model_id": "a0c75be6aa3b4db0b2138de068adb44e",
       "version_major": 2,
       "version_minor": 0
      },
      "text/plain": [
       "Processing audio files:   0%|          | 0/50 [00:00<?, ?it/s]"
      ]
     },
     "metadata": {},
     "output_type": "display_data"
    },
    {
     "data": {
      "application/vnd.jupyter.widget-view+json": {
       "model_id": "a1196e26af7e46a581038254d8dd948c",
       "version_major": 2,
       "version_minor": 0
      },
      "text/plain": [
       "Processing audio files:   0%|          | 0/50 [00:00<?, ?it/s]"
      ]
     },
     "metadata": {},
     "output_type": "display_data"
    },
    {
     "data": {
      "application/vnd.jupyter.widget-view+json": {
       "model_id": "3a54974d42c84fdb96eba6a7120c4d3c",
       "version_major": 2,
       "version_minor": 0
      },
      "text/plain": [
       "Processing audio files:   0%|          | 0/50 [00:00<?, ?it/s]"
      ]
     },
     "metadata": {},
     "output_type": "display_data"
    },
    {
     "data": {
      "application/vnd.jupyter.widget-view+json": {
       "model_id": "c957396cfee8490cbf726eb78720aeb5",
       "version_major": 2,
       "version_minor": 0
      },
      "text/plain": [
       "Processing audio files:   0%|          | 0/50 [00:00<?, ?it/s]"
      ]
     },
     "metadata": {},
     "output_type": "display_data"
    },
    {
     "data": {
      "application/vnd.jupyter.widget-view+json": {
       "model_id": "6d16f52ce8d74512bf03c7aad1069fcc",
       "version_major": 2,
       "version_minor": 0
      },
      "text/plain": [
       "Processing audio files:   0%|          | 0/50 [00:00<?, ?it/s]"
      ]
     },
     "metadata": {},
     "output_type": "display_data"
    },
    {
     "data": {
      "application/vnd.jupyter.widget-view+json": {
       "model_id": "ebaabae5065a43548a581bbed0c9cde2",
       "version_major": 2,
       "version_minor": 0
      },
      "text/plain": [
       "Processing audio files:   0%|          | 0/50 [00:00<?, ?it/s]"
      ]
     },
     "metadata": {},
     "output_type": "display_data"
    },
    {
     "data": {
      "application/vnd.jupyter.widget-view+json": {
       "model_id": "3befb20a3a52490b9cbcec777cb51915",
       "version_major": 2,
       "version_minor": 0
      },
      "text/plain": [
       "Processing audio files:   0%|          | 0/50 [00:00<?, ?it/s]"
      ]
     },
     "metadata": {},
     "output_type": "display_data"
    },
    {
     "data": {
      "application/vnd.jupyter.widget-view+json": {
       "model_id": "50d7552c334448debcbbb04c0f786142",
       "version_major": 2,
       "version_minor": 0
      },
      "text/plain": [
       "Processing audio files:   0%|          | 0/50 [00:00<?, ?it/s]"
      ]
     },
     "metadata": {},
     "output_type": "display_data"
    },
    {
     "data": {
      "application/vnd.jupyter.widget-view+json": {
       "model_id": "b395954c471c42399ff45485cd2f1a9d",
       "version_major": 2,
       "version_minor": 0
      },
      "text/plain": [
       "Processing audio files:   0%|          | 0/50 [00:00<?, ?it/s]"
      ]
     },
     "metadata": {},
     "output_type": "display_data"
    },
    {
     "data": {
      "application/vnd.jupyter.widget-view+json": {
       "model_id": "c31ce614cedc45a3b358df380366d122",
       "version_major": 2,
       "version_minor": 0
      },
      "text/plain": [
       "Processing audio files:   0%|          | 0/50 [00:00<?, ?it/s]"
      ]
     },
     "metadata": {},
     "output_type": "display_data"
    },
    {
     "data": {
      "application/vnd.jupyter.widget-view+json": {
       "model_id": "2afde883f62643b9a45060726bbe4cdc",
       "version_major": 2,
       "version_minor": 0
      },
      "text/plain": [
       "Processing audio files:   0%|          | 0/50 [00:00<?, ?it/s]"
      ]
     },
     "metadata": {},
     "output_type": "display_data"
    },
    {
     "data": {
      "application/vnd.jupyter.widget-view+json": {
       "model_id": "5efb4acb64ab4ad0ad4216302c12f6ea",
       "version_major": 2,
       "version_minor": 0
      },
      "text/plain": [
       "Processing audio files:   0%|          | 0/50 [00:00<?, ?it/s]"
      ]
     },
     "metadata": {},
     "output_type": "display_data"
    },
    {
     "data": {
      "application/vnd.jupyter.widget-view+json": {
       "model_id": "c82d1b22339c4819a9604a0a7ca57e92",
       "version_major": 2,
       "version_minor": 0
      },
      "text/plain": [
       "Processing audio files:   0%|          | 0/50 [00:00<?, ?it/s]"
      ]
     },
     "metadata": {},
     "output_type": "display_data"
    },
    {
     "data": {
      "application/vnd.jupyter.widget-view+json": {
       "model_id": "65a0b5df5df84b82bcde58a249926a1f",
       "version_major": 2,
       "version_minor": 0
      },
      "text/plain": [
       "Processing audio files:   0%|          | 0/50 [00:00<?, ?it/s]"
      ]
     },
     "metadata": {},
     "output_type": "display_data"
    },
    {
     "data": {
      "application/vnd.jupyter.widget-view+json": {
       "model_id": "2b1ea7f58806473d95c16db0dc818262",
       "version_major": 2,
       "version_minor": 0
      },
      "text/plain": [
       "Processing audio files:   0%|          | 0/50 [00:00<?, ?it/s]"
      ]
     },
     "metadata": {},
     "output_type": "display_data"
    },
    {
     "data": {
      "application/vnd.jupyter.widget-view+json": {
       "model_id": "1134bd8603424450b1cc64df23c53549",
       "version_major": 2,
       "version_minor": 0
      },
      "text/plain": [
       "Processing audio files:   0%|          | 0/50 [00:00<?, ?it/s]"
      ]
     },
     "metadata": {},
     "output_type": "display_data"
    },
    {
     "data": {
      "application/vnd.jupyter.widget-view+json": {
       "model_id": "4851153124784a83a910141c9c0e3ac3",
       "version_major": 2,
       "version_minor": 0
      },
      "text/plain": [
       "Processing audio files:   0%|          | 0/50 [00:00<?, ?it/s]"
      ]
     },
     "metadata": {},
     "output_type": "display_data"
    },
    {
     "data": {
      "application/vnd.jupyter.widget-view+json": {
       "model_id": "9aaf4fa33d734f709499b53bde5693c8",
       "version_major": 2,
       "version_minor": 0
      },
      "text/plain": [
       "Processing audio files:   0%|          | 0/50 [00:00<?, ?it/s]"
      ]
     },
     "metadata": {},
     "output_type": "display_data"
    },
    {
     "data": {
      "application/vnd.jupyter.widget-view+json": {
       "model_id": "d623e53eff47450698d96c9bad585176",
       "version_major": 2,
       "version_minor": 0
      },
      "text/plain": [
       "Processing audio files:   0%|          | 0/50 [00:00<?, ?it/s]"
      ]
     },
     "metadata": {},
     "output_type": "display_data"
    },
    {
     "data": {
      "application/vnd.jupyter.widget-view+json": {
       "model_id": "96abe0dbd7ab46508eed8e209fc0ffb4",
       "version_major": 2,
       "version_minor": 0
      },
      "text/plain": [
       "Processing audio files:   0%|          | 0/50 [00:00<?, ?it/s]"
      ]
     },
     "metadata": {},
     "output_type": "display_data"
    },
    {
     "data": {
      "application/vnd.jupyter.widget-view+json": {
       "model_id": "a5e141a7302b4c7e8639c85dbf4177f6",
       "version_major": 2,
       "version_minor": 0
      },
      "text/plain": [
       "Processing audio files:   0%|          | 0/50 [00:00<?, ?it/s]"
      ]
     },
     "metadata": {},
     "output_type": "display_data"
    },
    {
     "data": {
      "application/vnd.jupyter.widget-view+json": {
       "model_id": "8e669278c1944070839c1057064ffc71",
       "version_major": 2,
       "version_minor": 0
      },
      "text/plain": [
       "Processing audio files:   0%|          | 0/50 [00:00<?, ?it/s]"
      ]
     },
     "metadata": {},
     "output_type": "display_data"
    },
    {
     "data": {
      "application/vnd.jupyter.widget-view+json": {
       "model_id": "47c3efaccb4048419b84b4093a64a5e4",
       "version_major": 2,
       "version_minor": 0
      },
      "text/plain": [
       "Processing audio files:   0%|          | 0/50 [00:00<?, ?it/s]"
      ]
     },
     "metadata": {},
     "output_type": "display_data"
    },
    {
     "data": {
      "application/vnd.jupyter.widget-view+json": {
       "model_id": "63bf76084f724c60b9c3c844cddd8333",
       "version_major": 2,
       "version_minor": 0
      },
      "text/plain": [
       "Processing audio files:   0%|          | 0/50 [00:00<?, ?it/s]"
      ]
     },
     "metadata": {},
     "output_type": "display_data"
    },
    {
     "data": {
      "application/vnd.jupyter.widget-view+json": {
       "model_id": "469f6819f7874301a49202f9f7ec40de",
       "version_major": 2,
       "version_minor": 0
      },
      "text/plain": [
       "Processing audio files:   0%|          | 0/50 [00:00<?, ?it/s]"
      ]
     },
     "metadata": {},
     "output_type": "display_data"
    },
    {
     "data": {
      "application/vnd.jupyter.widget-view+json": {
       "model_id": "1a61e295540c41088e92eae7f7cecd0b",
       "version_major": 2,
       "version_minor": 0
      },
      "text/plain": [
       "Processing audio files:   0%|          | 0/50 [00:00<?, ?it/s]"
      ]
     },
     "metadata": {},
     "output_type": "display_data"
    },
    {
     "data": {
      "application/vnd.jupyter.widget-view+json": {
       "model_id": "c54c6e9750684f169792a76082273dcc",
       "version_major": 2,
       "version_minor": 0
      },
      "text/plain": [
       "Processing audio files:   0%|          | 0/50 [00:00<?, ?it/s]"
      ]
     },
     "metadata": {},
     "output_type": "display_data"
    },
    {
     "data": {
      "application/vnd.jupyter.widget-view+json": {
       "model_id": "62f870d615864a70b2cca86e5d646084",
       "version_major": 2,
       "version_minor": 0
      },
      "text/plain": [
       "Processing audio files:   0%|          | 0/50 [00:00<?, ?it/s]"
      ]
     },
     "metadata": {},
     "output_type": "display_data"
    },
    {
     "data": {
      "application/vnd.jupyter.widget-view+json": {
       "model_id": "7b0d2c7abf194a6d8213c479d1b93265",
       "version_major": 2,
       "version_minor": 0
      },
      "text/plain": [
       "Processing audio files:   0%|          | 0/50 [00:00<?, ?it/s]"
      ]
     },
     "metadata": {},
     "output_type": "display_data"
    },
    {
     "data": {
      "application/vnd.jupyter.widget-view+json": {
       "model_id": "235162b702ca4068ad9fdadf8e099bb6",
       "version_major": 2,
       "version_minor": 0
      },
      "text/plain": [
       "Processing audio files:   0%|          | 0/50 [00:00<?, ?it/s]"
      ]
     },
     "metadata": {},
     "output_type": "display_data"
    },
    {
     "data": {
      "application/vnd.jupyter.widget-view+json": {
       "model_id": "4c0f5fa912e6437ca3f1aa574f3056ef",
       "version_major": 2,
       "version_minor": 0
      },
      "text/plain": [
       "Processing audio files:   0%|          | 0/50 [00:00<?, ?it/s]"
      ]
     },
     "metadata": {},
     "output_type": "display_data"
    },
    {
     "data": {
      "application/vnd.jupyter.widget-view+json": {
       "model_id": "ec0636e7033945febaf151b226275d84",
       "version_major": 2,
       "version_minor": 0
      },
      "text/plain": [
       "Processing audio files:   0%|          | 0/50 [00:00<?, ?it/s]"
      ]
     },
     "metadata": {},
     "output_type": "display_data"
    },
    {
     "data": {
      "application/vnd.jupyter.widget-view+json": {
       "model_id": "a3c9b3adbfc5413a9a4882282e6e216f",
       "version_major": 2,
       "version_minor": 0
      },
      "text/plain": [
       "Processing audio files:   0%|          | 0/50 [00:00<?, ?it/s]"
      ]
     },
     "metadata": {},
     "output_type": "display_data"
    },
    {
     "data": {
      "application/vnd.jupyter.widget-view+json": {
       "model_id": "44651e72db964a8091fa4a80760d6dab",
       "version_major": 2,
       "version_minor": 0
      },
      "text/plain": [
       "Processing audio files:   0%|          | 0/50 [00:00<?, ?it/s]"
      ]
     },
     "metadata": {},
     "output_type": "display_data"
    },
    {
     "data": {
      "application/vnd.jupyter.widget-view+json": {
       "model_id": "e1a72ded93df4d9bbedc5bb533436e8f",
       "version_major": 2,
       "version_minor": 0
      },
      "text/plain": [
       "Processing audio files:   0%|          | 0/50 [00:00<?, ?it/s]"
      ]
     },
     "metadata": {},
     "output_type": "display_data"
    },
    {
     "data": {
      "application/vnd.jupyter.widget-view+json": {
       "model_id": "ddb23d85f7ff45439b5761145dd1979e",
       "version_major": 2,
       "version_minor": 0
      },
      "text/plain": [
       "Processing audio files:   0%|          | 0/50 [00:00<?, ?it/s]"
      ]
     },
     "metadata": {},
     "output_type": "display_data"
    },
    {
     "data": {
      "application/vnd.jupyter.widget-view+json": {
       "model_id": "5b8c61fc496f4eacb96283509608e1bb",
       "version_major": 2,
       "version_minor": 0
      },
      "text/plain": [
       "Processing audio files:   0%|          | 0/50 [00:00<?, ?it/s]"
      ]
     },
     "metadata": {},
     "output_type": "display_data"
    },
    {
     "data": {
      "application/vnd.jupyter.widget-view+json": {
       "model_id": "7efb097b089c46ac8b363de14188b5f7",
       "version_major": 2,
       "version_minor": 0
      },
      "text/plain": [
       "Processing audio files:   0%|          | 0/50 [00:00<?, ?it/s]"
      ]
     },
     "metadata": {},
     "output_type": "display_data"
    },
    {
     "data": {
      "application/vnd.jupyter.widget-view+json": {
       "model_id": "fdc7a5a77b0942a7b0ae2dc22f426f69",
       "version_major": 2,
       "version_minor": 0
      },
      "text/plain": [
       "Processing audio files:   0%|          | 0/50 [00:00<?, ?it/s]"
      ]
     },
     "metadata": {},
     "output_type": "display_data"
    },
    {
     "data": {
      "application/vnd.jupyter.widget-view+json": {
       "model_id": "e3ffc22a46de440595200d48ef676657",
       "version_major": 2,
       "version_minor": 0
      },
      "text/plain": [
       "Processing audio files:   0%|          | 0/50 [00:00<?, ?it/s]"
      ]
     },
     "metadata": {},
     "output_type": "display_data"
    },
    {
     "data": {
      "application/vnd.jupyter.widget-view+json": {
       "model_id": "9a0ce8fe4ecc4b4789efd7e5159e3e0d",
       "version_major": 2,
       "version_minor": 0
      },
      "text/plain": [
       "Processing audio files:   0%|          | 0/50 [00:00<?, ?it/s]"
      ]
     },
     "metadata": {},
     "output_type": "display_data"
    },
    {
     "data": {
      "application/vnd.jupyter.widget-view+json": {
       "model_id": "2b442d2ab3a844adb049b34761d3c9be",
       "version_major": 2,
       "version_minor": 0
      },
      "text/plain": [
       "Processing audio files:   0%|          | 0/50 [00:00<?, ?it/s]"
      ]
     },
     "metadata": {},
     "output_type": "display_data"
    },
    {
     "data": {
      "application/vnd.jupyter.widget-view+json": {
       "model_id": "afd5a00507c847c39f9676fcd30a2640",
       "version_major": 2,
       "version_minor": 0
      },
      "text/plain": [
       "Processing audio files:   0%|          | 0/50 [00:00<?, ?it/s]"
      ]
     },
     "metadata": {},
     "output_type": "display_data"
    },
    {
     "data": {
      "application/vnd.jupyter.widget-view+json": {
       "model_id": "3bf1f25a5ea14635b196659ac1f9cdd4",
       "version_major": 2,
       "version_minor": 0
      },
      "text/plain": [
       "Processing audio files:   0%|          | 0/50 [00:00<?, ?it/s]"
      ]
     },
     "metadata": {},
     "output_type": "display_data"
    },
    {
     "data": {
      "application/vnd.jupyter.widget-view+json": {
       "model_id": "129cc28aef8e4e1da0da8ce50967b0c3",
       "version_major": 2,
       "version_minor": 0
      },
      "text/plain": [
       "Processing audio files:   0%|          | 0/50 [00:00<?, ?it/s]"
      ]
     },
     "metadata": {},
     "output_type": "display_data"
    },
    {
     "data": {
      "application/vnd.jupyter.widget-view+json": {
       "model_id": "606958f09cee49cdacebe17479c097bb",
       "version_major": 2,
       "version_minor": 0
      },
      "text/plain": [
       "Processing audio files:   0%|          | 0/50 [00:00<?, ?it/s]"
      ]
     },
     "metadata": {},
     "output_type": "display_data"
    },
    {
     "data": {
      "application/vnd.jupyter.widget-view+json": {
       "model_id": "83180edba5fe4d4080891c177c4c8353",
       "version_major": 2,
       "version_minor": 0
      },
      "text/plain": [
       "Processing audio files:   0%|          | 0/50 [00:00<?, ?it/s]"
      ]
     },
     "metadata": {},
     "output_type": "display_data"
    },
    {
     "data": {
      "application/vnd.jupyter.widget-view+json": {
       "model_id": "d27388a7dfe94b879c7c1de8cc17e85f",
       "version_major": 2,
       "version_minor": 0
      },
      "text/plain": [
       "Processing audio files:   0%|          | 0/50 [00:00<?, ?it/s]"
      ]
     },
     "metadata": {},
     "output_type": "display_data"
    },
    {
     "data": {
      "application/vnd.jupyter.widget-view+json": {
       "model_id": "db4a8d71c28f4089823bd31b6580fbe6",
       "version_major": 2,
       "version_minor": 0
      },
      "text/plain": [
       "Processing audio files:   0%|          | 0/50 [00:00<?, ?it/s]"
      ]
     },
     "metadata": {},
     "output_type": "display_data"
    },
    {
     "data": {
      "application/vnd.jupyter.widget-view+json": {
       "model_id": "1dbb9eb24a9f497b9e1af21005998478",
       "version_major": 2,
       "version_minor": 0
      },
      "text/plain": [
       "Processing audio files:   0%|          | 0/50 [00:00<?, ?it/s]"
      ]
     },
     "metadata": {},
     "output_type": "display_data"
    },
    {
     "data": {
      "application/vnd.jupyter.widget-view+json": {
       "model_id": "3677e86ab13146d8955dc3a475265aef",
       "version_major": 2,
       "version_minor": 0
      },
      "text/plain": [
       "Processing audio files:   0%|          | 0/50 [00:00<?, ?it/s]"
      ]
     },
     "metadata": {},
     "output_type": "display_data"
    },
    {
     "data": {
      "application/vnd.jupyter.widget-view+json": {
       "model_id": "18b0b3859139498cb8d9644003ae56fc",
       "version_major": 2,
       "version_minor": 0
      },
      "text/plain": [
       "Processing audio files:   0%|          | 0/50 [00:00<?, ?it/s]"
      ]
     },
     "metadata": {},
     "output_type": "display_data"
    },
    {
     "data": {
      "application/vnd.jupyter.widget-view+json": {
       "model_id": "33bbef4377b7475798eb3ef1c62ccbc6",
       "version_major": 2,
       "version_minor": 0
      },
      "text/plain": [
       "Processing audio files:   0%|          | 0/50 [00:00<?, ?it/s]"
      ]
     },
     "metadata": {},
     "output_type": "display_data"
    },
    {
     "data": {
      "application/vnd.jupyter.widget-view+json": {
       "model_id": "c64e510dcf0347dda7478a2b701fe3ba",
       "version_major": 2,
       "version_minor": 0
      },
      "text/plain": [
       "Processing audio files:   0%|          | 0/50 [00:00<?, ?it/s]"
      ]
     },
     "metadata": {},
     "output_type": "display_data"
    },
    {
     "data": {
      "application/vnd.jupyter.widget-view+json": {
       "model_id": "43111e85ab4f4ac4b0aa390bf1f776f9",
       "version_major": 2,
       "version_minor": 0
      },
      "text/plain": [
       "Processing audio files:   0%|          | 0/50 [00:00<?, ?it/s]"
      ]
     },
     "metadata": {},
     "output_type": "display_data"
    },
    {
     "data": {
      "application/vnd.jupyter.widget-view+json": {
       "model_id": "e590a69c36f84f048dec1c8eaa034d01",
       "version_major": 2,
       "version_minor": 0
      },
      "text/plain": [
       "Processing audio files:   0%|          | 0/50 [00:00<?, ?it/s]"
      ]
     },
     "metadata": {},
     "output_type": "display_data"
    },
    {
     "data": {
      "application/vnd.jupyter.widget-view+json": {
       "model_id": "8b678e128cb74d58b4452bcd6b8f4f0d",
       "version_major": 2,
       "version_minor": 0
      },
      "text/plain": [
       "Processing audio files:   0%|          | 0/50 [00:00<?, ?it/s]"
      ]
     },
     "metadata": {},
     "output_type": "display_data"
    },
    {
     "data": {
      "application/vnd.jupyter.widget-view+json": {
       "model_id": "13ffd256c0c447abba070c9b87719842",
       "version_major": 2,
       "version_minor": 0
      },
      "text/plain": [
       "Processing audio files:   0%|          | 0/50 [00:00<?, ?it/s]"
      ]
     },
     "metadata": {},
     "output_type": "display_data"
    },
    {
     "data": {
      "application/vnd.jupyter.widget-view+json": {
       "model_id": "0e79143c6dbb42cdafd7f49fd16e95f5",
       "version_major": 2,
       "version_minor": 0
      },
      "text/plain": [
       "Processing audio files:   0%|          | 0/50 [00:00<?, ?it/s]"
      ]
     },
     "metadata": {},
     "output_type": "display_data"
    },
    {
     "data": {
      "application/vnd.jupyter.widget-view+json": {
       "model_id": "5dc0c521de954ff89f58a05ce6a97b60",
       "version_major": 2,
       "version_minor": 0
      },
      "text/plain": [
       "Processing audio files:   0%|          | 0/50 [00:00<?, ?it/s]"
      ]
     },
     "metadata": {},
     "output_type": "display_data"
    },
    {
     "data": {
      "application/vnd.jupyter.widget-view+json": {
       "model_id": "08156fc7960344d3bf4aa0f67f6a742a",
       "version_major": 2,
       "version_minor": 0
      },
      "text/plain": [
       "Processing audio files:   0%|          | 0/50 [00:00<?, ?it/s]"
      ]
     },
     "metadata": {},
     "output_type": "display_data"
    },
    {
     "data": {
      "application/vnd.jupyter.widget-view+json": {
       "model_id": "62783f3b96a34a6f81c45e8062099447",
       "version_major": 2,
       "version_minor": 0
      },
      "text/plain": [
       "Processing audio files:   0%|          | 0/50 [00:00<?, ?it/s]"
      ]
     },
     "metadata": {},
     "output_type": "display_data"
    },
    {
     "data": {
      "application/vnd.jupyter.widget-view+json": {
       "model_id": "c0ac0bf151ec473ca6e495d5dc50fa51",
       "version_major": 2,
       "version_minor": 0
      },
      "text/plain": [
       "Processing audio files:   0%|          | 0/50 [00:00<?, ?it/s]"
      ]
     },
     "metadata": {},
     "output_type": "display_data"
    },
    {
     "data": {
      "application/vnd.jupyter.widget-view+json": {
       "model_id": "b394925fcc724926a7648204ecc59801",
       "version_major": 2,
       "version_minor": 0
      },
      "text/plain": [
       "Processing audio files:   0%|          | 0/50 [00:00<?, ?it/s]"
      ]
     },
     "metadata": {},
     "output_type": "display_data"
    },
    {
     "data": {
      "application/vnd.jupyter.widget-view+json": {
       "model_id": "3d0efe11cf094610998412f4ee09505c",
       "version_major": 2,
       "version_minor": 0
      },
      "text/plain": [
       "Processing audio files:   0%|          | 0/50 [00:00<?, ?it/s]"
      ]
     },
     "metadata": {},
     "output_type": "display_data"
    },
    {
     "data": {
      "application/vnd.jupyter.widget-view+json": {
       "model_id": "5bd356b75ac14238acbde892b5606f2f",
       "version_major": 2,
       "version_minor": 0
      },
      "text/plain": [
       "Processing audio files:   0%|          | 0/50 [00:00<?, ?it/s]"
      ]
     },
     "metadata": {},
     "output_type": "display_data"
    },
    {
     "data": {
      "application/vnd.jupyter.widget-view+json": {
       "model_id": "2bb893549dc64736a5c63325f000a6f0",
       "version_major": 2,
       "version_minor": 0
      },
      "text/plain": [
       "Processing audio files:   0%|          | 0/50 [00:00<?, ?it/s]"
      ]
     },
     "metadata": {},
     "output_type": "display_data"
    },
    {
     "data": {
      "application/vnd.jupyter.widget-view+json": {
       "model_id": "4250173d9f7f44b19f84eb0c9afcde92",
       "version_major": 2,
       "version_minor": 0
      },
      "text/plain": [
       "Processing audio files:   0%|          | 0/50 [00:00<?, ?it/s]"
      ]
     },
     "metadata": {},
     "output_type": "display_data"
    },
    {
     "data": {
      "application/vnd.jupyter.widget-view+json": {
       "model_id": "a01260125c7b4776bfcdd52864b0ce41",
       "version_major": 2,
       "version_minor": 0
      },
      "text/plain": [
       "Processing audio files:   0%|          | 0/50 [00:00<?, ?it/s]"
      ]
     },
     "metadata": {},
     "output_type": "display_data"
    },
    {
     "data": {
      "application/vnd.jupyter.widget-view+json": {
       "model_id": "f612e238544f4c898d5e15e0b0703aaf",
       "version_major": 2,
       "version_minor": 0
      },
      "text/plain": [
       "Processing audio files:   0%|          | 0/50 [00:00<?, ?it/s]"
      ]
     },
     "metadata": {},
     "output_type": "display_data"
    },
    {
     "data": {
      "application/vnd.jupyter.widget-view+json": {
       "model_id": "de9d0524f506430aab448b1db435c0ac",
       "version_major": 2,
       "version_minor": 0
      },
      "text/plain": [
       "Processing audio files:   0%|          | 0/50 [00:00<?, ?it/s]"
      ]
     },
     "metadata": {},
     "output_type": "display_data"
    },
    {
     "data": {
      "application/vnd.jupyter.widget-view+json": {
       "model_id": "00884e2781814203beeaefc16494b676",
       "version_major": 2,
       "version_minor": 0
      },
      "text/plain": [
       "Processing audio files:   0%|          | 0/50 [00:00<?, ?it/s]"
      ]
     },
     "metadata": {},
     "output_type": "display_data"
    },
    {
     "data": {
      "application/vnd.jupyter.widget-view+json": {
       "model_id": "76c01f3d82ae4ac9875f41ada50587d7",
       "version_major": 2,
       "version_minor": 0
      },
      "text/plain": [
       "Processing audio files:   0%|          | 0/50 [00:00<?, ?it/s]"
      ]
     },
     "metadata": {},
     "output_type": "display_data"
    },
    {
     "data": {
      "application/vnd.jupyter.widget-view+json": {
       "model_id": "73e81644130141e3a66cc222627b94ea",
       "version_major": 2,
       "version_minor": 0
      },
      "text/plain": [
       "Processing audio files:   0%|          | 0/50 [00:00<?, ?it/s]"
      ]
     },
     "metadata": {},
     "output_type": "display_data"
    },
    {
     "data": {
      "application/vnd.jupyter.widget-view+json": {
       "model_id": "e67dbff4e43446a9b8e77f743b514967",
       "version_major": 2,
       "version_minor": 0
      },
      "text/plain": [
       "Processing audio files:   0%|          | 0/50 [00:00<?, ?it/s]"
      ]
     },
     "metadata": {},
     "output_type": "display_data"
    },
    {
     "data": {
      "application/vnd.jupyter.widget-view+json": {
       "model_id": "b586d6f6a1704666858a205c551c059c",
       "version_major": 2,
       "version_minor": 0
      },
      "text/plain": [
       "Processing audio files:   0%|          | 0/50 [00:00<?, ?it/s]"
      ]
     },
     "metadata": {},
     "output_type": "display_data"
    },
    {
     "data": {
      "application/vnd.jupyter.widget-view+json": {
       "model_id": "bcbb3649b3314af480ce6490eb1266e2",
       "version_major": 2,
       "version_minor": 0
      },
      "text/plain": [
       "Processing audio files:   0%|          | 0/50 [00:00<?, ?it/s]"
      ]
     },
     "metadata": {},
     "output_type": "display_data"
    },
    {
     "data": {
      "application/vnd.jupyter.widget-view+json": {
       "model_id": "b860e9dc91954af48f99bf664d25bdcb",
       "version_major": 2,
       "version_minor": 0
      },
      "text/plain": [
       "Processing audio files:   0%|          | 0/50 [00:00<?, ?it/s]"
      ]
     },
     "metadata": {},
     "output_type": "display_data"
    },
    {
     "data": {
      "application/vnd.jupyter.widget-view+json": {
       "model_id": "10cd5f4c5fa6461eb5eb11858698f9c0",
       "version_major": 2,
       "version_minor": 0
      },
      "text/plain": [
       "Processing audio files:   0%|          | 0/50 [00:00<?, ?it/s]"
      ]
     },
     "metadata": {},
     "output_type": "display_data"
    },
    {
     "data": {
      "application/vnd.jupyter.widget-view+json": {
       "model_id": "6e8b5d61c1e940f39bafdda9c9255f55",
       "version_major": 2,
       "version_minor": 0
      },
      "text/plain": [
       "Processing audio files:   0%|          | 0/50 [00:00<?, ?it/s]"
      ]
     },
     "metadata": {},
     "output_type": "display_data"
    },
    {
     "data": {
      "application/vnd.jupyter.widget-view+json": {
       "model_id": "e958ec2163f84601a7d7f67beefb38b4",
       "version_major": 2,
       "version_minor": 0
      },
      "text/plain": [
       "Processing audio files:   0%|          | 0/50 [00:00<?, ?it/s]"
      ]
     },
     "metadata": {},
     "output_type": "display_data"
    },
    {
     "data": {
      "application/vnd.jupyter.widget-view+json": {
       "model_id": "f6d2f8a99c594a51bbe070e58a0d14e0",
       "version_major": 2,
       "version_minor": 0
      },
      "text/plain": [
       "Processing audio files:   0%|          | 0/50 [00:00<?, ?it/s]"
      ]
     },
     "metadata": {},
     "output_type": "display_data"
    },
    {
     "data": {
      "application/vnd.jupyter.widget-view+json": {
       "model_id": "93e509b819864e0298f3a22e54c5bdf7",
       "version_major": 2,
       "version_minor": 0
      },
      "text/plain": [
       "Processing audio files:   0%|          | 0/50 [00:00<?, ?it/s]"
      ]
     },
     "metadata": {},
     "output_type": "display_data"
    },
    {
     "data": {
      "application/vnd.jupyter.widget-view+json": {
       "model_id": "dbe4de8cdb384c3c8081fa50f67c9590",
       "version_major": 2,
       "version_minor": 0
      },
      "text/plain": [
       "Processing audio files:   0%|          | 0/50 [00:00<?, ?it/s]"
      ]
     },
     "metadata": {},
     "output_type": "display_data"
    },
    {
     "data": {
      "application/vnd.jupyter.widget-view+json": {
       "model_id": "cebe2a1092ba4f0787d2eb5b89bd79f0",
       "version_major": 2,
       "version_minor": 0
      },
      "text/plain": [
       "Processing audio files:   0%|          | 0/50 [00:00<?, ?it/s]"
      ]
     },
     "metadata": {},
     "output_type": "display_data"
    },
    {
     "data": {
      "application/vnd.jupyter.widget-view+json": {
       "model_id": "a36e478ba73441b48d4606f04e4c7c98",
       "version_major": 2,
       "version_minor": 0
      },
      "text/plain": [
       "Processing audio files:   0%|          | 0/50 [00:00<?, ?it/s]"
      ]
     },
     "metadata": {},
     "output_type": "display_data"
    },
    {
     "data": {
      "application/vnd.jupyter.widget-view+json": {
       "model_id": "c13b11e327ac4818a8a25ce3d3480d37",
       "version_major": 2,
       "version_minor": 0
      },
      "text/plain": [
       "Processing audio files:   0%|          | 0/50 [00:00<?, ?it/s]"
      ]
     },
     "metadata": {},
     "output_type": "display_data"
    },
    {
     "data": {
      "application/vnd.jupyter.widget-view+json": {
       "model_id": "20c3989651fb434c859695de0651d691",
       "version_major": 2,
       "version_minor": 0
      },
      "text/plain": [
       "Processing audio files:   0%|          | 0/50 [00:00<?, ?it/s]"
      ]
     },
     "metadata": {},
     "output_type": "display_data"
    },
    {
     "data": {
      "application/vnd.jupyter.widget-view+json": {
       "model_id": "538afe529b8840cd8b5fbcf2ffe253a6",
       "version_major": 2,
       "version_minor": 0
      },
      "text/plain": [
       "Processing audio files:   0%|          | 0/50 [00:00<?, ?it/s]"
      ]
     },
     "metadata": {},
     "output_type": "display_data"
    },
    {
     "data": {
      "application/vnd.jupyter.widget-view+json": {
       "model_id": "8c129bcb45d84718b9227655a901b8aa",
       "version_major": 2,
       "version_minor": 0
      },
      "text/plain": [
       "Processing audio files:   0%|          | 0/50 [00:00<?, ?it/s]"
      ]
     },
     "metadata": {},
     "output_type": "display_data"
    },
    {
     "data": {
      "application/vnd.jupyter.widget-view+json": {
       "model_id": "facc94a0150241e1a56520fa7aa2730e",
       "version_major": 2,
       "version_minor": 0
      },
      "text/plain": [
       "Processing audio files:   0%|          | 0/50 [00:00<?, ?it/s]"
      ]
     },
     "metadata": {},
     "output_type": "display_data"
    },
    {
     "data": {
      "application/vnd.jupyter.widget-view+json": {
       "model_id": "a2899c1b9f53426a99a06535512fb99c",
       "version_major": 2,
       "version_minor": 0
      },
      "text/plain": [
       "Processing audio files:   0%|          | 0/50 [00:00<?, ?it/s]"
      ]
     },
     "metadata": {},
     "output_type": "display_data"
    },
    {
     "data": {
      "application/vnd.jupyter.widget-view+json": {
       "model_id": "6f0caecb454a4397a1592d89469e633b",
       "version_major": 2,
       "version_minor": 0
      },
      "text/plain": [
       "Processing audio files:   0%|          | 0/50 [00:00<?, ?it/s]"
      ]
     },
     "metadata": {},
     "output_type": "display_data"
    },
    {
     "data": {
      "application/vnd.jupyter.widget-view+json": {
       "model_id": "dd11e67e15d046dcabb72a377c1aec81",
       "version_major": 2,
       "version_minor": 0
      },
      "text/plain": [
       "Processing audio files:   0%|          | 0/50 [00:00<?, ?it/s]"
      ]
     },
     "metadata": {},
     "output_type": "display_data"
    },
    {
     "data": {
      "application/vnd.jupyter.widget-view+json": {
       "model_id": "0be7e881524c4d4b982bdaa10b4a5fba",
       "version_major": 2,
       "version_minor": 0
      },
      "text/plain": [
       "Processing audio files:   0%|          | 0/50 [00:00<?, ?it/s]"
      ]
     },
     "metadata": {},
     "output_type": "display_data"
    },
    {
     "data": {
      "application/vnd.jupyter.widget-view+json": {
       "model_id": "89922494f41c49dca233670c9bbacc48",
       "version_major": 2,
       "version_minor": 0
      },
      "text/plain": [
       "Processing audio files:   0%|          | 0/50 [00:00<?, ?it/s]"
      ]
     },
     "metadata": {},
     "output_type": "display_data"
    },
    {
     "data": {
      "application/vnd.jupyter.widget-view+json": {
       "model_id": "38cf8880738847f88f83b5009e17f010",
       "version_major": 2,
       "version_minor": 0
      },
      "text/plain": [
       "Processing audio files:   0%|          | 0/50 [00:00<?, ?it/s]"
      ]
     },
     "metadata": {},
     "output_type": "display_data"
    },
    {
     "data": {
      "application/vnd.jupyter.widget-view+json": {
       "model_id": "2115a555273845278d6bb767e1809dc9",
       "version_major": 2,
       "version_minor": 0
      },
      "text/plain": [
       "Processing audio files:   0%|          | 0/50 [00:00<?, ?it/s]"
      ]
     },
     "metadata": {},
     "output_type": "display_data"
    },
    {
     "data": {
      "application/vnd.jupyter.widget-view+json": {
       "model_id": "2a84e4bf3f904a63b9889fa696ff7184",
       "version_major": 2,
       "version_minor": 0
      },
      "text/plain": [
       "Processing audio files:   0%|          | 0/50 [00:00<?, ?it/s]"
      ]
     },
     "metadata": {},
     "output_type": "display_data"
    },
    {
     "data": {
      "application/vnd.jupyter.widget-view+json": {
       "model_id": "18d1a61189ee466983a8b590ae907e97",
       "version_major": 2,
       "version_minor": 0
      },
      "text/plain": [
       "Processing audio files:   0%|          | 0/50 [00:00<?, ?it/s]"
      ]
     },
     "metadata": {},
     "output_type": "display_data"
    },
    {
     "data": {
      "application/vnd.jupyter.widget-view+json": {
       "model_id": "39ff271e9bb346228255ff3a12384646",
       "version_major": 2,
       "version_minor": 0
      },
      "text/plain": [
       "Processing audio files:   0%|          | 0/50 [00:00<?, ?it/s]"
      ]
     },
     "metadata": {},
     "output_type": "display_data"
    },
    {
     "data": {
      "application/vnd.jupyter.widget-view+json": {
       "model_id": "7c8e9726e3784151af57a57c58d45ba4",
       "version_major": 2,
       "version_minor": 0
      },
      "text/plain": [
       "Processing audio files:   0%|          | 0/50 [00:00<?, ?it/s]"
      ]
     },
     "metadata": {},
     "output_type": "display_data"
    },
    {
     "data": {
      "application/vnd.jupyter.widget-view+json": {
       "model_id": "6d925cd86a894baebe5fa50a7b46cdae",
       "version_major": 2,
       "version_minor": 0
      },
      "text/plain": [
       "Processing audio files:   0%|          | 0/50 [00:00<?, ?it/s]"
      ]
     },
     "metadata": {},
     "output_type": "display_data"
    },
    {
     "data": {
      "application/vnd.jupyter.widget-view+json": {
       "model_id": "e592e4b2ff2c4eae862841d4a55e97ed",
       "version_major": 2,
       "version_minor": 0
      },
      "text/plain": [
       "Processing audio files:   0%|          | 0/50 [00:00<?, ?it/s]"
      ]
     },
     "metadata": {},
     "output_type": "display_data"
    },
    {
     "data": {
      "application/vnd.jupyter.widget-view+json": {
       "model_id": "1f383ae363de42458251de35171f5325",
       "version_major": 2,
       "version_minor": 0
      },
      "text/plain": [
       "Processing audio files:   0%|          | 0/50 [00:00<?, ?it/s]"
      ]
     },
     "metadata": {},
     "output_type": "display_data"
    },
    {
     "data": {
      "application/vnd.jupyter.widget-view+json": {
       "model_id": "c7978c4557654f8f8e0ef597cbd7c20c",
       "version_major": 2,
       "version_minor": 0
      },
      "text/plain": [
       "Processing audio files:   0%|          | 0/50 [00:00<?, ?it/s]"
      ]
     },
     "metadata": {},
     "output_type": "display_data"
    },
    {
     "data": {
      "application/vnd.jupyter.widget-view+json": {
       "model_id": "a9e2ba49f4b94fffb82552068495798e",
       "version_major": 2,
       "version_minor": 0
      },
      "text/plain": [
       "Processing audio files:   0%|          | 0/50 [00:00<?, ?it/s]"
      ]
     },
     "metadata": {},
     "output_type": "display_data"
    },
    {
     "data": {
      "application/vnd.jupyter.widget-view+json": {
       "model_id": "734e7ad634274f919db7909dacd08227",
       "version_major": 2,
       "version_minor": 0
      },
      "text/plain": [
       "Processing audio files:   0%|          | 0/50 [00:00<?, ?it/s]"
      ]
     },
     "metadata": {},
     "output_type": "display_data"
    },
    {
     "data": {
      "application/vnd.jupyter.widget-view+json": {
       "model_id": "e58ece1280cf48499a2617e2744822ba",
       "version_major": 2,
       "version_minor": 0
      },
      "text/plain": [
       "Processing audio files:   0%|          | 0/50 [00:00<?, ?it/s]"
      ]
     },
     "metadata": {},
     "output_type": "display_data"
    },
    {
     "data": {
      "application/vnd.jupyter.widget-view+json": {
       "model_id": "b8537de581c04086a590e8cb18669ab2",
       "version_major": 2,
       "version_minor": 0
      },
      "text/plain": [
       "Processing audio files:   0%|          | 0/50 [00:00<?, ?it/s]"
      ]
     },
     "metadata": {},
     "output_type": "display_data"
    },
    {
     "data": {
      "application/vnd.jupyter.widget-view+json": {
       "model_id": "c549ba3805c3431b842de6f8a1acabc2",
       "version_major": 2,
       "version_minor": 0
      },
      "text/plain": [
       "Processing audio files:   0%|          | 0/50 [00:00<?, ?it/s]"
      ]
     },
     "metadata": {},
     "output_type": "display_data"
    },
    {
     "data": {
      "application/vnd.jupyter.widget-view+json": {
       "model_id": "5da14ab99aad4222a49b508f1f30f132",
       "version_major": 2,
       "version_minor": 0
      },
      "text/plain": [
       "Processing audio files:   0%|          | 0/50 [00:00<?, ?it/s]"
      ]
     },
     "metadata": {},
     "output_type": "display_data"
    },
    {
     "data": {
      "application/vnd.jupyter.widget-view+json": {
       "model_id": "9786be5bdf87423fb2cfffce859b3fee",
       "version_major": 2,
       "version_minor": 0
      },
      "text/plain": [
       "Processing audio files:   0%|          | 0/50 [00:00<?, ?it/s]"
      ]
     },
     "metadata": {},
     "output_type": "display_data"
    },
    {
     "data": {
      "application/vnd.jupyter.widget-view+json": {
       "model_id": "8476225df19d4a06a42e62d90799f8f7",
       "version_major": 2,
       "version_minor": 0
      },
      "text/plain": [
       "Processing audio files:   0%|          | 0/50 [00:00<?, ?it/s]"
      ]
     },
     "metadata": {},
     "output_type": "display_data"
    },
    {
     "data": {
      "application/vnd.jupyter.widget-view+json": {
       "model_id": "fc62fbbbf3364ca38e7fb29f6a603bce",
       "version_major": 2,
       "version_minor": 0
      },
      "text/plain": [
       "Processing audio files:   0%|          | 0/50 [00:00<?, ?it/s]"
      ]
     },
     "metadata": {},
     "output_type": "display_data"
    },
    {
     "data": {
      "application/vnd.jupyter.widget-view+json": {
       "model_id": "6fee93f54d774d70adf83de2927759c5",
       "version_major": 2,
       "version_minor": 0
      },
      "text/plain": [
       "Processing audio files:   0%|          | 0/50 [00:00<?, ?it/s]"
      ]
     },
     "metadata": {},
     "output_type": "display_data"
    },
    {
     "data": {
      "application/vnd.jupyter.widget-view+json": {
       "model_id": "3055ff0ff8e44625ad43956df05d9103",
       "version_major": 2,
       "version_minor": 0
      },
      "text/plain": [
       "Processing audio files:   0%|          | 0/50 [00:00<?, ?it/s]"
      ]
     },
     "metadata": {},
     "output_type": "display_data"
    },
    {
     "data": {
      "application/vnd.jupyter.widget-view+json": {
       "model_id": "0eb47904bd534c5ca90a44bdb9b648a2",
       "version_major": 2,
       "version_minor": 0
      },
      "text/plain": [
       "Processing audio files:   0%|          | 0/50 [00:00<?, ?it/s]"
      ]
     },
     "metadata": {},
     "output_type": "display_data"
    },
    {
     "data": {
      "application/vnd.jupyter.widget-view+json": {
       "model_id": "812f7f9261b04057934870c92516ee9f",
       "version_major": 2,
       "version_minor": 0
      },
      "text/plain": [
       "Processing audio files:   0%|          | 0/50 [00:00<?, ?it/s]"
      ]
     },
     "metadata": {},
     "output_type": "display_data"
    },
    {
     "data": {
      "application/vnd.jupyter.widget-view+json": {
       "model_id": "a639460153c94c288811e54f986c84a3",
       "version_major": 2,
       "version_minor": 0
      },
      "text/plain": [
       "Processing audio files:   0%|          | 0/50 [00:00<?, ?it/s]"
      ]
     },
     "metadata": {},
     "output_type": "display_data"
    },
    {
     "data": {
      "application/vnd.jupyter.widget-view+json": {
       "model_id": "63e7820982e04c9cbbb44bf7617d5ea9",
       "version_major": 2,
       "version_minor": 0
      },
      "text/plain": [
       "Processing audio files:   0%|          | 0/50 [00:00<?, ?it/s]"
      ]
     },
     "metadata": {},
     "output_type": "display_data"
    },
    {
     "data": {
      "application/vnd.jupyter.widget-view+json": {
       "model_id": "28885667629c4e73a0d8f035c476538a",
       "version_major": 2,
       "version_minor": 0
      },
      "text/plain": [
       "Processing audio files:   0%|          | 0/50 [00:00<?, ?it/s]"
      ]
     },
     "metadata": {},
     "output_type": "display_data"
    },
    {
     "data": {
      "application/vnd.jupyter.widget-view+json": {
       "model_id": "bf25da3560274dfca7e779d6b362ea75",
       "version_major": 2,
       "version_minor": 0
      },
      "text/plain": [
       "Processing audio files:   0%|          | 0/50 [00:00<?, ?it/s]"
      ]
     },
     "metadata": {},
     "output_type": "display_data"
    },
    {
     "data": {
      "application/vnd.jupyter.widget-view+json": {
       "model_id": "d6489bd7aab148cfb01467adffef6569",
       "version_major": 2,
       "version_minor": 0
      },
      "text/plain": [
       "Processing audio files:   0%|          | 0/50 [00:00<?, ?it/s]"
      ]
     },
     "metadata": {},
     "output_type": "display_data"
    },
    {
     "data": {
      "application/vnd.jupyter.widget-view+json": {
       "model_id": "fbea3da732df466ebfff24718020a021",
       "version_major": 2,
       "version_minor": 0
      },
      "text/plain": [
       "Processing audio files:   0%|          | 0/50 [00:00<?, ?it/s]"
      ]
     },
     "metadata": {},
     "output_type": "display_data"
    },
    {
     "data": {
      "application/vnd.jupyter.widget-view+json": {
       "model_id": "d118bfe252974c97ba15fe9251354763",
       "version_major": 2,
       "version_minor": 0
      },
      "text/plain": [
       "Processing audio files:   0%|          | 0/50 [00:00<?, ?it/s]"
      ]
     },
     "metadata": {},
     "output_type": "display_data"
    },
    {
     "data": {
      "application/vnd.jupyter.widget-view+json": {
       "model_id": "84c53490a4124ed2b0f5b13e28d71312",
       "version_major": 2,
       "version_minor": 0
      },
      "text/plain": [
       "Processing audio files:   0%|          | 0/50 [00:00<?, ?it/s]"
      ]
     },
     "metadata": {},
     "output_type": "display_data"
    },
    {
     "data": {
      "application/vnd.jupyter.widget-view+json": {
       "model_id": "dec9e15817c34abd9044bc81a97f6880",
       "version_major": 2,
       "version_minor": 0
      },
      "text/plain": [
       "Processing audio files:   0%|          | 0/50 [00:00<?, ?it/s]"
      ]
     },
     "metadata": {},
     "output_type": "display_data"
    },
    {
     "data": {
      "application/vnd.jupyter.widget-view+json": {
       "model_id": "9a84c4c11abe48ccb36d135805f8c713",
       "version_major": 2,
       "version_minor": 0
      },
      "text/plain": [
       "Processing audio files:   0%|          | 0/50 [00:00<?, ?it/s]"
      ]
     },
     "metadata": {},
     "output_type": "display_data"
    },
    {
     "data": {
      "application/vnd.jupyter.widget-view+json": {
       "model_id": "08c0b08763ec496cab59a46067a5abb1",
       "version_major": 2,
       "version_minor": 0
      },
      "text/plain": [
       "Processing audio files:   0%|          | 0/50 [00:00<?, ?it/s]"
      ]
     },
     "metadata": {},
     "output_type": "display_data"
    },
    {
     "data": {
      "application/vnd.jupyter.widget-view+json": {
       "model_id": "b5fc1b3dd063441f809807bf8e618e47",
       "version_major": 2,
       "version_minor": 0
      },
      "text/plain": [
       "Processing audio files:   0%|          | 0/50 [00:00<?, ?it/s]"
      ]
     },
     "metadata": {},
     "output_type": "display_data"
    },
    {
     "data": {
      "application/vnd.jupyter.widget-view+json": {
       "model_id": "69720d47a0da482cb4771e1935259560",
       "version_major": 2,
       "version_minor": 0
      },
      "text/plain": [
       "Processing audio files:   0%|          | 0/50 [00:00<?, ?it/s]"
      ]
     },
     "metadata": {},
     "output_type": "display_data"
    },
    {
     "data": {
      "application/vnd.jupyter.widget-view+json": {
       "model_id": "4fb5fb2c6f4549ebaec71e724e2522b6",
       "version_major": 2,
       "version_minor": 0
      },
      "text/plain": [
       "Processing audio files:   0%|          | 0/50 [00:00<?, ?it/s]"
      ]
     },
     "metadata": {},
     "output_type": "display_data"
    },
    {
     "data": {
      "application/vnd.jupyter.widget-view+json": {
       "model_id": "417ef7e26081425797cd8faf076d7cff",
       "version_major": 2,
       "version_minor": 0
      },
      "text/plain": [
       "Processing audio files:   0%|          | 0/50 [00:00<?, ?it/s]"
      ]
     },
     "metadata": {},
     "output_type": "display_data"
    },
    {
     "data": {
      "application/vnd.jupyter.widget-view+json": {
       "model_id": "cc8ff83758764c9ca9e7bfe4c9f22db2",
       "version_major": 2,
       "version_minor": 0
      },
      "text/plain": [
       "Processing audio files:   0%|          | 0/50 [00:00<?, ?it/s]"
      ]
     },
     "metadata": {},
     "output_type": "display_data"
    },
    {
     "data": {
      "application/vnd.jupyter.widget-view+json": {
       "model_id": "76d3afe090164c2e813f717f57385809",
       "version_major": 2,
       "version_minor": 0
      },
      "text/plain": [
       "Processing audio files:   0%|          | 0/50 [00:00<?, ?it/s]"
      ]
     },
     "metadata": {},
     "output_type": "display_data"
    },
    {
     "data": {
      "application/vnd.jupyter.widget-view+json": {
       "model_id": "4a825c877c5d4178912e6cff0f1ba051",
       "version_major": 2,
       "version_minor": 0
      },
      "text/plain": [
       "Processing audio files:   0%|          | 0/50 [00:00<?, ?it/s]"
      ]
     },
     "metadata": {},
     "output_type": "display_data"
    },
    {
     "data": {
      "application/vnd.jupyter.widget-view+json": {
       "model_id": "0559e94b9136455cbf94b3bc89f170ae",
       "version_major": 2,
       "version_minor": 0
      },
      "text/plain": [
       "Processing audio files:   0%|          | 0/50 [00:00<?, ?it/s]"
      ]
     },
     "metadata": {},
     "output_type": "display_data"
    },
    {
     "data": {
      "application/vnd.jupyter.widget-view+json": {
       "model_id": "6ce7622b199d429099b22ef39fe89461",
       "version_major": 2,
       "version_minor": 0
      },
      "text/plain": [
       "Processing audio files:   0%|          | 0/50 [00:00<?, ?it/s]"
      ]
     },
     "metadata": {},
     "output_type": "display_data"
    },
    {
     "data": {
      "application/vnd.jupyter.widget-view+json": {
       "model_id": "d3a942b104bd4a33a6d6a4ee5da7104e",
       "version_major": 2,
       "version_minor": 0
      },
      "text/plain": [
       "Processing audio files:   0%|          | 0/50 [00:00<?, ?it/s]"
      ]
     },
     "metadata": {},
     "output_type": "display_data"
    },
    {
     "data": {
      "application/vnd.jupyter.widget-view+json": {
       "model_id": "a08440706cde408ab6852f71bd685539",
       "version_major": 2,
       "version_minor": 0
      },
      "text/plain": [
       "Processing audio files:   0%|          | 0/50 [00:00<?, ?it/s]"
      ]
     },
     "metadata": {},
     "output_type": "display_data"
    },
    {
     "data": {
      "application/vnd.jupyter.widget-view+json": {
       "model_id": "eff4918a01ce4dc798b245b5405524ac",
       "version_major": 2,
       "version_minor": 0
      },
      "text/plain": [
       "Processing audio files:   0%|          | 0/50 [00:00<?, ?it/s]"
      ]
     },
     "metadata": {},
     "output_type": "display_data"
    },
    {
     "data": {
      "application/vnd.jupyter.widget-view+json": {
       "model_id": "aa3b8ebd44c34912865e5564361b38ab",
       "version_major": 2,
       "version_minor": 0
      },
      "text/plain": [
       "Processing audio files:   0%|          | 0/50 [00:00<?, ?it/s]"
      ]
     },
     "metadata": {},
     "output_type": "display_data"
    },
    {
     "data": {
      "application/vnd.jupyter.widget-view+json": {
       "model_id": "bfda340312404733b341a018775e1cc7",
       "version_major": 2,
       "version_minor": 0
      },
      "text/plain": [
       "Processing audio files:   0%|          | 0/50 [00:00<?, ?it/s]"
      ]
     },
     "metadata": {},
     "output_type": "display_data"
    },
    {
     "data": {
      "application/vnd.jupyter.widget-view+json": {
       "model_id": "02f23aa0766e4d5ebce42c2aa4c419c7",
       "version_major": 2,
       "version_minor": 0
      },
      "text/plain": [
       "Processing audio files:   0%|          | 0/50 [00:00<?, ?it/s]"
      ]
     },
     "metadata": {},
     "output_type": "display_data"
    },
    {
     "data": {
      "application/vnd.jupyter.widget-view+json": {
       "model_id": "4d885483834641608296846f8c29f9e6",
       "version_major": 2,
       "version_minor": 0
      },
      "text/plain": [
       "Processing audio files:   0%|          | 0/50 [00:00<?, ?it/s]"
      ]
     },
     "metadata": {},
     "output_type": "display_data"
    },
    {
     "data": {
      "application/vnd.jupyter.widget-view+json": {
       "model_id": "2b7be0152bdf4d90b15b4af3342b1592",
       "version_major": 2,
       "version_minor": 0
      },
      "text/plain": [
       "Processing audio files:   0%|          | 0/50 [00:00<?, ?it/s]"
      ]
     },
     "metadata": {},
     "output_type": "display_data"
    },
    {
     "data": {
      "application/vnd.jupyter.widget-view+json": {
       "model_id": "2d6dc34e83de463396c96515ed091c53",
       "version_major": 2,
       "version_minor": 0
      },
      "text/plain": [
       "Processing audio files:   0%|          | 0/50 [00:00<?, ?it/s]"
      ]
     },
     "metadata": {},
     "output_type": "display_data"
    },
    {
     "data": {
      "application/vnd.jupyter.widget-view+json": {
       "model_id": "d187c1f35604468985b7e9dd58c1ac3f",
       "version_major": 2,
       "version_minor": 0
      },
      "text/plain": [
       "Processing audio files:   0%|          | 0/50 [00:00<?, ?it/s]"
      ]
     },
     "metadata": {},
     "output_type": "display_data"
    },
    {
     "data": {
      "application/vnd.jupyter.widget-view+json": {
       "model_id": "ce318af87b764fb3b1c517ce4fff97c0",
       "version_major": 2,
       "version_minor": 0
      },
      "text/plain": [
       "Processing audio files:   0%|          | 0/50 [00:00<?, ?it/s]"
      ]
     },
     "metadata": {},
     "output_type": "display_data"
    },
    {
     "data": {
      "application/vnd.jupyter.widget-view+json": {
       "model_id": "78912ad1c419452983d73dd5fc1dd9dc",
       "version_major": 2,
       "version_minor": 0
      },
      "text/plain": [
       "Processing audio files:   0%|          | 0/50 [00:00<?, ?it/s]"
      ]
     },
     "metadata": {},
     "output_type": "display_data"
    },
    {
     "data": {
      "application/vnd.jupyter.widget-view+json": {
       "model_id": "5936820de92140c082d748c72694da54",
       "version_major": 2,
       "version_minor": 0
      },
      "text/plain": [
       "Processing audio files:   0%|          | 0/50 [00:00<?, ?it/s]"
      ]
     },
     "metadata": {},
     "output_type": "display_data"
    },
    {
     "data": {
      "application/vnd.jupyter.widget-view+json": {
       "model_id": "f98ca71c184341008103785f8e1da3c1",
       "version_major": 2,
       "version_minor": 0
      },
      "text/plain": [
       "Processing audio files:   0%|          | 0/50 [00:00<?, ?it/s]"
      ]
     },
     "metadata": {},
     "output_type": "display_data"
    },
    {
     "data": {
      "application/vnd.jupyter.widget-view+json": {
       "model_id": "fad17b2fa8e641ad97baaff25c2f0a6d",
       "version_major": 2,
       "version_minor": 0
      },
      "text/plain": [
       "Processing audio files:   0%|          | 0/50 [00:00<?, ?it/s]"
      ]
     },
     "metadata": {},
     "output_type": "display_data"
    },
    {
     "data": {
      "application/vnd.jupyter.widget-view+json": {
       "model_id": "fa49c4fcc5c8495089c8b775e8f2e6ef",
       "version_major": 2,
       "version_minor": 0
      },
      "text/plain": [
       "Processing audio files:   0%|          | 0/50 [00:00<?, ?it/s]"
      ]
     },
     "metadata": {},
     "output_type": "display_data"
    },
    {
     "data": {
      "application/vnd.jupyter.widget-view+json": {
       "model_id": "d0ab662a850f4f0c98d28a0bb7be7e88",
       "version_major": 2,
       "version_minor": 0
      },
      "text/plain": [
       "Processing audio files:   0%|          | 0/50 [00:00<?, ?it/s]"
      ]
     },
     "metadata": {},
     "output_type": "display_data"
    },
    {
     "data": {
      "application/vnd.jupyter.widget-view+json": {
       "model_id": "9779566dea834f9c82d06794af8e6528",
       "version_major": 2,
       "version_minor": 0
      },
      "text/plain": [
       "Processing audio files:   0%|          | 0/50 [00:00<?, ?it/s]"
      ]
     },
     "metadata": {},
     "output_type": "display_data"
    },
    {
     "data": {
      "application/vnd.jupyter.widget-view+json": {
       "model_id": "cbc27940ab9848528a9177d1beb48222",
       "version_major": 2,
       "version_minor": 0
      },
      "text/plain": [
       "Processing audio files:   0%|          | 0/50 [00:00<?, ?it/s]"
      ]
     },
     "metadata": {},
     "output_type": "display_data"
    },
    {
     "data": {
      "application/vnd.jupyter.widget-view+json": {
       "model_id": "3e089b378baa4791855d10205c0060c5",
       "version_major": 2,
       "version_minor": 0
      },
      "text/plain": [
       "Processing audio files:   0%|          | 0/50 [00:00<?, ?it/s]"
      ]
     },
     "metadata": {},
     "output_type": "display_data"
    },
    {
     "data": {
      "application/vnd.jupyter.widget-view+json": {
       "model_id": "bdcb8ee3269046dba05678a0965d6f3e",
       "version_major": 2,
       "version_minor": 0
      },
      "text/plain": [
       "Processing audio files:   0%|          | 0/50 [00:00<?, ?it/s]"
      ]
     },
     "metadata": {},
     "output_type": "display_data"
    },
    {
     "data": {
      "application/vnd.jupyter.widget-view+json": {
       "model_id": "a47818cf601942a1812c5fc9320414d6",
       "version_major": 2,
       "version_minor": 0
      },
      "text/plain": [
       "Processing audio files:   0%|          | 0/50 [00:00<?, ?it/s]"
      ]
     },
     "metadata": {},
     "output_type": "display_data"
    },
    {
     "data": {
      "application/vnd.jupyter.widget-view+json": {
       "model_id": "c5d2866ecb8a4fe99415ce41caf2a36d",
       "version_major": 2,
       "version_minor": 0
      },
      "text/plain": [
       "Processing audio files:   0%|          | 0/50 [00:00<?, ?it/s]"
      ]
     },
     "metadata": {},
     "output_type": "display_data"
    },
    {
     "data": {
      "application/vnd.jupyter.widget-view+json": {
       "model_id": "dbb7d6c7c8a64fffaf8ee1c77e00e7c2",
       "version_major": 2,
       "version_minor": 0
      },
      "text/plain": [
       "Processing audio files:   0%|          | 0/50 [00:00<?, ?it/s]"
      ]
     },
     "metadata": {},
     "output_type": "display_data"
    },
    {
     "data": {
      "application/vnd.jupyter.widget-view+json": {
       "model_id": "6ac9f58beb7b4e1387208d38b9c6d0a2",
       "version_major": 2,
       "version_minor": 0
      },
      "text/plain": [
       "Processing audio files:   0%|          | 0/50 [00:00<?, ?it/s]"
      ]
     },
     "metadata": {},
     "output_type": "display_data"
    },
    {
     "data": {
      "application/vnd.jupyter.widget-view+json": {
       "model_id": "5f1d1052dbaa474b95d57487d82dc4a5",
       "version_major": 2,
       "version_minor": 0
      },
      "text/plain": [
       "Processing audio files:   0%|          | 0/50 [00:00<?, ?it/s]"
      ]
     },
     "metadata": {},
     "output_type": "display_data"
    },
    {
     "data": {
      "application/vnd.jupyter.widget-view+json": {
       "model_id": "3c3102bccb784c5e97964f4c2779f18a",
       "version_major": 2,
       "version_minor": 0
      },
      "text/plain": [
       "Processing audio files:   0%|          | 0/50 [00:00<?, ?it/s]"
      ]
     },
     "metadata": {},
     "output_type": "display_data"
    },
    {
     "data": {
      "application/vnd.jupyter.widget-view+json": {
       "model_id": "863e45d82a624ac1b4b93aa6ebbd9ac4",
       "version_major": 2,
       "version_minor": 0
      },
      "text/plain": [
       "Processing audio files:   0%|          | 0/50 [00:00<?, ?it/s]"
      ]
     },
     "metadata": {},
     "output_type": "display_data"
    },
    {
     "data": {
      "application/vnd.jupyter.widget-view+json": {
       "model_id": "698a339655f14a8a948002bd61c9459d",
       "version_major": 2,
       "version_minor": 0
      },
      "text/plain": [
       "Processing audio files:   0%|          | 0/50 [00:00<?, ?it/s]"
      ]
     },
     "metadata": {},
     "output_type": "display_data"
    },
    {
     "data": {
      "application/vnd.jupyter.widget-view+json": {
       "model_id": "d9f6eaaa8fba4e53ba9bb127868bb13a",
       "version_major": 2,
       "version_minor": 0
      },
      "text/plain": [
       "Processing audio files:   0%|          | 0/50 [00:00<?, ?it/s]"
      ]
     },
     "metadata": {},
     "output_type": "display_data"
    },
    {
     "data": {
      "application/vnd.jupyter.widget-view+json": {
       "model_id": "1ad1e1fc633b407cbe41c004024cb67a",
       "version_major": 2,
       "version_minor": 0
      },
      "text/plain": [
       "Processing audio files:   0%|          | 0/50 [00:00<?, ?it/s]"
      ]
     },
     "metadata": {},
     "output_type": "display_data"
    },
    {
     "data": {
      "application/vnd.jupyter.widget-view+json": {
       "model_id": "cc688226f2604ce7ba212966005439bf",
       "version_major": 2,
       "version_minor": 0
      },
      "text/plain": [
       "Processing audio files:   0%|          | 0/50 [00:00<?, ?it/s]"
      ]
     },
     "metadata": {},
     "output_type": "display_data"
    },
    {
     "data": {
      "application/vnd.jupyter.widget-view+json": {
       "model_id": "325268dac98f46fdb3cff5de8392c91f",
       "version_major": 2,
       "version_minor": 0
      },
      "text/plain": [
       "Processing audio files:   0%|          | 0/50 [00:00<?, ?it/s]"
      ]
     },
     "metadata": {},
     "output_type": "display_data"
    },
    {
     "data": {
      "application/vnd.jupyter.widget-view+json": {
       "model_id": "a1ed6c5e948a4998be781c711e4e9dd1",
       "version_major": 2,
       "version_minor": 0
      },
      "text/plain": [
       "Processing audio files:   0%|          | 0/50 [00:00<?, ?it/s]"
      ]
     },
     "metadata": {},
     "output_type": "display_data"
    },
    {
     "data": {
      "application/vnd.jupyter.widget-view+json": {
       "model_id": "7b99ce3674a8433a8aebed7fe38ccff6",
       "version_major": 2,
       "version_minor": 0
      },
      "text/plain": [
       "Processing audio files:   0%|          | 0/50 [00:00<?, ?it/s]"
      ]
     },
     "metadata": {},
     "output_type": "display_data"
    },
    {
     "data": {
      "application/vnd.jupyter.widget-view+json": {
       "model_id": "9881e0c5cf664013872199af54b9d187",
       "version_major": 2,
       "version_minor": 0
      },
      "text/plain": [
       "Processing audio files:   0%|          | 0/50 [00:00<?, ?it/s]"
      ]
     },
     "metadata": {},
     "output_type": "display_data"
    },
    {
     "data": {
      "application/vnd.jupyter.widget-view+json": {
       "model_id": "0173649624df41069ce31d03a62af273",
       "version_major": 2,
       "version_minor": 0
      },
      "text/plain": [
       "Processing audio files:   0%|          | 0/50 [00:00<?, ?it/s]"
      ]
     },
     "metadata": {},
     "output_type": "display_data"
    },
    {
     "data": {
      "application/vnd.jupyter.widget-view+json": {
       "model_id": "98b6f8199c6d442e85b0b9a5051038e3",
       "version_major": 2,
       "version_minor": 0
      },
      "text/plain": [
       "Processing audio files:   0%|          | 0/50 [00:00<?, ?it/s]"
      ]
     },
     "metadata": {},
     "output_type": "display_data"
    },
    {
     "data": {
      "application/vnd.jupyter.widget-view+json": {
       "model_id": "0e4596f7c99640e3951fe87769ebedbb",
       "version_major": 2,
       "version_minor": 0
      },
      "text/plain": [
       "Processing audio files:   0%|          | 0/50 [00:00<?, ?it/s]"
      ]
     },
     "metadata": {},
     "output_type": "display_data"
    },
    {
     "data": {
      "application/vnd.jupyter.widget-view+json": {
       "model_id": "d055d5ebffe445ffa4510814ad394429",
       "version_major": 2,
       "version_minor": 0
      },
      "text/plain": [
       "Processing audio files:   0%|          | 0/50 [00:00<?, ?it/s]"
      ]
     },
     "metadata": {},
     "output_type": "display_data"
    },
    {
     "data": {
      "application/vnd.jupyter.widget-view+json": {
       "model_id": "a6df7e67e17e42898483e1017e8194c8",
       "version_major": 2,
       "version_minor": 0
      },
      "text/plain": [
       "Processing audio files:   0%|          | 0/50 [00:00<?, ?it/s]"
      ]
     },
     "metadata": {},
     "output_type": "display_data"
    },
    {
     "data": {
      "application/vnd.jupyter.widget-view+json": {
       "model_id": "f0afe9c1696b4b96b6b2337109195602",
       "version_major": 2,
       "version_minor": 0
      },
      "text/plain": [
       "Processing audio files:   0%|          | 0/50 [00:00<?, ?it/s]"
      ]
     },
     "metadata": {},
     "output_type": "display_data"
    },
    {
     "data": {
      "application/vnd.jupyter.widget-view+json": {
       "model_id": "656282726b8340c09ef5f733bb90d9b8",
       "version_major": 2,
       "version_minor": 0
      },
      "text/plain": [
       "Processing audio files:   0%|          | 0/50 [00:00<?, ?it/s]"
      ]
     },
     "metadata": {},
     "output_type": "display_data"
    },
    {
     "data": {
      "application/vnd.jupyter.widget-view+json": {
       "model_id": "57edda0483384c51ac02cfdc378eb04c",
       "version_major": 2,
       "version_minor": 0
      },
      "text/plain": [
       "Processing audio files:   0%|          | 0/50 [00:00<?, ?it/s]"
      ]
     },
     "metadata": {},
     "output_type": "display_data"
    },
    {
     "data": {
      "application/vnd.jupyter.widget-view+json": {
       "model_id": "aba559753adf46baade765ca147d41cb",
       "version_major": 2,
       "version_minor": 0
      },
      "text/plain": [
       "Processing audio files:   0%|          | 0/50 [00:00<?, ?it/s]"
      ]
     },
     "metadata": {},
     "output_type": "display_data"
    },
    {
     "data": {
      "application/vnd.jupyter.widget-view+json": {
       "model_id": "f3a2eb002e9548ceb5e59251564a4fd6",
       "version_major": 2,
       "version_minor": 0
      },
      "text/plain": [
       "Processing audio files:   0%|          | 0/50 [00:00<?, ?it/s]"
      ]
     },
     "metadata": {},
     "output_type": "display_data"
    },
    {
     "data": {
      "application/vnd.jupyter.widget-view+json": {
       "model_id": "82ffc60bf28c4f05aa911dd2b59ef374",
       "version_major": 2,
       "version_minor": 0
      },
      "text/plain": [
       "Processing audio files:   0%|          | 0/50 [00:00<?, ?it/s]"
      ]
     },
     "metadata": {},
     "output_type": "display_data"
    },
    {
     "data": {
      "application/vnd.jupyter.widget-view+json": {
       "model_id": "b6c6be2e6d944babba0dd633cb73fdb3",
       "version_major": 2,
       "version_minor": 0
      },
      "text/plain": [
       "Processing audio files:   0%|          | 0/50 [00:00<?, ?it/s]"
      ]
     },
     "metadata": {},
     "output_type": "display_data"
    },
    {
     "data": {
      "application/vnd.jupyter.widget-view+json": {
       "model_id": "a4ce82719a0d4f648a6e6c1608ec5f27",
       "version_major": 2,
       "version_minor": 0
      },
      "text/plain": [
       "Processing audio files:   0%|          | 0/50 [00:00<?, ?it/s]"
      ]
     },
     "metadata": {},
     "output_type": "display_data"
    },
    {
     "data": {
      "application/vnd.jupyter.widget-view+json": {
       "model_id": "5b1b3a065be94f6eb09cff93bea827da",
       "version_major": 2,
       "version_minor": 0
      },
      "text/plain": [
       "Processing audio files:   0%|          | 0/50 [00:00<?, ?it/s]"
      ]
     },
     "metadata": {},
     "output_type": "display_data"
    },
    {
     "data": {
      "application/vnd.jupyter.widget-view+json": {
       "model_id": "010f4977d25347fba09726053e421417",
       "version_major": 2,
       "version_minor": 0
      },
      "text/plain": [
       "Processing audio files:   0%|          | 0/50 [00:00<?, ?it/s]"
      ]
     },
     "metadata": {},
     "output_type": "display_data"
    },
    {
     "data": {
      "application/vnd.jupyter.widget-view+json": {
       "model_id": "479e9fa7f71446938103a92f9ec377b4",
       "version_major": 2,
       "version_minor": 0
      },
      "text/plain": [
       "Processing audio files:   0%|          | 0/50 [00:00<?, ?it/s]"
      ]
     },
     "metadata": {},
     "output_type": "display_data"
    },
    {
     "data": {
      "application/vnd.jupyter.widget-view+json": {
       "model_id": "b9d5f1f5b25d406ea57c4817be60a061",
       "version_major": 2,
       "version_minor": 0
      },
      "text/plain": [
       "Processing audio files:   0%|          | 0/50 [00:00<?, ?it/s]"
      ]
     },
     "metadata": {},
     "output_type": "display_data"
    },
    {
     "data": {
      "application/vnd.jupyter.widget-view+json": {
       "model_id": "86e57463b3914eaaa851ce35c819f347",
       "version_major": 2,
       "version_minor": 0
      },
      "text/plain": [
       "Processing audio files:   0%|          | 0/50 [00:00<?, ?it/s]"
      ]
     },
     "metadata": {},
     "output_type": "display_data"
    },
    {
     "data": {
      "application/vnd.jupyter.widget-view+json": {
       "model_id": "611d6bb05c924e14aaa119cd436403fc",
       "version_major": 2,
       "version_minor": 0
      },
      "text/plain": [
       "Processing audio files:   0%|          | 0/50 [00:00<?, ?it/s]"
      ]
     },
     "metadata": {},
     "output_type": "display_data"
    },
    {
     "data": {
      "application/vnd.jupyter.widget-view+json": {
       "model_id": "1a959d6e2d1c42fa8e618b3b48f2ed37",
       "version_major": 2,
       "version_minor": 0
      },
      "text/plain": [
       "Processing audio files:   0%|          | 0/50 [00:00<?, ?it/s]"
      ]
     },
     "metadata": {},
     "output_type": "display_data"
    },
    {
     "data": {
      "application/vnd.jupyter.widget-view+json": {
       "model_id": "8ccbe6e5cf784f8e9492124c08b5ac3a",
       "version_major": 2,
       "version_minor": 0
      },
      "text/plain": [
       "Processing audio files:   0%|          | 0/50 [00:00<?, ?it/s]"
      ]
     },
     "metadata": {},
     "output_type": "display_data"
    },
    {
     "data": {
      "application/vnd.jupyter.widget-view+json": {
       "model_id": "fce478f85e1d4fed852be6db983b51af",
       "version_major": 2,
       "version_minor": 0
      },
      "text/plain": [
       "Processing audio files:   0%|          | 0/50 [00:00<?, ?it/s]"
      ]
     },
     "metadata": {},
     "output_type": "display_data"
    },
    {
     "data": {
      "application/vnd.jupyter.widget-view+json": {
       "model_id": "e3128385ca534119af214f196064a74d",
       "version_major": 2,
       "version_minor": 0
      },
      "text/plain": [
       "Processing audio files:   0%|          | 0/50 [00:00<?, ?it/s]"
      ]
     },
     "metadata": {},
     "output_type": "display_data"
    },
    {
     "data": {
      "application/vnd.jupyter.widget-view+json": {
       "model_id": "603bc0d89203488e8c1d7445f758127f",
       "version_major": 2,
       "version_minor": 0
      },
      "text/plain": [
       "Processing audio files:   0%|          | 0/50 [00:00<?, ?it/s]"
      ]
     },
     "metadata": {},
     "output_type": "display_data"
    },
    {
     "data": {
      "application/vnd.jupyter.widget-view+json": {
       "model_id": "9a9b0f3d228d422690110fbf149ed264",
       "version_major": 2,
       "version_minor": 0
      },
      "text/plain": [
       "Processing audio files:   0%|          | 0/50 [00:00<?, ?it/s]"
      ]
     },
     "metadata": {},
     "output_type": "display_data"
    },
    {
     "data": {
      "application/vnd.jupyter.widget-view+json": {
       "model_id": "c41dd482bb2b4c53965b0bc6956ec038",
       "version_major": 2,
       "version_minor": 0
      },
      "text/plain": [
       "Processing audio files:   0%|          | 0/50 [00:00<?, ?it/s]"
      ]
     },
     "metadata": {},
     "output_type": "display_data"
    },
    {
     "data": {
      "application/vnd.jupyter.widget-view+json": {
       "model_id": "fa6893a9bdec424eada2d71ce38d852f",
       "version_major": 2,
       "version_minor": 0
      },
      "text/plain": [
       "Processing audio files:   0%|          | 0/50 [00:00<?, ?it/s]"
      ]
     },
     "metadata": {},
     "output_type": "display_data"
    },
    {
     "data": {
      "application/vnd.jupyter.widget-view+json": {
       "model_id": "8e31c2754fee42df9ca095366cf3d5d1",
       "version_major": 2,
       "version_minor": 0
      },
      "text/plain": [
       "Processing audio files:   0%|          | 0/50 [00:00<?, ?it/s]"
      ]
     },
     "metadata": {},
     "output_type": "display_data"
    },
    {
     "data": {
      "application/vnd.jupyter.widget-view+json": {
       "model_id": "efb1d249d29f4df0a22934cc67ae5ec7",
       "version_major": 2,
       "version_minor": 0
      },
      "text/plain": [
       "Processing audio files:   0%|          | 0/50 [00:00<?, ?it/s]"
      ]
     },
     "metadata": {},
     "output_type": "display_data"
    },
    {
     "data": {
      "application/vnd.jupyter.widget-view+json": {
       "model_id": "43f43b91f058434b896d2ca4de42661c",
       "version_major": 2,
       "version_minor": 0
      },
      "text/plain": [
       "Processing audio files:   0%|          | 0/50 [00:00<?, ?it/s]"
      ]
     },
     "metadata": {},
     "output_type": "display_data"
    },
    {
     "data": {
      "application/vnd.jupyter.widget-view+json": {
       "model_id": "eb02ed3c0d8c494a83544368831d966d",
       "version_major": 2,
       "version_minor": 0
      },
      "text/plain": [
       "Processing audio files:   0%|          | 0/50 [00:00<?, ?it/s]"
      ]
     },
     "metadata": {},
     "output_type": "display_data"
    },
    {
     "data": {
      "application/vnd.jupyter.widget-view+json": {
       "model_id": "77c9d06093cb434c94fb6c2eb09d0a33",
       "version_major": 2,
       "version_minor": 0
      },
      "text/plain": [
       "Processing audio files:   0%|          | 0/50 [00:00<?, ?it/s]"
      ]
     },
     "metadata": {},
     "output_type": "display_data"
    },
    {
     "data": {
      "application/vnd.jupyter.widget-view+json": {
       "model_id": "17b74b75c42544178a75af81f04027a1",
       "version_major": 2,
       "version_minor": 0
      },
      "text/plain": [
       "Processing audio files:   0%|          | 0/50 [00:00<?, ?it/s]"
      ]
     },
     "metadata": {},
     "output_type": "display_data"
    },
    {
     "data": {
      "application/vnd.jupyter.widget-view+json": {
       "model_id": "04c57b8108104583b6451729e2250de9",
       "version_major": 2,
       "version_minor": 0
      },
      "text/plain": [
       "Processing audio files:   0%|          | 0/50 [00:00<?, ?it/s]"
      ]
     },
     "metadata": {},
     "output_type": "display_data"
    },
    {
     "data": {
      "application/vnd.jupyter.widget-view+json": {
       "model_id": "a19502d382a44cb8a14cc26427eac1cf",
       "version_major": 2,
       "version_minor": 0
      },
      "text/plain": [
       "Processing audio files:   0%|          | 0/50 [00:00<?, ?it/s]"
      ]
     },
     "metadata": {},
     "output_type": "display_data"
    },
    {
     "data": {
      "application/vnd.jupyter.widget-view+json": {
       "model_id": "7b942f114f734cf1be4459912941e83c",
       "version_major": 2,
       "version_minor": 0
      },
      "text/plain": [
       "Processing audio files:   0%|          | 0/50 [00:00<?, ?it/s]"
      ]
     },
     "metadata": {},
     "output_type": "display_data"
    },
    {
     "data": {
      "application/vnd.jupyter.widget-view+json": {
       "model_id": "294a3b98247f479eb8cbc0d88ea8cfe7",
       "version_major": 2,
       "version_minor": 0
      },
      "text/plain": [
       "Processing audio files:   0%|          | 0/50 [00:00<?, ?it/s]"
      ]
     },
     "metadata": {},
     "output_type": "display_data"
    },
    {
     "data": {
      "application/vnd.jupyter.widget-view+json": {
       "model_id": "6fa4ad94f788408e955aed699b74a757",
       "version_major": 2,
       "version_minor": 0
      },
      "text/plain": [
       "Processing audio files:   0%|          | 0/50 [00:00<?, ?it/s]"
      ]
     },
     "metadata": {},
     "output_type": "display_data"
    },
    {
     "data": {
      "application/vnd.jupyter.widget-view+json": {
       "model_id": "bb3f398dab7d4de5990fe784fbe1d065",
       "version_major": 2,
       "version_minor": 0
      },
      "text/plain": [
       "Processing audio files:   0%|          | 0/50 [00:00<?, ?it/s]"
      ]
     },
     "metadata": {},
     "output_type": "display_data"
    },
    {
     "data": {
      "application/vnd.jupyter.widget-view+json": {
       "model_id": "b1dc2973576b4eb29b677177e3942d1a",
       "version_major": 2,
       "version_minor": 0
      },
      "text/plain": [
       "Processing audio files:   0%|          | 0/50 [00:00<?, ?it/s]"
      ]
     },
     "metadata": {},
     "output_type": "display_data"
    },
    {
     "data": {
      "application/vnd.jupyter.widget-view+json": {
       "model_id": "8be1b939707f4fb7bf30e3f9dff417df",
       "version_major": 2,
       "version_minor": 0
      },
      "text/plain": [
       "Processing audio files:   0%|          | 0/50 [00:00<?, ?it/s]"
      ]
     },
     "metadata": {},
     "output_type": "display_data"
    },
    {
     "data": {
      "application/vnd.jupyter.widget-view+json": {
       "model_id": "67ed9526d891440898e99f342e259d32",
       "version_major": 2,
       "version_minor": 0
      },
      "text/plain": [
       "Processing audio files:   0%|          | 0/50 [00:00<?, ?it/s]"
      ]
     },
     "metadata": {},
     "output_type": "display_data"
    },
    {
     "data": {
      "application/vnd.jupyter.widget-view+json": {
       "model_id": "5a13928c97e04c57a2f95608ae319a39",
       "version_major": 2,
       "version_minor": 0
      },
      "text/plain": [
       "Processing audio files:   0%|          | 0/50 [00:00<?, ?it/s]"
      ]
     },
     "metadata": {},
     "output_type": "display_data"
    },
    {
     "data": {
      "application/vnd.jupyter.widget-view+json": {
       "model_id": "1efa61143d894e068e2890cd9dd576bc",
       "version_major": 2,
       "version_minor": 0
      },
      "text/plain": [
       "Processing audio files:   0%|          | 0/50 [00:00<?, ?it/s]"
      ]
     },
     "metadata": {},
     "output_type": "display_data"
    },
    {
     "data": {
      "application/vnd.jupyter.widget-view+json": {
       "model_id": "df79ce11bc924d0589f1fe2bed8f1685",
       "version_major": 2,
       "version_minor": 0
      },
      "text/plain": [
       "Processing audio files:   0%|          | 0/50 [00:00<?, ?it/s]"
      ]
     },
     "metadata": {},
     "output_type": "display_data"
    },
    {
     "data": {
      "application/vnd.jupyter.widget-view+json": {
       "model_id": "69934cfe51a04068b5b64c1e2bcf21f3",
       "version_major": 2,
       "version_minor": 0
      },
      "text/plain": [
       "Processing audio files:   0%|          | 0/50 [00:00<?, ?it/s]"
      ]
     },
     "metadata": {},
     "output_type": "display_data"
    },
    {
     "data": {
      "application/vnd.jupyter.widget-view+json": {
       "model_id": "c8e4bfa232c74b8e885b893c146c8c57",
       "version_major": 2,
       "version_minor": 0
      },
      "text/plain": [
       "Processing audio files:   0%|          | 0/50 [00:00<?, ?it/s]"
      ]
     },
     "metadata": {},
     "output_type": "display_data"
    },
    {
     "data": {
      "application/vnd.jupyter.widget-view+json": {
       "model_id": "05217a0f66a143a4bf08e1e155cf232f",
       "version_major": 2,
       "version_minor": 0
      },
      "text/plain": [
       "Processing audio files:   0%|          | 0/50 [00:00<?, ?it/s]"
      ]
     },
     "metadata": {},
     "output_type": "display_data"
    },
    {
     "data": {
      "application/vnd.jupyter.widget-view+json": {
       "model_id": "cdaefd116b5a47c3bff1cbe29985cf17",
       "version_major": 2,
       "version_minor": 0
      },
      "text/plain": [
       "Processing audio files:   0%|          | 0/50 [00:00<?, ?it/s]"
      ]
     },
     "metadata": {},
     "output_type": "display_data"
    },
    {
     "data": {
      "application/vnd.jupyter.widget-view+json": {
       "model_id": "2a2268802cf948d98a99910e971598b2",
       "version_major": 2,
       "version_minor": 0
      },
      "text/plain": [
       "Processing audio files:   0%|          | 0/50 [00:00<?, ?it/s]"
      ]
     },
     "metadata": {},
     "output_type": "display_data"
    },
    {
     "data": {
      "application/vnd.jupyter.widget-view+json": {
       "model_id": "92a9e60a8a3d45cea0bc5e4b3fbe7176",
       "version_major": 2,
       "version_minor": 0
      },
      "text/plain": [
       "Processing audio files:   0%|          | 0/50 [00:00<?, ?it/s]"
      ]
     },
     "metadata": {},
     "output_type": "display_data"
    },
    {
     "data": {
      "application/vnd.jupyter.widget-view+json": {
       "model_id": "bd67e8ca20de44b991064f294d5c6bfe",
       "version_major": 2,
       "version_minor": 0
      },
      "text/plain": [
       "Processing audio files:   0%|          | 0/50 [00:00<?, ?it/s]"
      ]
     },
     "metadata": {},
     "output_type": "display_data"
    },
    {
     "data": {
      "application/vnd.jupyter.widget-view+json": {
       "model_id": "ef374de7cdb14218a731bd2dd51b94f9",
       "version_major": 2,
       "version_minor": 0
      },
      "text/plain": [
       "Processing audio files:   0%|          | 0/50 [00:00<?, ?it/s]"
      ]
     },
     "metadata": {},
     "output_type": "display_data"
    },
    {
     "data": {
      "application/vnd.jupyter.widget-view+json": {
       "model_id": "b3f6a2d6632f4606aeb4bb52624c48fe",
       "version_major": 2,
       "version_minor": 0
      },
      "text/plain": [
       "Processing audio files:   0%|          | 0/50 [00:00<?, ?it/s]"
      ]
     },
     "metadata": {},
     "output_type": "display_data"
    },
    {
     "data": {
      "application/vnd.jupyter.widget-view+json": {
       "model_id": "3261b4ed504c4dad9ea8beaf15904e7d",
       "version_major": 2,
       "version_minor": 0
      },
      "text/plain": [
       "Processing audio files:   0%|          | 0/50 [00:00<?, ?it/s]"
      ]
     },
     "metadata": {},
     "output_type": "display_data"
    },
    {
     "data": {
      "application/vnd.jupyter.widget-view+json": {
       "model_id": "41695170790341d381f03565e48599c7",
       "version_major": 2,
       "version_minor": 0
      },
      "text/plain": [
       "Processing audio files:   0%|          | 0/50 [00:00<?, ?it/s]"
      ]
     },
     "metadata": {},
     "output_type": "display_data"
    },
    {
     "data": {
      "application/vnd.jupyter.widget-view+json": {
       "model_id": "619376b3361b4161aca87f895817c12c",
       "version_major": 2,
       "version_minor": 0
      },
      "text/plain": [
       "Processing audio files:   0%|          | 0/50 [00:00<?, ?it/s]"
      ]
     },
     "metadata": {},
     "output_type": "display_data"
    },
    {
     "data": {
      "application/vnd.jupyter.widget-view+json": {
       "model_id": "b4e3b47af52047aaa81a8283eeed2f2c",
       "version_major": 2,
       "version_minor": 0
      },
      "text/plain": [
       "Processing audio files:   0%|          | 0/50 [00:00<?, ?it/s]"
      ]
     },
     "metadata": {},
     "output_type": "display_data"
    },
    {
     "data": {
      "application/vnd.jupyter.widget-view+json": {
       "model_id": "93f796bfa3c247379b465e2c2f996d45",
       "version_major": 2,
       "version_minor": 0
      },
      "text/plain": [
       "Processing audio files:   0%|          | 0/50 [00:00<?, ?it/s]"
      ]
     },
     "metadata": {},
     "output_type": "display_data"
    },
    {
     "data": {
      "application/vnd.jupyter.widget-view+json": {
       "model_id": "6f7fb96231d048e5a73a984c61af010a",
       "version_major": 2,
       "version_minor": 0
      },
      "text/plain": [
       "Processing audio files:   0%|          | 0/50 [00:00<?, ?it/s]"
      ]
     },
     "metadata": {},
     "output_type": "display_data"
    },
    {
     "data": {
      "application/vnd.jupyter.widget-view+json": {
       "model_id": "768cd7c2c04e4a77b591fbbb5eb70abb",
       "version_major": 2,
       "version_minor": 0
      },
      "text/plain": [
       "Processing audio files:   0%|          | 0/50 [00:00<?, ?it/s]"
      ]
     },
     "metadata": {},
     "output_type": "display_data"
    },
    {
     "data": {
      "application/vnd.jupyter.widget-view+json": {
       "model_id": "c086c225e74d4025af58d38868c2d97e",
       "version_major": 2,
       "version_minor": 0
      },
      "text/plain": [
       "Processing audio files:   0%|          | 0/50 [00:00<?, ?it/s]"
      ]
     },
     "metadata": {},
     "output_type": "display_data"
    },
    {
     "data": {
      "application/vnd.jupyter.widget-view+json": {
       "model_id": "1912641c486d4420aa9ae622747e94e6",
       "version_major": 2,
       "version_minor": 0
      },
      "text/plain": [
       "Processing audio files:   0%|          | 0/50 [00:00<?, ?it/s]"
      ]
     },
     "metadata": {},
     "output_type": "display_data"
    },
    {
     "data": {
      "application/vnd.jupyter.widget-view+json": {
       "model_id": "0e459e3c7b484ffe9abaa8c1f6715206",
       "version_major": 2,
       "version_minor": 0
      },
      "text/plain": [
       "Processing audio files:   0%|          | 0/50 [00:00<?, ?it/s]"
      ]
     },
     "metadata": {},
     "output_type": "display_data"
    },
    {
     "data": {
      "application/vnd.jupyter.widget-view+json": {
       "model_id": "f7795f2916a94675b8892cba3a5dfe74",
       "version_major": 2,
       "version_minor": 0
      },
      "text/plain": [
       "Processing audio files:   0%|          | 0/50 [00:00<?, ?it/s]"
      ]
     },
     "metadata": {},
     "output_type": "display_data"
    },
    {
     "data": {
      "application/vnd.jupyter.widget-view+json": {
       "model_id": "2e158fcba97a4544acf59c5134b973b3",
       "version_major": 2,
       "version_minor": 0
      },
      "text/plain": [
       "Processing audio files:   0%|          | 0/50 [00:00<?, ?it/s]"
      ]
     },
     "metadata": {},
     "output_type": "display_data"
    },
    {
     "data": {
      "application/vnd.jupyter.widget-view+json": {
       "model_id": "e7bb2610daaf4e43ac0c842a75d6f379",
       "version_major": 2,
       "version_minor": 0
      },
      "text/plain": [
       "Processing audio files:   0%|          | 0/50 [00:00<?, ?it/s]"
      ]
     },
     "metadata": {},
     "output_type": "display_data"
    },
    {
     "data": {
      "application/vnd.jupyter.widget-view+json": {
       "model_id": "4eda1c95df2c49c78e050d40098c2d5f",
       "version_major": 2,
       "version_minor": 0
      },
      "text/plain": [
       "Processing audio files:   0%|          | 0/50 [00:00<?, ?it/s]"
      ]
     },
     "metadata": {},
     "output_type": "display_data"
    },
    {
     "data": {
      "application/vnd.jupyter.widget-view+json": {
       "model_id": "0a33f44ff6cf4c329a8c17e2ce407372",
       "version_major": 2,
       "version_minor": 0
      },
      "text/plain": [
       "Processing audio files:   0%|          | 0/50 [00:00<?, ?it/s]"
      ]
     },
     "metadata": {},
     "output_type": "display_data"
    },
    {
     "data": {
      "application/vnd.jupyter.widget-view+json": {
       "model_id": "895ee023c2bc48aaaa997796bcc40d73",
       "version_major": 2,
       "version_minor": 0
      },
      "text/plain": [
       "Processing audio files:   0%|          | 0/50 [00:00<?, ?it/s]"
      ]
     },
     "metadata": {},
     "output_type": "display_data"
    },
    {
     "data": {
      "application/vnd.jupyter.widget-view+json": {
       "model_id": "d5aa1f619e29497596db973d75c415a3",
       "version_major": 2,
       "version_minor": 0
      },
      "text/plain": [
       "Processing audio files:   0%|          | 0/50 [00:00<?, ?it/s]"
      ]
     },
     "metadata": {},
     "output_type": "display_data"
    },
    {
     "data": {
      "application/vnd.jupyter.widget-view+json": {
       "model_id": "d3abd842331249c6b2dc5debb9a0beb1",
       "version_major": 2,
       "version_minor": 0
      },
      "text/plain": [
       "Processing audio files:   0%|          | 0/50 [00:00<?, ?it/s]"
      ]
     },
     "metadata": {},
     "output_type": "display_data"
    },
    {
     "data": {
      "application/vnd.jupyter.widget-view+json": {
       "model_id": "0c848b35f10e4e18a8ffe9d3dee29634",
       "version_major": 2,
       "version_minor": 0
      },
      "text/plain": [
       "Processing audio files:   0%|          | 0/50 [00:00<?, ?it/s]"
      ]
     },
     "metadata": {},
     "output_type": "display_data"
    },
    {
     "data": {
      "application/vnd.jupyter.widget-view+json": {
       "model_id": "a3d2fb4c1ad64b80aec1f537e1193c1d",
       "version_major": 2,
       "version_minor": 0
      },
      "text/plain": [
       "Processing audio files:   0%|          | 0/50 [00:00<?, ?it/s]"
      ]
     },
     "metadata": {},
     "output_type": "display_data"
    },
    {
     "data": {
      "application/vnd.jupyter.widget-view+json": {
       "model_id": "988ef1d09913479780fd7227dc8e30b1",
       "version_major": 2,
       "version_minor": 0
      },
      "text/plain": [
       "Processing audio files:   0%|          | 0/50 [00:00<?, ?it/s]"
      ]
     },
     "metadata": {},
     "output_type": "display_data"
    },
    {
     "data": {
      "application/vnd.jupyter.widget-view+json": {
       "model_id": "a35f0e9df6504f5ca8a74ee04e77bcde",
       "version_major": 2,
       "version_minor": 0
      },
      "text/plain": [
       "Processing audio files:   0%|          | 0/50 [00:00<?, ?it/s]"
      ]
     },
     "metadata": {},
     "output_type": "display_data"
    },
    {
     "data": {
      "application/vnd.jupyter.widget-view+json": {
       "model_id": "1c100c71f9834216af4261e20e288672",
       "version_major": 2,
       "version_minor": 0
      },
      "text/plain": [
       "Processing audio files:   0%|          | 0/50 [00:00<?, ?it/s]"
      ]
     },
     "metadata": {},
     "output_type": "display_data"
    },
    {
     "data": {
      "application/vnd.jupyter.widget-view+json": {
       "model_id": "5b3829f86c1d4037b9a359336ac23f2c",
       "version_major": 2,
       "version_minor": 0
      },
      "text/plain": [
       "Processing audio files:   0%|          | 0/50 [00:00<?, ?it/s]"
      ]
     },
     "metadata": {},
     "output_type": "display_data"
    },
    {
     "data": {
      "application/vnd.jupyter.widget-view+json": {
       "model_id": "ff620687f2c94acdb7c7df48452187da",
       "version_major": 2,
       "version_minor": 0
      },
      "text/plain": [
       "Processing audio files:   0%|          | 0/50 [00:00<?, ?it/s]"
      ]
     },
     "metadata": {},
     "output_type": "display_data"
    },
    {
     "data": {
      "application/vnd.jupyter.widget-view+json": {
       "model_id": "a0dac156e9ef46d480d37490f4d89e98",
       "version_major": 2,
       "version_minor": 0
      },
      "text/plain": [
       "Processing audio files:   0%|          | 0/50 [00:00<?, ?it/s]"
      ]
     },
     "metadata": {},
     "output_type": "display_data"
    },
    {
     "data": {
      "application/vnd.jupyter.widget-view+json": {
       "model_id": "76976797aba8467bb43a5afdd81fda82",
       "version_major": 2,
       "version_minor": 0
      },
      "text/plain": [
       "Processing audio files:   0%|          | 0/50 [00:00<?, ?it/s]"
      ]
     },
     "metadata": {},
     "output_type": "display_data"
    },
    {
     "data": {
      "application/vnd.jupyter.widget-view+json": {
       "model_id": "5cf1706528144be291db51dafa700523",
       "version_major": 2,
       "version_minor": 0
      },
      "text/plain": [
       "Processing audio files:   0%|          | 0/50 [00:00<?, ?it/s]"
      ]
     },
     "metadata": {},
     "output_type": "display_data"
    },
    {
     "data": {
      "application/vnd.jupyter.widget-view+json": {
       "model_id": "52676bd09d7d4b23861c48fa9892aeca",
       "version_major": 2,
       "version_minor": 0
      },
      "text/plain": [
       "Processing audio files:   0%|          | 0/50 [00:00<?, ?it/s]"
      ]
     },
     "metadata": {},
     "output_type": "display_data"
    },
    {
     "data": {
      "application/vnd.jupyter.widget-view+json": {
       "model_id": "07b40f88a8da4af38f454d6821d5ae13",
       "version_major": 2,
       "version_minor": 0
      },
      "text/plain": [
       "Processing audio files:   0%|          | 0/50 [00:00<?, ?it/s]"
      ]
     },
     "metadata": {},
     "output_type": "display_data"
    },
    {
     "data": {
      "application/vnd.jupyter.widget-view+json": {
       "model_id": "095028079e4a4eb9871c6aba368a1a82",
       "version_major": 2,
       "version_minor": 0
      },
      "text/plain": [
       "Processing audio files:   0%|          | 0/50 [00:00<?, ?it/s]"
      ]
     },
     "metadata": {},
     "output_type": "display_data"
    },
    {
     "data": {
      "application/vnd.jupyter.widget-view+json": {
       "model_id": "5ced2930638941ec9512466a4bc56c8d",
       "version_major": 2,
       "version_minor": 0
      },
      "text/plain": [
       "Processing audio files:   0%|          | 0/50 [00:00<?, ?it/s]"
      ]
     },
     "metadata": {},
     "output_type": "display_data"
    },
    {
     "data": {
      "application/vnd.jupyter.widget-view+json": {
       "model_id": "75ebd539019d44359758f702c824a8ff",
       "version_major": 2,
       "version_minor": 0
      },
      "text/plain": [
       "Processing audio files:   0%|          | 0/50 [00:00<?, ?it/s]"
      ]
     },
     "metadata": {},
     "output_type": "display_data"
    },
    {
     "data": {
      "application/vnd.jupyter.widget-view+json": {
       "model_id": "f224d4ecee304458b3c19a350d3593d2",
       "version_major": 2,
       "version_minor": 0
      },
      "text/plain": [
       "Processing audio files:   0%|          | 0/50 [00:00<?, ?it/s]"
      ]
     },
     "metadata": {},
     "output_type": "display_data"
    },
    {
     "data": {
      "application/vnd.jupyter.widget-view+json": {
       "model_id": "e5ae7d925b6348dcb673cdef032b5e65",
       "version_major": 2,
       "version_minor": 0
      },
      "text/plain": [
       "Processing audio files:   0%|          | 0/50 [00:00<?, ?it/s]"
      ]
     },
     "metadata": {},
     "output_type": "display_data"
    },
    {
     "data": {
      "application/vnd.jupyter.widget-view+json": {
       "model_id": "511af561835b4e0390ba2851996c8573",
       "version_major": 2,
       "version_minor": 0
      },
      "text/plain": [
       "Processing audio files:   0%|          | 0/50 [00:00<?, ?it/s]"
      ]
     },
     "metadata": {},
     "output_type": "display_data"
    },
    {
     "data": {
      "application/vnd.jupyter.widget-view+json": {
       "model_id": "cb9aa96367b14fe1b5961bf972f880c1",
       "version_major": 2,
       "version_minor": 0
      },
      "text/plain": [
       "Processing audio files:   0%|          | 0/50 [00:00<?, ?it/s]"
      ]
     },
     "metadata": {},
     "output_type": "display_data"
    },
    {
     "data": {
      "application/vnd.jupyter.widget-view+json": {
       "model_id": "5a5d8e3699a1414c9ea233d19339c377",
       "version_major": 2,
       "version_minor": 0
      },
      "text/plain": [
       "Processing audio files:   0%|          | 0/50 [00:00<?, ?it/s]"
      ]
     },
     "metadata": {},
     "output_type": "display_data"
    },
    {
     "data": {
      "application/vnd.jupyter.widget-view+json": {
       "model_id": "a9d0a419fbb44776ac5293ef6f41438c",
       "version_major": 2,
       "version_minor": 0
      },
      "text/plain": [
       "Processing audio files:   0%|          | 0/50 [00:00<?, ?it/s]"
      ]
     },
     "metadata": {},
     "output_type": "display_data"
    },
    {
     "data": {
      "application/vnd.jupyter.widget-view+json": {
       "model_id": "ff470f0ef96f462b97f68c6212f372b7",
       "version_major": 2,
       "version_minor": 0
      },
      "text/plain": [
       "Processing audio files:   0%|          | 0/50 [00:00<?, ?it/s]"
      ]
     },
     "metadata": {},
     "output_type": "display_data"
    },
    {
     "data": {
      "application/vnd.jupyter.widget-view+json": {
       "model_id": "0e7cf8d7cb354f77b380cece4f484f47",
       "version_major": 2,
       "version_minor": 0
      },
      "text/plain": [
       "Processing audio files:   0%|          | 0/50 [00:00<?, ?it/s]"
      ]
     },
     "metadata": {},
     "output_type": "display_data"
    },
    {
     "data": {
      "application/vnd.jupyter.widget-view+json": {
       "model_id": "88b8bb12930441ee975a2dcb09305e13",
       "version_major": 2,
       "version_minor": 0
      },
      "text/plain": [
       "Processing audio files:   0%|          | 0/50 [00:00<?, ?it/s]"
      ]
     },
     "metadata": {},
     "output_type": "display_data"
    },
    {
     "data": {
      "application/vnd.jupyter.widget-view+json": {
       "model_id": "3c9b957cb6b24a2c8953d83716baa24f",
       "version_major": 2,
       "version_minor": 0
      },
      "text/plain": [
       "Processing audio files:   0%|          | 0/50 [00:00<?, ?it/s]"
      ]
     },
     "metadata": {},
     "output_type": "display_data"
    },
    {
     "data": {
      "application/vnd.jupyter.widget-view+json": {
       "model_id": "00be1cbaccb442eb805c2ddad926d35c",
       "version_major": 2,
       "version_minor": 0
      },
      "text/plain": [
       "Processing audio files:   0%|          | 0/50 [00:00<?, ?it/s]"
      ]
     },
     "metadata": {},
     "output_type": "display_data"
    },
    {
     "data": {
      "application/vnd.jupyter.widget-view+json": {
       "model_id": "cdea571980d3403bb362ec3378930c70",
       "version_major": 2,
       "version_minor": 0
      },
      "text/plain": [
       "Processing audio files:   0%|          | 0/50 [00:00<?, ?it/s]"
      ]
     },
     "metadata": {},
     "output_type": "display_data"
    },
    {
     "data": {
      "application/vnd.jupyter.widget-view+json": {
       "model_id": "879c3430b543463380e157a78e9bb1c3",
       "version_major": 2,
       "version_minor": 0
      },
      "text/plain": [
       "Processing audio files:   0%|          | 0/50 [00:00<?, ?it/s]"
      ]
     },
     "metadata": {},
     "output_type": "display_data"
    },
    {
     "data": {
      "application/vnd.jupyter.widget-view+json": {
       "model_id": "29e5480fc2364041838f192a964b2396",
       "version_major": 2,
       "version_minor": 0
      },
      "text/plain": [
       "Processing audio files:   0%|          | 0/50 [00:00<?, ?it/s]"
      ]
     },
     "metadata": {},
     "output_type": "display_data"
    },
    {
     "data": {
      "application/vnd.jupyter.widget-view+json": {
       "model_id": "7f04895f609444f4b35888c814b81303",
       "version_major": 2,
       "version_minor": 0
      },
      "text/plain": [
       "Processing audio files:   0%|          | 0/50 [00:00<?, ?it/s]"
      ]
     },
     "metadata": {},
     "output_type": "display_data"
    },
    {
     "data": {
      "application/vnd.jupyter.widget-view+json": {
       "model_id": "27db596261dc40db9747e932e31a27b5",
       "version_major": 2,
       "version_minor": 0
      },
      "text/plain": [
       "Processing audio files:   0%|          | 0/50 [00:00<?, ?it/s]"
      ]
     },
     "metadata": {},
     "output_type": "display_data"
    },
    {
     "data": {
      "application/vnd.jupyter.widget-view+json": {
       "model_id": "332d9a03c0554bb18d1c66d637dd0b0b",
       "version_major": 2,
       "version_minor": 0
      },
      "text/plain": [
       "Processing audio files:   0%|          | 0/50 [00:00<?, ?it/s]"
      ]
     },
     "metadata": {},
     "output_type": "display_data"
    },
    {
     "data": {
      "application/vnd.jupyter.widget-view+json": {
       "model_id": "408bb82c16c94a17b13a65db3ce1d63a",
       "version_major": 2,
       "version_minor": 0
      },
      "text/plain": [
       "Processing audio files:   0%|          | 0/50 [00:00<?, ?it/s]"
      ]
     },
     "metadata": {},
     "output_type": "display_data"
    },
    {
     "data": {
      "application/vnd.jupyter.widget-view+json": {
       "model_id": "5da7662b4c0b44ec8d1bdaed0191cc3b",
       "version_major": 2,
       "version_minor": 0
      },
      "text/plain": [
       "Processing audio files:   0%|          | 0/50 [00:00<?, ?it/s]"
      ]
     },
     "metadata": {},
     "output_type": "display_data"
    },
    {
     "data": {
      "application/vnd.jupyter.widget-view+json": {
       "model_id": "7d8b1aa63c164522afcf5d28e1c73845",
       "version_major": 2,
       "version_minor": 0
      },
      "text/plain": [
       "Processing audio files:   0%|          | 0/50 [00:00<?, ?it/s]"
      ]
     },
     "metadata": {},
     "output_type": "display_data"
    },
    {
     "data": {
      "application/vnd.jupyter.widget-view+json": {
       "model_id": "0e525118c1564cdea11e5ed3e4a4197f",
       "version_major": 2,
       "version_minor": 0
      },
      "text/plain": [
       "Processing audio files:   0%|          | 0/50 [00:00<?, ?it/s]"
      ]
     },
     "metadata": {},
     "output_type": "display_data"
    },
    {
     "data": {
      "application/vnd.jupyter.widget-view+json": {
       "model_id": "e69d7d4495214fd1a91cc2fe51d83bc3",
       "version_major": 2,
       "version_minor": 0
      },
      "text/plain": [
       "Processing audio files:   0%|          | 0/50 [00:00<?, ?it/s]"
      ]
     },
     "metadata": {},
     "output_type": "display_data"
    },
    {
     "data": {
      "application/vnd.jupyter.widget-view+json": {
       "model_id": "65fba62f4862496a862e23f37cb39774",
       "version_major": 2,
       "version_minor": 0
      },
      "text/plain": [
       "Processing audio files:   0%|          | 0/50 [00:00<?, ?it/s]"
      ]
     },
     "metadata": {},
     "output_type": "display_data"
    },
    {
     "data": {
      "application/vnd.jupyter.widget-view+json": {
       "model_id": "6507ee8114ef462a96c74ffee747ecdf",
       "version_major": 2,
       "version_minor": 0
      },
      "text/plain": [
       "Processing audio files:   0%|          | 0/50 [00:00<?, ?it/s]"
      ]
     },
     "metadata": {},
     "output_type": "display_data"
    },
    {
     "data": {
      "application/vnd.jupyter.widget-view+json": {
       "model_id": "0d7895a287f144318a43051789772fdd",
       "version_major": 2,
       "version_minor": 0
      },
      "text/plain": [
       "Processing audio files:   0%|          | 0/50 [00:00<?, ?it/s]"
      ]
     },
     "metadata": {},
     "output_type": "display_data"
    },
    {
     "data": {
      "application/vnd.jupyter.widget-view+json": {
       "model_id": "c9d540e45bbd49dda188a23b7655d7f6",
       "version_major": 2,
       "version_minor": 0
      },
      "text/plain": [
       "Processing audio files:   0%|          | 0/50 [00:00<?, ?it/s]"
      ]
     },
     "metadata": {},
     "output_type": "display_data"
    },
    {
     "data": {
      "application/vnd.jupyter.widget-view+json": {
       "model_id": "31aacf729d85455b87faf17f12822ac3",
       "version_major": 2,
       "version_minor": 0
      },
      "text/plain": [
       "Processing audio files:   0%|          | 0/50 [00:00<?, ?it/s]"
      ]
     },
     "metadata": {},
     "output_type": "display_data"
    },
    {
     "data": {
      "application/vnd.jupyter.widget-view+json": {
       "model_id": "dda420aa7a23460cb22a3168c00728be",
       "version_major": 2,
       "version_minor": 0
      },
      "text/plain": [
       "Processing audio files:   0%|          | 0/50 [00:00<?, ?it/s]"
      ]
     },
     "metadata": {},
     "output_type": "display_data"
    },
    {
     "data": {
      "application/vnd.jupyter.widget-view+json": {
       "model_id": "d145e0f53026466cad0875525b359ca2",
       "version_major": 2,
       "version_minor": 0
      },
      "text/plain": [
       "Processing audio files:   0%|          | 0/50 [00:00<?, ?it/s]"
      ]
     },
     "metadata": {},
     "output_type": "display_data"
    },
    {
     "data": {
      "application/vnd.jupyter.widget-view+json": {
       "model_id": "d8ef9901f69a400080ea87b273f00695",
       "version_major": 2,
       "version_minor": 0
      },
      "text/plain": [
       "Processing audio files:   0%|          | 0/50 [00:00<?, ?it/s]"
      ]
     },
     "metadata": {},
     "output_type": "display_data"
    },
    {
     "data": {
      "application/vnd.jupyter.widget-view+json": {
       "model_id": "2d6cd52d0a72488e8e85c47a09e3d121",
       "version_major": 2,
       "version_minor": 0
      },
      "text/plain": [
       "Processing audio files:   0%|          | 0/50 [00:00<?, ?it/s]"
      ]
     },
     "metadata": {},
     "output_type": "display_data"
    },
    {
     "data": {
      "application/vnd.jupyter.widget-view+json": {
       "model_id": "bb8702dacd2546db9adf6a72a59b2487",
       "version_major": 2,
       "version_minor": 0
      },
      "text/plain": [
       "Processing audio files:   0%|          | 0/50 [00:00<?, ?it/s]"
      ]
     },
     "metadata": {},
     "output_type": "display_data"
    },
    {
     "data": {
      "application/vnd.jupyter.widget-view+json": {
       "model_id": "be798439093c43479436d7a2d4e9eeef",
       "version_major": 2,
       "version_minor": 0
      },
      "text/plain": [
       "Processing audio files:   0%|          | 0/50 [00:00<?, ?it/s]"
      ]
     },
     "metadata": {},
     "output_type": "display_data"
    },
    {
     "data": {
      "application/vnd.jupyter.widget-view+json": {
       "model_id": "8df3391d0907437da26fd4a3c378d1ed",
       "version_major": 2,
       "version_minor": 0
      },
      "text/plain": [
       "Processing audio files:   0%|          | 0/50 [00:00<?, ?it/s]"
      ]
     },
     "metadata": {},
     "output_type": "display_data"
    },
    {
     "data": {
      "application/vnd.jupyter.widget-view+json": {
       "model_id": "fa7d2f78bd1b4bd4b2cae48d7bafeb9f",
       "version_major": 2,
       "version_minor": 0
      },
      "text/plain": [
       "Processing audio files:   0%|          | 0/50 [00:00<?, ?it/s]"
      ]
     },
     "metadata": {},
     "output_type": "display_data"
    },
    {
     "data": {
      "application/vnd.jupyter.widget-view+json": {
       "model_id": "45434b840a0d4747a5c3a6d839150440",
       "version_major": 2,
       "version_minor": 0
      },
      "text/plain": [
       "Processing audio files:   0%|          | 0/50 [00:00<?, ?it/s]"
      ]
     },
     "metadata": {},
     "output_type": "display_data"
    },
    {
     "data": {
      "application/vnd.jupyter.widget-view+json": {
       "model_id": "0732cdc85f4b40c4824ab3782812ca43",
       "version_major": 2,
       "version_minor": 0
      },
      "text/plain": [
       "Processing audio files:   0%|          | 0/50 [00:00<?, ?it/s]"
      ]
     },
     "metadata": {},
     "output_type": "display_data"
    },
    {
     "data": {
      "application/vnd.jupyter.widget-view+json": {
       "model_id": "0ff77616bbec4711b71063e892261817",
       "version_major": 2,
       "version_minor": 0
      },
      "text/plain": [
       "Processing audio files:   0%|          | 0/50 [00:00<?, ?it/s]"
      ]
     },
     "metadata": {},
     "output_type": "display_data"
    },
    {
     "data": {
      "application/vnd.jupyter.widget-view+json": {
       "model_id": "a796a9a498104571a6048c97535e0059",
       "version_major": 2,
       "version_minor": 0
      },
      "text/plain": [
       "Processing audio files:   0%|          | 0/50 [00:00<?, ?it/s]"
      ]
     },
     "metadata": {},
     "output_type": "display_data"
    },
    {
     "data": {
      "application/vnd.jupyter.widget-view+json": {
       "model_id": "c7481b9e64ba4d1395bcb86f54e10c6c",
       "version_major": 2,
       "version_minor": 0
      },
      "text/plain": [
       "Processing audio files:   0%|          | 0/50 [00:00<?, ?it/s]"
      ]
     },
     "metadata": {},
     "output_type": "display_data"
    },
    {
     "data": {
      "application/vnd.jupyter.widget-view+json": {
       "model_id": "58ee159d13cf4c80979eec57b5f81951",
       "version_major": 2,
       "version_minor": 0
      },
      "text/plain": [
       "Processing audio files:   0%|          | 0/50 [00:00<?, ?it/s]"
      ]
     },
     "metadata": {},
     "output_type": "display_data"
    },
    {
     "data": {
      "application/vnd.jupyter.widget-view+json": {
       "model_id": "fd78fe6e486143718c0c34e2079197a2",
       "version_major": 2,
       "version_minor": 0
      },
      "text/plain": [
       "Processing audio files:   0%|          | 0/50 [00:00<?, ?it/s]"
      ]
     },
     "metadata": {},
     "output_type": "display_data"
    },
    {
     "data": {
      "application/vnd.jupyter.widget-view+json": {
       "model_id": "af6233e3ae194b7eac16a3f884042a47",
       "version_major": 2,
       "version_minor": 0
      },
      "text/plain": [
       "Processing audio files:   0%|          | 0/50 [00:00<?, ?it/s]"
      ]
     },
     "metadata": {},
     "output_type": "display_data"
    },
    {
     "data": {
      "application/vnd.jupyter.widget-view+json": {
       "model_id": "9ac0385a63694ef291efc5f9a6c5b808",
       "version_major": 2,
       "version_minor": 0
      },
      "text/plain": [
       "Processing audio files:   0%|          | 0/50 [00:00<?, ?it/s]"
      ]
     },
     "metadata": {},
     "output_type": "display_data"
    },
    {
     "data": {
      "application/vnd.jupyter.widget-view+json": {
       "model_id": "1c7db5f74ac947efa01e49513b907396",
       "version_major": 2,
       "version_minor": 0
      },
      "text/plain": [
       "Processing audio files:   0%|          | 0/50 [00:00<?, ?it/s]"
      ]
     },
     "metadata": {},
     "output_type": "display_data"
    },
    {
     "data": {
      "application/vnd.jupyter.widget-view+json": {
       "model_id": "05596c4ab54e463488e30b2c3442893f",
       "version_major": 2,
       "version_minor": 0
      },
      "text/plain": [
       "Processing audio files:   0%|          | 0/50 [00:00<?, ?it/s]"
      ]
     },
     "metadata": {},
     "output_type": "display_data"
    },
    {
     "data": {
      "application/vnd.jupyter.widget-view+json": {
       "model_id": "43e76967f2b74bff9fdc0c462269cbf2",
       "version_major": 2,
       "version_minor": 0
      },
      "text/plain": [
       "Processing audio files:   0%|          | 0/50 [00:00<?, ?it/s]"
      ]
     },
     "metadata": {},
     "output_type": "display_data"
    },
    {
     "data": {
      "application/vnd.jupyter.widget-view+json": {
       "model_id": "006545242d1e410e97b7b86698d9f9b2",
       "version_major": 2,
       "version_minor": 0
      },
      "text/plain": [
       "Processing audio files:   0%|          | 0/50 [00:00<?, ?it/s]"
      ]
     },
     "metadata": {},
     "output_type": "display_data"
    },
    {
     "data": {
      "application/vnd.jupyter.widget-view+json": {
       "model_id": "a0f5182604d04580bea9f2228c1894af",
       "version_major": 2,
       "version_minor": 0
      },
      "text/plain": [
       "Processing audio files:   0%|          | 0/50 [00:00<?, ?it/s]"
      ]
     },
     "metadata": {},
     "output_type": "display_data"
    },
    {
     "data": {
      "application/vnd.jupyter.widget-view+json": {
       "model_id": "315544ff22664869b43e40cae99efa93",
       "version_major": 2,
       "version_minor": 0
      },
      "text/plain": [
       "Processing audio files:   0%|          | 0/50 [00:00<?, ?it/s]"
      ]
     },
     "metadata": {},
     "output_type": "display_data"
    },
    {
     "data": {
      "application/vnd.jupyter.widget-view+json": {
       "model_id": "1a3e81ba08dd43bdb3cd30585a473b4d",
       "version_major": 2,
       "version_minor": 0
      },
      "text/plain": [
       "Processing audio files:   0%|          | 0/50 [00:00<?, ?it/s]"
      ]
     },
     "metadata": {},
     "output_type": "display_data"
    },
    {
     "data": {
      "application/vnd.jupyter.widget-view+json": {
       "model_id": "d68d93b178b74ca69f8bb252dc933414",
       "version_major": 2,
       "version_minor": 0
      },
      "text/plain": [
       "Processing audio files:   0%|          | 0/50 [00:00<?, ?it/s]"
      ]
     },
     "metadata": {},
     "output_type": "display_data"
    },
    {
     "data": {
      "application/vnd.jupyter.widget-view+json": {
       "model_id": "eecb8431d0584800a7055a66f4705c43",
       "version_major": 2,
       "version_minor": 0
      },
      "text/plain": [
       "Processing audio files:   0%|          | 0/50 [00:00<?, ?it/s]"
      ]
     },
     "metadata": {},
     "output_type": "display_data"
    },
    {
     "data": {
      "application/vnd.jupyter.widget-view+json": {
       "model_id": "d341e416776c488fa004921760f31de9",
       "version_major": 2,
       "version_minor": 0
      },
      "text/plain": [
       "Processing audio files:   0%|          | 0/50 [00:00<?, ?it/s]"
      ]
     },
     "metadata": {},
     "output_type": "display_data"
    },
    {
     "data": {
      "application/vnd.jupyter.widget-view+json": {
       "model_id": "f3e6272813914e1c84ab030b9a4c5f06",
       "version_major": 2,
       "version_minor": 0
      },
      "text/plain": [
       "Processing audio files:   0%|          | 0/50 [00:00<?, ?it/s]"
      ]
     },
     "metadata": {},
     "output_type": "display_data"
    },
    {
     "data": {
      "application/vnd.jupyter.widget-view+json": {
       "model_id": "4994ce37992f4a8c8a90db6fedf36787",
       "version_major": 2,
       "version_minor": 0
      },
      "text/plain": [
       "Processing audio files:   0%|          | 0/50 [00:00<?, ?it/s]"
      ]
     },
     "metadata": {},
     "output_type": "display_data"
    },
    {
     "data": {
      "application/vnd.jupyter.widget-view+json": {
       "model_id": "551acb9a3d2544a681675553b0492c7c",
       "version_major": 2,
       "version_minor": 0
      },
      "text/plain": [
       "Processing audio files:   0%|          | 0/50 [00:00<?, ?it/s]"
      ]
     },
     "metadata": {},
     "output_type": "display_data"
    },
    {
     "data": {
      "application/vnd.jupyter.widget-view+json": {
       "model_id": "79ca82e746d746fab10f6fe52ceb466c",
       "version_major": 2,
       "version_minor": 0
      },
      "text/plain": [
       "Processing audio files:   0%|          | 0/50 [00:00<?, ?it/s]"
      ]
     },
     "metadata": {},
     "output_type": "display_data"
    },
    {
     "data": {
      "application/vnd.jupyter.widget-view+json": {
       "model_id": "c43ad52efb0941d0b2a925f6ef9bd105",
       "version_major": 2,
       "version_minor": 0
      },
      "text/plain": [
       "Processing audio files:   0%|          | 0/50 [00:00<?, ?it/s]"
      ]
     },
     "metadata": {},
     "output_type": "display_data"
    },
    {
     "data": {
      "application/vnd.jupyter.widget-view+json": {
       "model_id": "d5b57b999ba641f0a79f52edcec569eb",
       "version_major": 2,
       "version_minor": 0
      },
      "text/plain": [
       "Processing audio files:   0%|          | 0/50 [00:00<?, ?it/s]"
      ]
     },
     "metadata": {},
     "output_type": "display_data"
    },
    {
     "data": {
      "application/vnd.jupyter.widget-view+json": {
       "model_id": "204ae00eac4048bcb566ecf01ec5b691",
       "version_major": 2,
       "version_minor": 0
      },
      "text/plain": [
       "Processing audio files:   0%|          | 0/50 [00:00<?, ?it/s]"
      ]
     },
     "metadata": {},
     "output_type": "display_data"
    },
    {
     "data": {
      "application/vnd.jupyter.widget-view+json": {
       "model_id": "5b9c5adbc35f4928932cb722fd03cecc",
       "version_major": 2,
       "version_minor": 0
      },
      "text/plain": [
       "Processing audio files:   0%|          | 0/50 [00:00<?, ?it/s]"
      ]
     },
     "metadata": {},
     "output_type": "display_data"
    },
    {
     "data": {
      "application/vnd.jupyter.widget-view+json": {
       "model_id": "00e84d6898c340cc89a75466b76e2339",
       "version_major": 2,
       "version_minor": 0
      },
      "text/plain": [
       "Processing audio files:   0%|          | 0/50 [00:00<?, ?it/s]"
      ]
     },
     "metadata": {},
     "output_type": "display_data"
    },
    {
     "data": {
      "application/vnd.jupyter.widget-view+json": {
       "model_id": "9c60dd7e402e40dfb61269d8bab938a4",
       "version_major": 2,
       "version_minor": 0
      },
      "text/plain": [
       "Processing audio files:   0%|          | 0/50 [00:00<?, ?it/s]"
      ]
     },
     "metadata": {},
     "output_type": "display_data"
    },
    {
     "data": {
      "application/vnd.jupyter.widget-view+json": {
       "model_id": "b1299f6d4bb64b01a71a800d5e9773de",
       "version_major": 2,
       "version_minor": 0
      },
      "text/plain": [
       "Processing audio files:   0%|          | 0/50 [00:00<?, ?it/s]"
      ]
     },
     "metadata": {},
     "output_type": "display_data"
    },
    {
     "data": {
      "application/vnd.jupyter.widget-view+json": {
       "model_id": "828712926c8844e1b6ee6ea3a69fa293",
       "version_major": 2,
       "version_minor": 0
      },
      "text/plain": [
       "Processing audio files:   0%|          | 0/50 [00:00<?, ?it/s]"
      ]
     },
     "metadata": {},
     "output_type": "display_data"
    },
    {
     "data": {
      "application/vnd.jupyter.widget-view+json": {
       "model_id": "c8015735e06747bfba38c1424409d3aa",
       "version_major": 2,
       "version_minor": 0
      },
      "text/plain": [
       "Processing audio files:   0%|          | 0/50 [00:00<?, ?it/s]"
      ]
     },
     "metadata": {},
     "output_type": "display_data"
    },
    {
     "data": {
      "application/vnd.jupyter.widget-view+json": {
       "model_id": "2a7cd5b7328948d2bfae12bfed036d6d",
       "version_major": 2,
       "version_minor": 0
      },
      "text/plain": [
       "Processing audio files:   0%|          | 0/50 [00:00<?, ?it/s]"
      ]
     },
     "metadata": {},
     "output_type": "display_data"
    },
    {
     "data": {
      "application/vnd.jupyter.widget-view+json": {
       "model_id": "8520c0bce3d642e2a1f454ae87923f9e",
       "version_major": 2,
       "version_minor": 0
      },
      "text/plain": [
       "Processing audio files:   0%|          | 0/50 [00:00<?, ?it/s]"
      ]
     },
     "metadata": {},
     "output_type": "display_data"
    },
    {
     "data": {
      "application/vnd.jupyter.widget-view+json": {
       "model_id": "1036d9f42099491a823d19cd3de7c19c",
       "version_major": 2,
       "version_minor": 0
      },
      "text/plain": [
       "Processing audio files:   0%|          | 0/50 [00:00<?, ?it/s]"
      ]
     },
     "metadata": {},
     "output_type": "display_data"
    },
    {
     "data": {
      "application/vnd.jupyter.widget-view+json": {
       "model_id": "6cb9abc387c04a53a16ca30f69735798",
       "version_major": 2,
       "version_minor": 0
      },
      "text/plain": [
       "Processing audio files:   0%|          | 0/50 [00:00<?, ?it/s]"
      ]
     },
     "metadata": {},
     "output_type": "display_data"
    },
    {
     "data": {
      "application/vnd.jupyter.widget-view+json": {
       "model_id": "f603006c7a95418eae3b2f087e7220f8",
       "version_major": 2,
       "version_minor": 0
      },
      "text/plain": [
       "Processing audio files:   0%|          | 0/50 [00:00<?, ?it/s]"
      ]
     },
     "metadata": {},
     "output_type": "display_data"
    },
    {
     "data": {
      "application/vnd.jupyter.widget-view+json": {
       "model_id": "5a209c21c7b34e9ea8fdf7aaa064b24b",
       "version_major": 2,
       "version_minor": 0
      },
      "text/plain": [
       "Processing audio files:   0%|          | 0/50 [00:00<?, ?it/s]"
      ]
     },
     "metadata": {},
     "output_type": "display_data"
    },
    {
     "data": {
      "application/vnd.jupyter.widget-view+json": {
       "model_id": "59576bc4531b45cf9677fd2bb46063ac",
       "version_major": 2,
       "version_minor": 0
      },
      "text/plain": [
       "Processing audio files:   0%|          | 0/50 [00:00<?, ?it/s]"
      ]
     },
     "metadata": {},
     "output_type": "display_data"
    },
    {
     "data": {
      "application/vnd.jupyter.widget-view+json": {
       "model_id": "0e0c0c21c1364d59881af58c2a484574",
       "version_major": 2,
       "version_minor": 0
      },
      "text/plain": [
       "Processing audio files:   0%|          | 0/50 [00:00<?, ?it/s]"
      ]
     },
     "metadata": {},
     "output_type": "display_data"
    },
    {
     "data": {
      "application/vnd.jupyter.widget-view+json": {
       "model_id": "194904ddf3cd489baa9c7e2bf28fe0f8",
       "version_major": 2,
       "version_minor": 0
      },
      "text/plain": [
       "Processing audio files:   0%|          | 0/50 [00:00<?, ?it/s]"
      ]
     },
     "metadata": {},
     "output_type": "display_data"
    },
    {
     "data": {
      "application/vnd.jupyter.widget-view+json": {
       "model_id": "d22da98046514e7bb8b708356375464c",
       "version_major": 2,
       "version_minor": 0
      },
      "text/plain": [
       "Processing audio files:   0%|          | 0/50 [00:00<?, ?it/s]"
      ]
     },
     "metadata": {},
     "output_type": "display_data"
    },
    {
     "data": {
      "application/vnd.jupyter.widget-view+json": {
       "model_id": "3949dd8e64fd4696a535121b41478a6b",
       "version_major": 2,
       "version_minor": 0
      },
      "text/plain": [
       "Processing audio files:   0%|          | 0/50 [00:00<?, ?it/s]"
      ]
     },
     "metadata": {},
     "output_type": "display_data"
    },
    {
     "data": {
      "application/vnd.jupyter.widget-view+json": {
       "model_id": "0d04f6781fec44d39d198f1fac28fd99",
       "version_major": 2,
       "version_minor": 0
      },
      "text/plain": [
       "Processing audio files:   0%|          | 0/50 [00:00<?, ?it/s]"
      ]
     },
     "metadata": {},
     "output_type": "display_data"
    },
    {
     "data": {
      "application/vnd.jupyter.widget-view+json": {
       "model_id": "75bb181624fa4bf38837481271b856da",
       "version_major": 2,
       "version_minor": 0
      },
      "text/plain": [
       "Processing audio files:   0%|          | 0/50 [00:00<?, ?it/s]"
      ]
     },
     "metadata": {},
     "output_type": "display_data"
    },
    {
     "data": {
      "application/vnd.jupyter.widget-view+json": {
       "model_id": "3d38864ce0c44a408e9beb76e1279ae3",
       "version_major": 2,
       "version_minor": 0
      },
      "text/plain": [
       "Processing audio files:   0%|          | 0/50 [00:00<?, ?it/s]"
      ]
     },
     "metadata": {},
     "output_type": "display_data"
    },
    {
     "data": {
      "application/vnd.jupyter.widget-view+json": {
       "model_id": "36d8eb1711c24bdba4d0dcf0d1815393",
       "version_major": 2,
       "version_minor": 0
      },
      "text/plain": [
       "Processing audio files:   0%|          | 0/50 [00:00<?, ?it/s]"
      ]
     },
     "metadata": {},
     "output_type": "display_data"
    },
    {
     "data": {
      "application/vnd.jupyter.widget-view+json": {
       "model_id": "0b65baeae4f141819b9112d4517b5807",
       "version_major": 2,
       "version_minor": 0
      },
      "text/plain": [
       "Processing audio files:   0%|          | 0/50 [00:00<?, ?it/s]"
      ]
     },
     "metadata": {},
     "output_type": "display_data"
    },
    {
     "data": {
      "application/vnd.jupyter.widget-view+json": {
       "model_id": "0fb16381028e47718821180b3925ce3b",
       "version_major": 2,
       "version_minor": 0
      },
      "text/plain": [
       "Processing audio files:   0%|          | 0/50 [00:00<?, ?it/s]"
      ]
     },
     "metadata": {},
     "output_type": "display_data"
    },
    {
     "data": {
      "application/vnd.jupyter.widget-view+json": {
       "model_id": "c63f09e796b14bb4b344b55fb14614bd",
       "version_major": 2,
       "version_minor": 0
      },
      "text/plain": [
       "Processing audio files:   0%|          | 0/50 [00:00<?, ?it/s]"
      ]
     },
     "metadata": {},
     "output_type": "display_data"
    },
    {
     "data": {
      "application/vnd.jupyter.widget-view+json": {
       "model_id": "bd2f58beb9de4ad594869412ccb8fb25",
       "version_major": 2,
       "version_minor": 0
      },
      "text/plain": [
       "Processing audio files:   0%|          | 0/50 [00:00<?, ?it/s]"
      ]
     },
     "metadata": {},
     "output_type": "display_data"
    },
    {
     "data": {
      "application/vnd.jupyter.widget-view+json": {
       "model_id": "f4e58a776cec45a798295125c7bf8c69",
       "version_major": 2,
       "version_minor": 0
      },
      "text/plain": [
       "Processing audio files:   0%|          | 0/50 [00:00<?, ?it/s]"
      ]
     },
     "metadata": {},
     "output_type": "display_data"
    },
    {
     "data": {
      "application/vnd.jupyter.widget-view+json": {
       "model_id": "849162f4710b4bf198943c74ac6a9184",
       "version_major": 2,
       "version_minor": 0
      },
      "text/plain": [
       "Processing audio files:   0%|          | 0/50 [00:00<?, ?it/s]"
      ]
     },
     "metadata": {},
     "output_type": "display_data"
    },
    {
     "data": {
      "application/vnd.jupyter.widget-view+json": {
       "model_id": "0ae1626c983f4b70b8dead0b6deb0d50",
       "version_major": 2,
       "version_minor": 0
      },
      "text/plain": [
       "Processing audio files:   0%|          | 0/50 [00:00<?, ?it/s]"
      ]
     },
     "metadata": {},
     "output_type": "display_data"
    },
    {
     "data": {
      "application/vnd.jupyter.widget-view+json": {
       "model_id": "4fff72256b97403e90ad5fdab589dc8f",
       "version_major": 2,
       "version_minor": 0
      },
      "text/plain": [
       "Processing audio files:   0%|          | 0/50 [00:00<?, ?it/s]"
      ]
     },
     "metadata": {},
     "output_type": "display_data"
    },
    {
     "data": {
      "application/vnd.jupyter.widget-view+json": {
       "model_id": "6ea8a6f038cb48628431f0ccc45e562d",
       "version_major": 2,
       "version_minor": 0
      },
      "text/plain": [
       "Processing audio files:   0%|          | 0/50 [00:00<?, ?it/s]"
      ]
     },
     "metadata": {},
     "output_type": "display_data"
    },
    {
     "data": {
      "application/vnd.jupyter.widget-view+json": {
       "model_id": "b0dced3a59924dc795464be296ee0c6b",
       "version_major": 2,
       "version_minor": 0
      },
      "text/plain": [
       "Processing audio files:   0%|          | 0/50 [00:00<?, ?it/s]"
      ]
     },
     "metadata": {},
     "output_type": "display_data"
    },
    {
     "data": {
      "application/vnd.jupyter.widget-view+json": {
       "model_id": "7df1b0e0a72c4fd7a58df7d6be53087d",
       "version_major": 2,
       "version_minor": 0
      },
      "text/plain": [
       "Processing audio files:   0%|          | 0/50 [00:00<?, ?it/s]"
      ]
     },
     "metadata": {},
     "output_type": "display_data"
    },
    {
     "data": {
      "application/vnd.jupyter.widget-view+json": {
       "model_id": "b489471f69d94ea3943ae668f6a78f57",
       "version_major": 2,
       "version_minor": 0
      },
      "text/plain": [
       "Processing audio files:   0%|          | 0/50 [00:00<?, ?it/s]"
      ]
     },
     "metadata": {},
     "output_type": "display_data"
    },
    {
     "data": {
      "application/vnd.jupyter.widget-view+json": {
       "model_id": "e1534229e4ee409584554bd4b71f4346",
       "version_major": 2,
       "version_minor": 0
      },
      "text/plain": [
       "Processing audio files:   0%|          | 0/50 [00:00<?, ?it/s]"
      ]
     },
     "metadata": {},
     "output_type": "display_data"
    },
    {
     "data": {
      "application/vnd.jupyter.widget-view+json": {
       "model_id": "76ddae8e43c6497ea8a6b7a330b37c9f",
       "version_major": 2,
       "version_minor": 0
      },
      "text/plain": [
       "Processing audio files:   0%|          | 0/50 [00:00<?, ?it/s]"
      ]
     },
     "metadata": {},
     "output_type": "display_data"
    },
    {
     "data": {
      "application/vnd.jupyter.widget-view+json": {
       "model_id": "866cbed4d6aa4607b29f5cc571b4091c",
       "version_major": 2,
       "version_minor": 0
      },
      "text/plain": [
       "Processing audio files:   0%|          | 0/50 [00:00<?, ?it/s]"
      ]
     },
     "metadata": {},
     "output_type": "display_data"
    },
    {
     "data": {
      "application/vnd.jupyter.widget-view+json": {
       "model_id": "08df96cc5c4b4b8bb761de2aa182c8e3",
       "version_major": 2,
       "version_minor": 0
      },
      "text/plain": [
       "Processing audio files:   0%|          | 0/50 [00:00<?, ?it/s]"
      ]
     },
     "metadata": {},
     "output_type": "display_data"
    },
    {
     "data": {
      "application/vnd.jupyter.widget-view+json": {
       "model_id": "78410a8087684ac59c5db30edbb85d17",
       "version_major": 2,
       "version_minor": 0
      },
      "text/plain": [
       "Processing audio files:   0%|          | 0/50 [00:00<?, ?it/s]"
      ]
     },
     "metadata": {},
     "output_type": "display_data"
    },
    {
     "data": {
      "application/vnd.jupyter.widget-view+json": {
       "model_id": "63890d878b5642159cd6d16a50b106be",
       "version_major": 2,
       "version_minor": 0
      },
      "text/plain": [
       "Processing audio files:   0%|          | 0/50 [00:00<?, ?it/s]"
      ]
     },
     "metadata": {},
     "output_type": "display_data"
    },
    {
     "data": {
      "application/vnd.jupyter.widget-view+json": {
       "model_id": "321d3b8766d145fe94b3efd9dfbc0938",
       "version_major": 2,
       "version_minor": 0
      },
      "text/plain": [
       "Processing audio files:   0%|          | 0/50 [00:00<?, ?it/s]"
      ]
     },
     "metadata": {},
     "output_type": "display_data"
    },
    {
     "data": {
      "application/vnd.jupyter.widget-view+json": {
       "model_id": "99a7acacd208407186d71e69d4141c49",
       "version_major": 2,
       "version_minor": 0
      },
      "text/plain": [
       "Processing audio files:   0%|          | 0/50 [00:00<?, ?it/s]"
      ]
     },
     "metadata": {},
     "output_type": "display_data"
    },
    {
     "data": {
      "application/vnd.jupyter.widget-view+json": {
       "model_id": "02ed172008214e3b8361ae96eca5d5d4",
       "version_major": 2,
       "version_minor": 0
      },
      "text/plain": [
       "Processing audio files:   0%|          | 0/50 [00:00<?, ?it/s]"
      ]
     },
     "metadata": {},
     "output_type": "display_data"
    },
    {
     "data": {
      "application/vnd.jupyter.widget-view+json": {
       "model_id": "1d8c3ec22a304c1192919d0918692686",
       "version_major": 2,
       "version_minor": 0
      },
      "text/plain": [
       "Processing audio files:   0%|          | 0/50 [00:00<?, ?it/s]"
      ]
     },
     "metadata": {},
     "output_type": "display_data"
    },
    {
     "data": {
      "application/vnd.jupyter.widget-view+json": {
       "model_id": "0e69a7802f7f4f4f8414f4aab797550d",
       "version_major": 2,
       "version_minor": 0
      },
      "text/plain": [
       "Processing audio files:   0%|          | 0/50 [00:00<?, ?it/s]"
      ]
     },
     "metadata": {},
     "output_type": "display_data"
    },
    {
     "data": {
      "application/vnd.jupyter.widget-view+json": {
       "model_id": "bff2b887576c46ed957b2a9004a7ba46",
       "version_major": 2,
       "version_minor": 0
      },
      "text/plain": [
       "Processing audio files:   0%|          | 0/50 [00:00<?, ?it/s]"
      ]
     },
     "metadata": {},
     "output_type": "display_data"
    },
    {
     "data": {
      "application/vnd.jupyter.widget-view+json": {
       "model_id": "caa81d96290848febd28d7944c2aed1a",
       "version_major": 2,
       "version_minor": 0
      },
      "text/plain": [
       "Processing audio files:   0%|          | 0/50 [00:00<?, ?it/s]"
      ]
     },
     "metadata": {},
     "output_type": "display_data"
    },
    {
     "data": {
      "application/vnd.jupyter.widget-view+json": {
       "model_id": "a6bc01ec734e4a4c855f967dc197983c",
       "version_major": 2,
       "version_minor": 0
      },
      "text/plain": [
       "Processing audio files:   0%|          | 0/50 [00:00<?, ?it/s]"
      ]
     },
     "metadata": {},
     "output_type": "display_data"
    },
    {
     "data": {
      "application/vnd.jupyter.widget-view+json": {
       "model_id": "5d42c6fe037346f7b254293a6af0b161",
       "version_major": 2,
       "version_minor": 0
      },
      "text/plain": [
       "Processing audio files:   0%|          | 0/50 [00:00<?, ?it/s]"
      ]
     },
     "metadata": {},
     "output_type": "display_data"
    },
    {
     "data": {
      "application/vnd.jupyter.widget-view+json": {
       "model_id": "2d41e69f17994cb4b0762bb0908ddad5",
       "version_major": 2,
       "version_minor": 0
      },
      "text/plain": [
       "Processing audio files:   0%|          | 0/50 [00:00<?, ?it/s]"
      ]
     },
     "metadata": {},
     "output_type": "display_data"
    },
    {
     "data": {
      "application/vnd.jupyter.widget-view+json": {
       "model_id": "ac5065d039454994ba2c19718cbff15e",
       "version_major": 2,
       "version_minor": 0
      },
      "text/plain": [
       "Processing audio files:   0%|          | 0/50 [00:00<?, ?it/s]"
      ]
     },
     "metadata": {},
     "output_type": "display_data"
    },
    {
     "data": {
      "application/vnd.jupyter.widget-view+json": {
       "model_id": "cfab97c845b24bc1b96685ace3015b04",
       "version_major": 2,
       "version_minor": 0
      },
      "text/plain": [
       "Processing audio files:   0%|          | 0/50 [00:00<?, ?it/s]"
      ]
     },
     "metadata": {},
     "output_type": "display_data"
    },
    {
     "data": {
      "application/vnd.jupyter.widget-view+json": {
       "model_id": "73d2d4f0e5a042cb81d83f4bbb7de6b3",
       "version_major": 2,
       "version_minor": 0
      },
      "text/plain": [
       "Processing audio files:   0%|          | 0/50 [00:00<?, ?it/s]"
      ]
     },
     "metadata": {},
     "output_type": "display_data"
    },
    {
     "data": {
      "application/vnd.jupyter.widget-view+json": {
       "model_id": "44c7d1461d854444a9894a983a0d03a6",
       "version_major": 2,
       "version_minor": 0
      },
      "text/plain": [
       "Processing audio files:   0%|          | 0/50 [00:00<?, ?it/s]"
      ]
     },
     "metadata": {},
     "output_type": "display_data"
    },
    {
     "data": {
      "application/vnd.jupyter.widget-view+json": {
       "model_id": "a38b36a1372c4f7fab4d40f8806b2178",
       "version_major": 2,
       "version_minor": 0
      },
      "text/plain": [
       "Processing audio files:   0%|          | 0/50 [00:00<?, ?it/s]"
      ]
     },
     "metadata": {},
     "output_type": "display_data"
    },
    {
     "data": {
      "application/vnd.jupyter.widget-view+json": {
       "model_id": "5ac7151463ac4498b1a81343fbac9f53",
       "version_major": 2,
       "version_minor": 0
      },
      "text/plain": [
       "Processing audio files:   0%|          | 0/50 [00:00<?, ?it/s]"
      ]
     },
     "metadata": {},
     "output_type": "display_data"
    },
    {
     "data": {
      "application/vnd.jupyter.widget-view+json": {
       "model_id": "6d81f36f12c2462c89196555fac20945",
       "version_major": 2,
       "version_minor": 0
      },
      "text/plain": [
       "Processing audio files:   0%|          | 0/50 [00:00<?, ?it/s]"
      ]
     },
     "metadata": {},
     "output_type": "display_data"
    },
    {
     "data": {
      "application/vnd.jupyter.widget-view+json": {
       "model_id": "59933a338e5646309f8d102eaf1a2270",
       "version_major": 2,
       "version_minor": 0
      },
      "text/plain": [
       "Processing audio files:   0%|          | 0/50 [00:00<?, ?it/s]"
      ]
     },
     "metadata": {},
     "output_type": "display_data"
    },
    {
     "data": {
      "application/vnd.jupyter.widget-view+json": {
       "model_id": "ce58f61a12fe4a38ab18c81d3dc372f1",
       "version_major": 2,
       "version_minor": 0
      },
      "text/plain": [
       "Processing audio files:   0%|          | 0/50 [00:00<?, ?it/s]"
      ]
     },
     "metadata": {},
     "output_type": "display_data"
    },
    {
     "data": {
      "application/vnd.jupyter.widget-view+json": {
       "model_id": "ef781726312949e8818d453f9f43db3e",
       "version_major": 2,
       "version_minor": 0
      },
      "text/plain": [
       "Processing audio files:   0%|          | 0/50 [00:00<?, ?it/s]"
      ]
     },
     "metadata": {},
     "output_type": "display_data"
    },
    {
     "data": {
      "application/vnd.jupyter.widget-view+json": {
       "model_id": "d6206db330244bbcb2eb346eb18fe036",
       "version_major": 2,
       "version_minor": 0
      },
      "text/plain": [
       "Processing audio files:   0%|          | 0/50 [00:00<?, ?it/s]"
      ]
     },
     "metadata": {},
     "output_type": "display_data"
    },
    {
     "data": {
      "application/vnd.jupyter.widget-view+json": {
       "model_id": "d19405276b4a45fcaba80fcfd817eb93",
       "version_major": 2,
       "version_minor": 0
      },
      "text/plain": [
       "Processing audio files:   0%|          | 0/50 [00:00<?, ?it/s]"
      ]
     },
     "metadata": {},
     "output_type": "display_data"
    },
    {
     "data": {
      "application/vnd.jupyter.widget-view+json": {
       "model_id": "2ca9f09e0d1040f4b38999cca331ca80",
       "version_major": 2,
       "version_minor": 0
      },
      "text/plain": [
       "Processing audio files:   0%|          | 0/50 [00:00<?, ?it/s]"
      ]
     },
     "metadata": {},
     "output_type": "display_data"
    },
    {
     "data": {
      "application/vnd.jupyter.widget-view+json": {
       "model_id": "c3327352c18248b39a8db8cb83c55366",
       "version_major": 2,
       "version_minor": 0
      },
      "text/plain": [
       "Processing audio files:   0%|          | 0/50 [00:00<?, ?it/s]"
      ]
     },
     "metadata": {},
     "output_type": "display_data"
    },
    {
     "data": {
      "application/vnd.jupyter.widget-view+json": {
       "model_id": "f21fe3d272d849718c2a7392bdc57082",
       "version_major": 2,
       "version_minor": 0
      },
      "text/plain": [
       "Processing audio files:   0%|          | 0/50 [00:00<?, ?it/s]"
      ]
     },
     "metadata": {},
     "output_type": "display_data"
    },
    {
     "data": {
      "application/vnd.jupyter.widget-view+json": {
       "model_id": "9f86831315ad47f4954389e0d2356372",
       "version_major": 2,
       "version_minor": 0
      },
      "text/plain": [
       "Processing audio files:   0%|          | 0/50 [00:00<?, ?it/s]"
      ]
     },
     "metadata": {},
     "output_type": "display_data"
    },
    {
     "data": {
      "application/vnd.jupyter.widget-view+json": {
       "model_id": "798ac9db1d8e4c1ca880e0643f607c1d",
       "version_major": 2,
       "version_minor": 0
      },
      "text/plain": [
       "Processing audio files:   0%|          | 0/50 [00:00<?, ?it/s]"
      ]
     },
     "metadata": {},
     "output_type": "display_data"
    },
    {
     "data": {
      "application/vnd.jupyter.widget-view+json": {
       "model_id": "fb1faa2c8dbb4d828696ce9aaea8317d",
       "version_major": 2,
       "version_minor": 0
      },
      "text/plain": [
       "Processing audio files:   0%|          | 0/50 [00:00<?, ?it/s]"
      ]
     },
     "metadata": {},
     "output_type": "display_data"
    },
    {
     "data": {
      "application/vnd.jupyter.widget-view+json": {
       "model_id": "717c647fef3641e9908aa99be7d7bc01",
       "version_major": 2,
       "version_minor": 0
      },
      "text/plain": [
       "Processing audio files:   0%|          | 0/50 [00:00<?, ?it/s]"
      ]
     },
     "metadata": {},
     "output_type": "display_data"
    },
    {
     "data": {
      "application/vnd.jupyter.widget-view+json": {
       "model_id": "eee396a3397f4382b33cb6638051aeef",
       "version_major": 2,
       "version_minor": 0
      },
      "text/plain": [
       "Processing audio files:   0%|          | 0/50 [00:00<?, ?it/s]"
      ]
     },
     "metadata": {},
     "output_type": "display_data"
    },
    {
     "data": {
      "application/vnd.jupyter.widget-view+json": {
       "model_id": "82c9e6ebb6c94b45ba216d49608ece00",
       "version_major": 2,
       "version_minor": 0
      },
      "text/plain": [
       "Processing audio files:   0%|          | 0/50 [00:00<?, ?it/s]"
      ]
     },
     "metadata": {},
     "output_type": "display_data"
    },
    {
     "data": {
      "application/vnd.jupyter.widget-view+json": {
       "model_id": "4503fbdb177a4ddbaf209a5501586f87",
       "version_major": 2,
       "version_minor": 0
      },
      "text/plain": [
       "Processing audio files:   0%|          | 0/50 [00:00<?, ?it/s]"
      ]
     },
     "metadata": {},
     "output_type": "display_data"
    },
    {
     "data": {
      "application/vnd.jupyter.widget-view+json": {
       "model_id": "66f62091797b4bf99bf132d5d24ce7a4",
       "version_major": 2,
       "version_minor": 0
      },
      "text/plain": [
       "Processing audio files:   0%|          | 0/50 [00:00<?, ?it/s]"
      ]
     },
     "metadata": {},
     "output_type": "display_data"
    },
    {
     "data": {
      "application/vnd.jupyter.widget-view+json": {
       "model_id": "00ee040fa3ac40d6997a1e78ec6a7cb4",
       "version_major": 2,
       "version_minor": 0
      },
      "text/plain": [
       "Processing audio files:   0%|          | 0/50 [00:00<?, ?it/s]"
      ]
     },
     "metadata": {},
     "output_type": "display_data"
    },
    {
     "data": {
      "application/vnd.jupyter.widget-view+json": {
       "model_id": "9c630b23972a47028584ebc6e7c64ba3",
       "version_major": 2,
       "version_minor": 0
      },
      "text/plain": [
       "Processing audio files:   0%|          | 0/50 [00:00<?, ?it/s]"
      ]
     },
     "metadata": {},
     "output_type": "display_data"
    },
    {
     "data": {
      "application/vnd.jupyter.widget-view+json": {
       "model_id": "fa380536928d434b9e4ce36328f80fb8",
       "version_major": 2,
       "version_minor": 0
      },
      "text/plain": [
       "Processing audio files:   0%|          | 0/50 [00:00<?, ?it/s]"
      ]
     },
     "metadata": {},
     "output_type": "display_data"
    },
    {
     "data": {
      "application/vnd.jupyter.widget-view+json": {
       "model_id": "2b1c71325a2742ac9234e00aab0a77ae",
       "version_major": 2,
       "version_minor": 0
      },
      "text/plain": [
       "Processing audio files:   0%|          | 0/50 [00:00<?, ?it/s]"
      ]
     },
     "metadata": {},
     "output_type": "display_data"
    },
    {
     "data": {
      "application/vnd.jupyter.widget-view+json": {
       "model_id": "5917c3a06c1c40f7b022272b975839c9",
       "version_major": 2,
       "version_minor": 0
      },
      "text/plain": [
       "Processing audio files:   0%|          | 0/50 [00:00<?, ?it/s]"
      ]
     },
     "metadata": {},
     "output_type": "display_data"
    },
    {
     "data": {
      "application/vnd.jupyter.widget-view+json": {
       "model_id": "5307e6d9871a455397ffa6e6d84dac66",
       "version_major": 2,
       "version_minor": 0
      },
      "text/plain": [
       "Processing audio files:   0%|          | 0/50 [00:00<?, ?it/s]"
      ]
     },
     "metadata": {},
     "output_type": "display_data"
    },
    {
     "data": {
      "application/vnd.jupyter.widget-view+json": {
       "model_id": "a29e4248052e42d581ed9c9a5beb393d",
       "version_major": 2,
       "version_minor": 0
      },
      "text/plain": [
       "Processing audio files:   0%|          | 0/50 [00:00<?, ?it/s]"
      ]
     },
     "metadata": {},
     "output_type": "display_data"
    },
    {
     "data": {
      "application/vnd.jupyter.widget-view+json": {
       "model_id": "98fd3cabae204a7f9d501170c5c2ba9d",
       "version_major": 2,
       "version_minor": 0
      },
      "text/plain": [
       "Processing audio files:   0%|          | 0/50 [00:00<?, ?it/s]"
      ]
     },
     "metadata": {},
     "output_type": "display_data"
    },
    {
     "data": {
      "application/vnd.jupyter.widget-view+json": {
       "model_id": "f048403687e64716ae713e736ace8036",
       "version_major": 2,
       "version_minor": 0
      },
      "text/plain": [
       "Processing audio files:   0%|          | 0/50 [00:00<?, ?it/s]"
      ]
     },
     "metadata": {},
     "output_type": "display_data"
    },
    {
     "data": {
      "application/vnd.jupyter.widget-view+json": {
       "model_id": "ae553ff3179a42fdb77311f2cb2f39c5",
       "version_major": 2,
       "version_minor": 0
      },
      "text/plain": [
       "Processing audio files:   0%|          | 0/50 [00:00<?, ?it/s]"
      ]
     },
     "metadata": {},
     "output_type": "display_data"
    },
    {
     "data": {
      "application/vnd.jupyter.widget-view+json": {
       "model_id": "7ddbfc043c894fee9df553ce7bb48eb0",
       "version_major": 2,
       "version_minor": 0
      },
      "text/plain": [
       "Processing audio files:   0%|          | 0/50 [00:00<?, ?it/s]"
      ]
     },
     "metadata": {},
     "output_type": "display_data"
    },
    {
     "data": {
      "application/vnd.jupyter.widget-view+json": {
       "model_id": "274fe494144d47a29242f5a8c386d181",
       "version_major": 2,
       "version_minor": 0
      },
      "text/plain": [
       "Processing audio files:   0%|          | 0/50 [00:00<?, ?it/s]"
      ]
     },
     "metadata": {},
     "output_type": "display_data"
    },
    {
     "data": {
      "application/vnd.jupyter.widget-view+json": {
       "model_id": "bd91671224e742a1910aaeab83484b33",
       "version_major": 2,
       "version_minor": 0
      },
      "text/plain": [
       "Processing audio files:   0%|          | 0/50 [00:00<?, ?it/s]"
      ]
     },
     "metadata": {},
     "output_type": "display_data"
    },
    {
     "data": {
      "application/vnd.jupyter.widget-view+json": {
       "model_id": "99bdc7ae12534d098a3f4e512e78940c",
       "version_major": 2,
       "version_minor": 0
      },
      "text/plain": [
       "Processing audio files:   0%|          | 0/50 [00:00<?, ?it/s]"
      ]
     },
     "metadata": {},
     "output_type": "display_data"
    },
    {
     "data": {
      "application/vnd.jupyter.widget-view+json": {
       "model_id": "606ee113cfcf44d88e998b40c41489b8",
       "version_major": 2,
       "version_minor": 0
      },
      "text/plain": [
       "Processing audio files:   0%|          | 0/50 [00:00<?, ?it/s]"
      ]
     },
     "metadata": {},
     "output_type": "display_data"
    },
    {
     "data": {
      "application/vnd.jupyter.widget-view+json": {
       "model_id": "5061930b5b9c43b1bd5c12d95ddfb0db",
       "version_major": 2,
       "version_minor": 0
      },
      "text/plain": [
       "Processing audio files:   0%|          | 0/50 [00:00<?, ?it/s]"
      ]
     },
     "metadata": {},
     "output_type": "display_data"
    },
    {
     "data": {
      "application/vnd.jupyter.widget-view+json": {
       "model_id": "a95ef4a42def428184dfccf65e2726ff",
       "version_major": 2,
       "version_minor": 0
      },
      "text/plain": [
       "Processing audio files:   0%|          | 0/50 [00:00<?, ?it/s]"
      ]
     },
     "metadata": {},
     "output_type": "display_data"
    },
    {
     "data": {
      "application/vnd.jupyter.widget-view+json": {
       "model_id": "faddc39d15dd4487a4f21124e4977241",
       "version_major": 2,
       "version_minor": 0
      },
      "text/plain": [
       "Processing audio files:   0%|          | 0/50 [00:00<?, ?it/s]"
      ]
     },
     "metadata": {},
     "output_type": "display_data"
    },
    {
     "data": {
      "application/vnd.jupyter.widget-view+json": {
       "model_id": "26ed48c0a7ff4a39ad888d4d0f0987fd",
       "version_major": 2,
       "version_minor": 0
      },
      "text/plain": [
       "Processing audio files:   0%|          | 0/50 [00:00<?, ?it/s]"
      ]
     },
     "metadata": {},
     "output_type": "display_data"
    },
    {
     "data": {
      "application/vnd.jupyter.widget-view+json": {
       "model_id": "1e36f24964624d2b924f906b2a7124a2",
       "version_major": 2,
       "version_minor": 0
      },
      "text/plain": [
       "Processing audio files:   0%|          | 0/50 [00:00<?, ?it/s]"
      ]
     },
     "metadata": {},
     "output_type": "display_data"
    },
    {
     "data": {
      "application/vnd.jupyter.widget-view+json": {
       "model_id": "49f7aa67dabe42f6b63490ebed79f598",
       "version_major": 2,
       "version_minor": 0
      },
      "text/plain": [
       "Processing audio files:   0%|          | 0/50 [00:00<?, ?it/s]"
      ]
     },
     "metadata": {},
     "output_type": "display_data"
    },
    {
     "data": {
      "application/vnd.jupyter.widget-view+json": {
       "model_id": "704bbe0f638447b782fed520f0cd8cdb",
       "version_major": 2,
       "version_minor": 0
      },
      "text/plain": [
       "Processing audio files:   0%|          | 0/50 [00:00<?, ?it/s]"
      ]
     },
     "metadata": {},
     "output_type": "display_data"
    },
    {
     "data": {
      "application/vnd.jupyter.widget-view+json": {
       "model_id": "a2b906b95c814086acd063d72f4d6af8",
       "version_major": 2,
       "version_minor": 0
      },
      "text/plain": [
       "Processing audio files:   0%|          | 0/50 [00:00<?, ?it/s]"
      ]
     },
     "metadata": {},
     "output_type": "display_data"
    },
    {
     "data": {
      "application/vnd.jupyter.widget-view+json": {
       "model_id": "0de683376b5946a9b2e1cc0c4839b2ee",
       "version_major": 2,
       "version_minor": 0
      },
      "text/plain": [
       "Processing audio files:   0%|          | 0/50 [00:00<?, ?it/s]"
      ]
     },
     "metadata": {},
     "output_type": "display_data"
    },
    {
     "data": {
      "application/vnd.jupyter.widget-view+json": {
       "model_id": "660a6023954b4b54997cf72cffff73dd",
       "version_major": 2,
       "version_minor": 0
      },
      "text/plain": [
       "Processing audio files:   0%|          | 0/50 [00:00<?, ?it/s]"
      ]
     },
     "metadata": {},
     "output_type": "display_data"
    },
    {
     "data": {
      "application/vnd.jupyter.widget-view+json": {
       "model_id": "84c6893214ae4eb999c43d192c3ad6f3",
       "version_major": 2,
       "version_minor": 0
      },
      "text/plain": [
       "Processing audio files:   0%|          | 0/50 [00:00<?, ?it/s]"
      ]
     },
     "metadata": {},
     "output_type": "display_data"
    },
    {
     "data": {
      "application/vnd.jupyter.widget-view+json": {
       "model_id": "74457028440c4012a41e05c7dea8acf9",
       "version_major": 2,
       "version_minor": 0
      },
      "text/plain": [
       "Processing audio files:   0%|          | 0/50 [00:00<?, ?it/s]"
      ]
     },
     "metadata": {},
     "output_type": "display_data"
    },
    {
     "data": {
      "application/vnd.jupyter.widget-view+json": {
       "model_id": "2e1167f559414e04b5a2a6e7998ec94c",
       "version_major": 2,
       "version_minor": 0
      },
      "text/plain": [
       "Processing audio files:   0%|          | 0/50 [00:00<?, ?it/s]"
      ]
     },
     "metadata": {},
     "output_type": "display_data"
    },
    {
     "data": {
      "application/vnd.jupyter.widget-view+json": {
       "model_id": "038bfbe630f943a799142bcbca1e83a1",
       "version_major": 2,
       "version_minor": 0
      },
      "text/plain": [
       "Processing audio files:   0%|          | 0/50 [00:00<?, ?it/s]"
      ]
     },
     "metadata": {},
     "output_type": "display_data"
    },
    {
     "data": {
      "application/vnd.jupyter.widget-view+json": {
       "model_id": "9909a1097e2e4923926f696e6db5a441",
       "version_major": 2,
       "version_minor": 0
      },
      "text/plain": [
       "Processing audio files:   0%|          | 0/50 [00:00<?, ?it/s]"
      ]
     },
     "metadata": {},
     "output_type": "display_data"
    },
    {
     "data": {
      "application/vnd.jupyter.widget-view+json": {
       "model_id": "19a5d6c316ce4327b1f732b03c5333a0",
       "version_major": 2,
       "version_minor": 0
      },
      "text/plain": [
       "Processing audio files:   0%|          | 0/50 [00:00<?, ?it/s]"
      ]
     },
     "metadata": {},
     "output_type": "display_data"
    },
    {
     "data": {
      "application/vnd.jupyter.widget-view+json": {
       "model_id": "50732506c73141c3ab7e041170d2a28b",
       "version_major": 2,
       "version_minor": 0
      },
      "text/plain": [
       "Processing audio files:   0%|          | 0/50 [00:00<?, ?it/s]"
      ]
     },
     "metadata": {},
     "output_type": "display_data"
    },
    {
     "data": {
      "application/vnd.jupyter.widget-view+json": {
       "model_id": "8435ebccb1054f559ed3aff494676db5",
       "version_major": 2,
       "version_minor": 0
      },
      "text/plain": [
       "Processing audio files:   0%|          | 0/50 [00:00<?, ?it/s]"
      ]
     },
     "metadata": {},
     "output_type": "display_data"
    },
    {
     "data": {
      "application/vnd.jupyter.widget-view+json": {
       "model_id": "51435d9ce0ff47d4a9bcd1dc4342b159",
       "version_major": 2,
       "version_minor": 0
      },
      "text/plain": [
       "Processing audio files:   0%|          | 0/50 [00:00<?, ?it/s]"
      ]
     },
     "metadata": {},
     "output_type": "display_data"
    },
    {
     "data": {
      "application/vnd.jupyter.widget-view+json": {
       "model_id": "0bf795ee205c44baa63c0485c5599fb8",
       "version_major": 2,
       "version_minor": 0
      },
      "text/plain": [
       "Processing audio files:   0%|          | 0/50 [00:00<?, ?it/s]"
      ]
     },
     "metadata": {},
     "output_type": "display_data"
    },
    {
     "data": {
      "application/vnd.jupyter.widget-view+json": {
       "model_id": "fd00e47c4e6f41138e434493d6c741c3",
       "version_major": 2,
       "version_minor": 0
      },
      "text/plain": [
       "Processing audio files:   0%|          | 0/50 [00:00<?, ?it/s]"
      ]
     },
     "metadata": {},
     "output_type": "display_data"
    },
    {
     "data": {
      "application/vnd.jupyter.widget-view+json": {
       "model_id": "693127e340304f45a44932af0bd359be",
       "version_major": 2,
       "version_minor": 0
      },
      "text/plain": [
       "Processing audio files:   0%|          | 0/50 [00:00<?, ?it/s]"
      ]
     },
     "metadata": {},
     "output_type": "display_data"
    },
    {
     "data": {
      "application/vnd.jupyter.widget-view+json": {
       "model_id": "0a57175c50d341be866cb87186dedff2",
       "version_major": 2,
       "version_minor": 0
      },
      "text/plain": [
       "Processing audio files:   0%|          | 0/50 [00:00<?, ?it/s]"
      ]
     },
     "metadata": {},
     "output_type": "display_data"
    },
    {
     "data": {
      "application/vnd.jupyter.widget-view+json": {
       "model_id": "ed154230ac724c3086f2c2fedb5b8330",
       "version_major": 2,
       "version_minor": 0
      },
      "text/plain": [
       "Processing audio files:   0%|          | 0/50 [00:00<?, ?it/s]"
      ]
     },
     "metadata": {},
     "output_type": "display_data"
    },
    {
     "data": {
      "application/vnd.jupyter.widget-view+json": {
       "model_id": "5ab2d46843f8441b9c2407f13677d10f",
       "version_major": 2,
       "version_minor": 0
      },
      "text/plain": [
       "Processing audio files:   0%|          | 0/50 [00:00<?, ?it/s]"
      ]
     },
     "metadata": {},
     "output_type": "display_data"
    },
    {
     "data": {
      "application/vnd.jupyter.widget-view+json": {
       "model_id": "5449b726ac13408e935bb53c3c53816a",
       "version_major": 2,
       "version_minor": 0
      },
      "text/plain": [
       "Processing audio files:   0%|          | 0/50 [00:00<?, ?it/s]"
      ]
     },
     "metadata": {},
     "output_type": "display_data"
    },
    {
     "data": {
      "application/vnd.jupyter.widget-view+json": {
       "model_id": "1cea707c9e2f4baaa31b3c1c9610ab49",
       "version_major": 2,
       "version_minor": 0
      },
      "text/plain": [
       "Processing audio files:   0%|          | 0/50 [00:00<?, ?it/s]"
      ]
     },
     "metadata": {},
     "output_type": "display_data"
    },
    {
     "data": {
      "application/vnd.jupyter.widget-view+json": {
       "model_id": "a80db37492a5430ca204e352ff1d7575",
       "version_major": 2,
       "version_minor": 0
      },
      "text/plain": [
       "Processing audio files:   0%|          | 0/50 [00:00<?, ?it/s]"
      ]
     },
     "metadata": {},
     "output_type": "display_data"
    },
    {
     "data": {
      "application/vnd.jupyter.widget-view+json": {
       "model_id": "e6453d959ce6431681cb50c8f99a0f21",
       "version_major": 2,
       "version_minor": 0
      },
      "text/plain": [
       "Processing audio files:   0%|          | 0/50 [00:00<?, ?it/s]"
      ]
     },
     "metadata": {},
     "output_type": "display_data"
    },
    {
     "data": {
      "application/vnd.jupyter.widget-view+json": {
       "model_id": "0b7def49d26a4709be3f8b71fc59bc97",
       "version_major": 2,
       "version_minor": 0
      },
      "text/plain": [
       "Processing audio files:   0%|          | 0/50 [00:00<?, ?it/s]"
      ]
     },
     "metadata": {},
     "output_type": "display_data"
    },
    {
     "data": {
      "application/vnd.jupyter.widget-view+json": {
       "model_id": "5244b1c8b7ef4d1c93d7dd39555b14a7",
       "version_major": 2,
       "version_minor": 0
      },
      "text/plain": [
       "Processing audio files:   0%|          | 0/50 [00:00<?, ?it/s]"
      ]
     },
     "metadata": {},
     "output_type": "display_data"
    },
    {
     "data": {
      "application/vnd.jupyter.widget-view+json": {
       "model_id": "9c9e2d6d1636418f928ab01faad33a8d",
       "version_major": 2,
       "version_minor": 0
      },
      "text/plain": [
       "Processing audio files:   0%|          | 0/50 [00:00<?, ?it/s]"
      ]
     },
     "metadata": {},
     "output_type": "display_data"
    },
    {
     "data": {
      "application/vnd.jupyter.widget-view+json": {
       "model_id": "cdbec82768a54da1be6e8092f2c8d582",
       "version_major": 2,
       "version_minor": 0
      },
      "text/plain": [
       "Processing audio files:   0%|          | 0/50 [00:00<?, ?it/s]"
      ]
     },
     "metadata": {},
     "output_type": "display_data"
    },
    {
     "data": {
      "application/vnd.jupyter.widget-view+json": {
       "model_id": "e4c7e83023184310b64bdebcb86bee29",
       "version_major": 2,
       "version_minor": 0
      },
      "text/plain": [
       "Processing audio files:   0%|          | 0/50 [00:00<?, ?it/s]"
      ]
     },
     "metadata": {},
     "output_type": "display_data"
    },
    {
     "data": {
      "application/vnd.jupyter.widget-view+json": {
       "model_id": "61689093179e4385af78a294ae4ae367",
       "version_major": 2,
       "version_minor": 0
      },
      "text/plain": [
       "Processing audio files:   0%|          | 0/50 [00:00<?, ?it/s]"
      ]
     },
     "metadata": {},
     "output_type": "display_data"
    },
    {
     "data": {
      "application/vnd.jupyter.widget-view+json": {
       "model_id": "dc4289065cdc4a0fbab5ce6d429be7d0",
       "version_major": 2,
       "version_minor": 0
      },
      "text/plain": [
       "Processing audio files:   0%|          | 0/50 [00:00<?, ?it/s]"
      ]
     },
     "metadata": {},
     "output_type": "display_data"
    },
    {
     "data": {
      "application/vnd.jupyter.widget-view+json": {
       "model_id": "e1a307efa6224f1390fe029dcf2f0aad",
       "version_major": 2,
       "version_minor": 0
      },
      "text/plain": [
       "Processing audio files:   0%|          | 0/50 [00:00<?, ?it/s]"
      ]
     },
     "metadata": {},
     "output_type": "display_data"
    },
    {
     "data": {
      "application/vnd.jupyter.widget-view+json": {
       "model_id": "a883cd1f72eb48a7b455e15d31c1ec29",
       "version_major": 2,
       "version_minor": 0
      },
      "text/plain": [
       "Processing audio files:   0%|          | 0/50 [00:00<?, ?it/s]"
      ]
     },
     "metadata": {},
     "output_type": "display_data"
    },
    {
     "data": {
      "application/vnd.jupyter.widget-view+json": {
       "model_id": "66bfaf42a83f4d0ab28e2425f0e10a11",
       "version_major": 2,
       "version_minor": 0
      },
      "text/plain": [
       "Processing audio files:   0%|          | 0/50 [00:00<?, ?it/s]"
      ]
     },
     "metadata": {},
     "output_type": "display_data"
    },
    {
     "data": {
      "application/vnd.jupyter.widget-view+json": {
       "model_id": "94d25f5a99da4144ad278f507f99d611",
       "version_major": 2,
       "version_minor": 0
      },
      "text/plain": [
       "Processing audio files:   0%|          | 0/50 [00:00<?, ?it/s]"
      ]
     },
     "metadata": {},
     "output_type": "display_data"
    },
    {
     "data": {
      "application/vnd.jupyter.widget-view+json": {
       "model_id": "c19b489a86df4be4ba0a94f788bfea27",
       "version_major": 2,
       "version_minor": 0
      },
      "text/plain": [
       "Processing audio files:   0%|          | 0/50 [00:00<?, ?it/s]"
      ]
     },
     "metadata": {},
     "output_type": "display_data"
    },
    {
     "data": {
      "application/vnd.jupyter.widget-view+json": {
       "model_id": "6307121d522d46a2b886141fe5f5bf47",
       "version_major": 2,
       "version_minor": 0
      },
      "text/plain": [
       "Processing audio files:   0%|          | 0/50 [00:00<?, ?it/s]"
      ]
     },
     "metadata": {},
     "output_type": "display_data"
    },
    {
     "data": {
      "application/vnd.jupyter.widget-view+json": {
       "model_id": "6e85775cf48345609132d5a5451ace67",
       "version_major": 2,
       "version_minor": 0
      },
      "text/plain": [
       "Processing audio files:   0%|          | 0/50 [00:00<?, ?it/s]"
      ]
     },
     "metadata": {},
     "output_type": "display_data"
    },
    {
     "data": {
      "application/vnd.jupyter.widget-view+json": {
       "model_id": "9a856e2c407f451f828929c1eaa68d26",
       "version_major": 2,
       "version_minor": 0
      },
      "text/plain": [
       "Processing audio files:   0%|          | 0/50 [00:00<?, ?it/s]"
      ]
     },
     "metadata": {},
     "output_type": "display_data"
    },
    {
     "data": {
      "application/vnd.jupyter.widget-view+json": {
       "model_id": "c25f13c649804128945a7a8f3a564559",
       "version_major": 2,
       "version_minor": 0
      },
      "text/plain": [
       "Processing audio files:   0%|          | 0/50 [00:00<?, ?it/s]"
      ]
     },
     "metadata": {},
     "output_type": "display_data"
    },
    {
     "data": {
      "application/vnd.jupyter.widget-view+json": {
       "model_id": "b350b71e03044980ac4a64e819d956c1",
       "version_major": 2,
       "version_minor": 0
      },
      "text/plain": [
       "Processing audio files:   0%|          | 0/50 [00:00<?, ?it/s]"
      ]
     },
     "metadata": {},
     "output_type": "display_data"
    },
    {
     "data": {
      "application/vnd.jupyter.widget-view+json": {
       "model_id": "4705a8ecfdb343658cb64d15aa0efaec",
       "version_major": 2,
       "version_minor": 0
      },
      "text/plain": [
       "Processing audio files:   0%|          | 0/50 [00:00<?, ?it/s]"
      ]
     },
     "metadata": {},
     "output_type": "display_data"
    },
    {
     "data": {
      "application/vnd.jupyter.widget-view+json": {
       "model_id": "aa5516d2a0af48479fbe21f87330c624",
       "version_major": 2,
       "version_minor": 0
      },
      "text/plain": [
       "Processing audio files:   0%|          | 0/50 [00:00<?, ?it/s]"
      ]
     },
     "metadata": {},
     "output_type": "display_data"
    },
    {
     "data": {
      "application/vnd.jupyter.widget-view+json": {
       "model_id": "1bc300b9e86d4c87ae59abf183e8868b",
       "version_major": 2,
       "version_minor": 0
      },
      "text/plain": [
       "Processing audio files:   0%|          | 0/50 [00:00<?, ?it/s]"
      ]
     },
     "metadata": {},
     "output_type": "display_data"
    },
    {
     "data": {
      "application/vnd.jupyter.widget-view+json": {
       "model_id": "298f9863d526404086c25f2c27b03a92",
       "version_major": 2,
       "version_minor": 0
      },
      "text/plain": [
       "Processing audio files:   0%|          | 0/50 [00:00<?, ?it/s]"
      ]
     },
     "metadata": {},
     "output_type": "display_data"
    },
    {
     "data": {
      "application/vnd.jupyter.widget-view+json": {
       "model_id": "b61882a055684569ae83124e4c88ee10",
       "version_major": 2,
       "version_minor": 0
      },
      "text/plain": [
       "Processing audio files:   0%|          | 0/50 [00:00<?, ?it/s]"
      ]
     },
     "metadata": {},
     "output_type": "display_data"
    },
    {
     "data": {
      "application/vnd.jupyter.widget-view+json": {
       "model_id": "3214141e4f344f8994fad5734513fcd8",
       "version_major": 2,
       "version_minor": 0
      },
      "text/plain": [
       "Processing audio files:   0%|          | 0/50 [00:00<?, ?it/s]"
      ]
     },
     "metadata": {},
     "output_type": "display_data"
    },
    {
     "data": {
      "application/vnd.jupyter.widget-view+json": {
       "model_id": "5973f77af91146e8806fb02ea90fd144",
       "version_major": 2,
       "version_minor": 0
      },
      "text/plain": [
       "Processing audio files:   0%|          | 0/50 [00:00<?, ?it/s]"
      ]
     },
     "metadata": {},
     "output_type": "display_data"
    },
    {
     "data": {
      "application/vnd.jupyter.widget-view+json": {
       "model_id": "79183919037e4ecc93a6dd9c2a7fa9f4",
       "version_major": 2,
       "version_minor": 0
      },
      "text/plain": [
       "Processing audio files:   0%|          | 0/50 [00:00<?, ?it/s]"
      ]
     },
     "metadata": {},
     "output_type": "display_data"
    },
    {
     "data": {
      "application/vnd.jupyter.widget-view+json": {
       "model_id": "c229549adbac487595e48fd65ef2368b",
       "version_major": 2,
       "version_minor": 0
      },
      "text/plain": [
       "Processing audio files:   0%|          | 0/50 [00:00<?, ?it/s]"
      ]
     },
     "metadata": {},
     "output_type": "display_data"
    },
    {
     "data": {
      "application/vnd.jupyter.widget-view+json": {
       "model_id": "ccaf168ef69e477bb94a3856d75b4d7c",
       "version_major": 2,
       "version_minor": 0
      },
      "text/plain": [
       "Processing audio files:   0%|          | 0/50 [00:00<?, ?it/s]"
      ]
     },
     "metadata": {},
     "output_type": "display_data"
    },
    {
     "data": {
      "application/vnd.jupyter.widget-view+json": {
       "model_id": "6bf29ea4ed6a4e9aa7da7fbb722297ba",
       "version_major": 2,
       "version_minor": 0
      },
      "text/plain": [
       "Processing audio files:   0%|          | 0/50 [00:00<?, ?it/s]"
      ]
     },
     "metadata": {},
     "output_type": "display_data"
    },
    {
     "data": {
      "application/vnd.jupyter.widget-view+json": {
       "model_id": "2b1ee1bcf7e146e99476fa17efcefc6c",
       "version_major": 2,
       "version_minor": 0
      },
      "text/plain": [
       "Processing audio files:   0%|          | 0/50 [00:00<?, ?it/s]"
      ]
     },
     "metadata": {},
     "output_type": "display_data"
    },
    {
     "data": {
      "application/vnd.jupyter.widget-view+json": {
       "model_id": "32499d55dcd84062b55221027caa771b",
       "version_major": 2,
       "version_minor": 0
      },
      "text/plain": [
       "Processing audio files:   0%|          | 0/50 [00:00<?, ?it/s]"
      ]
     },
     "metadata": {},
     "output_type": "display_data"
    },
    {
     "data": {
      "application/vnd.jupyter.widget-view+json": {
       "model_id": "0ae7d2165bf14eb190dab9b4b3aa4373",
       "version_major": 2,
       "version_minor": 0
      },
      "text/plain": [
       "Processing audio files:   0%|          | 0/50 [00:00<?, ?it/s]"
      ]
     },
     "metadata": {},
     "output_type": "display_data"
    },
    {
     "data": {
      "application/vnd.jupyter.widget-view+json": {
       "model_id": "caed7b5eeec841a498fc08a8b6c106c3",
       "version_major": 2,
       "version_minor": 0
      },
      "text/plain": [
       "Processing audio files:   0%|          | 0/50 [00:00<?, ?it/s]"
      ]
     },
     "metadata": {},
     "output_type": "display_data"
    },
    {
     "data": {
      "application/vnd.jupyter.widget-view+json": {
       "model_id": "7d1d41aa2f254db8a00992a17c7765a4",
       "version_major": 2,
       "version_minor": 0
      },
      "text/plain": [
       "Processing audio files:   0%|          | 0/50 [00:00<?, ?it/s]"
      ]
     },
     "metadata": {},
     "output_type": "display_data"
    },
    {
     "data": {
      "application/vnd.jupyter.widget-view+json": {
       "model_id": "db16a5f73e6c4fbb9e0ae137128e5bc6",
       "version_major": 2,
       "version_minor": 0
      },
      "text/plain": [
       "Processing audio files:   0%|          | 0/50 [00:00<?, ?it/s]"
      ]
     },
     "metadata": {},
     "output_type": "display_data"
    },
    {
     "data": {
      "application/vnd.jupyter.widget-view+json": {
       "model_id": "fa909c470f634ca08e29e9e7f46f6114",
       "version_major": 2,
       "version_minor": 0
      },
      "text/plain": [
       "Processing audio files:   0%|          | 0/50 [00:00<?, ?it/s]"
      ]
     },
     "metadata": {},
     "output_type": "display_data"
    },
    {
     "data": {
      "application/vnd.jupyter.widget-view+json": {
       "model_id": "5854e3d793a2417693a3c8eeaf942e16",
       "version_major": 2,
       "version_minor": 0
      },
      "text/plain": [
       "Processing audio files:   0%|          | 0/50 [00:00<?, ?it/s]"
      ]
     },
     "metadata": {},
     "output_type": "display_data"
    },
    {
     "data": {
      "application/vnd.jupyter.widget-view+json": {
       "model_id": "024b9a707e734c6cb310104ccdf89a69",
       "version_major": 2,
       "version_minor": 0
      },
      "text/plain": [
       "Processing audio files:   0%|          | 0/50 [00:00<?, ?it/s]"
      ]
     },
     "metadata": {},
     "output_type": "display_data"
    },
    {
     "data": {
      "application/vnd.jupyter.widget-view+json": {
       "model_id": "17360fe4811b4302952a4011ba568621",
       "version_major": 2,
       "version_minor": 0
      },
      "text/plain": [
       "Processing audio files:   0%|          | 0/50 [00:00<?, ?it/s]"
      ]
     },
     "metadata": {},
     "output_type": "display_data"
    },
    {
     "data": {
      "application/vnd.jupyter.widget-view+json": {
       "model_id": "6c0f47039bb345e0b1d5cdb435cfc446",
       "version_major": 2,
       "version_minor": 0
      },
      "text/plain": [
       "Processing audio files:   0%|          | 0/50 [00:00<?, ?it/s]"
      ]
     },
     "metadata": {},
     "output_type": "display_data"
    },
    {
     "data": {
      "application/vnd.jupyter.widget-view+json": {
       "model_id": "5a72f69cfc30424db66e2569de29ca35",
       "version_major": 2,
       "version_minor": 0
      },
      "text/plain": [
       "Processing audio files:   0%|          | 0/50 [00:00<?, ?it/s]"
      ]
     },
     "metadata": {},
     "output_type": "display_data"
    },
    {
     "data": {
      "application/vnd.jupyter.widget-view+json": {
       "model_id": "cd5b98745cc24da78448a17a47f6759b",
       "version_major": 2,
       "version_minor": 0
      },
      "text/plain": [
       "Processing audio files:   0%|          | 0/50 [00:00<?, ?it/s]"
      ]
     },
     "metadata": {},
     "output_type": "display_data"
    },
    {
     "data": {
      "application/vnd.jupyter.widget-view+json": {
       "model_id": "30c247a84131482cae96003705449971",
       "version_major": 2,
       "version_minor": 0
      },
      "text/plain": [
       "Processing audio files:   0%|          | 0/50 [00:00<?, ?it/s]"
      ]
     },
     "metadata": {},
     "output_type": "display_data"
    },
    {
     "data": {
      "application/vnd.jupyter.widget-view+json": {
       "model_id": "5e2918b0742a42fb9eee476822e74638",
       "version_major": 2,
       "version_minor": 0
      },
      "text/plain": [
       "Processing audio files:   0%|          | 0/50 [00:00<?, ?it/s]"
      ]
     },
     "metadata": {},
     "output_type": "display_data"
    },
    {
     "data": {
      "application/vnd.jupyter.widget-view+json": {
       "model_id": "909490a55f2542edacda332d12a21fe4",
       "version_major": 2,
       "version_minor": 0
      },
      "text/plain": [
       "Processing audio files:   0%|          | 0/50 [00:00<?, ?it/s]"
      ]
     },
     "metadata": {},
     "output_type": "display_data"
    },
    {
     "data": {
      "application/vnd.jupyter.widget-view+json": {
       "model_id": "06aa5b1190744b739b1a47cfab610756",
       "version_major": 2,
       "version_minor": 0
      },
      "text/plain": [
       "Processing audio files:   0%|          | 0/50 [00:00<?, ?it/s]"
      ]
     },
     "metadata": {},
     "output_type": "display_data"
    },
    {
     "data": {
      "application/vnd.jupyter.widget-view+json": {
       "model_id": "a569e99f926f4dc79ccafff2188fb963",
       "version_major": 2,
       "version_minor": 0
      },
      "text/plain": [
       "Processing audio files:   0%|          | 0/50 [00:00<?, ?it/s]"
      ]
     },
     "metadata": {},
     "output_type": "display_data"
    },
    {
     "data": {
      "application/vnd.jupyter.widget-view+json": {
       "model_id": "f0a64b8e89ec4c92a77be46a23252ebd",
       "version_major": 2,
       "version_minor": 0
      },
      "text/plain": [
       "Processing audio files:   0%|          | 0/50 [00:00<?, ?it/s]"
      ]
     },
     "metadata": {},
     "output_type": "display_data"
    },
    {
     "data": {
      "application/vnd.jupyter.widget-view+json": {
       "model_id": "711f8ce40dd7404dac964ccf9a35af9a",
       "version_major": 2,
       "version_minor": 0
      },
      "text/plain": [
       "Processing audio files:   0%|          | 0/50 [00:00<?, ?it/s]"
      ]
     },
     "metadata": {},
     "output_type": "display_data"
    },
    {
     "data": {
      "application/vnd.jupyter.widget-view+json": {
       "model_id": "be1252347d6449cbbbf8ecae474ca1a4",
       "version_major": 2,
       "version_minor": 0
      },
      "text/plain": [
       "Processing audio files:   0%|          | 0/50 [00:00<?, ?it/s]"
      ]
     },
     "metadata": {},
     "output_type": "display_data"
    },
    {
     "data": {
      "application/vnd.jupyter.widget-view+json": {
       "model_id": "9a677263c7724d18af208db544ef7df6",
       "version_major": 2,
       "version_minor": 0
      },
      "text/plain": [
       "Processing audio files:   0%|          | 0/50 [00:00<?, ?it/s]"
      ]
     },
     "metadata": {},
     "output_type": "display_data"
    },
    {
     "data": {
      "application/vnd.jupyter.widget-view+json": {
       "model_id": "0cc2b9c76f8641d693ba05551e4e0dff",
       "version_major": 2,
       "version_minor": 0
      },
      "text/plain": [
       "Processing audio files:   0%|          | 0/50 [00:00<?, ?it/s]"
      ]
     },
     "metadata": {},
     "output_type": "display_data"
    },
    {
     "data": {
      "application/vnd.jupyter.widget-view+json": {
       "model_id": "6befeea4baf1444591721cf538356e05",
       "version_major": 2,
       "version_minor": 0
      },
      "text/plain": [
       "Processing audio files:   0%|          | 0/50 [00:00<?, ?it/s]"
      ]
     },
     "metadata": {},
     "output_type": "display_data"
    },
    {
     "data": {
      "application/vnd.jupyter.widget-view+json": {
       "model_id": "7d78b677ca134efa8160431d2e8b10fa",
       "version_major": 2,
       "version_minor": 0
      },
      "text/plain": [
       "Processing audio files:   0%|          | 0/50 [00:00<?, ?it/s]"
      ]
     },
     "metadata": {},
     "output_type": "display_data"
    },
    {
     "data": {
      "application/vnd.jupyter.widget-view+json": {
       "model_id": "8fd6b055a27d4c0180af9124aa6fa5d1",
       "version_major": 2,
       "version_minor": 0
      },
      "text/plain": [
       "Processing audio files:   0%|          | 0/50 [00:00<?, ?it/s]"
      ]
     },
     "metadata": {},
     "output_type": "display_data"
    },
    {
     "data": {
      "application/vnd.jupyter.widget-view+json": {
       "model_id": "cd86f4a70b3c44928db243e5fd04d7f3",
       "version_major": 2,
       "version_minor": 0
      },
      "text/plain": [
       "Processing audio files:   0%|          | 0/50 [00:00<?, ?it/s]"
      ]
     },
     "metadata": {},
     "output_type": "display_data"
    },
    {
     "data": {
      "application/vnd.jupyter.widget-view+json": {
       "model_id": "aef4b2d20b83477ab213c94dbeee5efd",
       "version_major": 2,
       "version_minor": 0
      },
      "text/plain": [
       "Processing audio files:   0%|          | 0/50 [00:00<?, ?it/s]"
      ]
     },
     "metadata": {},
     "output_type": "display_data"
    },
    {
     "data": {
      "application/vnd.jupyter.widget-view+json": {
       "model_id": "b13a2eb388cb4788ae8892d4da75582c",
       "version_major": 2,
       "version_minor": 0
      },
      "text/plain": [
       "Processing audio files:   0%|          | 0/50 [00:00<?, ?it/s]"
      ]
     },
     "metadata": {},
     "output_type": "display_data"
    },
    {
     "data": {
      "application/vnd.jupyter.widget-view+json": {
       "model_id": "1936c3d5fedf488d95c83899f56b50a5",
       "version_major": 2,
       "version_minor": 0
      },
      "text/plain": [
       "Processing audio files:   0%|          | 0/50 [00:00<?, ?it/s]"
      ]
     },
     "metadata": {},
     "output_type": "display_data"
    },
    {
     "data": {
      "application/vnd.jupyter.widget-view+json": {
       "model_id": "34a62df41005472fb73d14575952fbc9",
       "version_major": 2,
       "version_minor": 0
      },
      "text/plain": [
       "Processing audio files:   0%|          | 0/50 [00:00<?, ?it/s]"
      ]
     },
     "metadata": {},
     "output_type": "display_data"
    },
    {
     "data": {
      "application/vnd.jupyter.widget-view+json": {
       "model_id": "d03f1ddc96cc4cc2a3fe5cf26c306c8a",
       "version_major": 2,
       "version_minor": 0
      },
      "text/plain": [
       "Processing audio files:   0%|          | 0/50 [00:00<?, ?it/s]"
      ]
     },
     "metadata": {},
     "output_type": "display_data"
    },
    {
     "data": {
      "application/vnd.jupyter.widget-view+json": {
       "model_id": "724854ff84ee4e9589e389e0d4c2fc39",
       "version_major": 2,
       "version_minor": 0
      },
      "text/plain": [
       "Processing audio files:   0%|          | 0/50 [00:00<?, ?it/s]"
      ]
     },
     "metadata": {},
     "output_type": "display_data"
    },
    {
     "data": {
      "application/vnd.jupyter.widget-view+json": {
       "model_id": "219d970e68a548edb1e5e9cc68eccc45",
       "version_major": 2,
       "version_minor": 0
      },
      "text/plain": [
       "Processing audio files:   0%|          | 0/50 [00:00<?, ?it/s]"
      ]
     },
     "metadata": {},
     "output_type": "display_data"
    },
    {
     "data": {
      "application/vnd.jupyter.widget-view+json": {
       "model_id": "4b5d99958d644ba1a0307609b3ac0104",
       "version_major": 2,
       "version_minor": 0
      },
      "text/plain": [
       "Processing audio files:   0%|          | 0/50 [00:00<?, ?it/s]"
      ]
     },
     "metadata": {},
     "output_type": "display_data"
    },
    {
     "data": {
      "application/vnd.jupyter.widget-view+json": {
       "model_id": "da3c26fe1d2f46619f369ee33454f88b",
       "version_major": 2,
       "version_minor": 0
      },
      "text/plain": [
       "Processing audio files:   0%|          | 0/50 [00:00<?, ?it/s]"
      ]
     },
     "metadata": {},
     "output_type": "display_data"
    },
    {
     "data": {
      "application/vnd.jupyter.widget-view+json": {
       "model_id": "5b499fbbe4a243fbb4efae22e44acdfc",
       "version_major": 2,
       "version_minor": 0
      },
      "text/plain": [
       "Processing audio files:   0%|          | 0/50 [00:00<?, ?it/s]"
      ]
     },
     "metadata": {},
     "output_type": "display_data"
    },
    {
     "data": {
      "application/vnd.jupyter.widget-view+json": {
       "model_id": "83a52aa61b4d463cb1e5a03b573b39c9",
       "version_major": 2,
       "version_minor": 0
      },
      "text/plain": [
       "Processing audio files:   0%|          | 0/50 [00:00<?, ?it/s]"
      ]
     },
     "metadata": {},
     "output_type": "display_data"
    },
    {
     "data": {
      "application/vnd.jupyter.widget-view+json": {
       "model_id": "2d10defc5c3e4d8cbe4393e539f39297",
       "version_major": 2,
       "version_minor": 0
      },
      "text/plain": [
       "Processing audio files:   0%|          | 0/50 [00:00<?, ?it/s]"
      ]
     },
     "metadata": {},
     "output_type": "display_data"
    },
    {
     "data": {
      "application/vnd.jupyter.widget-view+json": {
       "model_id": "75bcaa71b2b6493abb75b790aca2781d",
       "version_major": 2,
       "version_minor": 0
      },
      "text/plain": [
       "Processing audio files:   0%|          | 0/50 [00:00<?, ?it/s]"
      ]
     },
     "metadata": {},
     "output_type": "display_data"
    },
    {
     "data": {
      "application/vnd.jupyter.widget-view+json": {
       "model_id": "c9f18c5c5e1c414b8095b9056f05707e",
       "version_major": 2,
       "version_minor": 0
      },
      "text/plain": [
       "Processing audio files:   0%|          | 0/50 [00:00<?, ?it/s]"
      ]
     },
     "metadata": {},
     "output_type": "display_data"
    },
    {
     "data": {
      "application/vnd.jupyter.widget-view+json": {
       "model_id": "a1d5c96544184f909e98aca2a19980f5",
       "version_major": 2,
       "version_minor": 0
      },
      "text/plain": [
       "Processing audio files:   0%|          | 0/50 [00:00<?, ?it/s]"
      ]
     },
     "metadata": {},
     "output_type": "display_data"
    },
    {
     "data": {
      "application/vnd.jupyter.widget-view+json": {
       "model_id": "76e08e8488eb463a9e680d80bf112cc3",
       "version_major": 2,
       "version_minor": 0
      },
      "text/plain": [
       "Processing audio files:   0%|          | 0/50 [00:00<?, ?it/s]"
      ]
     },
     "metadata": {},
     "output_type": "display_data"
    },
    {
     "data": {
      "application/vnd.jupyter.widget-view+json": {
       "model_id": "bd2a9ad319454768b1a828bb03015584",
       "version_major": 2,
       "version_minor": 0
      },
      "text/plain": [
       "Processing audio files:   0%|          | 0/50 [00:00<?, ?it/s]"
      ]
     },
     "metadata": {},
     "output_type": "display_data"
    },
    {
     "data": {
      "application/vnd.jupyter.widget-view+json": {
       "model_id": "1d715cdb34c843cabf84f306e1b2ab5f",
       "version_major": 2,
       "version_minor": 0
      },
      "text/plain": [
       "Processing audio files:   0%|          | 0/50 [00:00<?, ?it/s]"
      ]
     },
     "metadata": {},
     "output_type": "display_data"
    },
    {
     "data": {
      "application/vnd.jupyter.widget-view+json": {
       "model_id": "3cda5c26422440babc991e9ef797ce7c",
       "version_major": 2,
       "version_minor": 0
      },
      "text/plain": [
       "Processing audio files:   0%|          | 0/50 [00:00<?, ?it/s]"
      ]
     },
     "metadata": {},
     "output_type": "display_data"
    },
    {
     "data": {
      "application/vnd.jupyter.widget-view+json": {
       "model_id": "0d79b87a0fb5494caf572a214e694ace",
       "version_major": 2,
       "version_minor": 0
      },
      "text/plain": [
       "Processing audio files:   0%|          | 0/50 [00:00<?, ?it/s]"
      ]
     },
     "metadata": {},
     "output_type": "display_data"
    },
    {
     "data": {
      "application/vnd.jupyter.widget-view+json": {
       "model_id": "10c0280db69146a6a5fac628cbd93593",
       "version_major": 2,
       "version_minor": 0
      },
      "text/plain": [
       "Processing audio files:   0%|          | 0/50 [00:00<?, ?it/s]"
      ]
     },
     "metadata": {},
     "output_type": "display_data"
    },
    {
     "data": {
      "application/vnd.jupyter.widget-view+json": {
       "model_id": "66b9c0adb34643bca252470aecb15954",
       "version_major": 2,
       "version_minor": 0
      },
      "text/plain": [
       "Processing audio files:   0%|          | 0/50 [00:00<?, ?it/s]"
      ]
     },
     "metadata": {},
     "output_type": "display_data"
    },
    {
     "data": {
      "application/vnd.jupyter.widget-view+json": {
       "model_id": "29554804f9004bae8c0d556b79d587ea",
       "version_major": 2,
       "version_minor": 0
      },
      "text/plain": [
       "Processing audio files:   0%|          | 0/50 [00:00<?, ?it/s]"
      ]
     },
     "metadata": {},
     "output_type": "display_data"
    },
    {
     "data": {
      "application/vnd.jupyter.widget-view+json": {
       "model_id": "8a24a6253481489e9d27803fb60d24d3",
       "version_major": 2,
       "version_minor": 0
      },
      "text/plain": [
       "Processing audio files:   0%|          | 0/50 [00:00<?, ?it/s]"
      ]
     },
     "metadata": {},
     "output_type": "display_data"
    },
    {
     "data": {
      "application/vnd.jupyter.widget-view+json": {
       "model_id": "1a809aacc94a40f592dc91926498315a",
       "version_major": 2,
       "version_minor": 0
      },
      "text/plain": [
       "Processing audio files:   0%|          | 0/50 [00:00<?, ?it/s]"
      ]
     },
     "metadata": {},
     "output_type": "display_data"
    },
    {
     "data": {
      "application/vnd.jupyter.widget-view+json": {
       "model_id": "b4322a9f1623454b9b706ed559eb1093",
       "version_major": 2,
       "version_minor": 0
      },
      "text/plain": [
       "Processing audio files:   0%|          | 0/50 [00:00<?, ?it/s]"
      ]
     },
     "metadata": {},
     "output_type": "display_data"
    },
    {
     "data": {
      "application/vnd.jupyter.widget-view+json": {
       "model_id": "718f24bcedbc42169d915a6761b2381a",
       "version_major": 2,
       "version_minor": 0
      },
      "text/plain": [
       "Processing audio files:   0%|          | 0/50 [00:00<?, ?it/s]"
      ]
     },
     "metadata": {},
     "output_type": "display_data"
    },
    {
     "data": {
      "application/vnd.jupyter.widget-view+json": {
       "model_id": "5f261fd4d69842ada6c807b0463e3048",
       "version_major": 2,
       "version_minor": 0
      },
      "text/plain": [
       "Processing audio files:   0%|          | 0/50 [00:00<?, ?it/s]"
      ]
     },
     "metadata": {},
     "output_type": "display_data"
    },
    {
     "data": {
      "application/vnd.jupyter.widget-view+json": {
       "model_id": "c583fd0d09c94aef84f2f2caba421fe1",
       "version_major": 2,
       "version_minor": 0
      },
      "text/plain": [
       "Processing audio files:   0%|          | 0/50 [00:00<?, ?it/s]"
      ]
     },
     "metadata": {},
     "output_type": "display_data"
    },
    {
     "data": {
      "application/vnd.jupyter.widget-view+json": {
       "model_id": "439f5b9333c14cabba590771996bd40b",
       "version_major": 2,
       "version_minor": 0
      },
      "text/plain": [
       "Processing audio files:   0%|          | 0/50 [00:00<?, ?it/s]"
      ]
     },
     "metadata": {},
     "output_type": "display_data"
    },
    {
     "data": {
      "application/vnd.jupyter.widget-view+json": {
       "model_id": "cd42b7b3e23f4180a4934f63a7724022",
       "version_major": 2,
       "version_minor": 0
      },
      "text/plain": [
       "Processing audio files:   0%|          | 0/50 [00:00<?, ?it/s]"
      ]
     },
     "metadata": {},
     "output_type": "display_data"
    },
    {
     "data": {
      "application/vnd.jupyter.widget-view+json": {
       "model_id": "0de18e0291144997b1967a32bd79d1e2",
       "version_major": 2,
       "version_minor": 0
      },
      "text/plain": [
       "Processing audio files:   0%|          | 0/50 [00:00<?, ?it/s]"
      ]
     },
     "metadata": {},
     "output_type": "display_data"
    },
    {
     "data": {
      "application/vnd.jupyter.widget-view+json": {
       "model_id": "eb4c69ef051243d3aa852da4a66c80f1",
       "version_major": 2,
       "version_minor": 0
      },
      "text/plain": [
       "Processing audio files:   0%|          | 0/50 [00:00<?, ?it/s]"
      ]
     },
     "metadata": {},
     "output_type": "display_data"
    },
    {
     "data": {
      "application/vnd.jupyter.widget-view+json": {
       "model_id": "64fbd20dddc449fbba61f1806e47eba1",
       "version_major": 2,
       "version_minor": 0
      },
      "text/plain": [
       "Processing audio files:   0%|          | 0/50 [00:00<?, ?it/s]"
      ]
     },
     "metadata": {},
     "output_type": "display_data"
    },
    {
     "data": {
      "application/vnd.jupyter.widget-view+json": {
       "model_id": "23130111fd7c4165b4dfbac2276c299a",
       "version_major": 2,
       "version_minor": 0
      },
      "text/plain": [
       "Processing audio files:   0%|          | 0/50 [00:00<?, ?it/s]"
      ]
     },
     "metadata": {},
     "output_type": "display_data"
    },
    {
     "data": {
      "application/vnd.jupyter.widget-view+json": {
       "model_id": "9ed65d7e4214430189bb1d5b1b182d47",
       "version_major": 2,
       "version_minor": 0
      },
      "text/plain": [
       "Processing audio files:   0%|          | 0/50 [00:00<?, ?it/s]"
      ]
     },
     "metadata": {},
     "output_type": "display_data"
    },
    {
     "data": {
      "application/vnd.jupyter.widget-view+json": {
       "model_id": "8a683773b63145e8b39d364e30e242ef",
       "version_major": 2,
       "version_minor": 0
      },
      "text/plain": [
       "Processing audio files:   0%|          | 0/50 [00:00<?, ?it/s]"
      ]
     },
     "metadata": {},
     "output_type": "display_data"
    },
    {
     "data": {
      "application/vnd.jupyter.widget-view+json": {
       "model_id": "b967864c49cf45c2bb1ff257d027db48",
       "version_major": 2,
       "version_minor": 0
      },
      "text/plain": [
       "Processing audio files:   0%|          | 0/50 [00:00<?, ?it/s]"
      ]
     },
     "metadata": {},
     "output_type": "display_data"
    },
    {
     "data": {
      "application/vnd.jupyter.widget-view+json": {
       "model_id": "d4110efe99d04ab28dcbd8748e039d11",
       "version_major": 2,
       "version_minor": 0
      },
      "text/plain": [
       "Processing audio files:   0%|          | 0/50 [00:00<?, ?it/s]"
      ]
     },
     "metadata": {},
     "output_type": "display_data"
    },
    {
     "data": {
      "application/vnd.jupyter.widget-view+json": {
       "model_id": "469f933cf22c413685e495ff1c529603",
       "version_major": 2,
       "version_minor": 0
      },
      "text/plain": [
       "Processing audio files:   0%|          | 0/50 [00:00<?, ?it/s]"
      ]
     },
     "metadata": {},
     "output_type": "display_data"
    },
    {
     "data": {
      "application/vnd.jupyter.widget-view+json": {
       "model_id": "2754dc085dce41ecad5cf689c610a3f9",
       "version_major": 2,
       "version_minor": 0
      },
      "text/plain": [
       "Processing audio files:   0%|          | 0/50 [00:00<?, ?it/s]"
      ]
     },
     "metadata": {},
     "output_type": "display_data"
    },
    {
     "data": {
      "application/vnd.jupyter.widget-view+json": {
       "model_id": "310fd7b5a59d494d80ba73a976e24973",
       "version_major": 2,
       "version_minor": 0
      },
      "text/plain": [
       "Processing audio files:   0%|          | 0/50 [00:00<?, ?it/s]"
      ]
     },
     "metadata": {},
     "output_type": "display_data"
    },
    {
     "data": {
      "application/vnd.jupyter.widget-view+json": {
       "model_id": "cf4872b515b04e3d9e9feeb0ff8ec06c",
       "version_major": 2,
       "version_minor": 0
      },
      "text/plain": [
       "Processing audio files:   0%|          | 0/50 [00:00<?, ?it/s]"
      ]
     },
     "metadata": {},
     "output_type": "display_data"
    },
    {
     "data": {
      "application/vnd.jupyter.widget-view+json": {
       "model_id": "46a7df6f0576479f8732d5d0e492d829",
       "version_major": 2,
       "version_minor": 0
      },
      "text/plain": [
       "Processing audio files:   0%|          | 0/50 [00:00<?, ?it/s]"
      ]
     },
     "metadata": {},
     "output_type": "display_data"
    },
    {
     "data": {
      "application/vnd.jupyter.widget-view+json": {
       "model_id": "6988f5f86fbe47deb1318130a344948a",
       "version_major": 2,
       "version_minor": 0
      },
      "text/plain": [
       "Processing audio files:   0%|          | 0/50 [00:00<?, ?it/s]"
      ]
     },
     "metadata": {},
     "output_type": "display_data"
    },
    {
     "data": {
      "application/vnd.jupyter.widget-view+json": {
       "model_id": "604acdfa211c45bbbc042e6062bb5f59",
       "version_major": 2,
       "version_minor": 0
      },
      "text/plain": [
       "Processing audio files:   0%|          | 0/50 [00:00<?, ?it/s]"
      ]
     },
     "metadata": {},
     "output_type": "display_data"
    },
    {
     "data": {
      "application/vnd.jupyter.widget-view+json": {
       "model_id": "5bd96d5d0c9347aeb6e3778a680bbbcd",
       "version_major": 2,
       "version_minor": 0
      },
      "text/plain": [
       "Processing audio files:   0%|          | 0/50 [00:00<?, ?it/s]"
      ]
     },
     "metadata": {},
     "output_type": "display_data"
    },
    {
     "data": {
      "application/vnd.jupyter.widget-view+json": {
       "model_id": "42d9521adcd146f3b7a70edc3aa21875",
       "version_major": 2,
       "version_minor": 0
      },
      "text/plain": [
       "Processing audio files:   0%|          | 0/50 [00:00<?, ?it/s]"
      ]
     },
     "metadata": {},
     "output_type": "display_data"
    },
    {
     "data": {
      "application/vnd.jupyter.widget-view+json": {
       "model_id": "6f5a3872a68c43189a27a0eb1c22ae70",
       "version_major": 2,
       "version_minor": 0
      },
      "text/plain": [
       "Processing audio files:   0%|          | 0/50 [00:00<?, ?it/s]"
      ]
     },
     "metadata": {},
     "output_type": "display_data"
    },
    {
     "data": {
      "application/vnd.jupyter.widget-view+json": {
       "model_id": "11fec75c474b414d986ffda692fcb059",
       "version_major": 2,
       "version_minor": 0
      },
      "text/plain": [
       "Processing audio files:   0%|          | 0/50 [00:00<?, ?it/s]"
      ]
     },
     "metadata": {},
     "output_type": "display_data"
    },
    {
     "data": {
      "application/vnd.jupyter.widget-view+json": {
       "model_id": "1434da294bdd40909f84539ec36b10f5",
       "version_major": 2,
       "version_minor": 0
      },
      "text/plain": [
       "Processing audio files:   0%|          | 0/50 [00:00<?, ?it/s]"
      ]
     },
     "metadata": {},
     "output_type": "display_data"
    },
    {
     "data": {
      "application/vnd.jupyter.widget-view+json": {
       "model_id": "28cf767fc2b24448adac0b715192162c",
       "version_major": 2,
       "version_minor": 0
      },
      "text/plain": [
       "Processing audio files:   0%|          | 0/50 [00:00<?, ?it/s]"
      ]
     },
     "metadata": {},
     "output_type": "display_data"
    },
    {
     "data": {
      "application/vnd.jupyter.widget-view+json": {
       "model_id": "fa094eb0ac684c319d6917698bda3d46",
       "version_major": 2,
       "version_minor": 0
      },
      "text/plain": [
       "Processing audio files:   0%|          | 0/50 [00:00<?, ?it/s]"
      ]
     },
     "metadata": {},
     "output_type": "display_data"
    },
    {
     "data": {
      "application/vnd.jupyter.widget-view+json": {
       "model_id": "1656729d9ced4d89b89695f6bce90f85",
       "version_major": 2,
       "version_minor": 0
      },
      "text/plain": [
       "Processing audio files:   0%|          | 0/50 [00:00<?, ?it/s]"
      ]
     },
     "metadata": {},
     "output_type": "display_data"
    },
    {
     "data": {
      "application/vnd.jupyter.widget-view+json": {
       "model_id": "f009c477bec248259aff55bdf257cead",
       "version_major": 2,
       "version_minor": 0
      },
      "text/plain": [
       "Processing audio files:   0%|          | 0/50 [00:00<?, ?it/s]"
      ]
     },
     "metadata": {},
     "output_type": "display_data"
    },
    {
     "data": {
      "application/vnd.jupyter.widget-view+json": {
       "model_id": "ef37affcb25a488f97da43ee8d7a628f",
       "version_major": 2,
       "version_minor": 0
      },
      "text/plain": [
       "Processing audio files:   0%|          | 0/50 [00:00<?, ?it/s]"
      ]
     },
     "metadata": {},
     "output_type": "display_data"
    },
    {
     "data": {
      "application/vnd.jupyter.widget-view+json": {
       "model_id": "f0463abe2d304d7c91e7cabc4865ca20",
       "version_major": 2,
       "version_minor": 0
      },
      "text/plain": [
       "Processing audio files:   0%|          | 0/50 [00:00<?, ?it/s]"
      ]
     },
     "metadata": {},
     "output_type": "display_data"
    },
    {
     "data": {
      "application/vnd.jupyter.widget-view+json": {
       "model_id": "bfb6c65715e94be5801dc1b339d437d0",
       "version_major": 2,
       "version_minor": 0
      },
      "text/plain": [
       "Processing audio files:   0%|          | 0/50 [00:00<?, ?it/s]"
      ]
     },
     "metadata": {},
     "output_type": "display_data"
    },
    {
     "data": {
      "application/vnd.jupyter.widget-view+json": {
       "model_id": "64fa8a23e5b04349a20bd4af9385062b",
       "version_major": 2,
       "version_minor": 0
      },
      "text/plain": [
       "Processing audio files:   0%|          | 0/50 [00:00<?, ?it/s]"
      ]
     },
     "metadata": {},
     "output_type": "display_data"
    },
    {
     "data": {
      "application/vnd.jupyter.widget-view+json": {
       "model_id": "76647cfc45954cf88bb4ed665f5c76e7",
       "version_major": 2,
       "version_minor": 0
      },
      "text/plain": [
       "Processing audio files:   0%|          | 0/50 [00:00<?, ?it/s]"
      ]
     },
     "metadata": {},
     "output_type": "display_data"
    },
    {
     "data": {
      "application/vnd.jupyter.widget-view+json": {
       "model_id": "cc6c7ffc78c543e89d39220e080948bb",
       "version_major": 2,
       "version_minor": 0
      },
      "text/plain": [
       "Processing audio files:   0%|          | 0/50 [00:00<?, ?it/s]"
      ]
     },
     "metadata": {},
     "output_type": "display_data"
    },
    {
     "data": {
      "application/vnd.jupyter.widget-view+json": {
       "model_id": "84827ea7d66c4787a4e0e08ff17bcefa",
       "version_major": 2,
       "version_minor": 0
      },
      "text/plain": [
       "Processing audio files:   0%|          | 0/50 [00:00<?, ?it/s]"
      ]
     },
     "metadata": {},
     "output_type": "display_data"
    },
    {
     "data": {
      "application/vnd.jupyter.widget-view+json": {
       "model_id": "18c22340dcbf4c26ad127ecbbe88e7a4",
       "version_major": 2,
       "version_minor": 0
      },
      "text/plain": [
       "Processing audio files:   0%|          | 0/50 [00:00<?, ?it/s]"
      ]
     },
     "metadata": {},
     "output_type": "display_data"
    },
    {
     "data": {
      "application/vnd.jupyter.widget-view+json": {
       "model_id": "63b8bcf178da480e8dce95cb6cd31671",
       "version_major": 2,
       "version_minor": 0
      },
      "text/plain": [
       "Processing audio files:   0%|          | 0/50 [00:00<?, ?it/s]"
      ]
     },
     "metadata": {},
     "output_type": "display_data"
    },
    {
     "data": {
      "application/vnd.jupyter.widget-view+json": {
       "model_id": "0966863802fa41e1b0604222e94b7b26",
       "version_major": 2,
       "version_minor": 0
      },
      "text/plain": [
       "Processing audio files:   0%|          | 0/50 [00:00<?, ?it/s]"
      ]
     },
     "metadata": {},
     "output_type": "display_data"
    },
    {
     "data": {
      "application/vnd.jupyter.widget-view+json": {
       "model_id": "f225d95095f349c4a92746c726308157",
       "version_major": 2,
       "version_minor": 0
      },
      "text/plain": [
       "Processing audio files:   0%|          | 0/50 [00:00<?, ?it/s]"
      ]
     },
     "metadata": {},
     "output_type": "display_data"
    },
    {
     "data": {
      "application/vnd.jupyter.widget-view+json": {
       "model_id": "91d62c59083a439f990653ff544908c7",
       "version_major": 2,
       "version_minor": 0
      },
      "text/plain": [
       "Processing audio files:   0%|          | 0/50 [00:00<?, ?it/s]"
      ]
     },
     "metadata": {},
     "output_type": "display_data"
    },
    {
     "data": {
      "application/vnd.jupyter.widget-view+json": {
       "model_id": "c7583d9843204b5babc81cda3ee9d595",
       "version_major": 2,
       "version_minor": 0
      },
      "text/plain": [
       "Processing audio files:   0%|          | 0/50 [00:00<?, ?it/s]"
      ]
     },
     "metadata": {},
     "output_type": "display_data"
    },
    {
     "data": {
      "application/vnd.jupyter.widget-view+json": {
       "model_id": "abe40b6014f3477882f12c58ce13f602",
       "version_major": 2,
       "version_minor": 0
      },
      "text/plain": [
       "Processing audio files:   0%|          | 0/50 [00:00<?, ?it/s]"
      ]
     },
     "metadata": {},
     "output_type": "display_data"
    },
    {
     "data": {
      "application/vnd.jupyter.widget-view+json": {
       "model_id": "f0cf0b1e587243d1b60a723a25a90761",
       "version_major": 2,
       "version_minor": 0
      },
      "text/plain": [
       "Processing audio files:   0%|          | 0/50 [00:00<?, ?it/s]"
      ]
     },
     "metadata": {},
     "output_type": "display_data"
    },
    {
     "data": {
      "application/vnd.jupyter.widget-view+json": {
       "model_id": "b4210d590cfd41bd9565e949b81738c8",
       "version_major": 2,
       "version_minor": 0
      },
      "text/plain": [
       "Processing audio files:   0%|          | 0/50 [00:00<?, ?it/s]"
      ]
     },
     "metadata": {},
     "output_type": "display_data"
    },
    {
     "data": {
      "application/vnd.jupyter.widget-view+json": {
       "model_id": "e9eb168761f745ef8b8a1f9640c63c38",
       "version_major": 2,
       "version_minor": 0
      },
      "text/plain": [
       "Processing audio files:   0%|          | 0/50 [00:00<?, ?it/s]"
      ]
     },
     "metadata": {},
     "output_type": "display_data"
    },
    {
     "data": {
      "application/vnd.jupyter.widget-view+json": {
       "model_id": "917dd56c086a4a1284738cf5d954a3f9",
       "version_major": 2,
       "version_minor": 0
      },
      "text/plain": [
       "Processing audio files:   0%|          | 0/50 [00:00<?, ?it/s]"
      ]
     },
     "metadata": {},
     "output_type": "display_data"
    },
    {
     "data": {
      "application/vnd.jupyter.widget-view+json": {
       "model_id": "944e635e5c0a418d987879f27f43fe54",
       "version_major": 2,
       "version_minor": 0
      },
      "text/plain": [
       "Processing audio files:   0%|          | 0/50 [00:00<?, ?it/s]"
      ]
     },
     "metadata": {},
     "output_type": "display_data"
    },
    {
     "data": {
      "application/vnd.jupyter.widget-view+json": {
       "model_id": "3883e0c4899b4d939c042875aafc5113",
       "version_major": 2,
       "version_minor": 0
      },
      "text/plain": [
       "Processing audio files:   0%|          | 0/50 [00:00<?, ?it/s]"
      ]
     },
     "metadata": {},
     "output_type": "display_data"
    },
    {
     "data": {
      "application/vnd.jupyter.widget-view+json": {
       "model_id": "d127f2d644c74b139a9d7b8eea0f159b",
       "version_major": 2,
       "version_minor": 0
      },
      "text/plain": [
       "Processing audio files:   0%|          | 0/50 [00:00<?, ?it/s]"
      ]
     },
     "metadata": {},
     "output_type": "display_data"
    },
    {
     "data": {
      "application/vnd.jupyter.widget-view+json": {
       "model_id": "c1935fd9b3c54cf0a5aa5b51b315df8d",
       "version_major": 2,
       "version_minor": 0
      },
      "text/plain": [
       "Processing audio files:   0%|          | 0/50 [00:00<?, ?it/s]"
      ]
     },
     "metadata": {},
     "output_type": "display_data"
    },
    {
     "data": {
      "application/vnd.jupyter.widget-view+json": {
       "model_id": "6fe8da92adc343d7a309cb0520ffbc21",
       "version_major": 2,
       "version_minor": 0
      },
      "text/plain": [
       "Processing audio files:   0%|          | 0/50 [00:00<?, ?it/s]"
      ]
     },
     "metadata": {},
     "output_type": "display_data"
    },
    {
     "data": {
      "application/vnd.jupyter.widget-view+json": {
       "model_id": "7b4532511eb3495a8a89060bd6112c29",
       "version_major": 2,
       "version_minor": 0
      },
      "text/plain": [
       "Processing audio files:   0%|          | 0/50 [00:00<?, ?it/s]"
      ]
     },
     "metadata": {},
     "output_type": "display_data"
    },
    {
     "data": {
      "application/vnd.jupyter.widget-view+json": {
       "model_id": "64c70b1bfd3c45d4804b6a365177ec31",
       "version_major": 2,
       "version_minor": 0
      },
      "text/plain": [
       "Processing audio files:   0%|          | 0/50 [00:00<?, ?it/s]"
      ]
     },
     "metadata": {},
     "output_type": "display_data"
    },
    {
     "data": {
      "application/vnd.jupyter.widget-view+json": {
       "model_id": "5138a3e3715d47d98d0ed270d12bc215",
       "version_major": 2,
       "version_minor": 0
      },
      "text/plain": [
       "Processing audio files:   0%|          | 0/50 [00:00<?, ?it/s]"
      ]
     },
     "metadata": {},
     "output_type": "display_data"
    },
    {
     "data": {
      "application/vnd.jupyter.widget-view+json": {
       "model_id": "25f69eb757ea4f3ba28f482000fe3c1b",
       "version_major": 2,
       "version_minor": 0
      },
      "text/plain": [
       "Processing audio files:   0%|          | 0/50 [00:00<?, ?it/s]"
      ]
     },
     "metadata": {},
     "output_type": "display_data"
    },
    {
     "data": {
      "application/vnd.jupyter.widget-view+json": {
       "model_id": "2f519792d60648d6ac8decc4d1c5c4c0",
       "version_major": 2,
       "version_minor": 0
      },
      "text/plain": [
       "Processing audio files:   0%|          | 0/50 [00:00<?, ?it/s]"
      ]
     },
     "metadata": {},
     "output_type": "display_data"
    },
    {
     "data": {
      "application/vnd.jupyter.widget-view+json": {
       "model_id": "01342607419448958f4004b17196e4df",
       "version_major": 2,
       "version_minor": 0
      },
      "text/plain": [
       "Processing audio files:   0%|          | 0/50 [00:00<?, ?it/s]"
      ]
     },
     "metadata": {},
     "output_type": "display_data"
    },
    {
     "data": {
      "application/vnd.jupyter.widget-view+json": {
       "model_id": "b365b1cafabf4faab3cf5ae22a683cb4",
       "version_major": 2,
       "version_minor": 0
      },
      "text/plain": [
       "Processing audio files:   0%|          | 0/50 [00:00<?, ?it/s]"
      ]
     },
     "metadata": {},
     "output_type": "display_data"
    },
    {
     "data": {
      "application/vnd.jupyter.widget-view+json": {
       "model_id": "1e72a5e018c140b7837fa7e2b69c7d29",
       "version_major": 2,
       "version_minor": 0
      },
      "text/plain": [
       "Processing audio files:   0%|          | 0/50 [00:00<?, ?it/s]"
      ]
     },
     "metadata": {},
     "output_type": "display_data"
    },
    {
     "data": {
      "application/vnd.jupyter.widget-view+json": {
       "model_id": "dce6af16b91740c2b5ac3c3566aa9dec",
       "version_major": 2,
       "version_minor": 0
      },
      "text/plain": [
       "Processing audio files:   0%|          | 0/50 [00:00<?, ?it/s]"
      ]
     },
     "metadata": {},
     "output_type": "display_data"
    },
    {
     "data": {
      "application/vnd.jupyter.widget-view+json": {
       "model_id": "2e649637a8834550a0093f7fb8e6b718",
       "version_major": 2,
       "version_minor": 0
      },
      "text/plain": [
       "Processing audio files:   0%|          | 0/50 [00:00<?, ?it/s]"
      ]
     },
     "metadata": {},
     "output_type": "display_data"
    },
    {
     "data": {
      "application/vnd.jupyter.widget-view+json": {
       "model_id": "49ff4af8326f46babb40567549d2a7a8",
       "version_major": 2,
       "version_minor": 0
      },
      "text/plain": [
       "Processing audio files:   0%|          | 0/50 [00:00<?, ?it/s]"
      ]
     },
     "metadata": {},
     "output_type": "display_data"
    },
    {
     "data": {
      "application/vnd.jupyter.widget-view+json": {
       "model_id": "8223f90dba4648fb8721bf0944a31f77",
       "version_major": 2,
       "version_minor": 0
      },
      "text/plain": [
       "Processing audio files:   0%|          | 0/50 [00:00<?, ?it/s]"
      ]
     },
     "metadata": {},
     "output_type": "display_data"
    },
    {
     "data": {
      "application/vnd.jupyter.widget-view+json": {
       "model_id": "959d9c41dce24f189c1fd38d75141a02",
       "version_major": 2,
       "version_minor": 0
      },
      "text/plain": [
       "Processing audio files:   0%|          | 0/50 [00:00<?, ?it/s]"
      ]
     },
     "metadata": {},
     "output_type": "display_data"
    },
    {
     "data": {
      "application/vnd.jupyter.widget-view+json": {
       "model_id": "dae28f78a52643a78d6f36ef68b4c8c8",
       "version_major": 2,
       "version_minor": 0
      },
      "text/plain": [
       "Processing audio files:   0%|          | 0/50 [00:00<?, ?it/s]"
      ]
     },
     "metadata": {},
     "output_type": "display_data"
    },
    {
     "data": {
      "application/vnd.jupyter.widget-view+json": {
       "model_id": "013488002e8b462aa99228f85cbd3252",
       "version_major": 2,
       "version_minor": 0
      },
      "text/plain": [
       "Processing audio files:   0%|          | 0/50 [00:00<?, ?it/s]"
      ]
     },
     "metadata": {},
     "output_type": "display_data"
    },
    {
     "data": {
      "application/vnd.jupyter.widget-view+json": {
       "model_id": "06b3a4e3c16445d3a296a5084ba02af3",
       "version_major": 2,
       "version_minor": 0
      },
      "text/plain": [
       "Processing audio files:   0%|          | 0/50 [00:00<?, ?it/s]"
      ]
     },
     "metadata": {},
     "output_type": "display_data"
    },
    {
     "data": {
      "application/vnd.jupyter.widget-view+json": {
       "model_id": "b1d0586a463a4398b9c84e0b9685cb47",
       "version_major": 2,
       "version_minor": 0
      },
      "text/plain": [
       "Processing audio files:   0%|          | 0/50 [00:00<?, ?it/s]"
      ]
     },
     "metadata": {},
     "output_type": "display_data"
    },
    {
     "data": {
      "application/vnd.jupyter.widget-view+json": {
       "model_id": "0559b1795c70435db572746bbdd354b7",
       "version_major": 2,
       "version_minor": 0
      },
      "text/plain": [
       "Processing audio files:   0%|          | 0/50 [00:00<?, ?it/s]"
      ]
     },
     "metadata": {},
     "output_type": "display_data"
    },
    {
     "data": {
      "application/vnd.jupyter.widget-view+json": {
       "model_id": "8d311f9c19aa4c14b168189206790d8b",
       "version_major": 2,
       "version_minor": 0
      },
      "text/plain": [
       "Processing audio files:   0%|          | 0/50 [00:00<?, ?it/s]"
      ]
     },
     "metadata": {},
     "output_type": "display_data"
    },
    {
     "data": {
      "application/vnd.jupyter.widget-view+json": {
       "model_id": "1208c08f06b742eb860adc660f76ddee",
       "version_major": 2,
       "version_minor": 0
      },
      "text/plain": [
       "Processing audio files:   0%|          | 0/50 [00:00<?, ?it/s]"
      ]
     },
     "metadata": {},
     "output_type": "display_data"
    },
    {
     "data": {
      "application/vnd.jupyter.widget-view+json": {
       "model_id": "928eb43e801b4acb93fb8c705b8d6200",
       "version_major": 2,
       "version_minor": 0
      },
      "text/plain": [
       "Processing audio files:   0%|          | 0/50 [00:00<?, ?it/s]"
      ]
     },
     "metadata": {},
     "output_type": "display_data"
    },
    {
     "data": {
      "application/vnd.jupyter.widget-view+json": {
       "model_id": "f171dfd58eec4040ba73f836c16f1101",
       "version_major": 2,
       "version_minor": 0
      },
      "text/plain": [
       "Processing audio files:   0%|          | 0/50 [00:00<?, ?it/s]"
      ]
     },
     "metadata": {},
     "output_type": "display_data"
    },
    {
     "data": {
      "application/vnd.jupyter.widget-view+json": {
       "model_id": "362ceca22e5541efbd23ce45aa8cbb85",
       "version_major": 2,
       "version_minor": 0
      },
      "text/plain": [
       "Processing audio files:   0%|          | 0/50 [00:00<?, ?it/s]"
      ]
     },
     "metadata": {},
     "output_type": "display_data"
    },
    {
     "data": {
      "application/vnd.jupyter.widget-view+json": {
       "model_id": "1a13daba54f84779872bae7589aa1796",
       "version_major": 2,
       "version_minor": 0
      },
      "text/plain": [
       "Processing audio files:   0%|          | 0/50 [00:00<?, ?it/s]"
      ]
     },
     "metadata": {},
     "output_type": "display_data"
    },
    {
     "data": {
      "application/vnd.jupyter.widget-view+json": {
       "model_id": "7385d5ebb08c4d16970fc49827838733",
       "version_major": 2,
       "version_minor": 0
      },
      "text/plain": [
       "Processing audio files:   0%|          | 0/50 [00:00<?, ?it/s]"
      ]
     },
     "metadata": {},
     "output_type": "display_data"
    },
    {
     "data": {
      "application/vnd.jupyter.widget-view+json": {
       "model_id": "cfe46e30b35c40a6bd7045fec0908462",
       "version_major": 2,
       "version_minor": 0
      },
      "text/plain": [
       "Processing audio files:   0%|          | 0/50 [00:00<?, ?it/s]"
      ]
     },
     "metadata": {},
     "output_type": "display_data"
    },
    {
     "data": {
      "application/vnd.jupyter.widget-view+json": {
       "model_id": "bd799c8cf1c64bc686c85bb48858ede7",
       "version_major": 2,
       "version_minor": 0
      },
      "text/plain": [
       "Processing audio files:   0%|          | 0/50 [00:00<?, ?it/s]"
      ]
     },
     "metadata": {},
     "output_type": "display_data"
    },
    {
     "data": {
      "application/vnd.jupyter.widget-view+json": {
       "model_id": "e9748b841a334e1e9f3987fda2effef2",
       "version_major": 2,
       "version_minor": 0
      },
      "text/plain": [
       "Processing audio files:   0%|          | 0/50 [00:00<?, ?it/s]"
      ]
     },
     "metadata": {},
     "output_type": "display_data"
    },
    {
     "data": {
      "application/vnd.jupyter.widget-view+json": {
       "model_id": "6106bedba6694fbf89376f96a606f027",
       "version_major": 2,
       "version_minor": 0
      },
      "text/plain": [
       "Processing audio files:   0%|          | 0/50 [00:00<?, ?it/s]"
      ]
     },
     "metadata": {},
     "output_type": "display_data"
    },
    {
     "data": {
      "application/vnd.jupyter.widget-view+json": {
       "model_id": "625cd4b19b524ebfa4a9b650659d2e9c",
       "version_major": 2,
       "version_minor": 0
      },
      "text/plain": [
       "Processing audio files:   0%|          | 0/50 [00:00<?, ?it/s]"
      ]
     },
     "metadata": {},
     "output_type": "display_data"
    },
    {
     "data": {
      "application/vnd.jupyter.widget-view+json": {
       "model_id": "071a005b2de54b6b804fb2a789b251a1",
       "version_major": 2,
       "version_minor": 0
      },
      "text/plain": [
       "Processing audio files:   0%|          | 0/50 [00:00<?, ?it/s]"
      ]
     },
     "metadata": {},
     "output_type": "display_data"
    },
    {
     "data": {
      "application/vnd.jupyter.widget-view+json": {
       "model_id": "24bc66ebb1ea4cd2a3e982f6b5cb4781",
       "version_major": 2,
       "version_minor": 0
      },
      "text/plain": [
       "Processing audio files:   0%|          | 0/50 [00:00<?, ?it/s]"
      ]
     },
     "metadata": {},
     "output_type": "display_data"
    },
    {
     "data": {
      "application/vnd.jupyter.widget-view+json": {
       "model_id": "e217d28bce0b4b1c92d28aa2a400a7e7",
       "version_major": 2,
       "version_minor": 0
      },
      "text/plain": [
       "Processing audio files:   0%|          | 0/50 [00:00<?, ?it/s]"
      ]
     },
     "metadata": {},
     "output_type": "display_data"
    },
    {
     "data": {
      "application/vnd.jupyter.widget-view+json": {
       "model_id": "51e67d26ac25475fad108c3f3e3ae9a1",
       "version_major": 2,
       "version_minor": 0
      },
      "text/plain": [
       "Processing audio files:   0%|          | 0/50 [00:00<?, ?it/s]"
      ]
     },
     "metadata": {},
     "output_type": "display_data"
    },
    {
     "data": {
      "application/vnd.jupyter.widget-view+json": {
       "model_id": "f25dd029553443068099659805e17b1a",
       "version_major": 2,
       "version_minor": 0
      },
      "text/plain": [
       "Processing audio files:   0%|          | 0/50 [00:00<?, ?it/s]"
      ]
     },
     "metadata": {},
     "output_type": "display_data"
    },
    {
     "data": {
      "application/vnd.jupyter.widget-view+json": {
       "model_id": "2925e9a4acb94504a37b660e0e196cae",
       "version_major": 2,
       "version_minor": 0
      },
      "text/plain": [
       "Processing audio files:   0%|          | 0/50 [00:00<?, ?it/s]"
      ]
     },
     "metadata": {},
     "output_type": "display_data"
    },
    {
     "data": {
      "application/vnd.jupyter.widget-view+json": {
       "model_id": "cfbb8af477af405da3ece080ca8d01f9",
       "version_major": 2,
       "version_minor": 0
      },
      "text/plain": [
       "Processing audio files:   0%|          | 0/50 [00:00<?, ?it/s]"
      ]
     },
     "metadata": {},
     "output_type": "display_data"
    },
    {
     "data": {
      "application/vnd.jupyter.widget-view+json": {
       "model_id": "e18c9540ad0d4dd0825c057ce7f1b63a",
       "version_major": 2,
       "version_minor": 0
      },
      "text/plain": [
       "Processing audio files:   0%|          | 0/50 [00:00<?, ?it/s]"
      ]
     },
     "metadata": {},
     "output_type": "display_data"
    },
    {
     "data": {
      "application/vnd.jupyter.widget-view+json": {
       "model_id": "c5cee786af2e4cbb853269882a4fb4a3",
       "version_major": 2,
       "version_minor": 0
      },
      "text/plain": [
       "Processing audio files:   0%|          | 0/50 [00:00<?, ?it/s]"
      ]
     },
     "metadata": {},
     "output_type": "display_data"
    },
    {
     "data": {
      "application/vnd.jupyter.widget-view+json": {
       "model_id": "8bf35e2cc90f4c509b40650df5666a83",
       "version_major": 2,
       "version_minor": 0
      },
      "text/plain": [
       "Processing audio files:   0%|          | 0/50 [00:00<?, ?it/s]"
      ]
     },
     "metadata": {},
     "output_type": "display_data"
    },
    {
     "data": {
      "application/vnd.jupyter.widget-view+json": {
       "model_id": "d3f7f586c7384b3e86e6eea648a83568",
       "version_major": 2,
       "version_minor": 0
      },
      "text/plain": [
       "Processing audio files:   0%|          | 0/50 [00:00<?, ?it/s]"
      ]
     },
     "metadata": {},
     "output_type": "display_data"
    },
    {
     "data": {
      "application/vnd.jupyter.widget-view+json": {
       "model_id": "19fd9aad2655432d91317d5900cd1f1b",
       "version_major": 2,
       "version_minor": 0
      },
      "text/plain": [
       "Processing audio files:   0%|          | 0/50 [00:00<?, ?it/s]"
      ]
     },
     "metadata": {},
     "output_type": "display_data"
    },
    {
     "data": {
      "application/vnd.jupyter.widget-view+json": {
       "model_id": "84f0c6603fef464bb860bdbe0d2057e9",
       "version_major": 2,
       "version_minor": 0
      },
      "text/plain": [
       "Processing audio files:   0%|          | 0/50 [00:00<?, ?it/s]"
      ]
     },
     "metadata": {},
     "output_type": "display_data"
    },
    {
     "data": {
      "application/vnd.jupyter.widget-view+json": {
       "model_id": "d1f3413d47d349949ac72fa907a9f487",
       "version_major": 2,
       "version_minor": 0
      },
      "text/plain": [
       "Processing audio files:   0%|          | 0/50 [00:00<?, ?it/s]"
      ]
     },
     "metadata": {},
     "output_type": "display_data"
    },
    {
     "data": {
      "application/vnd.jupyter.widget-view+json": {
       "model_id": "7aac2a4439934598a7816f3548606296",
       "version_major": 2,
       "version_minor": 0
      },
      "text/plain": [
       "Processing audio files:   0%|          | 0/50 [00:00<?, ?it/s]"
      ]
     },
     "metadata": {},
     "output_type": "display_data"
    },
    {
     "data": {
      "application/vnd.jupyter.widget-view+json": {
       "model_id": "41a723f9ad6140249f3d80d1705fa646",
       "version_major": 2,
       "version_minor": 0
      },
      "text/plain": [
       "Processing audio files:   0%|          | 0/50 [00:00<?, ?it/s]"
      ]
     },
     "metadata": {},
     "output_type": "display_data"
    },
    {
     "data": {
      "application/vnd.jupyter.widget-view+json": {
       "model_id": "ab13418c3a104be0b024270b032f4450",
       "version_major": 2,
       "version_minor": 0
      },
      "text/plain": [
       "Processing audio files:   0%|          | 0/50 [00:00<?, ?it/s]"
      ]
     },
     "metadata": {},
     "output_type": "display_data"
    },
    {
     "data": {
      "application/vnd.jupyter.widget-view+json": {
       "model_id": "a1a86899a528495fb71c2f136a93caa5",
       "version_major": 2,
       "version_minor": 0
      },
      "text/plain": [
       "Processing audio files:   0%|          | 0/50 [00:00<?, ?it/s]"
      ]
     },
     "metadata": {},
     "output_type": "display_data"
    },
    {
     "data": {
      "application/vnd.jupyter.widget-view+json": {
       "model_id": "8626e75c77404779a9f4ec66e19a798c",
       "version_major": 2,
       "version_minor": 0
      },
      "text/plain": [
       "Processing audio files:   0%|          | 0/50 [00:00<?, ?it/s]"
      ]
     },
     "metadata": {},
     "output_type": "display_data"
    },
    {
     "data": {
      "application/vnd.jupyter.widget-view+json": {
       "model_id": "b9a9b8a14acc4adb8bc0cf7e05938f29",
       "version_major": 2,
       "version_minor": 0
      },
      "text/plain": [
       "Processing audio files:   0%|          | 0/50 [00:00<?, ?it/s]"
      ]
     },
     "metadata": {},
     "output_type": "display_data"
    },
    {
     "data": {
      "application/vnd.jupyter.widget-view+json": {
       "model_id": "8e5debd203ff4c8a82b0551c48341fc3",
       "version_major": 2,
       "version_minor": 0
      },
      "text/plain": [
       "Processing audio files:   0%|          | 0/50 [00:00<?, ?it/s]"
      ]
     },
     "metadata": {},
     "output_type": "display_data"
    },
    {
     "data": {
      "application/vnd.jupyter.widget-view+json": {
       "model_id": "c3b03a8af8a7479d98c8d73df6207b62",
       "version_major": 2,
       "version_minor": 0
      },
      "text/plain": [
       "Processing audio files:   0%|          | 0/50 [00:00<?, ?it/s]"
      ]
     },
     "metadata": {},
     "output_type": "display_data"
    },
    {
     "data": {
      "application/vnd.jupyter.widget-view+json": {
       "model_id": "74a16ac7ba6941bf83ec4388d56fce31",
       "version_major": 2,
       "version_minor": 0
      },
      "text/plain": [
       "Processing audio files:   0%|          | 0/50 [00:00<?, ?it/s]"
      ]
     },
     "metadata": {},
     "output_type": "display_data"
    },
    {
     "data": {
      "application/vnd.jupyter.widget-view+json": {
       "model_id": "865fcd44bc7b4ab7973c2f9b13dd5505",
       "version_major": 2,
       "version_minor": 0
      },
      "text/plain": [
       "Processing audio files:   0%|          | 0/50 [00:00<?, ?it/s]"
      ]
     },
     "metadata": {},
     "output_type": "display_data"
    },
    {
     "data": {
      "application/vnd.jupyter.widget-view+json": {
       "model_id": "1fe9b0a5786c4d979a512f8bff1eb6f2",
       "version_major": 2,
       "version_minor": 0
      },
      "text/plain": [
       "Processing audio files:   0%|          | 0/50 [00:00<?, ?it/s]"
      ]
     },
     "metadata": {},
     "output_type": "display_data"
    },
    {
     "data": {
      "application/vnd.jupyter.widget-view+json": {
       "model_id": "dff694dffed7462183fa448571c29c1a",
       "version_major": 2,
       "version_minor": 0
      },
      "text/plain": [
       "Processing audio files:   0%|          | 0/50 [00:00<?, ?it/s]"
      ]
     },
     "metadata": {},
     "output_type": "display_data"
    },
    {
     "data": {
      "application/vnd.jupyter.widget-view+json": {
       "model_id": "afdaeadc54524983863a2d126cc14a2e",
       "version_major": 2,
       "version_minor": 0
      },
      "text/plain": [
       "Processing audio files:   0%|          | 0/50 [00:00<?, ?it/s]"
      ]
     },
     "metadata": {},
     "output_type": "display_data"
    },
    {
     "data": {
      "application/vnd.jupyter.widget-view+json": {
       "model_id": "a1a180da695c4d9caa3ed02a263fe6c8",
       "version_major": 2,
       "version_minor": 0
      },
      "text/plain": [
       "Processing audio files:   0%|          | 0/50 [00:00<?, ?it/s]"
      ]
     },
     "metadata": {},
     "output_type": "display_data"
    },
    {
     "data": {
      "application/vnd.jupyter.widget-view+json": {
       "model_id": "3fdd50fe4db14688b576f342ad8bf54c",
       "version_major": 2,
       "version_minor": 0
      },
      "text/plain": [
       "Processing audio files:   0%|          | 0/50 [00:00<?, ?it/s]"
      ]
     },
     "metadata": {},
     "output_type": "display_data"
    },
    {
     "data": {
      "application/vnd.jupyter.widget-view+json": {
       "model_id": "622a584985434b2785a78e52abcf7633",
       "version_major": 2,
       "version_minor": 0
      },
      "text/plain": [
       "Processing audio files:   0%|          | 0/50 [00:00<?, ?it/s]"
      ]
     },
     "metadata": {},
     "output_type": "display_data"
    },
    {
     "data": {
      "application/vnd.jupyter.widget-view+json": {
       "model_id": "60e099fc51944f7aa6478bc8d0abc4f0",
       "version_major": 2,
       "version_minor": 0
      },
      "text/plain": [
       "Processing audio files:   0%|          | 0/50 [00:00<?, ?it/s]"
      ]
     },
     "metadata": {},
     "output_type": "display_data"
    },
    {
     "data": {
      "application/vnd.jupyter.widget-view+json": {
       "model_id": "f40c887542d94176a8fe989c50267328",
       "version_major": 2,
       "version_minor": 0
      },
      "text/plain": [
       "Processing audio files:   0%|          | 0/50 [00:00<?, ?it/s]"
      ]
     },
     "metadata": {},
     "output_type": "display_data"
    },
    {
     "data": {
      "application/vnd.jupyter.widget-view+json": {
       "model_id": "247ca4b600d74d15a986f35f6e7d01d1",
       "version_major": 2,
       "version_minor": 0
      },
      "text/plain": [
       "Processing audio files:   0%|          | 0/50 [00:00<?, ?it/s]"
      ]
     },
     "metadata": {},
     "output_type": "display_data"
    },
    {
     "data": {
      "application/vnd.jupyter.widget-view+json": {
       "model_id": "aedbca8187664c3887579d998e000284",
       "version_major": 2,
       "version_minor": 0
      },
      "text/plain": [
       "Processing audio files:   0%|          | 0/50 [00:00<?, ?it/s]"
      ]
     },
     "metadata": {},
     "output_type": "display_data"
    },
    {
     "data": {
      "application/vnd.jupyter.widget-view+json": {
       "model_id": "751adfed6ead40228dc56e93afb05134",
       "version_major": 2,
       "version_minor": 0
      },
      "text/plain": [
       "Processing audio files:   0%|          | 0/50 [00:00<?, ?it/s]"
      ]
     },
     "metadata": {},
     "output_type": "display_data"
    },
    {
     "data": {
      "application/vnd.jupyter.widget-view+json": {
       "model_id": "d0b65db601884ec4937edaef30d2e31d",
       "version_major": 2,
       "version_minor": 0
      },
      "text/plain": [
       "Processing audio files:   0%|          | 0/50 [00:00<?, ?it/s]"
      ]
     },
     "metadata": {},
     "output_type": "display_data"
    },
    {
     "data": {
      "application/vnd.jupyter.widget-view+json": {
       "model_id": "70cc8357361940f688bbf981aee13b9d",
       "version_major": 2,
       "version_minor": 0
      },
      "text/plain": [
       "Processing audio files:   0%|          | 0/50 [00:00<?, ?it/s]"
      ]
     },
     "metadata": {},
     "output_type": "display_data"
    },
    {
     "data": {
      "application/vnd.jupyter.widget-view+json": {
       "model_id": "6bc5aec38df44e1f82d35137220a3b28",
       "version_major": 2,
       "version_minor": 0
      },
      "text/plain": [
       "Processing audio files:   0%|          | 0/50 [00:00<?, ?it/s]"
      ]
     },
     "metadata": {},
     "output_type": "display_data"
    },
    {
     "data": {
      "application/vnd.jupyter.widget-view+json": {
       "model_id": "a7870a17efd640ec97ef9d2df603d208",
       "version_major": 2,
       "version_minor": 0
      },
      "text/plain": [
       "Processing audio files:   0%|          | 0/50 [00:00<?, ?it/s]"
      ]
     },
     "metadata": {},
     "output_type": "display_data"
    },
    {
     "data": {
      "application/vnd.jupyter.widget-view+json": {
       "model_id": "2f2a6a776d4441a2a6af7ff0470f6317",
       "version_major": 2,
       "version_minor": 0
      },
      "text/plain": [
       "Processing audio files:   0%|          | 0/50 [00:00<?, ?it/s]"
      ]
     },
     "metadata": {},
     "output_type": "display_data"
    },
    {
     "data": {
      "application/vnd.jupyter.widget-view+json": {
       "model_id": "01ad4b4492a448bf8b5d4ae1aaadd790",
       "version_major": 2,
       "version_minor": 0
      },
      "text/plain": [
       "Processing audio files:   0%|          | 0/50 [00:00<?, ?it/s]"
      ]
     },
     "metadata": {},
     "output_type": "display_data"
    },
    {
     "data": {
      "application/vnd.jupyter.widget-view+json": {
       "model_id": "8dd41f6556d54bc692ddd4f0fdaa6262",
       "version_major": 2,
       "version_minor": 0
      },
      "text/plain": [
       "Processing audio files:   0%|          | 0/50 [00:00<?, ?it/s]"
      ]
     },
     "metadata": {},
     "output_type": "display_data"
    },
    {
     "data": {
      "application/vnd.jupyter.widget-view+json": {
       "model_id": "ece6482e2bd947a8a0b65c305255380d",
       "version_major": 2,
       "version_minor": 0
      },
      "text/plain": [
       "Processing audio files:   0%|          | 0/50 [00:00<?, ?it/s]"
      ]
     },
     "metadata": {},
     "output_type": "display_data"
    },
    {
     "data": {
      "application/vnd.jupyter.widget-view+json": {
       "model_id": "36cd7027fbbc439687ad661c133a90de",
       "version_major": 2,
       "version_minor": 0
      },
      "text/plain": [
       "Processing audio files:   0%|          | 0/50 [00:00<?, ?it/s]"
      ]
     },
     "metadata": {},
     "output_type": "display_data"
    },
    {
     "data": {
      "application/vnd.jupyter.widget-view+json": {
       "model_id": "d6f4a9f6db0a40069ac101240e1f4020",
       "version_major": 2,
       "version_minor": 0
      },
      "text/plain": [
       "Processing audio files:   0%|          | 0/50 [00:00<?, ?it/s]"
      ]
     },
     "metadata": {},
     "output_type": "display_data"
    },
    {
     "data": {
      "application/vnd.jupyter.widget-view+json": {
       "model_id": "3cbdcd77d4be4b1a97957fce2d6972af",
       "version_major": 2,
       "version_minor": 0
      },
      "text/plain": [
       "Processing audio files:   0%|          | 0/50 [00:00<?, ?it/s]"
      ]
     },
     "metadata": {},
     "output_type": "display_data"
    },
    {
     "data": {
      "application/vnd.jupyter.widget-view+json": {
       "model_id": "02f31b81ad51477e9948afc1b97d1dd0",
       "version_major": 2,
       "version_minor": 0
      },
      "text/plain": [
       "Processing audio files:   0%|          | 0/50 [00:00<?, ?it/s]"
      ]
     },
     "metadata": {},
     "output_type": "display_data"
    },
    {
     "data": {
      "application/vnd.jupyter.widget-view+json": {
       "model_id": "09a247c833dd4d17beed90f72a1c3f87",
       "version_major": 2,
       "version_minor": 0
      },
      "text/plain": [
       "Processing audio files:   0%|          | 0/50 [00:00<?, ?it/s]"
      ]
     },
     "metadata": {},
     "output_type": "display_data"
    },
    {
     "data": {
      "application/vnd.jupyter.widget-view+json": {
       "model_id": "1f029d9076864a79a8866423394cb59c",
       "version_major": 2,
       "version_minor": 0
      },
      "text/plain": [
       "Processing audio files:   0%|          | 0/50 [00:00<?, ?it/s]"
      ]
     },
     "metadata": {},
     "output_type": "display_data"
    },
    {
     "data": {
      "application/vnd.jupyter.widget-view+json": {
       "model_id": "6e28ec61349e42adb3e7b1f192e6f459",
       "version_major": 2,
       "version_minor": 0
      },
      "text/plain": [
       "Processing audio files:   0%|          | 0/50 [00:00<?, ?it/s]"
      ]
     },
     "metadata": {},
     "output_type": "display_data"
    },
    {
     "data": {
      "application/vnd.jupyter.widget-view+json": {
       "model_id": "72447cc6f9da426d9f59666b7a19b6eb",
       "version_major": 2,
       "version_minor": 0
      },
      "text/plain": [
       "Processing audio files:   0%|          | 0/50 [00:00<?, ?it/s]"
      ]
     },
     "metadata": {},
     "output_type": "display_data"
    },
    {
     "data": {
      "application/vnd.jupyter.widget-view+json": {
       "model_id": "3ccf370e08be4c5aab9db12b8ae62793",
       "version_major": 2,
       "version_minor": 0
      },
      "text/plain": [
       "Processing audio files:   0%|          | 0/50 [00:00<?, ?it/s]"
      ]
     },
     "metadata": {},
     "output_type": "display_data"
    },
    {
     "data": {
      "application/vnd.jupyter.widget-view+json": {
       "model_id": "69a05826400945a38702fae8a5245128",
       "version_major": 2,
       "version_minor": 0
      },
      "text/plain": [
       "Processing audio files:   0%|          | 0/50 [00:00<?, ?it/s]"
      ]
     },
     "metadata": {},
     "output_type": "display_data"
    },
    {
     "data": {
      "application/vnd.jupyter.widget-view+json": {
       "model_id": "8f785b9e16da4ec9913341e13ebed73e",
       "version_major": 2,
       "version_minor": 0
      },
      "text/plain": [
       "Processing audio files:   0%|          | 0/50 [00:00<?, ?it/s]"
      ]
     },
     "metadata": {},
     "output_type": "display_data"
    },
    {
     "data": {
      "application/vnd.jupyter.widget-view+json": {
       "model_id": "7278bbeb712741dabdfa59111bd7fb9c",
       "version_major": 2,
       "version_minor": 0
      },
      "text/plain": [
       "Processing audio files:   0%|          | 0/50 [00:00<?, ?it/s]"
      ]
     },
     "metadata": {},
     "output_type": "display_data"
    },
    {
     "data": {
      "application/vnd.jupyter.widget-view+json": {
       "model_id": "7fbf07cf624d44debc522595705c2ef7",
       "version_major": 2,
       "version_minor": 0
      },
      "text/plain": [
       "Processing audio files:   0%|          | 0/50 [00:00<?, ?it/s]"
      ]
     },
     "metadata": {},
     "output_type": "display_data"
    },
    {
     "data": {
      "application/vnd.jupyter.widget-view+json": {
       "model_id": "3a1792e39c1d4c47949a3110970fcc60",
       "version_major": 2,
       "version_minor": 0
      },
      "text/plain": [
       "Processing audio files:   0%|          | 0/50 [00:00<?, ?it/s]"
      ]
     },
     "metadata": {},
     "output_type": "display_data"
    },
    {
     "data": {
      "application/vnd.jupyter.widget-view+json": {
       "model_id": "7c0615adc65c4447806295f3aa956d07",
       "version_major": 2,
       "version_minor": 0
      },
      "text/plain": [
       "Processing audio files:   0%|          | 0/50 [00:00<?, ?it/s]"
      ]
     },
     "metadata": {},
     "output_type": "display_data"
    },
    {
     "data": {
      "application/vnd.jupyter.widget-view+json": {
       "model_id": "256b2826986d40288eb30573836d193a",
       "version_major": 2,
       "version_minor": 0
      },
      "text/plain": [
       "Processing audio files:   0%|          | 0/50 [00:00<?, ?it/s]"
      ]
     },
     "metadata": {},
     "output_type": "display_data"
    },
    {
     "data": {
      "application/vnd.jupyter.widget-view+json": {
       "model_id": "67160e8a614343aea06b0ed6a9a614f0",
       "version_major": 2,
       "version_minor": 0
      },
      "text/plain": [
       "Processing audio files:   0%|          | 0/50 [00:00<?, ?it/s]"
      ]
     },
     "metadata": {},
     "output_type": "display_data"
    },
    {
     "data": {
      "application/vnd.jupyter.widget-view+json": {
       "model_id": "d21ef1d248994220b436368e945b6e1e",
       "version_major": 2,
       "version_minor": 0
      },
      "text/plain": [
       "Processing audio files:   0%|          | 0/50 [00:00<?, ?it/s]"
      ]
     },
     "metadata": {},
     "output_type": "display_data"
    },
    {
     "data": {
      "application/vnd.jupyter.widget-view+json": {
       "model_id": "51582bf5b3d5497eaeb02ccde1ddd5f8",
       "version_major": 2,
       "version_minor": 0
      },
      "text/plain": [
       "Processing audio files:   0%|          | 0/50 [00:00<?, ?it/s]"
      ]
     },
     "metadata": {},
     "output_type": "display_data"
    },
    {
     "data": {
      "application/vnd.jupyter.widget-view+json": {
       "model_id": "d10786bed3124666a5a6683b628d8fcc",
       "version_major": 2,
       "version_minor": 0
      },
      "text/plain": [
       "Processing audio files:   0%|          | 0/50 [00:00<?, ?it/s]"
      ]
     },
     "metadata": {},
     "output_type": "display_data"
    },
    {
     "data": {
      "application/vnd.jupyter.widget-view+json": {
       "model_id": "9dc9ecac971448d7b0e4c3b66cb4c381",
       "version_major": 2,
       "version_minor": 0
      },
      "text/plain": [
       "Processing audio files:   0%|          | 0/50 [00:00<?, ?it/s]"
      ]
     },
     "metadata": {},
     "output_type": "display_data"
    },
    {
     "data": {
      "application/vnd.jupyter.widget-view+json": {
       "model_id": "5bce0f73c7704a8dbb014bc540a9a23f",
       "version_major": 2,
       "version_minor": 0
      },
      "text/plain": [
       "Processing audio files:   0%|          | 0/50 [00:00<?, ?it/s]"
      ]
     },
     "metadata": {},
     "output_type": "display_data"
    },
    {
     "data": {
      "application/vnd.jupyter.widget-view+json": {
       "model_id": "16de06843d4f48e9bb5087a125af27e8",
       "version_major": 2,
       "version_minor": 0
      },
      "text/plain": [
       "Processing audio files:   0%|          | 0/50 [00:00<?, ?it/s]"
      ]
     },
     "metadata": {},
     "output_type": "display_data"
    },
    {
     "data": {
      "application/vnd.jupyter.widget-view+json": {
       "model_id": "50ba2c00ebe341c296bb83cfba9965f0",
       "version_major": 2,
       "version_minor": 0
      },
      "text/plain": [
       "Processing audio files:   0%|          | 0/50 [00:00<?, ?it/s]"
      ]
     },
     "metadata": {},
     "output_type": "display_data"
    },
    {
     "data": {
      "application/vnd.jupyter.widget-view+json": {
       "model_id": "ec51718929a54f2e9c267c47acca9fa2",
       "version_major": 2,
       "version_minor": 0
      },
      "text/plain": [
       "Processing audio files:   0%|          | 0/50 [00:00<?, ?it/s]"
      ]
     },
     "metadata": {},
     "output_type": "display_data"
    },
    {
     "data": {
      "application/vnd.jupyter.widget-view+json": {
       "model_id": "6a7551966c1b49469b3d6e485d7afa3a",
       "version_major": 2,
       "version_minor": 0
      },
      "text/plain": [
       "Processing audio files:   0%|          | 0/50 [00:00<?, ?it/s]"
      ]
     },
     "metadata": {},
     "output_type": "display_data"
    },
    {
     "data": {
      "application/vnd.jupyter.widget-view+json": {
       "model_id": "9b1caaf53d394b98b4228ef65f6cdc7f",
       "version_major": 2,
       "version_minor": 0
      },
      "text/plain": [
       "Processing audio files:   0%|          | 0/50 [00:00<?, ?it/s]"
      ]
     },
     "metadata": {},
     "output_type": "display_data"
    },
    {
     "data": {
      "application/vnd.jupyter.widget-view+json": {
       "model_id": "6cbba173d9b4420f98f418f37af68820",
       "version_major": 2,
       "version_minor": 0
      },
      "text/plain": [
       "Processing audio files:   0%|          | 0/50 [00:00<?, ?it/s]"
      ]
     },
     "metadata": {},
     "output_type": "display_data"
    },
    {
     "data": {
      "application/vnd.jupyter.widget-view+json": {
       "model_id": "fddd686d1757409f81a32748fa03d0f7",
       "version_major": 2,
       "version_minor": 0
      },
      "text/plain": [
       "Processing audio files:   0%|          | 0/50 [00:00<?, ?it/s]"
      ]
     },
     "metadata": {},
     "output_type": "display_data"
    },
    {
     "data": {
      "application/vnd.jupyter.widget-view+json": {
       "model_id": "a47896cb199b4c14aba0978a10f388a8",
       "version_major": 2,
       "version_minor": 0
      },
      "text/plain": [
       "Processing audio files:   0%|          | 0/50 [00:00<?, ?it/s]"
      ]
     },
     "metadata": {},
     "output_type": "display_data"
    },
    {
     "data": {
      "application/vnd.jupyter.widget-view+json": {
       "model_id": "32960ecb4b034f798f400264f14ab73d",
       "version_major": 2,
       "version_minor": 0
      },
      "text/plain": [
       "Processing audio files:   0%|          | 0/50 [00:00<?, ?it/s]"
      ]
     },
     "metadata": {},
     "output_type": "display_data"
    },
    {
     "data": {
      "application/vnd.jupyter.widget-view+json": {
       "model_id": "6ad7bd2fb56248b49e2facb0a45f5323",
       "version_major": 2,
       "version_minor": 0
      },
      "text/plain": [
       "Processing audio files:   0%|          | 0/50 [00:00<?, ?it/s]"
      ]
     },
     "metadata": {},
     "output_type": "display_data"
    },
    {
     "data": {
      "application/vnd.jupyter.widget-view+json": {
       "model_id": "5527c2e096d54aafa7f5eb3f44d48aea",
       "version_major": 2,
       "version_minor": 0
      },
      "text/plain": [
       "Processing audio files:   0%|          | 0/50 [00:00<?, ?it/s]"
      ]
     },
     "metadata": {},
     "output_type": "display_data"
    },
    {
     "data": {
      "application/vnd.jupyter.widget-view+json": {
       "model_id": "6f567e4743644f708f43ba76b8454564",
       "version_major": 2,
       "version_minor": 0
      },
      "text/plain": [
       "Processing audio files:   0%|          | 0/50 [00:00<?, ?it/s]"
      ]
     },
     "metadata": {},
     "output_type": "display_data"
    },
    {
     "data": {
      "application/vnd.jupyter.widget-view+json": {
       "model_id": "11f0cbcd807c4327aa50f7cccb194d2c",
       "version_major": 2,
       "version_minor": 0
      },
      "text/plain": [
       "Processing audio files:   0%|          | 0/50 [00:00<?, ?it/s]"
      ]
     },
     "metadata": {},
     "output_type": "display_data"
    },
    {
     "data": {
      "application/vnd.jupyter.widget-view+json": {
       "model_id": "556cebc4c803445987638006f282ca8a",
       "version_major": 2,
       "version_minor": 0
      },
      "text/plain": [
       "Processing audio files:   0%|          | 0/50 [00:00<?, ?it/s]"
      ]
     },
     "metadata": {},
     "output_type": "display_data"
    },
    {
     "data": {
      "application/vnd.jupyter.widget-view+json": {
       "model_id": "506494c10ac04de781c6160711fea278",
       "version_major": 2,
       "version_minor": 0
      },
      "text/plain": [
       "Processing audio files:   0%|          | 0/50 [00:00<?, ?it/s]"
      ]
     },
     "metadata": {},
     "output_type": "display_data"
    },
    {
     "data": {
      "application/vnd.jupyter.widget-view+json": {
       "model_id": "f7047d5d846f47bca483135d3ac35308",
       "version_major": 2,
       "version_minor": 0
      },
      "text/plain": [
       "Processing audio files:   0%|          | 0/50 [00:00<?, ?it/s]"
      ]
     },
     "metadata": {},
     "output_type": "display_data"
    },
    {
     "data": {
      "application/vnd.jupyter.widget-view+json": {
       "model_id": "128798d625bc48908df7e7bc8f5cf9fa",
       "version_major": 2,
       "version_minor": 0
      },
      "text/plain": [
       "Processing audio files:   0%|          | 0/50 [00:00<?, ?it/s]"
      ]
     },
     "metadata": {},
     "output_type": "display_data"
    },
    {
     "data": {
      "application/vnd.jupyter.widget-view+json": {
       "model_id": "7c980a3a74964cb29e7a7d9ba50028f6",
       "version_major": 2,
       "version_minor": 0
      },
      "text/plain": [
       "Processing audio files:   0%|          | 0/50 [00:00<?, ?it/s]"
      ]
     },
     "metadata": {},
     "output_type": "display_data"
    },
    {
     "data": {
      "application/vnd.jupyter.widget-view+json": {
       "model_id": "d0194fd799f8453eaedb0477f2ef830a",
       "version_major": 2,
       "version_minor": 0
      },
      "text/plain": [
       "Processing audio files:   0%|          | 0/50 [00:00<?, ?it/s]"
      ]
     },
     "metadata": {},
     "output_type": "display_data"
    },
    {
     "data": {
      "application/vnd.jupyter.widget-view+json": {
       "model_id": "8586f00394cf422ca5439fd04683ae42",
       "version_major": 2,
       "version_minor": 0
      },
      "text/plain": [
       "Processing audio files:   0%|          | 0/50 [00:00<?, ?it/s]"
      ]
     },
     "metadata": {},
     "output_type": "display_data"
    },
    {
     "data": {
      "application/vnd.jupyter.widget-view+json": {
       "model_id": "7c9d3adaa9864775a85f2e356d0cf689",
       "version_major": 2,
       "version_minor": 0
      },
      "text/plain": [
       "Processing audio files:   0%|          | 0/50 [00:00<?, ?it/s]"
      ]
     },
     "metadata": {},
     "output_type": "display_data"
    },
    {
     "data": {
      "application/vnd.jupyter.widget-view+json": {
       "model_id": "0b9da70978c645ccbc64f78d8dc95dea",
       "version_major": 2,
       "version_minor": 0
      },
      "text/plain": [
       "Processing audio files:   0%|          | 0/50 [00:00<?, ?it/s]"
      ]
     },
     "metadata": {},
     "output_type": "display_data"
    },
    {
     "data": {
      "application/vnd.jupyter.widget-view+json": {
       "model_id": "7d29a062c8274dd89c825476c3f7dfed",
       "version_major": 2,
       "version_minor": 0
      },
      "text/plain": [
       "Processing audio files:   0%|          | 0/50 [00:00<?, ?it/s]"
      ]
     },
     "metadata": {},
     "output_type": "display_data"
    },
    {
     "data": {
      "application/vnd.jupyter.widget-view+json": {
       "model_id": "43aceab926284d7388bfeee5af69f8d6",
       "version_major": 2,
       "version_minor": 0
      },
      "text/plain": [
       "Processing audio files:   0%|          | 0/50 [00:00<?, ?it/s]"
      ]
     },
     "metadata": {},
     "output_type": "display_data"
    },
    {
     "data": {
      "application/vnd.jupyter.widget-view+json": {
       "model_id": "806b32e46d764bdcac82c2b72b80c7e3",
       "version_major": 2,
       "version_minor": 0
      },
      "text/plain": [
       "Processing audio files:   0%|          | 0/50 [00:00<?, ?it/s]"
      ]
     },
     "metadata": {},
     "output_type": "display_data"
    },
    {
     "data": {
      "application/vnd.jupyter.widget-view+json": {
       "model_id": "8abe7bdc194843139eb278cc18d49172",
       "version_major": 2,
       "version_minor": 0
      },
      "text/plain": [
       "Processing audio files:   0%|          | 0/50 [00:00<?, ?it/s]"
      ]
     },
     "metadata": {},
     "output_type": "display_data"
    },
    {
     "data": {
      "application/vnd.jupyter.widget-view+json": {
       "model_id": "464c14cc0b6c4345b8680e3d10d41899",
       "version_major": 2,
       "version_minor": 0
      },
      "text/plain": [
       "Processing audio files:   0%|          | 0/50 [00:00<?, ?it/s]"
      ]
     },
     "metadata": {},
     "output_type": "display_data"
    },
    {
     "data": {
      "application/vnd.jupyter.widget-view+json": {
       "model_id": "83e4767da14840b6b2d2e8dec2c8a2bb",
       "version_major": 2,
       "version_minor": 0
      },
      "text/plain": [
       "Processing audio files:   0%|          | 0/50 [00:00<?, ?it/s]"
      ]
     },
     "metadata": {},
     "output_type": "display_data"
    },
    {
     "data": {
      "application/vnd.jupyter.widget-view+json": {
       "model_id": "a5c87d83a0ba472ab5df5f1341b34a71",
       "version_major": 2,
       "version_minor": 0
      },
      "text/plain": [
       "Processing audio files:   0%|          | 0/50 [00:00<?, ?it/s]"
      ]
     },
     "metadata": {},
     "output_type": "display_data"
    },
    {
     "data": {
      "application/vnd.jupyter.widget-view+json": {
       "model_id": "e8bcddf1ff694cab83b7d8d8dacbd41f",
       "version_major": 2,
       "version_minor": 0
      },
      "text/plain": [
       "Processing audio files:   0%|          | 0/50 [00:00<?, ?it/s]"
      ]
     },
     "metadata": {},
     "output_type": "display_data"
    },
    {
     "data": {
      "application/vnd.jupyter.widget-view+json": {
       "model_id": "cbf5272d108e455ea29b3c8f3114f96d",
       "version_major": 2,
       "version_minor": 0
      },
      "text/plain": [
       "Processing audio files:   0%|          | 0/50 [00:00<?, ?it/s]"
      ]
     },
     "metadata": {},
     "output_type": "display_data"
    },
    {
     "data": {
      "application/vnd.jupyter.widget-view+json": {
       "model_id": "12bf27e3bb6c47fa9cd0d37cf977ade1",
       "version_major": 2,
       "version_minor": 0
      },
      "text/plain": [
       "Processing audio files:   0%|          | 0/50 [00:00<?, ?it/s]"
      ]
     },
     "metadata": {},
     "output_type": "display_data"
    },
    {
     "data": {
      "application/vnd.jupyter.widget-view+json": {
       "model_id": "dbc1ffb511264ea6842d6d8ba4856a7c",
       "version_major": 2,
       "version_minor": 0
      },
      "text/plain": [
       "Processing audio files:   0%|          | 0/50 [00:00<?, ?it/s]"
      ]
     },
     "metadata": {},
     "output_type": "display_data"
    },
    {
     "data": {
      "application/vnd.jupyter.widget-view+json": {
       "model_id": "61e07379df8a4fd68e1e1a3cc540a331",
       "version_major": 2,
       "version_minor": 0
      },
      "text/plain": [
       "Processing audio files:   0%|          | 0/50 [00:00<?, ?it/s]"
      ]
     },
     "metadata": {},
     "output_type": "display_data"
    },
    {
     "data": {
      "application/vnd.jupyter.widget-view+json": {
       "model_id": "f96f66d02080484a8cf772c7a1c7901e",
       "version_major": 2,
       "version_minor": 0
      },
      "text/plain": [
       "Processing audio files:   0%|          | 0/50 [00:00<?, ?it/s]"
      ]
     },
     "metadata": {},
     "output_type": "display_data"
    },
    {
     "data": {
      "application/vnd.jupyter.widget-view+json": {
       "model_id": "bced6d543ee343afb81ec27eeec4e14d",
       "version_major": 2,
       "version_minor": 0
      },
      "text/plain": [
       "Processing audio files:   0%|          | 0/50 [00:00<?, ?it/s]"
      ]
     },
     "metadata": {},
     "output_type": "display_data"
    },
    {
     "data": {
      "application/vnd.jupyter.widget-view+json": {
       "model_id": "9e6c3da125cb415d889f1bcc4ab1026f",
       "version_major": 2,
       "version_minor": 0
      },
      "text/plain": [
       "Processing audio files:   0%|          | 0/50 [00:00<?, ?it/s]"
      ]
     },
     "metadata": {},
     "output_type": "display_data"
    },
    {
     "data": {
      "application/vnd.jupyter.widget-view+json": {
       "model_id": "f9c75f3cf6d14908ac7c07969be7a2cc",
       "version_major": 2,
       "version_minor": 0
      },
      "text/plain": [
       "Processing audio files:   0%|          | 0/50 [00:00<?, ?it/s]"
      ]
     },
     "metadata": {},
     "output_type": "display_data"
    },
    {
     "data": {
      "application/vnd.jupyter.widget-view+json": {
       "model_id": "44f872dd96524ca8b2a35a69869b862e",
       "version_major": 2,
       "version_minor": 0
      },
      "text/plain": [
       "Processing audio files:   0%|          | 0/50 [00:00<?, ?it/s]"
      ]
     },
     "metadata": {},
     "output_type": "display_data"
    },
    {
     "data": {
      "application/vnd.jupyter.widget-view+json": {
       "model_id": "aa87e23351564b2abb6207e69e85b817",
       "version_major": 2,
       "version_minor": 0
      },
      "text/plain": [
       "Processing audio files:   0%|          | 0/50 [00:00<?, ?it/s]"
      ]
     },
     "metadata": {},
     "output_type": "display_data"
    },
    {
     "data": {
      "application/vnd.jupyter.widget-view+json": {
       "model_id": "a2244620cfaf486aa139b41a1622c8ad",
       "version_major": 2,
       "version_minor": 0
      },
      "text/plain": [
       "Processing audio files:   0%|          | 0/50 [00:00<?, ?it/s]"
      ]
     },
     "metadata": {},
     "output_type": "display_data"
    },
    {
     "data": {
      "application/vnd.jupyter.widget-view+json": {
       "model_id": "0bc2b1dfda1040829bee9a7b467e57f1",
       "version_major": 2,
       "version_minor": 0
      },
      "text/plain": [
       "Processing audio files:   0%|          | 0/50 [00:00<?, ?it/s]"
      ]
     },
     "metadata": {},
     "output_type": "display_data"
    },
    {
     "data": {
      "application/vnd.jupyter.widget-view+json": {
       "model_id": "bc4e72580c69447fadf628fafe31ceb8",
       "version_major": 2,
       "version_minor": 0
      },
      "text/plain": [
       "Processing audio files:   0%|          | 0/50 [00:00<?, ?it/s]"
      ]
     },
     "metadata": {},
     "output_type": "display_data"
    },
    {
     "data": {
      "application/vnd.jupyter.widget-view+json": {
       "model_id": "d538bb041dd243aa939985cfcaf93697",
       "version_major": 2,
       "version_minor": 0
      },
      "text/plain": [
       "Processing audio files:   0%|          | 0/50 [00:00<?, ?it/s]"
      ]
     },
     "metadata": {},
     "output_type": "display_data"
    },
    {
     "data": {
      "application/vnd.jupyter.widget-view+json": {
       "model_id": "b6de0aa5862648b689874e4a64af3b1f",
       "version_major": 2,
       "version_minor": 0
      },
      "text/plain": [
       "Processing audio files:   0%|          | 0/50 [00:00<?, ?it/s]"
      ]
     },
     "metadata": {},
     "output_type": "display_data"
    },
    {
     "data": {
      "application/vnd.jupyter.widget-view+json": {
       "model_id": "44ff6391aa574572b46c06e4aa0ded43",
       "version_major": 2,
       "version_minor": 0
      },
      "text/plain": [
       "Processing audio files:   0%|          | 0/50 [00:00<?, ?it/s]"
      ]
     },
     "metadata": {},
     "output_type": "display_data"
    },
    {
     "data": {
      "application/vnd.jupyter.widget-view+json": {
       "model_id": "b87dba9eeb4e4242b7aeabf2897d79ee",
       "version_major": 2,
       "version_minor": 0
      },
      "text/plain": [
       "Processing audio files:   0%|          | 0/50 [00:00<?, ?it/s]"
      ]
     },
     "metadata": {},
     "output_type": "display_data"
    },
    {
     "data": {
      "application/vnd.jupyter.widget-view+json": {
       "model_id": "9c8e2f1432c644a3b1995bc30b657fc1",
       "version_major": 2,
       "version_minor": 0
      },
      "text/plain": [
       "Processing audio files:   0%|          | 0/50 [00:00<?, ?it/s]"
      ]
     },
     "metadata": {},
     "output_type": "display_data"
    },
    {
     "data": {
      "application/vnd.jupyter.widget-view+json": {
       "model_id": "5fee5ccf5c314b67a23e1c3e21c59abf",
       "version_major": 2,
       "version_minor": 0
      },
      "text/plain": [
       "Processing audio files:   0%|          | 0/50 [00:00<?, ?it/s]"
      ]
     },
     "metadata": {},
     "output_type": "display_data"
    },
    {
     "data": {
      "application/vnd.jupyter.widget-view+json": {
       "model_id": "39cfc18e45e5436e93cc95fc0f376389",
       "version_major": 2,
       "version_minor": 0
      },
      "text/plain": [
       "Processing audio files:   0%|          | 0/50 [00:00<?, ?it/s]"
      ]
     },
     "metadata": {},
     "output_type": "display_data"
    },
    {
     "data": {
      "application/vnd.jupyter.widget-view+json": {
       "model_id": "cc0f3eb15a8e43238776669484e87c5f",
       "version_major": 2,
       "version_minor": 0
      },
      "text/plain": [
       "Processing audio files:   0%|          | 0/50 [00:00<?, ?it/s]"
      ]
     },
     "metadata": {},
     "output_type": "display_data"
    },
    {
     "data": {
      "application/vnd.jupyter.widget-view+json": {
       "model_id": "0f80e7793ee24c39bd2fe469cad9f64b",
       "version_major": 2,
       "version_minor": 0
      },
      "text/plain": [
       "Processing audio files:   0%|          | 0/50 [00:00<?, ?it/s]"
      ]
     },
     "metadata": {},
     "output_type": "display_data"
    },
    {
     "data": {
      "application/vnd.jupyter.widget-view+json": {
       "model_id": "6630790844ce4db585611d6ce2ce58e5",
       "version_major": 2,
       "version_minor": 0
      },
      "text/plain": [
       "Processing audio files:   0%|          | 0/50 [00:00<?, ?it/s]"
      ]
     },
     "metadata": {},
     "output_type": "display_data"
    },
    {
     "data": {
      "application/vnd.jupyter.widget-view+json": {
       "model_id": "c149457105fc4e59b9e70cfabce46efa",
       "version_major": 2,
       "version_minor": 0
      },
      "text/plain": [
       "Processing audio files:   0%|          | 0/50 [00:00<?, ?it/s]"
      ]
     },
     "metadata": {},
     "output_type": "display_data"
    },
    {
     "data": {
      "application/vnd.jupyter.widget-view+json": {
       "model_id": "dc0e8e8667f2473187a209a4d29997e4",
       "version_major": 2,
       "version_minor": 0
      },
      "text/plain": [
       "Processing audio files:   0%|          | 0/50 [00:00<?, ?it/s]"
      ]
     },
     "metadata": {},
     "output_type": "display_data"
    },
    {
     "data": {
      "application/vnd.jupyter.widget-view+json": {
       "model_id": "298213a937f1453baffe879ef89afd5b",
       "version_major": 2,
       "version_minor": 0
      },
      "text/plain": [
       "Processing audio files:   0%|          | 0/50 [00:00<?, ?it/s]"
      ]
     },
     "metadata": {},
     "output_type": "display_data"
    },
    {
     "data": {
      "application/vnd.jupyter.widget-view+json": {
       "model_id": "14d29151ae424d28b3f46c529361bc6c",
       "version_major": 2,
       "version_minor": 0
      },
      "text/plain": [
       "Processing audio files:   0%|          | 0/50 [00:00<?, ?it/s]"
      ]
     },
     "metadata": {},
     "output_type": "display_data"
    },
    {
     "data": {
      "application/vnd.jupyter.widget-view+json": {
       "model_id": "a013301437b0484e8bc2ffc1dbeb58ad",
       "version_major": 2,
       "version_minor": 0
      },
      "text/plain": [
       "Processing audio files:   0%|          | 0/50 [00:00<?, ?it/s]"
      ]
     },
     "metadata": {},
     "output_type": "display_data"
    },
    {
     "data": {
      "application/vnd.jupyter.widget-view+json": {
       "model_id": "7bc6f0e1914b4c638e16ad12ef560ae0",
       "version_major": 2,
       "version_minor": 0
      },
      "text/plain": [
       "Processing audio files:   0%|          | 0/50 [00:00<?, ?it/s]"
      ]
     },
     "metadata": {},
     "output_type": "display_data"
    },
    {
     "data": {
      "application/vnd.jupyter.widget-view+json": {
       "model_id": "95c652045a624535bdf7a21e0081be13",
       "version_major": 2,
       "version_minor": 0
      },
      "text/plain": [
       "Processing audio files:   0%|          | 0/50 [00:00<?, ?it/s]"
      ]
     },
     "metadata": {},
     "output_type": "display_data"
    },
    {
     "data": {
      "application/vnd.jupyter.widget-view+json": {
       "model_id": "706c43b964014b99bb3b16b171e9bd37",
       "version_major": 2,
       "version_minor": 0
      },
      "text/plain": [
       "Processing audio files:   0%|          | 0/50 [00:00<?, ?it/s]"
      ]
     },
     "metadata": {},
     "output_type": "display_data"
    },
    {
     "data": {
      "application/vnd.jupyter.widget-view+json": {
       "model_id": "91365c9ba3a44c608c521f1a64286e78",
       "version_major": 2,
       "version_minor": 0
      },
      "text/plain": [
       "Processing audio files:   0%|          | 0/50 [00:00<?, ?it/s]"
      ]
     },
     "metadata": {},
     "output_type": "display_data"
    },
    {
     "data": {
      "application/vnd.jupyter.widget-view+json": {
       "model_id": "adbbb1ea8bee4d6e954473d4197974f8",
       "version_major": 2,
       "version_minor": 0
      },
      "text/plain": [
       "Processing audio files:   0%|          | 0/50 [00:00<?, ?it/s]"
      ]
     },
     "metadata": {},
     "output_type": "display_data"
    },
    {
     "data": {
      "application/vnd.jupyter.widget-view+json": {
       "model_id": "c6ee8139ab85490d96cf674a2e017341",
       "version_major": 2,
       "version_minor": 0
      },
      "text/plain": [
       "Processing audio files:   0%|          | 0/50 [00:00<?, ?it/s]"
      ]
     },
     "metadata": {},
     "output_type": "display_data"
    },
    {
     "data": {
      "application/vnd.jupyter.widget-view+json": {
       "model_id": "c4aeadd6df694e89881587d0ca4520e2",
       "version_major": 2,
       "version_minor": 0
      },
      "text/plain": [
       "Processing audio files:   0%|          | 0/50 [00:00<?, ?it/s]"
      ]
     },
     "metadata": {},
     "output_type": "display_data"
    },
    {
     "data": {
      "application/vnd.jupyter.widget-view+json": {
       "model_id": "27926b7c2a1c42f69f1bae94e76d8455",
       "version_major": 2,
       "version_minor": 0
      },
      "text/plain": [
       "Processing audio files:   0%|          | 0/50 [00:00<?, ?it/s]"
      ]
     },
     "metadata": {},
     "output_type": "display_data"
    },
    {
     "data": {
      "application/vnd.jupyter.widget-view+json": {
       "model_id": "53cd6d147e804e9387d6bbb0326629a4",
       "version_major": 2,
       "version_minor": 0
      },
      "text/plain": [
       "Processing audio files:   0%|          | 0/50 [00:00<?, ?it/s]"
      ]
     },
     "metadata": {},
     "output_type": "display_data"
    },
    {
     "data": {
      "application/vnd.jupyter.widget-view+json": {
       "model_id": "f6c1d348400f413f9de5b3ba5a463749",
       "version_major": 2,
       "version_minor": 0
      },
      "text/plain": [
       "Processing audio files:   0%|          | 0/50 [00:00<?, ?it/s]"
      ]
     },
     "metadata": {},
     "output_type": "display_data"
    },
    {
     "data": {
      "application/vnd.jupyter.widget-view+json": {
       "model_id": "e249978468e3464e9df1d3d3148c4562",
       "version_major": 2,
       "version_minor": 0
      },
      "text/plain": [
       "Processing audio files:   0%|          | 0/50 [00:00<?, ?it/s]"
      ]
     },
     "metadata": {},
     "output_type": "display_data"
    },
    {
     "data": {
      "application/vnd.jupyter.widget-view+json": {
       "model_id": "425b7d2cdd94446eabc0b6ccbd597109",
       "version_major": 2,
       "version_minor": 0
      },
      "text/plain": [
       "Processing audio files:   0%|          | 0/50 [00:00<?, ?it/s]"
      ]
     },
     "metadata": {},
     "output_type": "display_data"
    },
    {
     "data": {
      "application/vnd.jupyter.widget-view+json": {
       "model_id": "f86ff47c13714e8885b0798bea21f256",
       "version_major": 2,
       "version_minor": 0
      },
      "text/plain": [
       "Processing audio files:   0%|          | 0/50 [00:00<?, ?it/s]"
      ]
     },
     "metadata": {},
     "output_type": "display_data"
    },
    {
     "data": {
      "application/vnd.jupyter.widget-view+json": {
       "model_id": "95107ac1755b437095a9c3e71b5195c7",
       "version_major": 2,
       "version_minor": 0
      },
      "text/plain": [
       "Processing audio files:   0%|          | 0/50 [00:00<?, ?it/s]"
      ]
     },
     "metadata": {},
     "output_type": "display_data"
    },
    {
     "data": {
      "application/vnd.jupyter.widget-view+json": {
       "model_id": "d936b812fda14b6abb6705cf33e83147",
       "version_major": 2,
       "version_minor": 0
      },
      "text/plain": [
       "Processing audio files:   0%|          | 0/50 [00:00<?, ?it/s]"
      ]
     },
     "metadata": {},
     "output_type": "display_data"
    },
    {
     "data": {
      "application/vnd.jupyter.widget-view+json": {
       "model_id": "0b91386c75df49d48d8f17db48821ac5",
       "version_major": 2,
       "version_minor": 0
      },
      "text/plain": [
       "Processing audio files:   0%|          | 0/50 [00:00<?, ?it/s]"
      ]
     },
     "metadata": {},
     "output_type": "display_data"
    },
    {
     "data": {
      "application/vnd.jupyter.widget-view+json": {
       "model_id": "b171b116d60044b7957883e0bc454c13",
       "version_major": 2,
       "version_minor": 0
      },
      "text/plain": [
       "Processing audio files:   0%|          | 0/50 [00:00<?, ?it/s]"
      ]
     },
     "metadata": {},
     "output_type": "display_data"
    },
    {
     "data": {
      "application/vnd.jupyter.widget-view+json": {
       "model_id": "6fc39f59360342b0b56f7b0b3c52c384",
       "version_major": 2,
       "version_minor": 0
      },
      "text/plain": [
       "Processing audio files:   0%|          | 0/50 [00:00<?, ?it/s]"
      ]
     },
     "metadata": {},
     "output_type": "display_data"
    },
    {
     "data": {
      "application/vnd.jupyter.widget-view+json": {
       "model_id": "7427f56567c64d71b9fa1f32eec8fcf5",
       "version_major": 2,
       "version_minor": 0
      },
      "text/plain": [
       "Processing audio files:   0%|          | 0/50 [00:00<?, ?it/s]"
      ]
     },
     "metadata": {},
     "output_type": "display_data"
    },
    {
     "data": {
      "application/vnd.jupyter.widget-view+json": {
       "model_id": "85e861e9fef34077b32657db2edc3a97",
       "version_major": 2,
       "version_minor": 0
      },
      "text/plain": [
       "Processing audio files:   0%|          | 0/50 [00:00<?, ?it/s]"
      ]
     },
     "metadata": {},
     "output_type": "display_data"
    },
    {
     "data": {
      "application/vnd.jupyter.widget-view+json": {
       "model_id": "7041c7337996447fbafadd0de43ac9a3",
       "version_major": 2,
       "version_minor": 0
      },
      "text/plain": [
       "Processing audio files:   0%|          | 0/50 [00:00<?, ?it/s]"
      ]
     },
     "metadata": {},
     "output_type": "display_data"
    },
    {
     "data": {
      "application/vnd.jupyter.widget-view+json": {
       "model_id": "99040182f844471f9b145a7c4cff65c5",
       "version_major": 2,
       "version_minor": 0
      },
      "text/plain": [
       "Processing audio files:   0%|          | 0/50 [00:00<?, ?it/s]"
      ]
     },
     "metadata": {},
     "output_type": "display_data"
    },
    {
     "data": {
      "application/vnd.jupyter.widget-view+json": {
       "model_id": "a90ebf01ba4c449e98d6ef35a3d59030",
       "version_major": 2,
       "version_minor": 0
      },
      "text/plain": [
       "Processing audio files:   0%|          | 0/50 [00:00<?, ?it/s]"
      ]
     },
     "metadata": {},
     "output_type": "display_data"
    },
    {
     "data": {
      "application/vnd.jupyter.widget-view+json": {
       "model_id": "3e069cd9399847a2a322b14befedacb8",
       "version_major": 2,
       "version_minor": 0
      },
      "text/plain": [
       "Processing audio files:   0%|          | 0/50 [00:00<?, ?it/s]"
      ]
     },
     "metadata": {},
     "output_type": "display_data"
    },
    {
     "data": {
      "application/vnd.jupyter.widget-view+json": {
       "model_id": "ea3f03ee1e984009aa0a8b9ddd4e96d7",
       "version_major": 2,
       "version_minor": 0
      },
      "text/plain": [
       "Processing audio files:   0%|          | 0/50 [00:00<?, ?it/s]"
      ]
     },
     "metadata": {},
     "output_type": "display_data"
    },
    {
     "data": {
      "application/vnd.jupyter.widget-view+json": {
       "model_id": "7a7a928fec1c43e2af2a86c5198129ac",
       "version_major": 2,
       "version_minor": 0
      },
      "text/plain": [
       "Processing audio files:   0%|          | 0/50 [00:00<?, ?it/s]"
      ]
     },
     "metadata": {},
     "output_type": "display_data"
    },
    {
     "data": {
      "application/vnd.jupyter.widget-view+json": {
       "model_id": "44e165c945e1428ea48b8c398fa87048",
       "version_major": 2,
       "version_minor": 0
      },
      "text/plain": [
       "Processing audio files:   0%|          | 0/50 [00:00<?, ?it/s]"
      ]
     },
     "metadata": {},
     "output_type": "display_data"
    },
    {
     "data": {
      "application/vnd.jupyter.widget-view+json": {
       "model_id": "e07571aba6154628b85f172300513f42",
       "version_major": 2,
       "version_minor": 0
      },
      "text/plain": [
       "Processing audio files:   0%|          | 0/50 [00:00<?, ?it/s]"
      ]
     },
     "metadata": {},
     "output_type": "display_data"
    },
    {
     "data": {
      "application/vnd.jupyter.widget-view+json": {
       "model_id": "e9239d94ceec400286b479418b5ea806",
       "version_major": 2,
       "version_minor": 0
      },
      "text/plain": [
       "Processing audio files:   0%|          | 0/50 [00:00<?, ?it/s]"
      ]
     },
     "metadata": {},
     "output_type": "display_data"
    },
    {
     "data": {
      "application/vnd.jupyter.widget-view+json": {
       "model_id": "da92a927580d4fef951ed8461c4662b7",
       "version_major": 2,
       "version_minor": 0
      },
      "text/plain": [
       "Processing audio files:   0%|          | 0/50 [00:00<?, ?it/s]"
      ]
     },
     "metadata": {},
     "output_type": "display_data"
    },
    {
     "data": {
      "application/vnd.jupyter.widget-view+json": {
       "model_id": "5bdbe49c60ac499c98cfe5ef75979a0f",
       "version_major": 2,
       "version_minor": 0
      },
      "text/plain": [
       "Processing audio files:   0%|          | 0/50 [00:00<?, ?it/s]"
      ]
     },
     "metadata": {},
     "output_type": "display_data"
    },
    {
     "data": {
      "application/vnd.jupyter.widget-view+json": {
       "model_id": "6ed7ba62760b4b5dbd1824b0e450cdf2",
       "version_major": 2,
       "version_minor": 0
      },
      "text/plain": [
       "Processing audio files:   0%|          | 0/50 [00:00<?, ?it/s]"
      ]
     },
     "metadata": {},
     "output_type": "display_data"
    },
    {
     "data": {
      "application/vnd.jupyter.widget-view+json": {
       "model_id": "017348c61baa4ba595dc6488dcac952f",
       "version_major": 2,
       "version_minor": 0
      },
      "text/plain": [
       "Processing audio files:   0%|          | 0/50 [00:00<?, ?it/s]"
      ]
     },
     "metadata": {},
     "output_type": "display_data"
    },
    {
     "data": {
      "application/vnd.jupyter.widget-view+json": {
       "model_id": "4ef807df07c14c599ab2499067090ed7",
       "version_major": 2,
       "version_minor": 0
      },
      "text/plain": [
       "Processing audio files:   0%|          | 0/50 [00:00<?, ?it/s]"
      ]
     },
     "metadata": {},
     "output_type": "display_data"
    },
    {
     "data": {
      "application/vnd.jupyter.widget-view+json": {
       "model_id": "51b0e4339c394a29b04f232a2cd904a3",
       "version_major": 2,
       "version_minor": 0
      },
      "text/plain": [
       "Processing audio files:   0%|          | 0/50 [00:00<?, ?it/s]"
      ]
     },
     "metadata": {},
     "output_type": "display_data"
    },
    {
     "data": {
      "application/vnd.jupyter.widget-view+json": {
       "model_id": "4e2fcb01650f4ff682267b4bbb1075ef",
       "version_major": 2,
       "version_minor": 0
      },
      "text/plain": [
       "Processing audio files:   0%|          | 0/50 [00:00<?, ?it/s]"
      ]
     },
     "metadata": {},
     "output_type": "display_data"
    },
    {
     "data": {
      "application/vnd.jupyter.widget-view+json": {
       "model_id": "7e21b6b2e7664d0aa72287d95ad310bc",
       "version_major": 2,
       "version_minor": 0
      },
      "text/plain": [
       "Processing audio files:   0%|          | 0/50 [00:00<?, ?it/s]"
      ]
     },
     "metadata": {},
     "output_type": "display_data"
    },
    {
     "data": {
      "application/vnd.jupyter.widget-view+json": {
       "model_id": "62413ad9d77845589286d9c4d99a2394",
       "version_major": 2,
       "version_minor": 0
      },
      "text/plain": [
       "Processing audio files:   0%|          | 0/50 [00:00<?, ?it/s]"
      ]
     },
     "metadata": {},
     "output_type": "display_data"
    },
    {
     "data": {
      "application/vnd.jupyter.widget-view+json": {
       "model_id": "d3efcc7ab6384608bf016dc2776aea2c",
       "version_major": 2,
       "version_minor": 0
      },
      "text/plain": [
       "Processing audio files:   0%|          | 0/50 [00:00<?, ?it/s]"
      ]
     },
     "metadata": {},
     "output_type": "display_data"
    },
    {
     "data": {
      "application/vnd.jupyter.widget-view+json": {
       "model_id": "5f4f78efd09d411c973700d51c562e8e",
       "version_major": 2,
       "version_minor": 0
      },
      "text/plain": [
       "Processing audio files:   0%|          | 0/50 [00:00<?, ?it/s]"
      ]
     },
     "metadata": {},
     "output_type": "display_data"
    },
    {
     "data": {
      "application/vnd.jupyter.widget-view+json": {
       "model_id": "6de28c7c56f3481e8125d4991f8aafa6",
       "version_major": 2,
       "version_minor": 0
      },
      "text/plain": [
       "Processing audio files:   0%|          | 0/50 [00:00<?, ?it/s]"
      ]
     },
     "metadata": {},
     "output_type": "display_data"
    },
    {
     "data": {
      "application/vnd.jupyter.widget-view+json": {
       "model_id": "b5f01d02f7da4791895e0ffa26b10cba",
       "version_major": 2,
       "version_minor": 0
      },
      "text/plain": [
       "Processing audio files:   0%|          | 0/50 [00:00<?, ?it/s]"
      ]
     },
     "metadata": {},
     "output_type": "display_data"
    },
    {
     "data": {
      "application/vnd.jupyter.widget-view+json": {
       "model_id": "72be57dcd13241579085a0c2de12e03c",
       "version_major": 2,
       "version_minor": 0
      },
      "text/plain": [
       "Processing audio files:   0%|          | 0/50 [00:00<?, ?it/s]"
      ]
     },
     "metadata": {},
     "output_type": "display_data"
    },
    {
     "data": {
      "application/vnd.jupyter.widget-view+json": {
       "model_id": "739e7f766855493486b1e4e15cdb91a7",
       "version_major": 2,
       "version_minor": 0
      },
      "text/plain": [
       "Processing audio files:   0%|          | 0/50 [00:00<?, ?it/s]"
      ]
     },
     "metadata": {},
     "output_type": "display_data"
    },
    {
     "data": {
      "application/vnd.jupyter.widget-view+json": {
       "model_id": "57c0033ae4db423facf24696050ae249",
       "version_major": 2,
       "version_minor": 0
      },
      "text/plain": [
       "Processing audio files:   0%|          | 0/50 [00:00<?, ?it/s]"
      ]
     },
     "metadata": {},
     "output_type": "display_data"
    },
    {
     "data": {
      "application/vnd.jupyter.widget-view+json": {
       "model_id": "c6987ce25e5b4f3ebf7b618a0f121bc6",
       "version_major": 2,
       "version_minor": 0
      },
      "text/plain": [
       "Processing audio files:   0%|          | 0/50 [00:00<?, ?it/s]"
      ]
     },
     "metadata": {},
     "output_type": "display_data"
    },
    {
     "data": {
      "application/vnd.jupyter.widget-view+json": {
       "model_id": "94a1f018bd014b608c127644399b7bae",
       "version_major": 2,
       "version_minor": 0
      },
      "text/plain": [
       "Processing audio files:   0%|          | 0/50 [00:00<?, ?it/s]"
      ]
     },
     "metadata": {},
     "output_type": "display_data"
    },
    {
     "data": {
      "application/vnd.jupyter.widget-view+json": {
       "model_id": "1293bb9506734fae9507cde24a14d8d7",
       "version_major": 2,
       "version_minor": 0
      },
      "text/plain": [
       "Processing audio files:   0%|          | 0/50 [00:00<?, ?it/s]"
      ]
     },
     "metadata": {},
     "output_type": "display_data"
    },
    {
     "data": {
      "application/vnd.jupyter.widget-view+json": {
       "model_id": "297e4db032fc488aad9466cff854355f",
       "version_major": 2,
       "version_minor": 0
      },
      "text/plain": [
       "Processing audio files:   0%|          | 0/50 [00:00<?, ?it/s]"
      ]
     },
     "metadata": {},
     "output_type": "display_data"
    },
    {
     "data": {
      "application/vnd.jupyter.widget-view+json": {
       "model_id": "5529d0c16a4c469090747e0115fd3ae6",
       "version_major": 2,
       "version_minor": 0
      },
      "text/plain": [
       "Processing audio files:   0%|          | 0/50 [00:00<?, ?it/s]"
      ]
     },
     "metadata": {},
     "output_type": "display_data"
    },
    {
     "data": {
      "application/vnd.jupyter.widget-view+json": {
       "model_id": "4a9e961fd19648b98eec006fa83052ce",
       "version_major": 2,
       "version_minor": 0
      },
      "text/plain": [
       "Processing audio files:   0%|          | 0/50 [00:00<?, ?it/s]"
      ]
     },
     "metadata": {},
     "output_type": "display_data"
    },
    {
     "data": {
      "application/vnd.jupyter.widget-view+json": {
       "model_id": "53c4a2324505439ea9d41fe934d11b89",
       "version_major": 2,
       "version_minor": 0
      },
      "text/plain": [
       "Processing audio files:   0%|          | 0/50 [00:00<?, ?it/s]"
      ]
     },
     "metadata": {},
     "output_type": "display_data"
    },
    {
     "data": {
      "application/vnd.jupyter.widget-view+json": {
       "model_id": "2ddd8b42d2e94bf18bc98c336f5fb210",
       "version_major": 2,
       "version_minor": 0
      },
      "text/plain": [
       "Processing audio files:   0%|          | 0/50 [00:00<?, ?it/s]"
      ]
     },
     "metadata": {},
     "output_type": "display_data"
    },
    {
     "data": {
      "application/vnd.jupyter.widget-view+json": {
       "model_id": "a9aebb0b39d5495093f7be2b26cd5936",
       "version_major": 2,
       "version_minor": 0
      },
      "text/plain": [
       "Processing audio files:   0%|          | 0/50 [00:00<?, ?it/s]"
      ]
     },
     "metadata": {},
     "output_type": "display_data"
    },
    {
     "data": {
      "application/vnd.jupyter.widget-view+json": {
       "model_id": "a76afe0d3b96403da3af3887541b9c73",
       "version_major": 2,
       "version_minor": 0
      },
      "text/plain": [
       "Processing audio files:   0%|          | 0/50 [00:00<?, ?it/s]"
      ]
     },
     "metadata": {},
     "output_type": "display_data"
    },
    {
     "data": {
      "application/vnd.jupyter.widget-view+json": {
       "model_id": "a9b50e9f1c484877ae51020dec9cab99",
       "version_major": 2,
       "version_minor": 0
      },
      "text/plain": [
       "Processing audio files:   0%|          | 0/50 [00:00<?, ?it/s]"
      ]
     },
     "metadata": {},
     "output_type": "display_data"
    },
    {
     "data": {
      "application/vnd.jupyter.widget-view+json": {
       "model_id": "9d7016227f6d42f09c676e3f532b548c",
       "version_major": 2,
       "version_minor": 0
      },
      "text/plain": [
       "Processing audio files:   0%|          | 0/50 [00:00<?, ?it/s]"
      ]
     },
     "metadata": {},
     "output_type": "display_data"
    },
    {
     "data": {
      "application/vnd.jupyter.widget-view+json": {
       "model_id": "4cd2fc6d7cc340aaa20ceffb917736d6",
       "version_major": 2,
       "version_minor": 0
      },
      "text/plain": [
       "Processing audio files:   0%|          | 0/50 [00:00<?, ?it/s]"
      ]
     },
     "metadata": {},
     "output_type": "display_data"
    },
    {
     "data": {
      "application/vnd.jupyter.widget-view+json": {
       "model_id": "fb44b9cb5001430792fe69e1274d0a2c",
       "version_major": 2,
       "version_minor": 0
      },
      "text/plain": [
       "Processing audio files:   0%|          | 0/50 [00:00<?, ?it/s]"
      ]
     },
     "metadata": {},
     "output_type": "display_data"
    },
    {
     "data": {
      "application/vnd.jupyter.widget-view+json": {
       "model_id": "a1f487e6072740529777ed88887dca19",
       "version_major": 2,
       "version_minor": 0
      },
      "text/plain": [
       "Processing audio files:   0%|          | 0/50 [00:00<?, ?it/s]"
      ]
     },
     "metadata": {},
     "output_type": "display_data"
    },
    {
     "data": {
      "application/vnd.jupyter.widget-view+json": {
       "model_id": "656261b72ac94982b943c0732e2ffc97",
       "version_major": 2,
       "version_minor": 0
      },
      "text/plain": [
       "Processing audio files:   0%|          | 0/50 [00:00<?, ?it/s]"
      ]
     },
     "metadata": {},
     "output_type": "display_data"
    },
    {
     "data": {
      "application/vnd.jupyter.widget-view+json": {
       "model_id": "aed73e8366c24727ad31600c55401319",
       "version_major": 2,
       "version_minor": 0
      },
      "text/plain": [
       "Processing audio files:   0%|          | 0/50 [00:00<?, ?it/s]"
      ]
     },
     "metadata": {},
     "output_type": "display_data"
    },
    {
     "data": {
      "application/vnd.jupyter.widget-view+json": {
       "model_id": "3e62f24694264428a67a8670e919a6c9",
       "version_major": 2,
       "version_minor": 0
      },
      "text/plain": [
       "Processing audio files:   0%|          | 0/50 [00:00<?, ?it/s]"
      ]
     },
     "metadata": {},
     "output_type": "display_data"
    },
    {
     "data": {
      "application/vnd.jupyter.widget-view+json": {
       "model_id": "c1a92fe8435e41ebb57132d1a3f80a5c",
       "version_major": 2,
       "version_minor": 0
      },
      "text/plain": [
       "Processing audio files:   0%|          | 0/50 [00:00<?, ?it/s]"
      ]
     },
     "metadata": {},
     "output_type": "display_data"
    },
    {
     "data": {
      "application/vnd.jupyter.widget-view+json": {
       "model_id": "b5730a7223fe4d7bbf42429edd463ae2",
       "version_major": 2,
       "version_minor": 0
      },
      "text/plain": [
       "Processing audio files:   0%|          | 0/50 [00:00<?, ?it/s]"
      ]
     },
     "metadata": {},
     "output_type": "display_data"
    },
    {
     "data": {
      "application/vnd.jupyter.widget-view+json": {
       "model_id": "fc2cf399e98f42988dbfd889db5eebcc",
       "version_major": 2,
       "version_minor": 0
      },
      "text/plain": [
       "Processing audio files:   0%|          | 0/50 [00:00<?, ?it/s]"
      ]
     },
     "metadata": {},
     "output_type": "display_data"
    },
    {
     "data": {
      "application/vnd.jupyter.widget-view+json": {
       "model_id": "2f34c4b9b22841c7951778480cef9eef",
       "version_major": 2,
       "version_minor": 0
      },
      "text/plain": [
       "Processing audio files:   0%|          | 0/50 [00:00<?, ?it/s]"
      ]
     },
     "metadata": {},
     "output_type": "display_data"
    },
    {
     "data": {
      "application/vnd.jupyter.widget-view+json": {
       "model_id": "92f86b9be45c4202a66f427402f6bf22",
       "version_major": 2,
       "version_minor": 0
      },
      "text/plain": [
       "Processing audio files:   0%|          | 0/50 [00:00<?, ?it/s]"
      ]
     },
     "metadata": {},
     "output_type": "display_data"
    },
    {
     "data": {
      "application/vnd.jupyter.widget-view+json": {
       "model_id": "5fc57d8625e8487dbf641e73efdc2622",
       "version_major": 2,
       "version_minor": 0
      },
      "text/plain": [
       "Processing audio files:   0%|          | 0/50 [00:00<?, ?it/s]"
      ]
     },
     "metadata": {},
     "output_type": "display_data"
    },
    {
     "data": {
      "application/vnd.jupyter.widget-view+json": {
       "model_id": "57ec50f2b90f45a2998abf153d106574",
       "version_major": 2,
       "version_minor": 0
      },
      "text/plain": [
       "Processing audio files:   0%|          | 0/50 [00:00<?, ?it/s]"
      ]
     },
     "metadata": {},
     "output_type": "display_data"
    },
    {
     "data": {
      "application/vnd.jupyter.widget-view+json": {
       "model_id": "fc67a1e8ba4a45d6b128825edb5da987",
       "version_major": 2,
       "version_minor": 0
      },
      "text/plain": [
       "Processing audio files:   0%|          | 0/50 [00:00<?, ?it/s]"
      ]
     },
     "metadata": {},
     "output_type": "display_data"
    },
    {
     "data": {
      "application/vnd.jupyter.widget-view+json": {
       "model_id": "50ff738df0744a68a663bebc1efcf6d8",
       "version_major": 2,
       "version_minor": 0
      },
      "text/plain": [
       "Processing audio files:   0%|          | 0/50 [00:00<?, ?it/s]"
      ]
     },
     "metadata": {},
     "output_type": "display_data"
    },
    {
     "data": {
      "application/vnd.jupyter.widget-view+json": {
       "model_id": "567e378fd1194a7482dab93c973cc586",
       "version_major": 2,
       "version_minor": 0
      },
      "text/plain": [
       "Processing audio files:   0%|          | 0/50 [00:00<?, ?it/s]"
      ]
     },
     "metadata": {},
     "output_type": "display_data"
    },
    {
     "data": {
      "application/vnd.jupyter.widget-view+json": {
       "model_id": "b3c79be4709d447e802aea487c8d4b5f",
       "version_major": 2,
       "version_minor": 0
      },
      "text/plain": [
       "Processing audio files:   0%|          | 0/50 [00:00<?, ?it/s]"
      ]
     },
     "metadata": {},
     "output_type": "display_data"
    },
    {
     "data": {
      "application/vnd.jupyter.widget-view+json": {
       "model_id": "d04deba6d18344c1b4adf885387d0483",
       "version_major": 2,
       "version_minor": 0
      },
      "text/plain": [
       "Processing audio files:   0%|          | 0/50 [00:00<?, ?it/s]"
      ]
     },
     "metadata": {},
     "output_type": "display_data"
    },
    {
     "data": {
      "application/vnd.jupyter.widget-view+json": {
       "model_id": "d6ba43d899cb494798b90ce93f12eca4",
       "version_major": 2,
       "version_minor": 0
      },
      "text/plain": [
       "Processing audio files:   0%|          | 0/50 [00:00<?, ?it/s]"
      ]
     },
     "metadata": {},
     "output_type": "display_data"
    },
    {
     "data": {
      "application/vnd.jupyter.widget-view+json": {
       "model_id": "4cfabcbd1f604bb19b5877a57862d38d",
       "version_major": 2,
       "version_minor": 0
      },
      "text/plain": [
       "Processing audio files:   0%|          | 0/50 [00:00<?, ?it/s]"
      ]
     },
     "metadata": {},
     "output_type": "display_data"
    },
    {
     "data": {
      "application/vnd.jupyter.widget-view+json": {
       "model_id": "0030b451c94d4c72bb77fe0b018d7f86",
       "version_major": 2,
       "version_minor": 0
      },
      "text/plain": [
       "Processing audio files:   0%|          | 0/50 [00:00<?, ?it/s]"
      ]
     },
     "metadata": {},
     "output_type": "display_data"
    },
    {
     "data": {
      "application/vnd.jupyter.widget-view+json": {
       "model_id": "227c9bdb30b449e5a37d3a9e58210866",
       "version_major": 2,
       "version_minor": 0
      },
      "text/plain": [
       "Processing audio files:   0%|          | 0/50 [00:00<?, ?it/s]"
      ]
     },
     "metadata": {},
     "output_type": "display_data"
    },
    {
     "data": {
      "application/vnd.jupyter.widget-view+json": {
       "model_id": "25c9b4df5c9c4261b3662588a8a698fb",
       "version_major": 2,
       "version_minor": 0
      },
      "text/plain": [
       "Processing audio files:   0%|          | 0/50 [00:00<?, ?it/s]"
      ]
     },
     "metadata": {},
     "output_type": "display_data"
    },
    {
     "data": {
      "application/vnd.jupyter.widget-view+json": {
       "model_id": "52f181b10e894be9aaedf07a577f90a4",
       "version_major": 2,
       "version_minor": 0
      },
      "text/plain": [
       "Processing audio files:   0%|          | 0/50 [00:00<?, ?it/s]"
      ]
     },
     "metadata": {},
     "output_type": "display_data"
    },
    {
     "data": {
      "application/vnd.jupyter.widget-view+json": {
       "model_id": "c66913df7e8d44409ccf73ff59d57e05",
       "version_major": 2,
       "version_minor": 0
      },
      "text/plain": [
       "Processing audio files:   0%|          | 0/50 [00:00<?, ?it/s]"
      ]
     },
     "metadata": {},
     "output_type": "display_data"
    },
    {
     "data": {
      "application/vnd.jupyter.widget-view+json": {
       "model_id": "bbb20ac9a1d64f94a4ef779b362cc3bf",
       "version_major": 2,
       "version_minor": 0
      },
      "text/plain": [
       "Processing audio files:   0%|          | 0/50 [00:00<?, ?it/s]"
      ]
     },
     "metadata": {},
     "output_type": "display_data"
    },
    {
     "data": {
      "application/vnd.jupyter.widget-view+json": {
       "model_id": "9e17d5d3f6da465d82291ab4cf679fff",
       "version_major": 2,
       "version_minor": 0
      },
      "text/plain": [
       "Processing audio files:   0%|          | 0/50 [00:00<?, ?it/s]"
      ]
     },
     "metadata": {},
     "output_type": "display_data"
    },
    {
     "data": {
      "application/vnd.jupyter.widget-view+json": {
       "model_id": "9f909fe711d248cb8d8c03508e652ae7",
       "version_major": 2,
       "version_minor": 0
      },
      "text/plain": [
       "Processing audio files:   0%|          | 0/50 [00:00<?, ?it/s]"
      ]
     },
     "metadata": {},
     "output_type": "display_data"
    },
    {
     "data": {
      "application/vnd.jupyter.widget-view+json": {
       "model_id": "0d413e0eb2604ca681f5c4df0929f6d0",
       "version_major": 2,
       "version_minor": 0
      },
      "text/plain": [
       "Processing audio files:   0%|          | 0/50 [00:00<?, ?it/s]"
      ]
     },
     "metadata": {},
     "output_type": "display_data"
    },
    {
     "data": {
      "application/vnd.jupyter.widget-view+json": {
       "model_id": "492e120526e04cbeaaa645bcd1660012",
       "version_major": 2,
       "version_minor": 0
      },
      "text/plain": [
       "Processing audio files:   0%|          | 0/50 [00:00<?, ?it/s]"
      ]
     },
     "metadata": {},
     "output_type": "display_data"
    },
    {
     "data": {
      "application/vnd.jupyter.widget-view+json": {
       "model_id": "150dec197feb4872b76a82c59afaee80",
       "version_major": 2,
       "version_minor": 0
      },
      "text/plain": [
       "Processing audio files:   0%|          | 0/50 [00:00<?, ?it/s]"
      ]
     },
     "metadata": {},
     "output_type": "display_data"
    },
    {
     "data": {
      "application/vnd.jupyter.widget-view+json": {
       "model_id": "53999be96bec43209ddf46d87760373d",
       "version_major": 2,
       "version_minor": 0
      },
      "text/plain": [
       "Processing audio files:   0%|          | 0/50 [00:00<?, ?it/s]"
      ]
     },
     "metadata": {},
     "output_type": "display_data"
    },
    {
     "data": {
      "application/vnd.jupyter.widget-view+json": {
       "model_id": "23632debfd81437bb79903534782c8be",
       "version_major": 2,
       "version_minor": 0
      },
      "text/plain": [
       "Processing audio files:   0%|          | 0/50 [00:00<?, ?it/s]"
      ]
     },
     "metadata": {},
     "output_type": "display_data"
    },
    {
     "data": {
      "application/vnd.jupyter.widget-view+json": {
       "model_id": "368c0e0d8f2e45ec8e00ee9ea23448dd",
       "version_major": 2,
       "version_minor": 0
      },
      "text/plain": [
       "Processing audio files:   0%|          | 0/50 [00:00<?, ?it/s]"
      ]
     },
     "metadata": {},
     "output_type": "display_data"
    },
    {
     "data": {
      "application/vnd.jupyter.widget-view+json": {
       "model_id": "d633eb2561994ee89aaaf5cdeb479bb4",
       "version_major": 2,
       "version_minor": 0
      },
      "text/plain": [
       "Processing audio files:   0%|          | 0/50 [00:00<?, ?it/s]"
      ]
     },
     "metadata": {},
     "output_type": "display_data"
    },
    {
     "data": {
      "application/vnd.jupyter.widget-view+json": {
       "model_id": "a98db882ffce4842a54db7a0a2ba445f",
       "version_major": 2,
       "version_minor": 0
      },
      "text/plain": [
       "Processing audio files:   0%|          | 0/50 [00:00<?, ?it/s]"
      ]
     },
     "metadata": {},
     "output_type": "display_data"
    },
    {
     "data": {
      "application/vnd.jupyter.widget-view+json": {
       "model_id": "bbec3035fccc42fe972dd33e55aeefd7",
       "version_major": 2,
       "version_minor": 0
      },
      "text/plain": [
       "Processing audio files:   0%|          | 0/50 [00:00<?, ?it/s]"
      ]
     },
     "metadata": {},
     "output_type": "display_data"
    },
    {
     "data": {
      "application/vnd.jupyter.widget-view+json": {
       "model_id": "9c127e17a2b64f0996825cc2ac51dfbc",
       "version_major": 2,
       "version_minor": 0
      },
      "text/plain": [
       "Processing audio files:   0%|          | 0/50 [00:00<?, ?it/s]"
      ]
     },
     "metadata": {},
     "output_type": "display_data"
    },
    {
     "data": {
      "application/vnd.jupyter.widget-view+json": {
       "model_id": "e48440ceb60344fe9af061af4b3a56a6",
       "version_major": 2,
       "version_minor": 0
      },
      "text/plain": [
       "Processing audio files:   0%|          | 0/50 [00:00<?, ?it/s]"
      ]
     },
     "metadata": {},
     "output_type": "display_data"
    },
    {
     "data": {
      "application/vnd.jupyter.widget-view+json": {
       "model_id": "f2c34b315b464cafa5927eac8637bd3a",
       "version_major": 2,
       "version_minor": 0
      },
      "text/plain": [
       "Processing audio files:   0%|          | 0/50 [00:00<?, ?it/s]"
      ]
     },
     "metadata": {},
     "output_type": "display_data"
    },
    {
     "data": {
      "application/vnd.jupyter.widget-view+json": {
       "model_id": "235a5302f3f2480ab611aec7c253aba5",
       "version_major": 2,
       "version_minor": 0
      },
      "text/plain": [
       "Processing audio files:   0%|          | 0/50 [00:00<?, ?it/s]"
      ]
     },
     "metadata": {},
     "output_type": "display_data"
    },
    {
     "data": {
      "application/vnd.jupyter.widget-view+json": {
       "model_id": "bd0472fdbfe0454d85ce8ea572f6100e",
       "version_major": 2,
       "version_minor": 0
      },
      "text/plain": [
       "Processing audio files:   0%|          | 0/50 [00:00<?, ?it/s]"
      ]
     },
     "metadata": {},
     "output_type": "display_data"
    },
    {
     "data": {
      "application/vnd.jupyter.widget-view+json": {
       "model_id": "a2c9e864005845adabd662edb835cd8a",
       "version_major": 2,
       "version_minor": 0
      },
      "text/plain": [
       "Processing audio files:   0%|          | 0/50 [00:00<?, ?it/s]"
      ]
     },
     "metadata": {},
     "output_type": "display_data"
    },
    {
     "data": {
      "application/vnd.jupyter.widget-view+json": {
       "model_id": "7c2c68febf3643ea81c83d9aef3f9afd",
       "version_major": 2,
       "version_minor": 0
      },
      "text/plain": [
       "Processing audio files:   0%|          | 0/50 [00:00<?, ?it/s]"
      ]
     },
     "metadata": {},
     "output_type": "display_data"
    },
    {
     "data": {
      "application/vnd.jupyter.widget-view+json": {
       "model_id": "5277b17827cd4ef69a04d766028631cc",
       "version_major": 2,
       "version_minor": 0
      },
      "text/plain": [
       "Processing audio files:   0%|          | 0/50 [00:00<?, ?it/s]"
      ]
     },
     "metadata": {},
     "output_type": "display_data"
    },
    {
     "data": {
      "application/vnd.jupyter.widget-view+json": {
       "model_id": "0711e5238dc841fbbb455360e3fc1810",
       "version_major": 2,
       "version_minor": 0
      },
      "text/plain": [
       "Processing audio files:   0%|          | 0/50 [00:00<?, ?it/s]"
      ]
     },
     "metadata": {},
     "output_type": "display_data"
    },
    {
     "data": {
      "application/vnd.jupyter.widget-view+json": {
       "model_id": "85f7969890104aa99d1d698246cdc4d4",
       "version_major": 2,
       "version_minor": 0
      },
      "text/plain": [
       "Processing audio files:   0%|          | 0/50 [00:00<?, ?it/s]"
      ]
     },
     "metadata": {},
     "output_type": "display_data"
    },
    {
     "data": {
      "application/vnd.jupyter.widget-view+json": {
       "model_id": "818a13c472954adc8079ce9a52abc5d1",
       "version_major": 2,
       "version_minor": 0
      },
      "text/plain": [
       "Processing audio files:   0%|          | 0/50 [00:00<?, ?it/s]"
      ]
     },
     "metadata": {},
     "output_type": "display_data"
    },
    {
     "data": {
      "application/vnd.jupyter.widget-view+json": {
       "model_id": "4e29fb8d778746a1bd2014c24aee157a",
       "version_major": 2,
       "version_minor": 0
      },
      "text/plain": [
       "Processing audio files:   0%|          | 0/50 [00:00<?, ?it/s]"
      ]
     },
     "metadata": {},
     "output_type": "display_data"
    },
    {
     "data": {
      "application/vnd.jupyter.widget-view+json": {
       "model_id": "598199e447a64a71b4917af9c09c58fc",
       "version_major": 2,
       "version_minor": 0
      },
      "text/plain": [
       "Processing audio files:   0%|          | 0/50 [00:00<?, ?it/s]"
      ]
     },
     "metadata": {},
     "output_type": "display_data"
    },
    {
     "data": {
      "application/vnd.jupyter.widget-view+json": {
       "model_id": "81530dc2ce4a402f813e45c7c40fba9b",
       "version_major": 2,
       "version_minor": 0
      },
      "text/plain": [
       "Processing audio files:   0%|          | 0/50 [00:00<?, ?it/s]"
      ]
     },
     "metadata": {},
     "output_type": "display_data"
    },
    {
     "data": {
      "application/vnd.jupyter.widget-view+json": {
       "model_id": "cee9db84d8ff48a2af597629ca216eef",
       "version_major": 2,
       "version_minor": 0
      },
      "text/plain": [
       "Processing audio files:   0%|          | 0/50 [00:00<?, ?it/s]"
      ]
     },
     "metadata": {},
     "output_type": "display_data"
    },
    {
     "data": {
      "application/vnd.jupyter.widget-view+json": {
       "model_id": "c78789f960ee407ab2bdd0946563a8cd",
       "version_major": 2,
       "version_minor": 0
      },
      "text/plain": [
       "Processing audio files:   0%|          | 0/50 [00:00<?, ?it/s]"
      ]
     },
     "metadata": {},
     "output_type": "display_data"
    },
    {
     "data": {
      "application/vnd.jupyter.widget-view+json": {
       "model_id": "97e43e5322d74484a6e23d417ff5d023",
       "version_major": 2,
       "version_minor": 0
      },
      "text/plain": [
       "Processing audio files:   0%|          | 0/50 [00:00<?, ?it/s]"
      ]
     },
     "metadata": {},
     "output_type": "display_data"
    },
    {
     "data": {
      "application/vnd.jupyter.widget-view+json": {
       "model_id": "05485a9ec7824b5c849c3ccc03a8ebc1",
       "version_major": 2,
       "version_minor": 0
      },
      "text/plain": [
       "Processing audio files:   0%|          | 0/50 [00:00<?, ?it/s]"
      ]
     },
     "metadata": {},
     "output_type": "display_data"
    },
    {
     "data": {
      "application/vnd.jupyter.widget-view+json": {
       "model_id": "086628fd3f404d7aa45db96f7d6ab1a9",
       "version_major": 2,
       "version_minor": 0
      },
      "text/plain": [
       "Processing audio files:   0%|          | 0/50 [00:00<?, ?it/s]"
      ]
     },
     "metadata": {},
     "output_type": "display_data"
    },
    {
     "data": {
      "application/vnd.jupyter.widget-view+json": {
       "model_id": "8d4d8176cf344c9e8ca2a7ec41fb8b35",
       "version_major": 2,
       "version_minor": 0
      },
      "text/plain": [
       "Processing audio files:   0%|          | 0/50 [00:00<?, ?it/s]"
      ]
     },
     "metadata": {},
     "output_type": "display_data"
    },
    {
     "data": {
      "application/vnd.jupyter.widget-view+json": {
       "model_id": "408c36e648c8441a86e369abb114487b",
       "version_major": 2,
       "version_minor": 0
      },
      "text/plain": [
       "Processing audio files:   0%|          | 0/50 [00:00<?, ?it/s]"
      ]
     },
     "metadata": {},
     "output_type": "display_data"
    },
    {
     "data": {
      "application/vnd.jupyter.widget-view+json": {
       "model_id": "94838f8fc83149f5bd515293403ac53b",
       "version_major": 2,
       "version_minor": 0
      },
      "text/plain": [
       "Processing audio files:   0%|          | 0/50 [00:00<?, ?it/s]"
      ]
     },
     "metadata": {},
     "output_type": "display_data"
    },
    {
     "data": {
      "application/vnd.jupyter.widget-view+json": {
       "model_id": "4534b5d7264f4ab1bf2cd6408e00384a",
       "version_major": 2,
       "version_minor": 0
      },
      "text/plain": [
       "Processing audio files:   0%|          | 0/50 [00:00<?, ?it/s]"
      ]
     },
     "metadata": {},
     "output_type": "display_data"
    },
    {
     "data": {
      "application/vnd.jupyter.widget-view+json": {
       "model_id": "4ca570ed8d714b628213c46cb7953b9a",
       "version_major": 2,
       "version_minor": 0
      },
      "text/plain": [
       "Processing audio files:   0%|          | 0/50 [00:00<?, ?it/s]"
      ]
     },
     "metadata": {},
     "output_type": "display_data"
    },
    {
     "data": {
      "application/vnd.jupyter.widget-view+json": {
       "model_id": "18480c88eaf34efea1317a9d1b4d29c6",
       "version_major": 2,
       "version_minor": 0
      },
      "text/plain": [
       "Processing audio files:   0%|          | 0/50 [00:00<?, ?it/s]"
      ]
     },
     "metadata": {},
     "output_type": "display_data"
    },
    {
     "data": {
      "application/vnd.jupyter.widget-view+json": {
       "model_id": "0ee75bf4f9834bb5b7cb0cb5dd1a81d4",
       "version_major": 2,
       "version_minor": 0
      },
      "text/plain": [
       "Processing audio files:   0%|          | 0/50 [00:00<?, ?it/s]"
      ]
     },
     "metadata": {},
     "output_type": "display_data"
    },
    {
     "data": {
      "application/vnd.jupyter.widget-view+json": {
       "model_id": "32065b5a78ee41bda93a712aa2a8525f",
       "version_major": 2,
       "version_minor": 0
      },
      "text/plain": [
       "Processing audio files:   0%|          | 0/50 [00:00<?, ?it/s]"
      ]
     },
     "metadata": {},
     "output_type": "display_data"
    },
    {
     "data": {
      "application/vnd.jupyter.widget-view+json": {
       "model_id": "7e6b9b1b629c4e80bc530e6c62734e16",
       "version_major": 2,
       "version_minor": 0
      },
      "text/plain": [
       "Processing audio files:   0%|          | 0/50 [00:00<?, ?it/s]"
      ]
     },
     "metadata": {},
     "output_type": "display_data"
    },
    {
     "data": {
      "application/vnd.jupyter.widget-view+json": {
       "model_id": "fde0e8eadc734ae1a3684e995fb68b09",
       "version_major": 2,
       "version_minor": 0
      },
      "text/plain": [
       "Processing audio files:   0%|          | 0/50 [00:00<?, ?it/s]"
      ]
     },
     "metadata": {},
     "output_type": "display_data"
    },
    {
     "data": {
      "application/vnd.jupyter.widget-view+json": {
       "model_id": "c9f67408c046498abadcc41ac75f51c2",
       "version_major": 2,
       "version_minor": 0
      },
      "text/plain": [
       "Processing audio files:   0%|          | 0/50 [00:00<?, ?it/s]"
      ]
     },
     "metadata": {},
     "output_type": "display_data"
    },
    {
     "data": {
      "application/vnd.jupyter.widget-view+json": {
       "model_id": "6e00eaaf69f44b88ad9d29a2dde0a574",
       "version_major": 2,
       "version_minor": 0
      },
      "text/plain": [
       "Processing audio files:   0%|          | 0/50 [00:00<?, ?it/s]"
      ]
     },
     "metadata": {},
     "output_type": "display_data"
    },
    {
     "data": {
      "application/vnd.jupyter.widget-view+json": {
       "model_id": "3db5c11641be440790d0c09e4da6dec2",
       "version_major": 2,
       "version_minor": 0
      },
      "text/plain": [
       "Processing audio files:   0%|          | 0/50 [00:00<?, ?it/s]"
      ]
     },
     "metadata": {},
     "output_type": "display_data"
    },
    {
     "data": {
      "application/vnd.jupyter.widget-view+json": {
       "model_id": "c8f7222f73464bd1a94c39a7202b6958",
       "version_major": 2,
       "version_minor": 0
      },
      "text/plain": [
       "Processing audio files:   0%|          | 0/50 [00:00<?, ?it/s]"
      ]
     },
     "metadata": {},
     "output_type": "display_data"
    },
    {
     "data": {
      "application/vnd.jupyter.widget-view+json": {
       "model_id": "4f7af6e449af4638994e0e3857201053",
       "version_major": 2,
       "version_minor": 0
      },
      "text/plain": [
       "Processing audio files:   0%|          | 0/50 [00:00<?, ?it/s]"
      ]
     },
     "metadata": {},
     "output_type": "display_data"
    },
    {
     "data": {
      "application/vnd.jupyter.widget-view+json": {
       "model_id": "7f6447c60c8c4c25b4b0a93ddd6b1aa5",
       "version_major": 2,
       "version_minor": 0
      },
      "text/plain": [
       "Processing audio files:   0%|          | 0/50 [00:00<?, ?it/s]"
      ]
     },
     "metadata": {},
     "output_type": "display_data"
    },
    {
     "data": {
      "application/vnd.jupyter.widget-view+json": {
       "model_id": "cb59a397f1994fff826182a404a9ec17",
       "version_major": 2,
       "version_minor": 0
      },
      "text/plain": [
       "Processing audio files:   0%|          | 0/50 [00:00<?, ?it/s]"
      ]
     },
     "metadata": {},
     "output_type": "display_data"
    },
    {
     "data": {
      "application/vnd.jupyter.widget-view+json": {
       "model_id": "cbd6548e24aa4d359f352f664588d401",
       "version_major": 2,
       "version_minor": 0
      },
      "text/plain": [
       "Processing audio files:   0%|          | 0/50 [00:00<?, ?it/s]"
      ]
     },
     "metadata": {},
     "output_type": "display_data"
    },
    {
     "data": {
      "application/vnd.jupyter.widget-view+json": {
       "model_id": "99af4761414842798d9f72e7f149522a",
       "version_major": 2,
       "version_minor": 0
      },
      "text/plain": [
       "Processing audio files:   0%|          | 0/50 [00:00<?, ?it/s]"
      ]
     },
     "metadata": {},
     "output_type": "display_data"
    },
    {
     "data": {
      "application/vnd.jupyter.widget-view+json": {
       "model_id": "0a0567bbe6c041cf9129baf5a500b997",
       "version_major": 2,
       "version_minor": 0
      },
      "text/plain": [
       "Processing audio files:   0%|          | 0/50 [00:00<?, ?it/s]"
      ]
     },
     "metadata": {},
     "output_type": "display_data"
    },
    {
     "data": {
      "application/vnd.jupyter.widget-view+json": {
       "model_id": "21b11a6eaf40489498eb7c65c24f0bf8",
       "version_major": 2,
       "version_minor": 0
      },
      "text/plain": [
       "Processing audio files:   0%|          | 0/50 [00:00<?, ?it/s]"
      ]
     },
     "metadata": {},
     "output_type": "display_data"
    },
    {
     "data": {
      "application/vnd.jupyter.widget-view+json": {
       "model_id": "3e46fce4bb094534ad159d3b056aa478",
       "version_major": 2,
       "version_minor": 0
      },
      "text/plain": [
       "Processing audio files:   0%|          | 0/50 [00:00<?, ?it/s]"
      ]
     },
     "metadata": {},
     "output_type": "display_data"
    },
    {
     "data": {
      "application/vnd.jupyter.widget-view+json": {
       "model_id": "a2a65f8d4c774e6583ac1d459608d032",
       "version_major": 2,
       "version_minor": 0
      },
      "text/plain": [
       "Processing audio files:   0%|          | 0/50 [00:00<?, ?it/s]"
      ]
     },
     "metadata": {},
     "output_type": "display_data"
    },
    {
     "data": {
      "application/vnd.jupyter.widget-view+json": {
       "model_id": "1e771411b4fd4aa6b754e1d43e767c6c",
       "version_major": 2,
       "version_minor": 0
      },
      "text/plain": [
       "Processing audio files:   0%|          | 0/50 [00:00<?, ?it/s]"
      ]
     },
     "metadata": {},
     "output_type": "display_data"
    },
    {
     "data": {
      "application/vnd.jupyter.widget-view+json": {
       "model_id": "20d83570510e493bba6125f97683e3f9",
       "version_major": 2,
       "version_minor": 0
      },
      "text/plain": [
       "Processing audio files:   0%|          | 0/50 [00:00<?, ?it/s]"
      ]
     },
     "metadata": {},
     "output_type": "display_data"
    },
    {
     "data": {
      "application/vnd.jupyter.widget-view+json": {
       "model_id": "218b719ff78843abb3fb278b6a732488",
       "version_major": 2,
       "version_minor": 0
      },
      "text/plain": [
       "Processing audio files:   0%|          | 0/50 [00:00<?, ?it/s]"
      ]
     },
     "metadata": {},
     "output_type": "display_data"
    },
    {
     "data": {
      "application/vnd.jupyter.widget-view+json": {
       "model_id": "0ba9d9dd34134c78b5f31f1f40d6f4a3",
       "version_major": 2,
       "version_minor": 0
      },
      "text/plain": [
       "Processing audio files:   0%|          | 0/50 [00:00<?, ?it/s]"
      ]
     },
     "metadata": {},
     "output_type": "display_data"
    },
    {
     "data": {
      "application/vnd.jupyter.widget-view+json": {
       "model_id": "997897ef1b084199ab02e92873c6205a",
       "version_major": 2,
       "version_minor": 0
      },
      "text/plain": [
       "Processing audio files:   0%|          | 0/50 [00:00<?, ?it/s]"
      ]
     },
     "metadata": {},
     "output_type": "display_data"
    },
    {
     "data": {
      "application/vnd.jupyter.widget-view+json": {
       "model_id": "8f76f8282a25450dbe8a85d7441d5101",
       "version_major": 2,
       "version_minor": 0
      },
      "text/plain": [
       "Processing audio files:   0%|          | 0/50 [00:00<?, ?it/s]"
      ]
     },
     "metadata": {},
     "output_type": "display_data"
    },
    {
     "data": {
      "application/vnd.jupyter.widget-view+json": {
       "model_id": "70a134ff839b493cbc1ff7add1376c3b",
       "version_major": 2,
       "version_minor": 0
      },
      "text/plain": [
       "Processing audio files:   0%|          | 0/50 [00:00<?, ?it/s]"
      ]
     },
     "metadata": {},
     "output_type": "display_data"
    },
    {
     "data": {
      "application/vnd.jupyter.widget-view+json": {
       "model_id": "1835596bb61345baa3591ad59ba71c0e",
       "version_major": 2,
       "version_minor": 0
      },
      "text/plain": [
       "Processing audio files:   0%|          | 0/50 [00:00<?, ?it/s]"
      ]
     },
     "metadata": {},
     "output_type": "display_data"
    },
    {
     "data": {
      "application/vnd.jupyter.widget-view+json": {
       "model_id": "9e66b0327460475ea0e6f0a01a5bc66f",
       "version_major": 2,
       "version_minor": 0
      },
      "text/plain": [
       "Processing audio files:   0%|          | 0/50 [00:00<?, ?it/s]"
      ]
     },
     "metadata": {},
     "output_type": "display_data"
    },
    {
     "data": {
      "application/vnd.jupyter.widget-view+json": {
       "model_id": "98fb4b457e844cc689b7a26763af80e6",
       "version_major": 2,
       "version_minor": 0
      },
      "text/plain": [
       "Processing audio files:   0%|          | 0/50 [00:00<?, ?it/s]"
      ]
     },
     "metadata": {},
     "output_type": "display_data"
    },
    {
     "data": {
      "application/vnd.jupyter.widget-view+json": {
       "model_id": "dacf8797c71d4fcf96bee4c4552936d0",
       "version_major": 2,
       "version_minor": 0
      },
      "text/plain": [
       "Processing audio files:   0%|          | 0/50 [00:00<?, ?it/s]"
      ]
     },
     "metadata": {},
     "output_type": "display_data"
    },
    {
     "data": {
      "application/vnd.jupyter.widget-view+json": {
       "model_id": "0814af94827245879267339d94689225",
       "version_major": 2,
       "version_minor": 0
      },
      "text/plain": [
       "Processing audio files:   0%|          | 0/50 [00:00<?, ?it/s]"
      ]
     },
     "metadata": {},
     "output_type": "display_data"
    },
    {
     "data": {
      "application/vnd.jupyter.widget-view+json": {
       "model_id": "d6f75022b3ba4213b75c9dbe24256297",
       "version_major": 2,
       "version_minor": 0
      },
      "text/plain": [
       "Processing audio files:   0%|          | 0/50 [00:00<?, ?it/s]"
      ]
     },
     "metadata": {},
     "output_type": "display_data"
    },
    {
     "data": {
      "application/vnd.jupyter.widget-view+json": {
       "model_id": "d5254603644e40e18f788c762b63d897",
       "version_major": 2,
       "version_minor": 0
      },
      "text/plain": [
       "Processing audio files:   0%|          | 0/50 [00:00<?, ?it/s]"
      ]
     },
     "metadata": {},
     "output_type": "display_data"
    },
    {
     "data": {
      "application/vnd.jupyter.widget-view+json": {
       "model_id": "0c32135c0d144725a9db2b988cdb7836",
       "version_major": 2,
       "version_minor": 0
      },
      "text/plain": [
       "Processing audio files:   0%|          | 0/50 [00:00<?, ?it/s]"
      ]
     },
     "metadata": {},
     "output_type": "display_data"
    },
    {
     "data": {
      "application/vnd.jupyter.widget-view+json": {
       "model_id": "932c9c9f17464d539d282d709f31d9d1",
       "version_major": 2,
       "version_minor": 0
      },
      "text/plain": [
       "Processing audio files:   0%|          | 0/50 [00:00<?, ?it/s]"
      ]
     },
     "metadata": {},
     "output_type": "display_data"
    },
    {
     "data": {
      "application/vnd.jupyter.widget-view+json": {
       "model_id": "49e677dbdb34477bb0de3af4acb43fcb",
       "version_major": 2,
       "version_minor": 0
      },
      "text/plain": [
       "Processing audio files:   0%|          | 0/50 [00:00<?, ?it/s]"
      ]
     },
     "metadata": {},
     "output_type": "display_data"
    },
    {
     "data": {
      "application/vnd.jupyter.widget-view+json": {
       "model_id": "97bb8df6a4f24d5b917fef43ce5ccca3",
       "version_major": 2,
       "version_minor": 0
      },
      "text/plain": [
       "Processing audio files:   0%|          | 0/50 [00:00<?, ?it/s]"
      ]
     },
     "metadata": {},
     "output_type": "display_data"
    },
    {
     "data": {
      "application/vnd.jupyter.widget-view+json": {
       "model_id": "7fa98247e9924bcbab3ab9e5431ff484",
       "version_major": 2,
       "version_minor": 0
      },
      "text/plain": [
       "Processing audio files:   0%|          | 0/50 [00:00<?, ?it/s]"
      ]
     },
     "metadata": {},
     "output_type": "display_data"
    },
    {
     "data": {
      "application/vnd.jupyter.widget-view+json": {
       "model_id": "ff077c13a2c347bc990342b325ce0d17",
       "version_major": 2,
       "version_minor": 0
      },
      "text/plain": [
       "Processing audio files:   0%|          | 0/50 [00:00<?, ?it/s]"
      ]
     },
     "metadata": {},
     "output_type": "display_data"
    },
    {
     "data": {
      "application/vnd.jupyter.widget-view+json": {
       "model_id": "646a14447b544242974b98da4f638003",
       "version_major": 2,
       "version_minor": 0
      },
      "text/plain": [
       "Processing audio files:   0%|          | 0/50 [00:00<?, ?it/s]"
      ]
     },
     "metadata": {},
     "output_type": "display_data"
    },
    {
     "data": {
      "application/vnd.jupyter.widget-view+json": {
       "model_id": "82216da44d804f21bc8b250fc9ef21ec",
       "version_major": 2,
       "version_minor": 0
      },
      "text/plain": [
       "Processing audio files:   0%|          | 0/50 [00:00<?, ?it/s]"
      ]
     },
     "metadata": {},
     "output_type": "display_data"
    },
    {
     "data": {
      "application/vnd.jupyter.widget-view+json": {
       "model_id": "b7c91f7c4fcf403e8439f70f44dadca5",
       "version_major": 2,
       "version_minor": 0
      },
      "text/plain": [
       "Processing audio files:   0%|          | 0/50 [00:00<?, ?it/s]"
      ]
     },
     "metadata": {},
     "output_type": "display_data"
    },
    {
     "data": {
      "application/vnd.jupyter.widget-view+json": {
       "model_id": "fc35f1285f22498bb7fea0cdfa298c54",
       "version_major": 2,
       "version_minor": 0
      },
      "text/plain": [
       "Processing audio files:   0%|          | 0/50 [00:00<?, ?it/s]"
      ]
     },
     "metadata": {},
     "output_type": "display_data"
    },
    {
     "data": {
      "application/vnd.jupyter.widget-view+json": {
       "model_id": "6b396d9b0c144b529ff39ada4f31d1af",
       "version_major": 2,
       "version_minor": 0
      },
      "text/plain": [
       "Processing audio files:   0%|          | 0/50 [00:00<?, ?it/s]"
      ]
     },
     "metadata": {},
     "output_type": "display_data"
    },
    {
     "data": {
      "application/vnd.jupyter.widget-view+json": {
       "model_id": "845d8f5fc35c409c909aedc914c7bcc0",
       "version_major": 2,
       "version_minor": 0
      },
      "text/plain": [
       "Processing audio files:   0%|          | 0/50 [00:00<?, ?it/s]"
      ]
     },
     "metadata": {},
     "output_type": "display_data"
    },
    {
     "data": {
      "application/vnd.jupyter.widget-view+json": {
       "model_id": "236b22a0a6c04ba0928f12bb8c586a11",
       "version_major": 2,
       "version_minor": 0
      },
      "text/plain": [
       "Processing audio files:   0%|          | 0/50 [00:00<?, ?it/s]"
      ]
     },
     "metadata": {},
     "output_type": "display_data"
    },
    {
     "data": {
      "application/vnd.jupyter.widget-view+json": {
       "model_id": "ad6985a56646431785526a9ba27aa063",
       "version_major": 2,
       "version_minor": 0
      },
      "text/plain": [
       "Processing audio files:   0%|          | 0/50 [00:00<?, ?it/s]"
      ]
     },
     "metadata": {},
     "output_type": "display_data"
    },
    {
     "data": {
      "application/vnd.jupyter.widget-view+json": {
       "model_id": "5b68fd6a4169449ea429e02154502216",
       "version_major": 2,
       "version_minor": 0
      },
      "text/plain": [
       "Processing audio files:   0%|          | 0/50 [00:00<?, ?it/s]"
      ]
     },
     "metadata": {},
     "output_type": "display_data"
    },
    {
     "data": {
      "application/vnd.jupyter.widget-view+json": {
       "model_id": "4a916e2c1a1f44c990027df50710b9a6",
       "version_major": 2,
       "version_minor": 0
      },
      "text/plain": [
       "Processing audio files:   0%|          | 0/50 [00:00<?, ?it/s]"
      ]
     },
     "metadata": {},
     "output_type": "display_data"
    },
    {
     "data": {
      "application/vnd.jupyter.widget-view+json": {
       "model_id": "fa2d84f81f8b4a119ca9dc887e8485ee",
       "version_major": 2,
       "version_minor": 0
      },
      "text/plain": [
       "Processing audio files:   0%|          | 0/50 [00:00<?, ?it/s]"
      ]
     },
     "metadata": {},
     "output_type": "display_data"
    },
    {
     "data": {
      "application/vnd.jupyter.widget-view+json": {
       "model_id": "a4097e64cff745eab32b7dc6efc814df",
       "version_major": 2,
       "version_minor": 0
      },
      "text/plain": [
       "Processing audio files:   0%|          | 0/50 [00:00<?, ?it/s]"
      ]
     },
     "metadata": {},
     "output_type": "display_data"
    },
    {
     "data": {
      "application/vnd.jupyter.widget-view+json": {
       "model_id": "8b1f56ff77a24c28820a2b66cd50d137",
       "version_major": 2,
       "version_minor": 0
      },
      "text/plain": [
       "Processing audio files:   0%|          | 0/50 [00:00<?, ?it/s]"
      ]
     },
     "metadata": {},
     "output_type": "display_data"
    },
    {
     "data": {
      "application/vnd.jupyter.widget-view+json": {
       "model_id": "30853f2f28fb48adb38f71a0e1da8299",
       "version_major": 2,
       "version_minor": 0
      },
      "text/plain": [
       "Processing audio files:   0%|          | 0/50 [00:00<?, ?it/s]"
      ]
     },
     "metadata": {},
     "output_type": "display_data"
    },
    {
     "data": {
      "application/vnd.jupyter.widget-view+json": {
       "model_id": "47584915006c45a3ada2c54dbdf3c078",
       "version_major": 2,
       "version_minor": 0
      },
      "text/plain": [
       "Processing audio files:   0%|          | 0/50 [00:00<?, ?it/s]"
      ]
     },
     "metadata": {},
     "output_type": "display_data"
    },
    {
     "data": {
      "application/vnd.jupyter.widget-view+json": {
       "model_id": "415777ff282d48eb87f7828f7a6d6a08",
       "version_major": 2,
       "version_minor": 0
      },
      "text/plain": [
       "Processing audio files:   0%|          | 0/50 [00:00<?, ?it/s]"
      ]
     },
     "metadata": {},
     "output_type": "display_data"
    },
    {
     "data": {
      "application/vnd.jupyter.widget-view+json": {
       "model_id": "05d28660851341958d483fce613e4a90",
       "version_major": 2,
       "version_minor": 0
      },
      "text/plain": [
       "Processing audio files:   0%|          | 0/50 [00:00<?, ?it/s]"
      ]
     },
     "metadata": {},
     "output_type": "display_data"
    },
    {
     "data": {
      "application/vnd.jupyter.widget-view+json": {
       "model_id": "9da21b8b7b0245dcbc5a6bd2eb04aa92",
       "version_major": 2,
       "version_minor": 0
      },
      "text/plain": [
       "Processing audio files:   0%|          | 0/50 [00:00<?, ?it/s]"
      ]
     },
     "metadata": {},
     "output_type": "display_data"
    },
    {
     "data": {
      "application/vnd.jupyter.widget-view+json": {
       "model_id": "d82509e871844a1181dba1de8aa2cd40",
       "version_major": 2,
       "version_minor": 0
      },
      "text/plain": [
       "Processing audio files:   0%|          | 0/50 [00:00<?, ?it/s]"
      ]
     },
     "metadata": {},
     "output_type": "display_data"
    },
    {
     "data": {
      "application/vnd.jupyter.widget-view+json": {
       "model_id": "89388f34d2454599accb551177d1e3c4",
       "version_major": 2,
       "version_minor": 0
      },
      "text/plain": [
       "Processing audio files:   0%|          | 0/50 [00:00<?, ?it/s]"
      ]
     },
     "metadata": {},
     "output_type": "display_data"
    },
    {
     "data": {
      "application/vnd.jupyter.widget-view+json": {
       "model_id": "e6a0a89617434063b45eb4bcb32cac92",
       "version_major": 2,
       "version_minor": 0
      },
      "text/plain": [
       "Processing audio files:   0%|          | 0/50 [00:00<?, ?it/s]"
      ]
     },
     "metadata": {},
     "output_type": "display_data"
    },
    {
     "data": {
      "application/vnd.jupyter.widget-view+json": {
       "model_id": "a807981393dd4239a17e3b74067c04e5",
       "version_major": 2,
       "version_minor": 0
      },
      "text/plain": [
       "Processing audio files:   0%|          | 0/50 [00:00<?, ?it/s]"
      ]
     },
     "metadata": {},
     "output_type": "display_data"
    },
    {
     "data": {
      "application/vnd.jupyter.widget-view+json": {
       "model_id": "f9dc19a03db94834afa842a314f572b1",
       "version_major": 2,
       "version_minor": 0
      },
      "text/plain": [
       "Processing audio files:   0%|          | 0/50 [00:00<?, ?it/s]"
      ]
     },
     "metadata": {},
     "output_type": "display_data"
    },
    {
     "data": {
      "application/vnd.jupyter.widget-view+json": {
       "model_id": "1e30f3d004834a6988cd04aec1d72180",
       "version_major": 2,
       "version_minor": 0
      },
      "text/plain": [
       "Processing audio files:   0%|          | 0/50 [00:00<?, ?it/s]"
      ]
     },
     "metadata": {},
     "output_type": "display_data"
    },
    {
     "data": {
      "application/vnd.jupyter.widget-view+json": {
       "model_id": "3b57fad26b504962ae045864c02bf696",
       "version_major": 2,
       "version_minor": 0
      },
      "text/plain": [
       "Processing audio files:   0%|          | 0/50 [00:00<?, ?it/s]"
      ]
     },
     "metadata": {},
     "output_type": "display_data"
    },
    {
     "data": {
      "application/vnd.jupyter.widget-view+json": {
       "model_id": "18e9ef2ab7784df6b81237e69c07d478",
       "version_major": 2,
       "version_minor": 0
      },
      "text/plain": [
       "Processing audio files:   0%|          | 0/50 [00:00<?, ?it/s]"
      ]
     },
     "metadata": {},
     "output_type": "display_data"
    },
    {
     "data": {
      "application/vnd.jupyter.widget-view+json": {
       "model_id": "bb3245c0f0064372a71630220d3c0891",
       "version_major": 2,
       "version_minor": 0
      },
      "text/plain": [
       "Processing audio files:   0%|          | 0/50 [00:00<?, ?it/s]"
      ]
     },
     "metadata": {},
     "output_type": "display_data"
    },
    {
     "data": {
      "application/vnd.jupyter.widget-view+json": {
       "model_id": "744e3098070344d1bddb6a7dc6709baa",
       "version_major": 2,
       "version_minor": 0
      },
      "text/plain": [
       "Processing audio files:   0%|          | 0/50 [00:00<?, ?it/s]"
      ]
     },
     "metadata": {},
     "output_type": "display_data"
    },
    {
     "data": {
      "application/vnd.jupyter.widget-view+json": {
       "model_id": "6b6c62b3fc7449da95a0e435317ed159",
       "version_major": 2,
       "version_minor": 0
      },
      "text/plain": [
       "Processing audio files:   0%|          | 0/50 [00:00<?, ?it/s]"
      ]
     },
     "metadata": {},
     "output_type": "display_data"
    },
    {
     "data": {
      "application/vnd.jupyter.widget-view+json": {
       "model_id": "71fa275aced74bf5a2397621452acf80",
       "version_major": 2,
       "version_minor": 0
      },
      "text/plain": [
       "Processing audio files:   0%|          | 0/50 [00:00<?, ?it/s]"
      ]
     },
     "metadata": {},
     "output_type": "display_data"
    },
    {
     "data": {
      "application/vnd.jupyter.widget-view+json": {
       "model_id": "6104eb1ca88f40e490d0277185196c37",
       "version_major": 2,
       "version_minor": 0
      },
      "text/plain": [
       "Processing audio files:   0%|          | 0/50 [00:00<?, ?it/s]"
      ]
     },
     "metadata": {},
     "output_type": "display_data"
    },
    {
     "data": {
      "application/vnd.jupyter.widget-view+json": {
       "model_id": "f8704e2d2b0c45b2b30d7e1997134e16",
       "version_major": 2,
       "version_minor": 0
      },
      "text/plain": [
       "Processing audio files:   0%|          | 0/50 [00:00<?, ?it/s]"
      ]
     },
     "metadata": {},
     "output_type": "display_data"
    },
    {
     "data": {
      "application/vnd.jupyter.widget-view+json": {
       "model_id": "5e3ef7e39c494744a5046eae658c61f7",
       "version_major": 2,
       "version_minor": 0
      },
      "text/plain": [
       "Processing audio files:   0%|          | 0/50 [00:00<?, ?it/s]"
      ]
     },
     "metadata": {},
     "output_type": "display_data"
    },
    {
     "data": {
      "application/vnd.jupyter.widget-view+json": {
       "model_id": "a2bdddfa493d4412aa828856db14c962",
       "version_major": 2,
       "version_minor": 0
      },
      "text/plain": [
       "Processing audio files:   0%|          | 0/50 [00:00<?, ?it/s]"
      ]
     },
     "metadata": {},
     "output_type": "display_data"
    },
    {
     "data": {
      "application/vnd.jupyter.widget-view+json": {
       "model_id": "261dc3aaedfd43739ec3f0b0b57ff84e",
       "version_major": 2,
       "version_minor": 0
      },
      "text/plain": [
       "Processing audio files:   0%|          | 0/50 [00:00<?, ?it/s]"
      ]
     },
     "metadata": {},
     "output_type": "display_data"
    },
    {
     "data": {
      "application/vnd.jupyter.widget-view+json": {
       "model_id": "a0adf91c05234f0ba3c686330d002396",
       "version_major": 2,
       "version_minor": 0
      },
      "text/plain": [
       "Processing audio files:   0%|          | 0/50 [00:00<?, ?it/s]"
      ]
     },
     "metadata": {},
     "output_type": "display_data"
    },
    {
     "data": {
      "application/vnd.jupyter.widget-view+json": {
       "model_id": "eec73d4219fe465380774eeafc64dedc",
       "version_major": 2,
       "version_minor": 0
      },
      "text/plain": [
       "Processing audio files:   0%|          | 0/50 [00:00<?, ?it/s]"
      ]
     },
     "metadata": {},
     "output_type": "display_data"
    },
    {
     "data": {
      "application/vnd.jupyter.widget-view+json": {
       "model_id": "282fbbef3fc14f18920b59008a776e65",
       "version_major": 2,
       "version_minor": 0
      },
      "text/plain": [
       "Processing audio files:   0%|          | 0/50 [00:00<?, ?it/s]"
      ]
     },
     "metadata": {},
     "output_type": "display_data"
    },
    {
     "data": {
      "application/vnd.jupyter.widget-view+json": {
       "model_id": "a736e94c09cf4e489b7966fdd3e99a25",
       "version_major": 2,
       "version_minor": 0
      },
      "text/plain": [
       "Processing audio files:   0%|          | 0/50 [00:00<?, ?it/s]"
      ]
     },
     "metadata": {},
     "output_type": "display_data"
    },
    {
     "data": {
      "application/vnd.jupyter.widget-view+json": {
       "model_id": "70b7998e2e334a0ba8ecf71a3ffd663b",
       "version_major": 2,
       "version_minor": 0
      },
      "text/plain": [
       "Processing audio files:   0%|          | 0/50 [00:00<?, ?it/s]"
      ]
     },
     "metadata": {},
     "output_type": "display_data"
    },
    {
     "data": {
      "application/vnd.jupyter.widget-view+json": {
       "model_id": "06e2fc1ee37d4f55a41e947155319880",
       "version_major": 2,
       "version_minor": 0
      },
      "text/plain": [
       "Processing audio files:   0%|          | 0/50 [00:00<?, ?it/s]"
      ]
     },
     "metadata": {},
     "output_type": "display_data"
    },
    {
     "data": {
      "application/vnd.jupyter.widget-view+json": {
       "model_id": "2bd03a358e354732a934e6dd6bb0b71f",
       "version_major": 2,
       "version_minor": 0
      },
      "text/plain": [
       "Processing audio files:   0%|          | 0/50 [00:00<?, ?it/s]"
      ]
     },
     "metadata": {},
     "output_type": "display_data"
    },
    {
     "data": {
      "application/vnd.jupyter.widget-view+json": {
       "model_id": "10e479b6c39844be89283510a4d277fa",
       "version_major": 2,
       "version_minor": 0
      },
      "text/plain": [
       "Processing audio files:   0%|          | 0/50 [00:00<?, ?it/s]"
      ]
     },
     "metadata": {},
     "output_type": "display_data"
    },
    {
     "data": {
      "application/vnd.jupyter.widget-view+json": {
       "model_id": "d8e963743ba142069e3c69648d57aa1e",
       "version_major": 2,
       "version_minor": 0
      },
      "text/plain": [
       "Processing audio files:   0%|          | 0/50 [00:00<?, ?it/s]"
      ]
     },
     "metadata": {},
     "output_type": "display_data"
    },
    {
     "data": {
      "application/vnd.jupyter.widget-view+json": {
       "model_id": "84396639b337443e91f7cb2a6efb74b1",
       "version_major": 2,
       "version_minor": 0
      },
      "text/plain": [
       "Processing audio files:   0%|          | 0/50 [00:00<?, ?it/s]"
      ]
     },
     "metadata": {},
     "output_type": "display_data"
    },
    {
     "data": {
      "application/vnd.jupyter.widget-view+json": {
       "model_id": "84d1cb351aef4bd29a223520850c87ca",
       "version_major": 2,
       "version_minor": 0
      },
      "text/plain": [
       "Processing audio files:   0%|          | 0/50 [00:00<?, ?it/s]"
      ]
     },
     "metadata": {},
     "output_type": "display_data"
    },
    {
     "data": {
      "application/vnd.jupyter.widget-view+json": {
       "model_id": "d1f50954662b4820b35948a9e871f443",
       "version_major": 2,
       "version_minor": 0
      },
      "text/plain": [
       "Processing audio files:   0%|          | 0/50 [00:00<?, ?it/s]"
      ]
     },
     "metadata": {},
     "output_type": "display_data"
    },
    {
     "data": {
      "application/vnd.jupyter.widget-view+json": {
       "model_id": "61a7788ef45a431c803916654535968b",
       "version_major": 2,
       "version_minor": 0
      },
      "text/plain": [
       "Processing audio files:   0%|          | 0/50 [00:00<?, ?it/s]"
      ]
     },
     "metadata": {},
     "output_type": "display_data"
    },
    {
     "data": {
      "application/vnd.jupyter.widget-view+json": {
       "model_id": "b2b5662f3a7d4cf5a31a65d59775c1bc",
       "version_major": 2,
       "version_minor": 0
      },
      "text/plain": [
       "Processing audio files:   0%|          | 0/50 [00:00<?, ?it/s]"
      ]
     },
     "metadata": {},
     "output_type": "display_data"
    },
    {
     "data": {
      "application/vnd.jupyter.widget-view+json": {
       "model_id": "bf46eaf327c244818b3a1fc2ae012cf7",
       "version_major": 2,
       "version_minor": 0
      },
      "text/plain": [
       "Processing audio files:   0%|          | 0/50 [00:00<?, ?it/s]"
      ]
     },
     "metadata": {},
     "output_type": "display_data"
    },
    {
     "data": {
      "application/vnd.jupyter.widget-view+json": {
       "model_id": "f4316ebf565441539c0335cc6e750152",
       "version_major": 2,
       "version_minor": 0
      },
      "text/plain": [
       "Processing audio files:   0%|          | 0/50 [00:00<?, ?it/s]"
      ]
     },
     "metadata": {},
     "output_type": "display_data"
    },
    {
     "data": {
      "application/vnd.jupyter.widget-view+json": {
       "model_id": "322116b37d4140a3b90fc7fd69170426",
       "version_major": 2,
       "version_minor": 0
      },
      "text/plain": [
       "Processing audio files:   0%|          | 0/50 [00:00<?, ?it/s]"
      ]
     },
     "metadata": {},
     "output_type": "display_data"
    },
    {
     "data": {
      "application/vnd.jupyter.widget-view+json": {
       "model_id": "fe5ed67b8144445b93577ebcf42cec41",
       "version_major": 2,
       "version_minor": 0
      },
      "text/plain": [
       "Processing audio files:   0%|          | 0/50 [00:00<?, ?it/s]"
      ]
     },
     "metadata": {},
     "output_type": "display_data"
    },
    {
     "data": {
      "application/vnd.jupyter.widget-view+json": {
       "model_id": "6af1e1cc40f7436da6b76aea39ccd435",
       "version_major": 2,
       "version_minor": 0
      },
      "text/plain": [
       "Processing audio files:   0%|          | 0/50 [00:00<?, ?it/s]"
      ]
     },
     "metadata": {},
     "output_type": "display_data"
    },
    {
     "data": {
      "application/vnd.jupyter.widget-view+json": {
       "model_id": "f58d039651374682a60a8dcc75d58df6",
       "version_major": 2,
       "version_minor": 0
      },
      "text/plain": [
       "Processing audio files:   0%|          | 0/50 [00:00<?, ?it/s]"
      ]
     },
     "metadata": {},
     "output_type": "display_data"
    },
    {
     "data": {
      "application/vnd.jupyter.widget-view+json": {
       "model_id": "8ab231b5aa774999b5b0a49267d6cc76",
       "version_major": 2,
       "version_minor": 0
      },
      "text/plain": [
       "Processing audio files:   0%|          | 0/50 [00:00<?, ?it/s]"
      ]
     },
     "metadata": {},
     "output_type": "display_data"
    },
    {
     "data": {
      "application/vnd.jupyter.widget-view+json": {
       "model_id": "9890454ccba247138c3c14312e64863f",
       "version_major": 2,
       "version_minor": 0
      },
      "text/plain": [
       "Processing audio files:   0%|          | 0/50 [00:00<?, ?it/s]"
      ]
     },
     "metadata": {},
     "output_type": "display_data"
    },
    {
     "data": {
      "application/vnd.jupyter.widget-view+json": {
       "model_id": "cce2b36788e7480d98f2a825f32b82e2",
       "version_major": 2,
       "version_minor": 0
      },
      "text/plain": [
       "Processing audio files:   0%|          | 0/50 [00:00<?, ?it/s]"
      ]
     },
     "metadata": {},
     "output_type": "display_data"
    },
    {
     "data": {
      "application/vnd.jupyter.widget-view+json": {
       "model_id": "37d37c0c63474543b7d9ebf26286d0a9",
       "version_major": 2,
       "version_minor": 0
      },
      "text/plain": [
       "Processing audio files:   0%|          | 0/50 [00:00<?, ?it/s]"
      ]
     },
     "metadata": {},
     "output_type": "display_data"
    },
    {
     "data": {
      "application/vnd.jupyter.widget-view+json": {
       "model_id": "b00209bfe7704b5a850eea14bca68bf4",
       "version_major": 2,
       "version_minor": 0
      },
      "text/plain": [
       "Processing audio files:   0%|          | 0/50 [00:00<?, ?it/s]"
      ]
     },
     "metadata": {},
     "output_type": "display_data"
    },
    {
     "data": {
      "application/vnd.jupyter.widget-view+json": {
       "model_id": "e4a6fa49b2f04033af517fa19c7c50eb",
       "version_major": 2,
       "version_minor": 0
      },
      "text/plain": [
       "Processing audio files:   0%|          | 0/50 [00:00<?, ?it/s]"
      ]
     },
     "metadata": {},
     "output_type": "display_data"
    },
    {
     "data": {
      "application/vnd.jupyter.widget-view+json": {
       "model_id": "4f859a6c82e240a2bbf10eef6f832226",
       "version_major": 2,
       "version_minor": 0
      },
      "text/plain": [
       "Processing audio files:   0%|          | 0/50 [00:00<?, ?it/s]"
      ]
     },
     "metadata": {},
     "output_type": "display_data"
    },
    {
     "data": {
      "application/vnd.jupyter.widget-view+json": {
       "model_id": "a7f5fad165fc4250a796df13e34ead05",
       "version_major": 2,
       "version_minor": 0
      },
      "text/plain": [
       "Processing audio files:   0%|          | 0/50 [00:00<?, ?it/s]"
      ]
     },
     "metadata": {},
     "output_type": "display_data"
    },
    {
     "data": {
      "application/vnd.jupyter.widget-view+json": {
       "model_id": "c247daa5282b45b7a9687e83156ad0ae",
       "version_major": 2,
       "version_minor": 0
      },
      "text/plain": [
       "Processing audio files:   0%|          | 0/50 [00:00<?, ?it/s]"
      ]
     },
     "metadata": {},
     "output_type": "display_data"
    },
    {
     "data": {
      "application/vnd.jupyter.widget-view+json": {
       "model_id": "1820d561c95e46c2b8236f43c857fb73",
       "version_major": 2,
       "version_minor": 0
      },
      "text/plain": [
       "Processing audio files:   0%|          | 0/50 [00:00<?, ?it/s]"
      ]
     },
     "metadata": {},
     "output_type": "display_data"
    },
    {
     "data": {
      "application/vnd.jupyter.widget-view+json": {
       "model_id": "48c7ef1602a04ea3af6db70a03d5b275",
       "version_major": 2,
       "version_minor": 0
      },
      "text/plain": [
       "Processing audio files:   0%|          | 0/50 [00:00<?, ?it/s]"
      ]
     },
     "metadata": {},
     "output_type": "display_data"
    },
    {
     "data": {
      "application/vnd.jupyter.widget-view+json": {
       "model_id": "58dc4dbe835f45f994b206bd692a1a56",
       "version_major": 2,
       "version_minor": 0
      },
      "text/plain": [
       "Processing audio files:   0%|          | 0/50 [00:00<?, ?it/s]"
      ]
     },
     "metadata": {},
     "output_type": "display_data"
    },
    {
     "data": {
      "application/vnd.jupyter.widget-view+json": {
       "model_id": "d0c2ceab624a4560855009a1390f9085",
       "version_major": 2,
       "version_minor": 0
      },
      "text/plain": [
       "Processing audio files:   0%|          | 0/50 [00:00<?, ?it/s]"
      ]
     },
     "metadata": {},
     "output_type": "display_data"
    },
    {
     "data": {
      "application/vnd.jupyter.widget-view+json": {
       "model_id": "dd807afe05444a2fa7daec02cc99deaa",
       "version_major": 2,
       "version_minor": 0
      },
      "text/plain": [
       "Processing audio files:   0%|          | 0/50 [00:00<?, ?it/s]"
      ]
     },
     "metadata": {},
     "output_type": "display_data"
    },
    {
     "data": {
      "application/vnd.jupyter.widget-view+json": {
       "model_id": "65ff6ba518134559a7143d35237f0fd0",
       "version_major": 2,
       "version_minor": 0
      },
      "text/plain": [
       "Processing audio files:   0%|          | 0/50 [00:00<?, ?it/s]"
      ]
     },
     "metadata": {},
     "output_type": "display_data"
    },
    {
     "data": {
      "application/vnd.jupyter.widget-view+json": {
       "model_id": "f0b7c83ccc264e3dac7d701bfa72cd74",
       "version_major": 2,
       "version_minor": 0
      },
      "text/plain": [
       "Processing audio files:   0%|          | 0/50 [00:00<?, ?it/s]"
      ]
     },
     "metadata": {},
     "output_type": "display_data"
    },
    {
     "data": {
      "application/vnd.jupyter.widget-view+json": {
       "model_id": "dd9ec1d5bb5e40bc930bdb28281b71c0",
       "version_major": 2,
       "version_minor": 0
      },
      "text/plain": [
       "Processing audio files:   0%|          | 0/50 [00:00<?, ?it/s]"
      ]
     },
     "metadata": {},
     "output_type": "display_data"
    },
    {
     "data": {
      "application/vnd.jupyter.widget-view+json": {
       "model_id": "8fb2a2ab85b744c09ff5de7ca8ce7518",
       "version_major": 2,
       "version_minor": 0
      },
      "text/plain": [
       "Processing audio files:   0%|          | 0/50 [00:00<?, ?it/s]"
      ]
     },
     "metadata": {},
     "output_type": "display_data"
    },
    {
     "data": {
      "application/vnd.jupyter.widget-view+json": {
       "model_id": "fd5898b3ff2c43b0806cd101d7c77501",
       "version_major": 2,
       "version_minor": 0
      },
      "text/plain": [
       "Processing audio files:   0%|          | 0/50 [00:00<?, ?it/s]"
      ]
     },
     "metadata": {},
     "output_type": "display_data"
    },
    {
     "data": {
      "application/vnd.jupyter.widget-view+json": {
       "model_id": "6b2d6c78ef774b46922917c9b70be574",
       "version_major": 2,
       "version_minor": 0
      },
      "text/plain": [
       "Processing audio files:   0%|          | 0/50 [00:00<?, ?it/s]"
      ]
     },
     "metadata": {},
     "output_type": "display_data"
    },
    {
     "data": {
      "application/vnd.jupyter.widget-view+json": {
       "model_id": "18eb4653fdc84ac3891bca48e5ef649c",
       "version_major": 2,
       "version_minor": 0
      },
      "text/plain": [
       "Processing audio files:   0%|          | 0/50 [00:00<?, ?it/s]"
      ]
     },
     "metadata": {},
     "output_type": "display_data"
    },
    {
     "data": {
      "application/vnd.jupyter.widget-view+json": {
       "model_id": "08da9af080b945218f51a3150512f8ce",
       "version_major": 2,
       "version_minor": 0
      },
      "text/plain": [
       "Processing audio files:   0%|          | 0/50 [00:00<?, ?it/s]"
      ]
     },
     "metadata": {},
     "output_type": "display_data"
    },
    {
     "data": {
      "application/vnd.jupyter.widget-view+json": {
       "model_id": "df8a3ebd20294140bc803cb92289f9bf",
       "version_major": 2,
       "version_minor": 0
      },
      "text/plain": [
       "Processing audio files:   0%|          | 0/50 [00:00<?, ?it/s]"
      ]
     },
     "metadata": {},
     "output_type": "display_data"
    },
    {
     "data": {
      "application/vnd.jupyter.widget-view+json": {
       "model_id": "52d515348975467e8f9a8a027389b23b",
       "version_major": 2,
       "version_minor": 0
      },
      "text/plain": [
       "Processing audio files:   0%|          | 0/50 [00:00<?, ?it/s]"
      ]
     },
     "metadata": {},
     "output_type": "display_data"
    },
    {
     "data": {
      "application/vnd.jupyter.widget-view+json": {
       "model_id": "bb792fa2c98246c296469b445e4c1812",
       "version_major": 2,
       "version_minor": 0
      },
      "text/plain": [
       "Processing audio files:   0%|          | 0/50 [00:00<?, ?it/s]"
      ]
     },
     "metadata": {},
     "output_type": "display_data"
    },
    {
     "data": {
      "application/vnd.jupyter.widget-view+json": {
       "model_id": "cd5b29ad4dcd495a94d4f62b6b982fb4",
       "version_major": 2,
       "version_minor": 0
      },
      "text/plain": [
       "Processing audio files:   0%|          | 0/50 [00:00<?, ?it/s]"
      ]
     },
     "metadata": {},
     "output_type": "display_data"
    },
    {
     "data": {
      "application/vnd.jupyter.widget-view+json": {
       "model_id": "efc4080a586e4c9eb28953f8eff2d0ff",
       "version_major": 2,
       "version_minor": 0
      },
      "text/plain": [
       "Processing audio files:   0%|          | 0/50 [00:00<?, ?it/s]"
      ]
     },
     "metadata": {},
     "output_type": "display_data"
    },
    {
     "data": {
      "application/vnd.jupyter.widget-view+json": {
       "model_id": "c798d753ca9e48c5bd082444f2d8713c",
       "version_major": 2,
       "version_minor": 0
      },
      "text/plain": [
       "Processing audio files:   0%|          | 0/50 [00:00<?, ?it/s]"
      ]
     },
     "metadata": {},
     "output_type": "display_data"
    },
    {
     "data": {
      "application/vnd.jupyter.widget-view+json": {
       "model_id": "011086715fac40cc9269ce9b1f65c012",
       "version_major": 2,
       "version_minor": 0
      },
      "text/plain": [
       "Processing audio files:   0%|          | 0/50 [00:00<?, ?it/s]"
      ]
     },
     "metadata": {},
     "output_type": "display_data"
    },
    {
     "data": {
      "application/vnd.jupyter.widget-view+json": {
       "model_id": "1da37868a3f649cf877f85503f3b300a",
       "version_major": 2,
       "version_minor": 0
      },
      "text/plain": [
       "Processing audio files:   0%|          | 0/50 [00:00<?, ?it/s]"
      ]
     },
     "metadata": {},
     "output_type": "display_data"
    },
    {
     "data": {
      "application/vnd.jupyter.widget-view+json": {
       "model_id": "463cdd90be06447b88bdb9a8b67c4f39",
       "version_major": 2,
       "version_minor": 0
      },
      "text/plain": [
       "Processing audio files:   0%|          | 0/50 [00:00<?, ?it/s]"
      ]
     },
     "metadata": {},
     "output_type": "display_data"
    },
    {
     "data": {
      "application/vnd.jupyter.widget-view+json": {
       "model_id": "1d78afe70b79471facdf6938125aa3ab",
       "version_major": 2,
       "version_minor": 0
      },
      "text/plain": [
       "Processing audio files:   0%|          | 0/50 [00:00<?, ?it/s]"
      ]
     },
     "metadata": {},
     "output_type": "display_data"
    },
    {
     "data": {
      "application/vnd.jupyter.widget-view+json": {
       "model_id": "7ba609628d5a424f88159e0e870b06a7",
       "version_major": 2,
       "version_minor": 0
      },
      "text/plain": [
       "Processing audio files:   0%|          | 0/50 [00:00<?, ?it/s]"
      ]
     },
     "metadata": {},
     "output_type": "display_data"
    },
    {
     "data": {
      "application/vnd.jupyter.widget-view+json": {
       "model_id": "93a92e267a904760a4eb3c744c95b732",
       "version_major": 2,
       "version_minor": 0
      },
      "text/plain": [
       "Processing audio files:   0%|          | 0/50 [00:00<?, ?it/s]"
      ]
     },
     "metadata": {},
     "output_type": "display_data"
    },
    {
     "data": {
      "application/vnd.jupyter.widget-view+json": {
       "model_id": "2e857c891a2b45e6b5f40fe26d175da3",
       "version_major": 2,
       "version_minor": 0
      },
      "text/plain": [
       "Processing audio files:   0%|          | 0/50 [00:00<?, ?it/s]"
      ]
     },
     "metadata": {},
     "output_type": "display_data"
    },
    {
     "data": {
      "application/vnd.jupyter.widget-view+json": {
       "model_id": "ed2cdd46c5494e469276dba700c8d89e",
       "version_major": 2,
       "version_minor": 0
      },
      "text/plain": [
       "Processing audio files:   0%|          | 0/50 [00:00<?, ?it/s]"
      ]
     },
     "metadata": {},
     "output_type": "display_data"
    },
    {
     "data": {
      "application/vnd.jupyter.widget-view+json": {
       "model_id": "58e4d985d98045b3ae3e5a4a8ede3feb",
       "version_major": 2,
       "version_minor": 0
      },
      "text/plain": [
       "Processing audio files:   0%|          | 0/50 [00:00<?, ?it/s]"
      ]
     },
     "metadata": {},
     "output_type": "display_data"
    },
    {
     "data": {
      "application/vnd.jupyter.widget-view+json": {
       "model_id": "3d1cd9db41f84ff3a404e95de3a4a7a0",
       "version_major": 2,
       "version_minor": 0
      },
      "text/plain": [
       "Processing audio files:   0%|          | 0/50 [00:00<?, ?it/s]"
      ]
     },
     "metadata": {},
     "output_type": "display_data"
    },
    {
     "data": {
      "application/vnd.jupyter.widget-view+json": {
       "model_id": "3e6c84423f0d48b98c617989f1451826",
       "version_major": 2,
       "version_minor": 0
      },
      "text/plain": [
       "Processing audio files:   0%|          | 0/50 [00:00<?, ?it/s]"
      ]
     },
     "metadata": {},
     "output_type": "display_data"
    },
    {
     "data": {
      "application/vnd.jupyter.widget-view+json": {
       "model_id": "89a52404cbb5445b9f481a24bdb97071",
       "version_major": 2,
       "version_minor": 0
      },
      "text/plain": [
       "Processing audio files:   0%|          | 0/50 [00:00<?, ?it/s]"
      ]
     },
     "metadata": {},
     "output_type": "display_data"
    },
    {
     "data": {
      "application/vnd.jupyter.widget-view+json": {
       "model_id": "af8c53fef4134225aa988e7a3b8ea506",
       "version_major": 2,
       "version_minor": 0
      },
      "text/plain": [
       "Processing audio files:   0%|          | 0/50 [00:00<?, ?it/s]"
      ]
     },
     "metadata": {},
     "output_type": "display_data"
    },
    {
     "data": {
      "application/vnd.jupyter.widget-view+json": {
       "model_id": "764b4593c433462682b28147b48dd452",
       "version_major": 2,
       "version_minor": 0
      },
      "text/plain": [
       "Processing audio files:   0%|          | 0/50 [00:00<?, ?it/s]"
      ]
     },
     "metadata": {},
     "output_type": "display_data"
    },
    {
     "data": {
      "application/vnd.jupyter.widget-view+json": {
       "model_id": "bab9d6c177d347f2ab71c441b8ae95a5",
       "version_major": 2,
       "version_minor": 0
      },
      "text/plain": [
       "Processing audio files:   0%|          | 0/50 [00:00<?, ?it/s]"
      ]
     },
     "metadata": {},
     "output_type": "display_data"
    },
    {
     "data": {
      "application/vnd.jupyter.widget-view+json": {
       "model_id": "43cf2f943ae74e3bbb90fc8d17185a1d",
       "version_major": 2,
       "version_minor": 0
      },
      "text/plain": [
       "Processing audio files:   0%|          | 0/50 [00:00<?, ?it/s]"
      ]
     },
     "metadata": {},
     "output_type": "display_data"
    },
    {
     "data": {
      "application/vnd.jupyter.widget-view+json": {
       "model_id": "e4e36f74767b46d7903468e1e8ceb0e7",
       "version_major": 2,
       "version_minor": 0
      },
      "text/plain": [
       "Processing audio files:   0%|          | 0/50 [00:00<?, ?it/s]"
      ]
     },
     "metadata": {},
     "output_type": "display_data"
    },
    {
     "data": {
      "application/vnd.jupyter.widget-view+json": {
       "model_id": "c676a7f5cf6d479788170eb24f8a17b5",
       "version_major": 2,
       "version_minor": 0
      },
      "text/plain": [
       "Processing audio files:   0%|          | 0/50 [00:00<?, ?it/s]"
      ]
     },
     "metadata": {},
     "output_type": "display_data"
    },
    {
     "data": {
      "application/vnd.jupyter.widget-view+json": {
       "model_id": "99a0357d00914f1bbcbaf1e51226794d",
       "version_major": 2,
       "version_minor": 0
      },
      "text/plain": [
       "Processing audio files:   0%|          | 0/50 [00:00<?, ?it/s]"
      ]
     },
     "metadata": {},
     "output_type": "display_data"
    },
    {
     "data": {
      "application/vnd.jupyter.widget-view+json": {
       "model_id": "cc346dac3aeb46f1a0cd8ebe855acdd8",
       "version_major": 2,
       "version_minor": 0
      },
      "text/plain": [
       "Processing audio files:   0%|          | 0/50 [00:00<?, ?it/s]"
      ]
     },
     "metadata": {},
     "output_type": "display_data"
    },
    {
     "data": {
      "application/vnd.jupyter.widget-view+json": {
       "model_id": "655dafd980d94cb691e694c0a18e2891",
       "version_major": 2,
       "version_minor": 0
      },
      "text/plain": [
       "Processing audio files:   0%|          | 0/50 [00:00<?, ?it/s]"
      ]
     },
     "metadata": {},
     "output_type": "display_data"
    },
    {
     "data": {
      "application/vnd.jupyter.widget-view+json": {
       "model_id": "da0799a3bf7f4e2294dc1cb78630e6b2",
       "version_major": 2,
       "version_minor": 0
      },
      "text/plain": [
       "Processing audio files:   0%|          | 0/50 [00:00<?, ?it/s]"
      ]
     },
     "metadata": {},
     "output_type": "display_data"
    },
    {
     "data": {
      "application/vnd.jupyter.widget-view+json": {
       "model_id": "b3fa2455ddd24fa79f8a6c384b111e72",
       "version_major": 2,
       "version_minor": 0
      },
      "text/plain": [
       "Processing audio files:   0%|          | 0/50 [00:00<?, ?it/s]"
      ]
     },
     "metadata": {},
     "output_type": "display_data"
    },
    {
     "data": {
      "application/vnd.jupyter.widget-view+json": {
       "model_id": "b914a99c197741d2b60b4ca83905ff14",
       "version_major": 2,
       "version_minor": 0
      },
      "text/plain": [
       "Processing audio files:   0%|          | 0/50 [00:00<?, ?it/s]"
      ]
     },
     "metadata": {},
     "output_type": "display_data"
    },
    {
     "data": {
      "application/vnd.jupyter.widget-view+json": {
       "model_id": "f3319d60055a426281d00db7baec3b39",
       "version_major": 2,
       "version_minor": 0
      },
      "text/plain": [
       "Processing audio files:   0%|          | 0/50 [00:00<?, ?it/s]"
      ]
     },
     "metadata": {},
     "output_type": "display_data"
    },
    {
     "data": {
      "application/vnd.jupyter.widget-view+json": {
       "model_id": "63721f9f2c7c496aa99440e44bbe0559",
       "version_major": 2,
       "version_minor": 0
      },
      "text/plain": [
       "Processing audio files:   0%|          | 0/50 [00:00<?, ?it/s]"
      ]
     },
     "metadata": {},
     "output_type": "display_data"
    },
    {
     "data": {
      "application/vnd.jupyter.widget-view+json": {
       "model_id": "8992b5924705456f9d59e1cb357a92e6",
       "version_major": 2,
       "version_minor": 0
      },
      "text/plain": [
       "Processing audio files:   0%|          | 0/50 [00:00<?, ?it/s]"
      ]
     },
     "metadata": {},
     "output_type": "display_data"
    },
    {
     "data": {
      "application/vnd.jupyter.widget-view+json": {
       "model_id": "3eb0a28aff754ea882394ef82eaff061",
       "version_major": 2,
       "version_minor": 0
      },
      "text/plain": [
       "Processing audio files:   0%|          | 0/50 [00:00<?, ?it/s]"
      ]
     },
     "metadata": {},
     "output_type": "display_data"
    },
    {
     "data": {
      "application/vnd.jupyter.widget-view+json": {
       "model_id": "0d55ebb0284e435896b8feba4360ef8c",
       "version_major": 2,
       "version_minor": 0
      },
      "text/plain": [
       "Processing audio files:   0%|          | 0/50 [00:00<?, ?it/s]"
      ]
     },
     "metadata": {},
     "output_type": "display_data"
    },
    {
     "data": {
      "application/vnd.jupyter.widget-view+json": {
       "model_id": "0f79ca41ff634b5ba42af258cd7e1231",
       "version_major": 2,
       "version_minor": 0
      },
      "text/plain": [
       "Processing audio files:   0%|          | 0/50 [00:00<?, ?it/s]"
      ]
     },
     "metadata": {},
     "output_type": "display_data"
    },
    {
     "data": {
      "application/vnd.jupyter.widget-view+json": {
       "model_id": "ef1699037a4d4b13aac7d65d6804b0f1",
       "version_major": 2,
       "version_minor": 0
      },
      "text/plain": [
       "Processing audio files:   0%|          | 0/50 [00:00<?, ?it/s]"
      ]
     },
     "metadata": {},
     "output_type": "display_data"
    },
    {
     "data": {
      "application/vnd.jupyter.widget-view+json": {
       "model_id": "f88c729d63554cfc99de403cd6747906",
       "version_major": 2,
       "version_minor": 0
      },
      "text/plain": [
       "Processing audio files:   0%|          | 0/50 [00:00<?, ?it/s]"
      ]
     },
     "metadata": {},
     "output_type": "display_data"
    },
    {
     "data": {
      "application/vnd.jupyter.widget-view+json": {
       "model_id": "22a89c052c6141a2b0a30a91eb59fc9e",
       "version_major": 2,
       "version_minor": 0
      },
      "text/plain": [
       "Processing audio files:   0%|          | 0/50 [00:00<?, ?it/s]"
      ]
     },
     "metadata": {},
     "output_type": "display_data"
    },
    {
     "data": {
      "application/vnd.jupyter.widget-view+json": {
       "model_id": "8cfb1a1d97d44c0387c476676564cb84",
       "version_major": 2,
       "version_minor": 0
      },
      "text/plain": [
       "Processing audio files:   0%|          | 0/50 [00:00<?, ?it/s]"
      ]
     },
     "metadata": {},
     "output_type": "display_data"
    },
    {
     "data": {
      "application/vnd.jupyter.widget-view+json": {
       "model_id": "05ef0acea5aa4cda86f8a08b5502b12d",
       "version_major": 2,
       "version_minor": 0
      },
      "text/plain": [
       "Processing audio files:   0%|          | 0/50 [00:00<?, ?it/s]"
      ]
     },
     "metadata": {},
     "output_type": "display_data"
    },
    {
     "data": {
      "application/vnd.jupyter.widget-view+json": {
       "model_id": "833d9df462704d7f8c40c5df9a7bf2e0",
       "version_major": 2,
       "version_minor": 0
      },
      "text/plain": [
       "Processing audio files:   0%|          | 0/50 [00:00<?, ?it/s]"
      ]
     },
     "metadata": {},
     "output_type": "display_data"
    },
    {
     "data": {
      "application/vnd.jupyter.widget-view+json": {
       "model_id": "19a8f11564c5415baa1d902757f1608a",
       "version_major": 2,
       "version_minor": 0
      },
      "text/plain": [
       "Processing audio files:   0%|          | 0/50 [00:00<?, ?it/s]"
      ]
     },
     "metadata": {},
     "output_type": "display_data"
    },
    {
     "data": {
      "application/vnd.jupyter.widget-view+json": {
       "model_id": "ada5375bf7f84858883e196fd5651ef5",
       "version_major": 2,
       "version_minor": 0
      },
      "text/plain": [
       "Processing audio files:   0%|          | 0/50 [00:00<?, ?it/s]"
      ]
     },
     "metadata": {},
     "output_type": "display_data"
    },
    {
     "data": {
      "application/vnd.jupyter.widget-view+json": {
       "model_id": "74c98605ceb54eb4af5468dd0f998c0b",
       "version_major": 2,
       "version_minor": 0
      },
      "text/plain": [
       "Processing audio files:   0%|          | 0/50 [00:00<?, ?it/s]"
      ]
     },
     "metadata": {},
     "output_type": "display_data"
    },
    {
     "data": {
      "application/vnd.jupyter.widget-view+json": {
       "model_id": "90d3ba1aa58340c2bf70c89351183135",
       "version_major": 2,
       "version_minor": 0
      },
      "text/plain": [
       "Processing audio files:   0%|          | 0/50 [00:00<?, ?it/s]"
      ]
     },
     "metadata": {},
     "output_type": "display_data"
    },
    {
     "data": {
      "application/vnd.jupyter.widget-view+json": {
       "model_id": "b17c5a48210f42bd85777e0c9d9069e6",
       "version_major": 2,
       "version_minor": 0
      },
      "text/plain": [
       "Processing audio files:   0%|          | 0/50 [00:00<?, ?it/s]"
      ]
     },
     "metadata": {},
     "output_type": "display_data"
    },
    {
     "data": {
      "application/vnd.jupyter.widget-view+json": {
       "model_id": "e05ea77d00c748098ca73884bb31cbc8",
       "version_major": 2,
       "version_minor": 0
      },
      "text/plain": [
       "Processing audio files:   0%|          | 0/50 [00:00<?, ?it/s]"
      ]
     },
     "metadata": {},
     "output_type": "display_data"
    },
    {
     "data": {
      "application/vnd.jupyter.widget-view+json": {
       "model_id": "811fed60423a455baaa2032b1342cf69",
       "version_major": 2,
       "version_minor": 0
      },
      "text/plain": [
       "Processing audio files:   0%|          | 0/50 [00:00<?, ?it/s]"
      ]
     },
     "metadata": {},
     "output_type": "display_data"
    },
    {
     "data": {
      "application/vnd.jupyter.widget-view+json": {
       "model_id": "f782323a74334d9e99e3a760653e8b21",
       "version_major": 2,
       "version_minor": 0
      },
      "text/plain": [
       "Processing audio files:   0%|          | 0/50 [00:00<?, ?it/s]"
      ]
     },
     "metadata": {},
     "output_type": "display_data"
    },
    {
     "data": {
      "application/vnd.jupyter.widget-view+json": {
       "model_id": "640e37fe2f29421a98ee21c8d24b826f",
       "version_major": 2,
       "version_minor": 0
      },
      "text/plain": [
       "Processing audio files:   0%|          | 0/50 [00:00<?, ?it/s]"
      ]
     },
     "metadata": {},
     "output_type": "display_data"
    },
    {
     "data": {
      "application/vnd.jupyter.widget-view+json": {
       "model_id": "f28a2e8398694c00a48e73c5dfb3e140",
       "version_major": 2,
       "version_minor": 0
      },
      "text/plain": [
       "Processing audio files:   0%|          | 0/50 [00:00<?, ?it/s]"
      ]
     },
     "metadata": {},
     "output_type": "display_data"
    },
    {
     "data": {
      "application/vnd.jupyter.widget-view+json": {
       "model_id": "957524b089c5425289c4fccdbb634066",
       "version_major": 2,
       "version_minor": 0
      },
      "text/plain": [
       "Processing audio files:   0%|          | 0/50 [00:00<?, ?it/s]"
      ]
     },
     "metadata": {},
     "output_type": "display_data"
    },
    {
     "data": {
      "application/vnd.jupyter.widget-view+json": {
       "model_id": "104a28847f6b49c2ae3d215323d9ca62",
       "version_major": 2,
       "version_minor": 0
      },
      "text/plain": [
       "Processing audio files:   0%|          | 0/50 [00:00<?, ?it/s]"
      ]
     },
     "metadata": {},
     "output_type": "display_data"
    },
    {
     "data": {
      "application/vnd.jupyter.widget-view+json": {
       "model_id": "8ecbb86a6d9c4732b32905adafda48ef",
       "version_major": 2,
       "version_minor": 0
      },
      "text/plain": [
       "Processing audio files:   0%|          | 0/50 [00:00<?, ?it/s]"
      ]
     },
     "metadata": {},
     "output_type": "display_data"
    },
    {
     "data": {
      "application/vnd.jupyter.widget-view+json": {
       "model_id": "0a08936dc4434264a12ee2d5f8545a85",
       "version_major": 2,
       "version_minor": 0
      },
      "text/plain": [
       "Processing audio files:   0%|          | 0/50 [00:00<?, ?it/s]"
      ]
     },
     "metadata": {},
     "output_type": "display_data"
    },
    {
     "data": {
      "application/vnd.jupyter.widget-view+json": {
       "model_id": "e2150602fb9148699a50b117bbbe3548",
       "version_major": 2,
       "version_minor": 0
      },
      "text/plain": [
       "Processing audio files:   0%|          | 0/50 [00:00<?, ?it/s]"
      ]
     },
     "metadata": {},
     "output_type": "display_data"
    },
    {
     "data": {
      "application/vnd.jupyter.widget-view+json": {
       "model_id": "70b2cb9098e14dee993ded5999236ba7",
       "version_major": 2,
       "version_minor": 0
      },
      "text/plain": [
       "Processing audio files:   0%|          | 0/50 [00:00<?, ?it/s]"
      ]
     },
     "metadata": {},
     "output_type": "display_data"
    },
    {
     "data": {
      "application/vnd.jupyter.widget-view+json": {
       "model_id": "9ad1fa6aa2584e4485e3e1c5cc8def10",
       "version_major": 2,
       "version_minor": 0
      },
      "text/plain": [
       "Processing audio files:   0%|          | 0/50 [00:00<?, ?it/s]"
      ]
     },
     "metadata": {},
     "output_type": "display_data"
    },
    {
     "data": {
      "application/vnd.jupyter.widget-view+json": {
       "model_id": "209e31edcaa0412f8556d262b78d44b2",
       "version_major": 2,
       "version_minor": 0
      },
      "text/plain": [
       "Processing audio files:   0%|          | 0/50 [00:00<?, ?it/s]"
      ]
     },
     "metadata": {},
     "output_type": "display_data"
    },
    {
     "data": {
      "application/vnd.jupyter.widget-view+json": {
       "model_id": "977876750eeb4e3abbdae351528b948c",
       "version_major": 2,
       "version_minor": 0
      },
      "text/plain": [
       "Processing audio files:   0%|          | 0/50 [00:00<?, ?it/s]"
      ]
     },
     "metadata": {},
     "output_type": "display_data"
    },
    {
     "data": {
      "application/vnd.jupyter.widget-view+json": {
       "model_id": "47ee1ae012b2480e8db3bebea7b9a9d5",
       "version_major": 2,
       "version_minor": 0
      },
      "text/plain": [
       "Processing audio files:   0%|          | 0/50 [00:00<?, ?it/s]"
      ]
     },
     "metadata": {},
     "output_type": "display_data"
    },
    {
     "data": {
      "application/vnd.jupyter.widget-view+json": {
       "model_id": "567e8d7c45bb4caeb4b39afc2293b481",
       "version_major": 2,
       "version_minor": 0
      },
      "text/plain": [
       "Processing audio files:   0%|          | 0/50 [00:00<?, ?it/s]"
      ]
     },
     "metadata": {},
     "output_type": "display_data"
    },
    {
     "data": {
      "application/vnd.jupyter.widget-view+json": {
       "model_id": "774433d2b4ea4652a2411323956f7778",
       "version_major": 2,
       "version_minor": 0
      },
      "text/plain": [
       "Processing audio files:   0%|          | 0/50 [00:00<?, ?it/s]"
      ]
     },
     "metadata": {},
     "output_type": "display_data"
    },
    {
     "data": {
      "application/vnd.jupyter.widget-view+json": {
       "model_id": "3dac1634b3ed4d5d80050d54af297f6b",
       "version_major": 2,
       "version_minor": 0
      },
      "text/plain": [
       "Processing audio files:   0%|          | 0/50 [00:00<?, ?it/s]"
      ]
     },
     "metadata": {},
     "output_type": "display_data"
    },
    {
     "data": {
      "application/vnd.jupyter.widget-view+json": {
       "model_id": "8f93f98e5f2c46788a6da58dc644a82b",
       "version_major": 2,
       "version_minor": 0
      },
      "text/plain": [
       "Processing audio files:   0%|          | 0/50 [00:00<?, ?it/s]"
      ]
     },
     "metadata": {},
     "output_type": "display_data"
    },
    {
     "data": {
      "application/vnd.jupyter.widget-view+json": {
       "model_id": "1413f84b0f9e487e9c22aabae1b97e89",
       "version_major": 2,
       "version_minor": 0
      },
      "text/plain": [
       "Processing audio files:   0%|          | 0/50 [00:00<?, ?it/s]"
      ]
     },
     "metadata": {},
     "output_type": "display_data"
    },
    {
     "data": {
      "application/vnd.jupyter.widget-view+json": {
       "model_id": "2b2f1da21dbb4a0c8667a31df3680d5e",
       "version_major": 2,
       "version_minor": 0
      },
      "text/plain": [
       "Processing audio files:   0%|          | 0/50 [00:00<?, ?it/s]"
      ]
     },
     "metadata": {},
     "output_type": "display_data"
    },
    {
     "data": {
      "application/vnd.jupyter.widget-view+json": {
       "model_id": "745a85984a1e42e0939d7d25e1289ae8",
       "version_major": 2,
       "version_minor": 0
      },
      "text/plain": [
       "Processing audio files:   0%|          | 0/50 [00:00<?, ?it/s]"
      ]
     },
     "metadata": {},
     "output_type": "display_data"
    },
    {
     "data": {
      "application/vnd.jupyter.widget-view+json": {
       "model_id": "c86637f80eba46ad9944a0c8372ecd29",
       "version_major": 2,
       "version_minor": 0
      },
      "text/plain": [
       "Processing audio files:   0%|          | 0/50 [00:00<?, ?it/s]"
      ]
     },
     "metadata": {},
     "output_type": "display_data"
    },
    {
     "data": {
      "application/vnd.jupyter.widget-view+json": {
       "model_id": "9676b77cbf9249e58fefc821487e2c29",
       "version_major": 2,
       "version_minor": 0
      },
      "text/plain": [
       "Processing audio files:   0%|          | 0/50 [00:00<?, ?it/s]"
      ]
     },
     "metadata": {},
     "output_type": "display_data"
    },
    {
     "data": {
      "application/vnd.jupyter.widget-view+json": {
       "model_id": "537096c9b7174a228904faf84468802d",
       "version_major": 2,
       "version_minor": 0
      },
      "text/plain": [
       "Processing audio files:   0%|          | 0/50 [00:00<?, ?it/s]"
      ]
     },
     "metadata": {},
     "output_type": "display_data"
    },
    {
     "data": {
      "application/vnd.jupyter.widget-view+json": {
       "model_id": "95220f52ce0e4d5d99e8b0ec453d0464",
       "version_major": 2,
       "version_minor": 0
      },
      "text/plain": [
       "Processing audio files:   0%|          | 0/50 [00:00<?, ?it/s]"
      ]
     },
     "metadata": {},
     "output_type": "display_data"
    },
    {
     "data": {
      "application/vnd.jupyter.widget-view+json": {
       "model_id": "a71bf1328cc64aa29cb0664e9635d637",
       "version_major": 2,
       "version_minor": 0
      },
      "text/plain": [
       "Processing audio files:   0%|          | 0/50 [00:00<?, ?it/s]"
      ]
     },
     "metadata": {},
     "output_type": "display_data"
    },
    {
     "data": {
      "application/vnd.jupyter.widget-view+json": {
       "model_id": "365bac6811f84697b82848069dda6669",
       "version_major": 2,
       "version_minor": 0
      },
      "text/plain": [
       "Processing audio files:   0%|          | 0/50 [00:00<?, ?it/s]"
      ]
     },
     "metadata": {},
     "output_type": "display_data"
    },
    {
     "data": {
      "application/vnd.jupyter.widget-view+json": {
       "model_id": "fef28763c8ac4e149dce643d734a9d79",
       "version_major": 2,
       "version_minor": 0
      },
      "text/plain": [
       "Processing audio files:   0%|          | 0/50 [00:00<?, ?it/s]"
      ]
     },
     "metadata": {},
     "output_type": "display_data"
    },
    {
     "data": {
      "application/vnd.jupyter.widget-view+json": {
       "model_id": "ad291027c5a940bf88fc2a72f04bfc0e",
       "version_major": 2,
       "version_minor": 0
      },
      "text/plain": [
       "Processing audio files:   0%|          | 0/50 [00:00<?, ?it/s]"
      ]
     },
     "metadata": {},
     "output_type": "display_data"
    },
    {
     "data": {
      "application/vnd.jupyter.widget-view+json": {
       "model_id": "16041dda73874b03b4217565562c4059",
       "version_major": 2,
       "version_minor": 0
      },
      "text/plain": [
       "Processing audio files:   0%|          | 0/50 [00:00<?, ?it/s]"
      ]
     },
     "metadata": {},
     "output_type": "display_data"
    },
    {
     "data": {
      "application/vnd.jupyter.widget-view+json": {
       "model_id": "d62ecfd5647b4943881893497eecaf29",
       "version_major": 2,
       "version_minor": 0
      },
      "text/plain": [
       "Processing audio files:   0%|          | 0/50 [00:00<?, ?it/s]"
      ]
     },
     "metadata": {},
     "output_type": "display_data"
    },
    {
     "data": {
      "application/vnd.jupyter.widget-view+json": {
       "model_id": "a7a9cc1f0e514b2db5b71ec035c7bf8a",
       "version_major": 2,
       "version_minor": 0
      },
      "text/plain": [
       "Processing audio files:   0%|          | 0/50 [00:00<?, ?it/s]"
      ]
     },
     "metadata": {},
     "output_type": "display_data"
    },
    {
     "data": {
      "application/vnd.jupyter.widget-view+json": {
       "model_id": "f09479766bbf49589f7c6d71483597c1",
       "version_major": 2,
       "version_minor": 0
      },
      "text/plain": [
       "Processing audio files:   0%|          | 0/50 [00:00<?, ?it/s]"
      ]
     },
     "metadata": {},
     "output_type": "display_data"
    },
    {
     "data": {
      "application/vnd.jupyter.widget-view+json": {
       "model_id": "d46745b66ca1476f962b2b8772ea8e7a",
       "version_major": 2,
       "version_minor": 0
      },
      "text/plain": [
       "Processing audio files:   0%|          | 0/50 [00:00<?, ?it/s]"
      ]
     },
     "metadata": {},
     "output_type": "display_data"
    },
    {
     "data": {
      "application/vnd.jupyter.widget-view+json": {
       "model_id": "794dc4a8987b467199eea700fb705224",
       "version_major": 2,
       "version_minor": 0
      },
      "text/plain": [
       "Processing audio files:   0%|          | 0/50 [00:00<?, ?it/s]"
      ]
     },
     "metadata": {},
     "output_type": "display_data"
    },
    {
     "data": {
      "application/vnd.jupyter.widget-view+json": {
       "model_id": "9ac3d61a861f4fbe834c3759402e94b7",
       "version_major": 2,
       "version_minor": 0
      },
      "text/plain": [
       "Processing audio files:   0%|          | 0/50 [00:00<?, ?it/s]"
      ]
     },
     "metadata": {},
     "output_type": "display_data"
    },
    {
     "data": {
      "application/vnd.jupyter.widget-view+json": {
       "model_id": "13e83536e3de46adb4586f6583ad023a",
       "version_major": 2,
       "version_minor": 0
      },
      "text/plain": [
       "Processing audio files:   0%|          | 0/50 [00:00<?, ?it/s]"
      ]
     },
     "metadata": {},
     "output_type": "display_data"
    },
    {
     "data": {
      "application/vnd.jupyter.widget-view+json": {
       "model_id": "e7832956700f4d75b73689921668e9b7",
       "version_major": 2,
       "version_minor": 0
      },
      "text/plain": [
       "Processing audio files:   0%|          | 0/50 [00:00<?, ?it/s]"
      ]
     },
     "metadata": {},
     "output_type": "display_data"
    },
    {
     "data": {
      "application/vnd.jupyter.widget-view+json": {
       "model_id": "1033e1306d1d4f11a84f704c00f4d1f6",
       "version_major": 2,
       "version_minor": 0
      },
      "text/plain": [
       "Processing audio files:   0%|          | 0/50 [00:00<?, ?it/s]"
      ]
     },
     "metadata": {},
     "output_type": "display_data"
    },
    {
     "data": {
      "application/vnd.jupyter.widget-view+json": {
       "model_id": "a0c3866d847d40deb90781f5b0948a9e",
       "version_major": 2,
       "version_minor": 0
      },
      "text/plain": [
       "Processing audio files:   0%|          | 0/50 [00:00<?, ?it/s]"
      ]
     },
     "metadata": {},
     "output_type": "display_data"
    },
    {
     "data": {
      "application/vnd.jupyter.widget-view+json": {
       "model_id": "6a7f0973e6bf47e2ad014a26d72e8192",
       "version_major": 2,
       "version_minor": 0
      },
      "text/plain": [
       "Processing audio files:   0%|          | 0/50 [00:00<?, ?it/s]"
      ]
     },
     "metadata": {},
     "output_type": "display_data"
    },
    {
     "data": {
      "application/vnd.jupyter.widget-view+json": {
       "model_id": "843e34ebda4848ab84265ed69d394e0f",
       "version_major": 2,
       "version_minor": 0
      },
      "text/plain": [
       "Processing audio files:   0%|          | 0/50 [00:00<?, ?it/s]"
      ]
     },
     "metadata": {},
     "output_type": "display_data"
    },
    {
     "data": {
      "application/vnd.jupyter.widget-view+json": {
       "model_id": "c16ec02286ca43f59f24c74f0471babf",
       "version_major": 2,
       "version_minor": 0
      },
      "text/plain": [
       "Processing audio files:   0%|          | 0/50 [00:00<?, ?it/s]"
      ]
     },
     "metadata": {},
     "output_type": "display_data"
    },
    {
     "data": {
      "application/vnd.jupyter.widget-view+json": {
       "model_id": "a6c5df162ffe4f7181cc0c5bc2d562e1",
       "version_major": 2,
       "version_minor": 0
      },
      "text/plain": [
       "Processing audio files:   0%|          | 0/50 [00:00<?, ?it/s]"
      ]
     },
     "metadata": {},
     "output_type": "display_data"
    },
    {
     "data": {
      "application/vnd.jupyter.widget-view+json": {
       "model_id": "933374dfd47b413192e2d8be33f90224",
       "version_major": 2,
       "version_minor": 0
      },
      "text/plain": [
       "Processing audio files:   0%|          | 0/50 [00:00<?, ?it/s]"
      ]
     },
     "metadata": {},
     "output_type": "display_data"
    },
    {
     "data": {
      "application/vnd.jupyter.widget-view+json": {
       "model_id": "61887b71c9d94aa384d59888f47bdb36",
       "version_major": 2,
       "version_minor": 0
      },
      "text/plain": [
       "Processing audio files:   0%|          | 0/50 [00:00<?, ?it/s]"
      ]
     },
     "metadata": {},
     "output_type": "display_data"
    },
    {
     "data": {
      "application/vnd.jupyter.widget-view+json": {
       "model_id": "1e93ad4b5cce4b089127c7a7dd978af1",
       "version_major": 2,
       "version_minor": 0
      },
      "text/plain": [
       "Processing audio files:   0%|          | 0/50 [00:00<?, ?it/s]"
      ]
     },
     "metadata": {},
     "output_type": "display_data"
    },
    {
     "data": {
      "application/vnd.jupyter.widget-view+json": {
       "model_id": "2495050a1ff34fffba20be56b4f53188",
       "version_major": 2,
       "version_minor": 0
      },
      "text/plain": [
       "Processing audio files:   0%|          | 0/50 [00:00<?, ?it/s]"
      ]
     },
     "metadata": {},
     "output_type": "display_data"
    },
    {
     "data": {
      "application/vnd.jupyter.widget-view+json": {
       "model_id": "d40dc656b1f64eaaaa818258e68a151b",
       "version_major": 2,
       "version_minor": 0
      },
      "text/plain": [
       "Processing audio files:   0%|          | 0/50 [00:00<?, ?it/s]"
      ]
     },
     "metadata": {},
     "output_type": "display_data"
    },
    {
     "data": {
      "application/vnd.jupyter.widget-view+json": {
       "model_id": "2256c2b0de524a33a0612fe740cfc82f",
       "version_major": 2,
       "version_minor": 0
      },
      "text/plain": [
       "Processing audio files:   0%|          | 0/50 [00:00<?, ?it/s]"
      ]
     },
     "metadata": {},
     "output_type": "display_data"
    },
    {
     "data": {
      "application/vnd.jupyter.widget-view+json": {
       "model_id": "26c20656f5b1445c84ed8325a5b3f285",
       "version_major": 2,
       "version_minor": 0
      },
      "text/plain": [
       "Processing audio files:   0%|          | 0/50 [00:00<?, ?it/s]"
      ]
     },
     "metadata": {},
     "output_type": "display_data"
    },
    {
     "data": {
      "application/vnd.jupyter.widget-view+json": {
       "model_id": "91f5295d054c4567b18e7decae6cf2e4",
       "version_major": 2,
       "version_minor": 0
      },
      "text/plain": [
       "Processing audio files:   0%|          | 0/50 [00:00<?, ?it/s]"
      ]
     },
     "metadata": {},
     "output_type": "display_data"
    },
    {
     "data": {
      "application/vnd.jupyter.widget-view+json": {
       "model_id": "0cfc1bc0e5044a07a71023580213f90e",
       "version_major": 2,
       "version_minor": 0
      },
      "text/plain": [
       "Processing audio files:   0%|          | 0/50 [00:00<?, ?it/s]"
      ]
     },
     "metadata": {},
     "output_type": "display_data"
    },
    {
     "data": {
      "application/vnd.jupyter.widget-view+json": {
       "model_id": "78675b1a126d4ac98a7f6b8865c8b1b5",
       "version_major": 2,
       "version_minor": 0
      },
      "text/plain": [
       "Processing audio files:   0%|          | 0/50 [00:00<?, ?it/s]"
      ]
     },
     "metadata": {},
     "output_type": "display_data"
    },
    {
     "data": {
      "application/vnd.jupyter.widget-view+json": {
       "model_id": "da43376b47264e5aa6f5c6d1c0374a56",
       "version_major": 2,
       "version_minor": 0
      },
      "text/plain": [
       "Processing audio files:   0%|          | 0/50 [00:00<?, ?it/s]"
      ]
     },
     "metadata": {},
     "output_type": "display_data"
    },
    {
     "data": {
      "application/vnd.jupyter.widget-view+json": {
       "model_id": "529b0059192a4c65a0c28f3e70062e0b",
       "version_major": 2,
       "version_minor": 0
      },
      "text/plain": [
       "Processing audio files:   0%|          | 0/50 [00:00<?, ?it/s]"
      ]
     },
     "metadata": {},
     "output_type": "display_data"
    },
    {
     "data": {
      "application/vnd.jupyter.widget-view+json": {
       "model_id": "790f817fec8f4eed85203ce9cba5d213",
       "version_major": 2,
       "version_minor": 0
      },
      "text/plain": [
       "Processing audio files:   0%|          | 0/50 [00:00<?, ?it/s]"
      ]
     },
     "metadata": {},
     "output_type": "display_data"
    },
    {
     "data": {
      "application/vnd.jupyter.widget-view+json": {
       "model_id": "160e497408ec48c7a6790582ec1724a0",
       "version_major": 2,
       "version_minor": 0
      },
      "text/plain": [
       "Processing audio files:   0%|          | 0/50 [00:00<?, ?it/s]"
      ]
     },
     "metadata": {},
     "output_type": "display_data"
    },
    {
     "data": {
      "application/vnd.jupyter.widget-view+json": {
       "model_id": "10ecaddbbf934dac9b357de77492c204",
       "version_major": 2,
       "version_minor": 0
      },
      "text/plain": [
       "Processing audio files:   0%|          | 0/50 [00:00<?, ?it/s]"
      ]
     },
     "metadata": {},
     "output_type": "display_data"
    },
    {
     "data": {
      "application/vnd.jupyter.widget-view+json": {
       "model_id": "0dec4cf7a216440d8d7d3bb22ec580ba",
       "version_major": 2,
       "version_minor": 0
      },
      "text/plain": [
       "Processing audio files:   0%|          | 0/50 [00:00<?, ?it/s]"
      ]
     },
     "metadata": {},
     "output_type": "display_data"
    },
    {
     "data": {
      "application/vnd.jupyter.widget-view+json": {
       "model_id": "9021f5abee58402b916e21deb32cbad8",
       "version_major": 2,
       "version_minor": 0
      },
      "text/plain": [
       "Processing audio files:   0%|          | 0/50 [00:00<?, ?it/s]"
      ]
     },
     "metadata": {},
     "output_type": "display_data"
    },
    {
     "data": {
      "application/vnd.jupyter.widget-view+json": {
       "model_id": "5784292f8c07483e8ff2863ede53ddc8",
       "version_major": 2,
       "version_minor": 0
      },
      "text/plain": [
       "Processing audio files:   0%|          | 0/50 [00:00<?, ?it/s]"
      ]
     },
     "metadata": {},
     "output_type": "display_data"
    },
    {
     "data": {
      "application/vnd.jupyter.widget-view+json": {
       "model_id": "67a537a56c254ac0994e105260e19b5f",
       "version_major": 2,
       "version_minor": 0
      },
      "text/plain": [
       "Processing audio files:   0%|          | 0/50 [00:00<?, ?it/s]"
      ]
     },
     "metadata": {},
     "output_type": "display_data"
    },
    {
     "data": {
      "application/vnd.jupyter.widget-view+json": {
       "model_id": "5679626e55b24e86a403cb5138739610",
       "version_major": 2,
       "version_minor": 0
      },
      "text/plain": [
       "Processing audio files:   0%|          | 0/50 [00:00<?, ?it/s]"
      ]
     },
     "metadata": {},
     "output_type": "display_data"
    }
   ],
   "source": [
    "base_path = 'D:\\\\VoiceRecognitionData\\\\Train\\\\wav'\n",
    "processed_data = preprocess_voxceleb1(base_path, sample_rate=16000, sample_limit = 50, feature_type='mfcc')"
   ]
  },
  {
   "cell_type": "code",
   "execution_count": 15,
   "id": "e667f76d",
   "metadata": {},
   "outputs": [],
   "source": [
    "def inspect_data(processed_data, num_samples=5):\n",
    "    \"\"\"\n",
    "    Inspect a few samples from the dataset.\n",
    "\n",
    "    Parameters:\n",
    "    processed_data (dict): The preprocessed dataset.\n",
    "    num_samples (int): Number of samples to inspect from each speaker.\n",
    "\n",
    "    Returns:\n",
    "    None\n",
    "    \"\"\"\n",
    "    for speaker_id, features in list(processed_data.items())[:num_samples]:\n",
    "        print(f\"Speaker: {speaker_id}, Number of samples: {len(features)}\")\n",
    "        print(\"Sample features:\", features[0] if features else 'No data')\n"
   ]
  },
  {
   "cell_type": "code",
   "execution_count": 16,
   "id": "804a64d1",
   "metadata": {
    "scrolled": true
   },
   "outputs": [
    {
     "name": "stdout",
     "output_type": "stream",
     "text": [
      "Speaker: id10001, Number of samples: 50\n",
      "Sample features: [[-2.10593048e+02 -2.31916534e+02 -2.87035126e+02 ... -2.02530075e+02\n",
      "  -1.27121994e+02 -9.62537231e+01]\n",
      " [ 1.30881348e+02  1.16485214e+02  7.89360504e+01 ...  1.57957345e-01\n",
      "   5.87244568e+01  1.04523499e+02]\n",
      " [-3.41130185e+00 -1.24033394e+01 -3.00571480e+01 ...  3.63577919e+01\n",
      "   2.30947342e+01 -2.54986405e+00]\n",
      " ...\n",
      " [-1.65498447e+01 -1.42980404e+01 -5.52450848e+00 ... -1.26808338e+01\n",
      "  -1.28100910e+01 -9.41136360e+00]\n",
      " [ 2.26100373e+00  4.08800888e+00  3.42310715e+00 ... -3.15684021e-01\n",
      "   3.78897882e+00  3.72014284e+00]\n",
      " [-1.04630299e+01 -1.03992462e+01 -5.73705077e-01 ... -9.20972061e+00\n",
      "  -9.09234047e+00 -4.76219702e+00]]\n",
      "Speaker: id10002, Number of samples: 50\n",
      "Sample features: [[-121.7242     -122.06181    -171.59775    ... -186.4161\n",
      "  -195.74298    -212.96141   ]\n",
      " [ 129.56471     147.3804      151.25409    ...  172.40657\n",
      "   160.84523     145.57877   ]\n",
      " [ -42.801956    -72.94125     -78.80856    ...  -66.59157\n",
      "   -63.00943     -35.99302   ]\n",
      " ...\n",
      " [ -15.419492    -14.141981    -16.998734   ...  -26.073921\n",
      "   -15.671798     -8.729471  ]\n",
      " [  -8.790928     -5.654481     -7.1098557  ...   -2.646402\n",
      "    -6.6171255    -4.124481  ]\n",
      " [  -3.8417382     1.7175165    -0.77778506 ...    6.467948\n",
      "     7.3290663     6.5970817 ]]\n",
      "Speaker: id10003, Number of samples: 50\n",
      "Sample features: [[-2.61412170e+02 -2.27341629e+02 -2.21232895e+02 ... -1.12753319e+02\n",
      "  -8.63181992e+01 -1.09507874e+02]\n",
      " [ 1.04379333e+02  1.09824814e+02  1.12422165e+02 ...  8.51478882e+01\n",
      "   4.80476532e+01  4.53820915e+01]\n",
      " [-3.96631980e+00 -8.61800003e+00 -1.24281540e+01 ...  1.90990829e+01\n",
      "  -1.84804940e+00 -1.15440416e+01]\n",
      " ...\n",
      " [-1.13073730e+00  4.79934990e-01  3.66186476e+00 ... -2.75660849e+00\n",
      "  -9.06020451e+00 -6.70593596e+00]\n",
      " [ 2.51148868e+00  3.74027157e+00  1.24453545e+00 ...  1.45192802e-01\n",
      "  -4.59232426e+00 -1.55214691e+00]\n",
      " [-1.76785541e+00  1.51187789e+00 -1.45417142e+00 ... -4.91663504e+00\n",
      "  -7.65242958e+00 -3.95700121e+00]]\n",
      "Speaker: id10004, Number of samples: 50\n",
      "Sample features: [[ -83.93839     -9.697648   -10.28413   ... -194.55302   -274.53186\n",
      "  -328.21747  ]\n",
      " [  71.231766    91.27618    103.81914   ...   95.571754    77.48644\n",
      "    66.49501  ]\n",
      " [ -28.690845   -53.687862   -77.68348   ...    5.1410565   13.85074\n",
      "     6.9405746]\n",
      " ...\n",
      " [ -13.704315   -11.8130245   -9.505327  ...  -11.270563    -4.4992466\n",
      "    -0.7552718]\n",
      " [  -8.550241   -10.26919     -6.0467544 ...    3.104831     6.1900578\n",
      "     7.087981 ]\n",
      " [ -14.931561   -14.060251    -9.12379   ...   -5.5672464   -5.1598053\n",
      "    -4.1640434]]\n",
      "Speaker: id10005, Number of samples: 50\n",
      "Sample features: [[ -60.23859    -57.34687    -82.87074   ...  -65.34555    -95.185616\n",
      "  -167.05345  ]\n",
      " [ 104.439384    92.13521     83.03281   ...   50.887688    75.695175\n",
      "    79.55317  ]\n",
      " [  15.734827     7.680418    -4.4321074 ...   -6.3942976  -23.0367\n",
      "   -27.297699 ]\n",
      " ...\n",
      " [   7.3744345    6.114711    -5.1373005 ...  -16.554789   -18.536167\n",
      "   -14.241039 ]\n",
      " [  -1.385311    -1.9716651   -8.323488  ...   -5.585234   -10.2006855\n",
      "    -3.7651613]\n",
      " [  14.005057    13.67215     14.174683  ...   -4.204593    -2.9012256\n",
      "    -1.8137288]]\n"
     ]
    }
   ],
   "source": [
    "inspect_data(processed_data)"
   ]
  },
  {
   "cell_type": "code",
   "execution_count": 17,
   "id": "d067d5df",
   "metadata": {},
   "outputs": [],
   "source": [
    "def check_feature_consistency(processed_data):\n",
    "    \"\"\"\n",
    "    Check if features are consistent in shape across different samples.\n",
    "\n",
    "    Parameters:\n",
    "    processed_data (dict): The preprocessed dataset.\n",
    "\n",
    "    Returns:\n",
    "    bool: True if consistent, False otherwise.\n",
    "    \"\"\"\n",
    "    feature_shapes = [feature.shape for speaker in processed_data.values() for feature in speaker]\n",
    "    if all(shape == feature_shapes[0] for shape in feature_shapes):\n",
    "        print(\"All features are consistent in shape.\")\n",
    "        return True\n",
    "    else:\n",
    "        print(\"Inconsistent feature shapes found.\")\n",
    "        return False"
   ]
  },
  {
   "cell_type": "code",
   "execution_count": 18,
   "id": "f549465f",
   "metadata": {},
   "outputs": [
    {
     "name": "stdout",
     "output_type": "stream",
     "text": [
      "Inconsistent feature shapes found.\n"
     ]
    },
    {
     "data": {
      "text/plain": [
       "False"
      ]
     },
     "execution_count": 18,
     "metadata": {},
     "output_type": "execute_result"
    }
   ],
   "source": [
    "check_feature_consistency(processed_data)"
   ]
  },
  {
   "cell_type": "code",
   "execution_count": 19,
   "id": "29b1834c",
   "metadata": {},
   "outputs": [],
   "source": [
    "# import numpy as np\n",
    "\n",
    "# def pad_features_to_average_length(processed_data):\n",
    "#     \"\"\"\n",
    "#     Pad the features in the dataset to the average length of features.\n",
    "\n",
    "#     Parameters:\n",
    "#     processed_data (dict): The preprocessed dataset.\n",
    "\n",
    "#     Returns:\n",
    "#     dict: The padded dataset.\n",
    "#     \"\"\"\n",
    "#     # Calculate the average length\n",
    "#     total_length = sum(feature.shape[1] for speaker in processed_data.values() for feature in speaker)\n",
    "#     num_features = sum(len(speaker) for speaker in processed_data.values())\n",
    "#     average_length = int(total_length / num_features)\n",
    "\n",
    "#     # Pad or truncate features to the average length\n",
    "#     padded_data = {}\n",
    "#     for speaker_id, features in processed_data.items():\n",
    "#         padded_features = []\n",
    "#         for feature in features:\n",
    "#             if feature.shape[1] < average_length:\n",
    "#                 # Pad the feature\n",
    "#                 padding = np.zeros((feature.shape[0], average_length - feature.shape[1]))\n",
    "#                 padded_feature = np.hstack((feature, padding))\n",
    "#             else:\n",
    "#                 # Truncate the feature\n",
    "#                 padded_feature = feature[:, :average_length]\n",
    "#             padded_features.append(padded_feature)\n",
    "#         padded_data[speaker_id] = padded_features\n",
    "\n",
    "#     return padded_data\n"
   ]
  },
  {
   "cell_type": "code",
   "execution_count": 20,
   "id": "5a8bd746",
   "metadata": {},
   "outputs": [],
   "source": [
    "import numpy as np\n",
    "\n",
    "def pad_features_to_percentile_length(processed_data, percentile=25):\n",
    "    \"\"\"\n",
    "    Pad the features in the dataset to a specific percentile length of features.\n",
    "\n",
    "    Parameters:\n",
    "    processed_data (dict): The preprocessed dataset.\n",
    "    percentile (int): The percentile to use for determining the target length.\n",
    "\n",
    "    Returns:\n",
    "    dict: The padded dataset.\n",
    "    \"\"\"\n",
    "    # Calculate the percentile length\n",
    "    lengths = [feature.shape[1] for speaker in processed_data.values() for feature in speaker]\n",
    "    target_length = int(np.percentile(lengths, percentile))\n",
    "\n",
    "    # Pad or truncate features to the target length\n",
    "    padded_data = {}\n",
    "    for speaker_id, features in processed_data.items():\n",
    "        padded_features = []\n",
    "        for feature in features:\n",
    "            if feature.shape[1] < target_length:\n",
    "                # Pad the feature\n",
    "                padding = np.zeros((feature.shape[0], target_length - feature.shape[1]))\n",
    "                padded_feature = np.hstack((feature, padding))\n",
    "            else:\n",
    "                # Truncate the feature\n",
    "                padded_feature = feature[:, :target_length]\n",
    "            padded_features.append(padded_feature)\n",
    "        padded_data[speaker_id] = padded_features\n",
    "\n",
    "    return padded_data\n",
    "\n"
   ]
  },
  {
   "cell_type": "code",
   "execution_count": 21,
   "id": "852227af",
   "metadata": {},
   "outputs": [],
   "source": [
    "padded_processed_data = pad_features_to_percentile_length(processed_data, percentile=25)"
   ]
  },
  {
   "cell_type": "code",
   "execution_count": 22,
   "id": "de81600e",
   "metadata": {},
   "outputs": [
    {
     "name": "stdout",
     "output_type": "stream",
     "text": [
      "All features are consistent in shape.\n"
     ]
    },
    {
     "data": {
      "text/plain": [
       "True"
      ]
     },
     "execution_count": 22,
     "metadata": {},
     "output_type": "execute_result"
    }
   ],
   "source": [
    "check_feature_consistency(padded_processed_data)"
   ]
  },
  {
   "cell_type": "code",
   "execution_count": null,
   "id": "0cf4f413",
   "metadata": {},
   "outputs": [],
   "source": []
  },
  {
   "cell_type": "code",
   "execution_count": 23,
   "id": "65280ff5",
   "metadata": {},
   "outputs": [],
   "source": [
    "from sklearn.model_selection import train_test_split\n",
    "\n",
    "def split_dataset(processed_data, test_size=0.2, val_size=0.1):\n",
    "    \"\"\"\n",
    "    Split the dataset into training, validation, and test sets.\n",
    "\n",
    "    Parameters:\n",
    "    processed_data (dict): The preprocessed dataset.\n",
    "    test_size (float): Proportion of the dataset to include in the test split.\n",
    "    val_size (float): Proportion of the training dataset to include in the validation split.\n",
    "\n",
    "    Returns:\n",
    "    tuple: (train_set, val_set, test_set)\n",
    "    \"\"\"\n",
    "    # Flatten the data and create labels\n",
    "    X, y = [], []\n",
    "    for speaker_id, features in processed_data.items():\n",
    "        for feature in features:\n",
    "            X.append(feature)\n",
    "            y.append(speaker_id)\n",
    "            \n",
    "    X = np.array(X)\n",
    "    y = np.array(y)\n",
    "    \n",
    "    # One-hot encode the labels\n",
    "    label_encoder = LabelEncoder()\n",
    "    integer_encoded = label_encoder.fit_transform(y)\n",
    "    onehot_encoder = OneHotEncoder(sparse=False)\n",
    "    integer_encoded = integer_encoded.reshape(len(integer_encoded), 1)\n",
    "    y_encoded = onehot_encoder.fit_transform(integer_encoded)\n",
    "    \n",
    "    \n",
    "\n",
    "    # First split to separate out the test set\n",
    "    X_train, X_test, y_train, y_test = train_test_split(X, y_encoded, test_size=test_size, stratify=y)\n",
    "\n",
    "    # Second split to separate out the validation set\n",
    "    val_size_adjusted = val_size / (1 - test_size)  # Adjust val size based on the reduced training set\n",
    "    X_train, X_val, y_train, y_val = train_test_split(X_train, y_train, test_size=val_size_adjusted, stratify=y_train)\n",
    "\n",
    "    return (X_train, y_train), (X_val, y_val), (X_test, y_test)"
   ]
  },
  {
   "cell_type": "code",
   "execution_count": 24,
   "id": "38c90748",
   "metadata": {},
   "outputs": [
    {
     "name": "stderr",
     "output_type": "stream",
     "text": [
      "C:\\Users\\bradl\\anaconda3\\Lib\\site-packages\\sklearn\\preprocessing\\_encoders.py:972: FutureWarning: `sparse` was renamed to `sparse_output` in version 1.2 and will be removed in 1.4. `sparse_output` is ignored unless you leave `sparse` to its default value.\n",
      "  warnings.warn(\n"
     ]
    }
   ],
   "source": [
    "(X_train, y_train), (X_val, y_val), (X_test, y_test) = split_dataset(padded_processed_data)"
   ]
  },
  {
   "cell_type": "code",
   "execution_count": 25,
   "id": "11f143f4",
   "metadata": {},
   "outputs": [],
   "source": [
    "from collections import Counter\n",
    "\n",
    "def check_dataset_balance(processed_data):\n",
    "    \"\"\"\n",
    "    Check if the dataset is balanced in terms of the number of samples per class.\n",
    "\n",
    "    Parameters:\n",
    "    processed_data (dict): The preprocessed dataset.\n",
    "\n",
    "    Returns:\n",
    "    bool: True if balanced, False otherwise.\n",
    "    \"\"\"\n",
    "    speaker_sample_counts = Counter([speaker_id for speaker_id in processed_data for _ in processed_data[speaker_id]])\n",
    "    print(\"Sample counts per speaker:\", speaker_sample_counts)\n",
    "    \n",
    "    if len(set(speaker_sample_counts.values())) == 1:\n",
    "        print(\"The dataset is balanced.\")\n",
    "        return True\n",
    "    else:\n",
    "        print(\"The dataset is not balanced.\")\n",
    "        return False"
   ]
  },
  {
   "cell_type": "code",
   "execution_count": 26,
   "id": "e9479225",
   "metadata": {},
   "outputs": [
    {
     "name": "stdout",
     "output_type": "stream",
     "text": [
      "Sample counts per speaker: Counter({'id10001': 50, 'id10002': 50, 'id10003': 50, 'id10004': 50, 'id10005': 50, 'id10006': 50, 'id10007': 50, 'id10008': 50, 'id10009': 50, 'id10010': 50, 'id10011': 50, 'id10012': 50, 'id10013': 50, 'id10014': 50, 'id10015': 50, 'id10016': 50, 'id10017': 50, 'id10018': 50, 'id10019': 50, 'id10020': 50, 'id10021': 50, 'id10022': 50, 'id10023': 50, 'id10024': 50, 'id10025': 50, 'id10026': 50, 'id10027': 50, 'id10028': 50, 'id10029': 50, 'id10030': 50, 'id10031': 50, 'id10032': 50, 'id10033': 50, 'id10034': 50, 'id10035': 50, 'id10036': 50, 'id10037': 50, 'id10038': 50, 'id10039': 50, 'id10040': 50, 'id10041': 50, 'id10042': 50, 'id10043': 50, 'id10044': 50, 'id10045': 50, 'id10046': 50, 'id10047': 50, 'id10048': 50, 'id10049': 50, 'id10050': 50, 'id10051': 50, 'id10052': 50, 'id10053': 50, 'id10054': 50, 'id10055': 50, 'id10056': 50, 'id10057': 50, 'id10058': 50, 'id10059': 50, 'id10060': 50, 'id10061': 50, 'id10062': 50, 'id10063': 50, 'id10064': 50, 'id10065': 50, 'id10066': 50, 'id10067': 50, 'id10068': 50, 'id10069': 50, 'id10070': 50, 'id10071': 50, 'id10072': 50, 'id10073': 50, 'id10074': 50, 'id10075': 50, 'id10076': 50, 'id10077': 50, 'id10078': 50, 'id10079': 50, 'id10080': 50, 'id10081': 50, 'id10082': 50, 'id10083': 50, 'id10084': 50, 'id10085': 50, 'id10086': 50, 'id10087': 50, 'id10088': 50, 'id10089': 50, 'id10090': 50, 'id10091': 50, 'id10092': 50, 'id10093': 50, 'id10094': 50, 'id10095': 50, 'id10096': 50, 'id10097': 50, 'id10098': 50, 'id10099': 50, 'id10100': 50, 'id10101': 50, 'id10102': 50, 'id10103': 50, 'id10104': 50, 'id10105': 50, 'id10106': 50, 'id10107': 50, 'id10108': 50, 'id10109': 50, 'id10110': 50, 'id10111': 50, 'id10112': 50, 'id10113': 50, 'id10114': 50, 'id10115': 50, 'id10116': 50, 'id10117': 50, 'id10118': 50, 'id10119': 50, 'id10120': 50, 'id10121': 50, 'id10122': 50, 'id10123': 50, 'id10124': 50, 'id10125': 50, 'id10126': 50, 'id10127': 50, 'id10128': 50, 'id10129': 50, 'id10130': 50, 'id10131': 50, 'id10132': 50, 'id10133': 50, 'id10134': 50, 'id10135': 50, 'id10136': 50, 'id10137': 50, 'id10138': 50, 'id10139': 50, 'id10140': 50, 'id10141': 50, 'id10142': 50, 'id10143': 50, 'id10144': 50, 'id10145': 50, 'id10146': 50, 'id10147': 50, 'id10148': 50, 'id10149': 50, 'id10150': 50, 'id10151': 50, 'id10152': 50, 'id10153': 50, 'id10154': 50, 'id10155': 50, 'id10156': 50, 'id10157': 50, 'id10158': 50, 'id10159': 50, 'id10160': 50, 'id10161': 50, 'id10162': 50, 'id10163': 50, 'id10164': 50, 'id10165': 50, 'id10166': 50, 'id10167': 50, 'id10168': 50, 'id10169': 50, 'id10170': 50, 'id10171': 50, 'id10172': 50, 'id10173': 50, 'id10174': 50, 'id10175': 50, 'id10176': 50, 'id10177': 50, 'id10178': 50, 'id10179': 50, 'id10180': 50, 'id10181': 50, 'id10182': 50, 'id10183': 50, 'id10184': 50, 'id10185': 50, 'id10186': 50, 'id10187': 50, 'id10188': 50, 'id10189': 50, 'id10190': 50, 'id10191': 50, 'id10192': 50, 'id10193': 50, 'id10194': 50, 'id10195': 50, 'id10196': 50, 'id10197': 50, 'id10198': 50, 'id10199': 50, 'id10200': 50, 'id10201': 50, 'id10202': 50, 'id10203': 50, 'id10204': 50, 'id10205': 50, 'id10206': 50, 'id10207': 50, 'id10208': 50, 'id10209': 50, 'id10210': 50, 'id10211': 50, 'id10212': 50, 'id10213': 50, 'id10214': 50, 'id10215': 50, 'id10216': 50, 'id10217': 50, 'id10218': 50, 'id10219': 50, 'id10220': 50, 'id10221': 50, 'id10222': 50, 'id10223': 50, 'id10224': 50, 'id10225': 50, 'id10226': 50, 'id10227': 50, 'id10228': 50, 'id10229': 50, 'id10230': 50, 'id10231': 50, 'id10232': 50, 'id10233': 50, 'id10234': 50, 'id10235': 50, 'id10236': 50, 'id10237': 50, 'id10238': 50, 'id10239': 50, 'id10240': 50, 'id10241': 50, 'id10242': 50, 'id10243': 50, 'id10244': 50, 'id10245': 50, 'id10246': 50, 'id10247': 50, 'id10248': 50, 'id10249': 50, 'id10250': 50, 'id10251': 50, 'id10252': 50, 'id10253': 50, 'id10254': 50, 'id10255': 50, 'id10256': 50, 'id10257': 50, 'id10258': 50, 'id10259': 50, 'id10260': 50, 'id10261': 50, 'id10262': 50, 'id10263': 50, 'id10264': 50, 'id10265': 50, 'id10266': 50, 'id10267': 50, 'id10268': 50, 'id10269': 50, 'id10310': 50, 'id10311': 50, 'id10312': 50, 'id10313': 50, 'id10314': 50, 'id10315': 50, 'id10316': 50, 'id10317': 50, 'id10318': 50, 'id10319': 50, 'id10320': 50, 'id10321': 50, 'id10322': 50, 'id10323': 50, 'id10324': 50, 'id10325': 50, 'id10326': 50, 'id10327': 50, 'id10328': 50, 'id10329': 50, 'id10330': 50, 'id10331': 50, 'id10332': 50, 'id10333': 50, 'id10334': 50, 'id10335': 50, 'id10336': 50, 'id10337': 50, 'id10338': 50, 'id10339': 50, 'id10340': 50, 'id10341': 50, 'id10342': 50, 'id10343': 50, 'id10344': 50, 'id10345': 50, 'id10346': 50, 'id10347': 50, 'id10348': 50, 'id10349': 50, 'id10350': 50, 'id10351': 50, 'id10352': 50, 'id10353': 50, 'id10354': 50, 'id10355': 50, 'id10356': 50, 'id10357': 50, 'id10358': 50, 'id10359': 50, 'id10360': 50, 'id10361': 50, 'id10362': 50, 'id10363': 50, 'id10364': 50, 'id10365': 50, 'id10366': 50, 'id10367': 50, 'id10368': 50, 'id10369': 50, 'id10370': 50, 'id10371': 50, 'id10372': 50, 'id10373': 50, 'id10374': 50, 'id10375': 50, 'id10376': 50, 'id10377': 50, 'id10378': 50, 'id10379': 50, 'id10380': 50, 'id10381': 50, 'id10382': 50, 'id10383': 50, 'id10384': 50, 'id10385': 50, 'id10386': 50, 'id10387': 50, 'id10388': 50, 'id10389': 50, 'id10390': 50, 'id10391': 50, 'id10392': 50, 'id10393': 50, 'id10394': 50, 'id10395': 50, 'id10396': 50, 'id10397': 50, 'id10398': 50, 'id10399': 50, 'id10400': 50, 'id10401': 50, 'id10402': 50, 'id10403': 50, 'id10404': 50, 'id10405': 50, 'id10406': 50, 'id10407': 50, 'id10408': 50, 'id10409': 50, 'id10410': 50, 'id10411': 50, 'id10412': 50, 'id10413': 50, 'id10414': 50, 'id10415': 50, 'id10416': 50, 'id10417': 50, 'id10418': 50, 'id10419': 50, 'id10420': 50, 'id10421': 50, 'id10422': 50, 'id10423': 50, 'id10424': 50, 'id10425': 50, 'id10426': 50, 'id10427': 50, 'id10428': 50, 'id10429': 50, 'id10430': 50, 'id10431': 50, 'id10432': 50, 'id10433': 50, 'id10434': 50, 'id10435': 50, 'id10436': 50, 'id10437': 50, 'id10438': 50, 'id10439': 50, 'id10440': 50, 'id10441': 50, 'id10442': 50, 'id10443': 50, 'id10444': 50, 'id10445': 50, 'id10446': 50, 'id10447': 50, 'id10448': 50, 'id10449': 50, 'id10450': 50, 'id10451': 50, 'id10452': 50, 'id10453': 50, 'id10454': 50, 'id10455': 50, 'id10456': 50, 'id10457': 50, 'id10458': 50, 'id10459': 50, 'id10460': 50, 'id10461': 50, 'id10462': 50, 'id10463': 50, 'id10464': 50, 'id10465': 50, 'id10466': 50, 'id10467': 50, 'id10468': 50, 'id10469': 50, 'id10470': 50, 'id10471': 50, 'id10472': 50, 'id10473': 50, 'id10474': 50, 'id10475': 50, 'id10476': 50, 'id10477': 50, 'id10478': 50, 'id10479': 50, 'id10480': 50, 'id10481': 50, 'id10482': 50, 'id10483': 50, 'id10484': 50, 'id10485': 50, 'id10486': 50, 'id10487': 50, 'id10488': 50, 'id10489': 50, 'id10490': 50, 'id10491': 50, 'id10492': 50, 'id10493': 50, 'id10494': 50, 'id10495': 50, 'id10496': 50, 'id10497': 50, 'id10498': 50, 'id10499': 50, 'id10500': 50, 'id10501': 50, 'id10502': 50, 'id10503': 50, 'id10504': 50, 'id10505': 50, 'id10506': 50, 'id10507': 50, 'id10508': 50, 'id10509': 50, 'id10510': 50, 'id10511': 50, 'id10512': 50, 'id10513': 50, 'id10514': 50, 'id10515': 50, 'id10516': 50, 'id10517': 50, 'id10518': 50, 'id10519': 50, 'id10520': 50, 'id10521': 50, 'id10522': 50, 'id10523': 50, 'id10524': 50, 'id10525': 50, 'id10526': 50, 'id10527': 50, 'id10528': 50, 'id10529': 50, 'id10530': 50, 'id10531': 50, 'id10532': 50, 'id10533': 50, 'id10534': 50, 'id10535': 50, 'id10536': 50, 'id10537': 50, 'id10538': 50, 'id10539': 50, 'id10540': 50, 'id10541': 50, 'id10542': 50, 'id10543': 50, 'id10544': 50, 'id10545': 50, 'id10546': 50, 'id10547': 50, 'id10548': 50, 'id10549': 50, 'id10550': 50, 'id10551': 50, 'id10552': 50, 'id10553': 50, 'id10554': 50, 'id10555': 50, 'id10556': 50, 'id10557': 50, 'id10558': 50, 'id10559': 50, 'id10560': 50, 'id10561': 50, 'id10562': 50, 'id10563': 50, 'id10564': 50, 'id10565': 50, 'id10566': 50, 'id10567': 50, 'id10568': 50, 'id10569': 50, 'id10570': 50, 'id10571': 50, 'id10572': 50, 'id10573': 50, 'id10574': 50, 'id10575': 50, 'id10576': 50, 'id10577': 50, 'id10578': 50, 'id10579': 50, 'id10580': 50, 'id10581': 50, 'id10582': 50, 'id10583': 50, 'id10584': 50, 'id10585': 50, 'id10586': 50, 'id10587': 50, 'id10588': 50, 'id10589': 50, 'id10590': 50, 'id10591': 50, 'id10592': 50, 'id10593': 50, 'id10594': 50, 'id10595': 50, 'id10596': 50, 'id10597': 50, 'id10598': 50, 'id10599': 50, 'id10600': 50, 'id10601': 50, 'id10602': 50, 'id10603': 50, 'id10604': 50, 'id10605': 50, 'id10606': 50, 'id10607': 50, 'id10608': 50, 'id10609': 50, 'id10610': 50, 'id10611': 50, 'id10612': 50, 'id10613': 50, 'id10614': 50, 'id10615': 50, 'id10616': 50, 'id10617': 50, 'id10618': 50, 'id10619': 50, 'id10620': 50, 'id10621': 50, 'id10622': 50, 'id10623': 50, 'id10624': 50, 'id10625': 50, 'id10626': 50, 'id10627': 50, 'id10628': 50, 'id10629': 50, 'id10630': 50, 'id10631': 50, 'id10632': 50, 'id10633': 50, 'id10634': 50, 'id10635': 50, 'id10636': 50, 'id10637': 50, 'id10638': 50, 'id10639': 50, 'id10640': 50, 'id10641': 50, 'id10642': 50, 'id10643': 50, 'id10644': 50, 'id10645': 50, 'id10646': 50, 'id10647': 50, 'id10648': 50, 'id10649': 50, 'id10650': 50, 'id10651': 50, 'id10652': 50, 'id10653': 50, 'id10654': 50, 'id10655': 50, 'id10656': 50, 'id10657': 50, 'id10658': 50, 'id10659': 50, 'id10660': 50, 'id10661': 50, 'id10662': 50, 'id10663': 50, 'id10664': 50, 'id10665': 50, 'id10666': 50, 'id10667': 50, 'id10668': 50, 'id10669': 50, 'id10670': 50, 'id10671': 50, 'id10672': 50, 'id10673': 50, 'id10674': 50, 'id10675': 50, 'id10676': 50, 'id10677': 50, 'id10678': 50, 'id10679': 50, 'id10680': 50, 'id10681': 50, 'id10682': 50, 'id10683': 50, 'id10684': 50, 'id10685': 50, 'id10686': 50, 'id10687': 50, 'id10688': 50, 'id10689': 50, 'id10690': 50, 'id10691': 50, 'id10692': 50, 'id10693': 50, 'id10694': 50, 'id10695': 50, 'id10696': 50, 'id10697': 50, 'id10698': 50, 'id10699': 50, 'id10700': 50, 'id10701': 50, 'id10702': 50, 'id10703': 50, 'id10704': 50, 'id10705': 50, 'id10706': 50, 'id10707': 50, 'id10708': 50, 'id10709': 50, 'id10710': 50, 'id10711': 50, 'id10712': 50, 'id10713': 50, 'id10714': 50, 'id10715': 50, 'id10716': 50, 'id10717': 50, 'id10718': 50, 'id10719': 50, 'id10720': 50, 'id10721': 50, 'id10722': 50, 'id10723': 50, 'id10724': 50, 'id10725': 50, 'id10726': 50, 'id10727': 50, 'id10728': 50, 'id10729': 50, 'id10730': 50, 'id10731': 50, 'id10732': 50, 'id10733': 50, 'id10734': 50, 'id10735': 50, 'id10736': 50, 'id10737': 50, 'id10738': 50, 'id10739': 50, 'id10740': 50, 'id10741': 50, 'id10742': 50, 'id10743': 50, 'id10744': 50, 'id10745': 50, 'id10746': 50, 'id10747': 50, 'id10748': 50, 'id10749': 50, 'id10750': 50, 'id10751': 50, 'id10752': 50, 'id10753': 50, 'id10754': 50, 'id10755': 50, 'id10756': 50, 'id10757': 50, 'id10758': 50, 'id10759': 50, 'id10760': 50, 'id10761': 50, 'id10762': 50, 'id10763': 50, 'id10764': 50, 'id10765': 50, 'id10766': 50, 'id10767': 50, 'id10768': 50, 'id10769': 50, 'id10770': 50, 'id10771': 50, 'id10772': 50, 'id10773': 50, 'id10774': 50, 'id10775': 50, 'id10776': 50, 'id10777': 50, 'id10778': 50, 'id10779': 50, 'id10780': 50, 'id10781': 50, 'id10782': 50, 'id10783': 50, 'id10784': 50, 'id10785': 50, 'id10786': 50, 'id10787': 50, 'id10788': 50, 'id10789': 50, 'id10790': 50, 'id10791': 50, 'id10792': 50, 'id10793': 50, 'id10794': 50, 'id10795': 50, 'id10796': 50, 'id10797': 50, 'id10798': 50, 'id10799': 50, 'id10800': 50, 'id10801': 50, 'id10802': 50, 'id10803': 50, 'id10804': 50, 'id10805': 50, 'id10806': 50, 'id10807': 50, 'id10808': 50, 'id10809': 50, 'id10810': 50, 'id10811': 50, 'id10812': 50, 'id10813': 50, 'id10814': 50, 'id10815': 50, 'id10816': 50, 'id10817': 50, 'id10818': 50, 'id10819': 50, 'id10820': 50, 'id10821': 50, 'id10822': 50, 'id10823': 50, 'id10824': 50, 'id10825': 50, 'id10826': 50, 'id10827': 50, 'id10828': 50, 'id10829': 50, 'id10830': 50, 'id10831': 50, 'id10832': 50, 'id10833': 50, 'id10834': 50, 'id10835': 50, 'id10836': 50, 'id10837': 50, 'id10838': 50, 'id10839': 50, 'id10840': 50, 'id10841': 50, 'id10842': 50, 'id10843': 50, 'id10844': 50, 'id10845': 50, 'id10846': 50, 'id10847': 50, 'id10848': 50, 'id10849': 50, 'id10850': 50, 'id10851': 50, 'id10852': 50, 'id10853': 50, 'id10854': 50, 'id10855': 50, 'id10856': 50, 'id10857': 50, 'id10858': 50, 'id10859': 50, 'id10860': 50, 'id10861': 50, 'id10862': 50, 'id10863': 50, 'id10864': 50, 'id10865': 50, 'id10866': 50, 'id10867': 50, 'id10868': 50, 'id10869': 50, 'id10870': 50, 'id10871': 50, 'id10872': 50, 'id10873': 50, 'id10874': 50, 'id10875': 50, 'id10876': 50, 'id10877': 50, 'id10878': 50, 'id10879': 50, 'id10880': 50, 'id10881': 50, 'id10882': 50, 'id10883': 50, 'id10884': 50, 'id10885': 50, 'id10886': 50, 'id10887': 50, 'id10888': 50, 'id10889': 50, 'id10890': 50, 'id10891': 50, 'id10892': 50, 'id10893': 50, 'id10894': 50, 'id10895': 50, 'id10896': 50, 'id10897': 50, 'id10898': 50, 'id10899': 50, 'id10900': 50, 'id10901': 50, 'id10902': 50, 'id10903': 50, 'id10904': 50, 'id10905': 50, 'id10906': 50, 'id10907': 50, 'id10908': 50, 'id10909': 50, 'id10910': 50, 'id10911': 50, 'id10912': 50, 'id10913': 50, 'id10914': 50, 'id10915': 50, 'id10916': 50, 'id10917': 50, 'id10918': 50, 'id10919': 50, 'id10920': 50, 'id10921': 50, 'id10922': 50, 'id10923': 50, 'id10924': 50, 'id10925': 50, 'id10926': 50, 'id10927': 50, 'id10928': 50, 'id10929': 50, 'id10930': 50, 'id10931': 50, 'id10932': 50, 'id10933': 50, 'id10934': 50, 'id10935': 50, 'id10936': 50, 'id10937': 50, 'id10938': 50, 'id10939': 50, 'id10940': 50, 'id10941': 50, 'id10942': 50, 'id10943': 50, 'id10944': 50, 'id10945': 50, 'id10946': 50, 'id10947': 50, 'id10948': 50, 'id10949': 50, 'id10950': 50, 'id10951': 50, 'id10952': 50, 'id10953': 50, 'id10954': 50, 'id10955': 50, 'id10956': 50, 'id10957': 50, 'id10958': 50, 'id10959': 50, 'id10960': 50, 'id10961': 50, 'id10962': 50, 'id10963': 50, 'id10964': 50, 'id10965': 50, 'id10966': 50, 'id10967': 50, 'id10968': 50, 'id10969': 50, 'id10970': 50, 'id10971': 50, 'id10972': 50, 'id10973': 50, 'id10974': 50, 'id10975': 50, 'id10976': 50, 'id10977': 50, 'id10978': 50, 'id10979': 50, 'id10980': 50, 'id10981': 50, 'id10982': 50, 'id10983': 50, 'id10984': 50, 'id10985': 50, 'id10986': 50, 'id10987': 50, 'id10988': 50, 'id10989': 50, 'id10990': 50, 'id10991': 50, 'id10992': 50, 'id10993': 50, 'id10994': 50, 'id10995': 50, 'id10996': 50, 'id10997': 50, 'id10998': 50, 'id10999': 50, 'id11000': 50, 'id11001': 50, 'id11002': 50, 'id11003': 50, 'id11004': 50, 'id11005': 50, 'id11006': 50, 'id11007': 50, 'id11008': 50, 'id11009': 50, 'id11010': 50, 'id11011': 50, 'id11012': 50, 'id11013': 50, 'id11014': 50, 'id11015': 50, 'id11016': 50, 'id11017': 50, 'id11018': 50, 'id11019': 50, 'id11020': 50, 'id11021': 50, 'id11022': 50, 'id11023': 50, 'id11024': 50, 'id11025': 50, 'id11026': 50, 'id11027': 50, 'id11028': 50, 'id11029': 50, 'id11030': 50, 'id11031': 50, 'id11032': 50, 'id11033': 50, 'id11034': 50, 'id11035': 50, 'id11036': 50, 'id11037': 50, 'id11038': 50, 'id11039': 50, 'id11040': 50, 'id11041': 50, 'id11042': 50, 'id11043': 50, 'id11044': 50, 'id11045': 50, 'id11046': 50, 'id11047': 50, 'id11048': 50, 'id11049': 50, 'id11050': 50, 'id11051': 50, 'id11052': 50, 'id11053': 50, 'id11054': 50, 'id11055': 50, 'id11056': 50, 'id11057': 50, 'id11058': 50, 'id11059': 50, 'id11060': 50, 'id11061': 50, 'id11062': 50, 'id11063': 50, 'id11064': 50, 'id11065': 50, 'id11066': 50, 'id11067': 50, 'id11068': 50, 'id11069': 50, 'id11070': 50, 'id11071': 50, 'id11072': 50, 'id11073': 50, 'id11074': 50, 'id11075': 50, 'id11076': 50, 'id11077': 50, 'id11078': 50, 'id11079': 50, 'id11080': 50, 'id11081': 50, 'id11082': 50, 'id11083': 50, 'id11084': 50, 'id11085': 50, 'id11086': 50, 'id11087': 50, 'id11088': 50, 'id11089': 50, 'id11090': 50, 'id11091': 50, 'id11092': 50, 'id11093': 50, 'id11094': 50, 'id11095': 50, 'id11096': 50, 'id11097': 50, 'id11098': 50, 'id11099': 50, 'id11100': 50, 'id11101': 50, 'id11102': 50, 'id11103': 50, 'id11104': 50, 'id11105': 50, 'id11106': 50, 'id11107': 50, 'id11108': 50, 'id11109': 50, 'id11110': 50, 'id11111': 50, 'id11112': 50, 'id11113': 50, 'id11114': 50, 'id11115': 50, 'id11116': 50, 'id11117': 50, 'id11118': 50, 'id11119': 50, 'id11120': 50, 'id11121': 50, 'id11122': 50, 'id11123': 50, 'id11124': 50, 'id11125': 50, 'id11126': 50, 'id11127': 50, 'id11128': 50, 'id11129': 50, 'id11130': 50, 'id11131': 50, 'id11132': 50, 'id11133': 50, 'id11134': 50, 'id11135': 50, 'id11136': 50, 'id11137': 50, 'id11138': 50, 'id11139': 50, 'id11140': 50, 'id11141': 50, 'id11142': 50, 'id11143': 50, 'id11144': 50, 'id11145': 50, 'id11146': 50, 'id11147': 50, 'id11148': 50, 'id11149': 50, 'id11150': 50, 'id11151': 50, 'id11152': 50, 'id11153': 50, 'id11154': 50, 'id11155': 50, 'id11156': 50, 'id11157': 50, 'id11158': 50, 'id11159': 50, 'id11160': 50, 'id11161': 50, 'id11162': 50, 'id11163': 50, 'id11164': 50, 'id11165': 50, 'id11166': 50, 'id11167': 50, 'id11168': 50, 'id11169': 50, 'id11170': 50, 'id11171': 50, 'id11172': 50, 'id11173': 50, 'id11174': 50, 'id11175': 50, 'id11176': 50, 'id11177': 50, 'id11178': 50, 'id11179': 50, 'id11180': 50, 'id11181': 50, 'id11182': 50, 'id11183': 50, 'id11184': 50, 'id11185': 50, 'id11186': 50, 'id11187': 50, 'id11188': 50, 'id11189': 50, 'id11190': 50, 'id11191': 50, 'id11192': 50, 'id11193': 50, 'id11194': 50, 'id11195': 50, 'id11196': 50, 'id11197': 50, 'id11198': 50, 'id11199': 50, 'id11200': 50, 'id11201': 50, 'id11202': 50, 'id11203': 50, 'id11204': 50, 'id11205': 50, 'id11206': 50, 'id11207': 50, 'id11208': 50, 'id11209': 50, 'id11210': 50, 'id11211': 50, 'id11212': 50, 'id11213': 50, 'id11214': 50, 'id11215': 50, 'id11216': 50, 'id11217': 50, 'id11218': 50, 'id11219': 50, 'id11220': 50, 'id11221': 50, 'id11222': 50, 'id11223': 50, 'id11224': 50, 'id11225': 50, 'id11226': 50, 'id11227': 50, 'id11228': 50, 'id11229': 50, 'id11230': 50, 'id11231': 50, 'id11232': 50, 'id11233': 50, 'id11234': 50, 'id11235': 50, 'id11236': 50, 'id11237': 50, 'id11238': 50, 'id11239': 50, 'id11240': 50, 'id11241': 50, 'id11242': 50, 'id11243': 50, 'id11244': 50, 'id11245': 50, 'id11246': 50, 'id11247': 50, 'id11248': 50, 'id11249': 50, 'id11250': 50, 'id11251': 50})\n",
      "The dataset is balanced.\n"
     ]
    },
    {
     "data": {
      "text/plain": [
       "True"
      ]
     },
     "execution_count": 26,
     "metadata": {},
     "output_type": "execute_result"
    }
   ],
   "source": [
    "check_dataset_balance(padded_processed_data)"
   ]
  },
  {
   "cell_type": "code",
   "execution_count": 27,
   "id": "be2ea6bc",
   "metadata": {},
   "outputs": [
    {
     "data": {
      "text/plain": [
       "[array([[-180.63343811,  -96.95424652,  -48.64018631, ...,    0.        ,\n",
       "            0.        ,    0.        ],\n",
       "        [ 168.4289856 ,  143.94851685,  100.77442932, ...,    0.        ,\n",
       "            0.        ,    0.        ],\n",
       "        [  41.5737381 ,   -8.36346245,  -32.18199539, ...,    0.        ,\n",
       "            0.        ,    0.        ],\n",
       "        ...,\n",
       "        [  -4.5681181 ,   -5.75896168,   -9.65508461, ...,    0.        ,\n",
       "            0.        ,    0.        ],\n",
       "        [  -0.66107821,  -10.50365543,  -17.75180054, ...,    0.        ,\n",
       "            0.        ,    0.        ],\n",
       "        [   2.67836165,    5.67190981,    5.07936954, ...,    0.        ,\n",
       "            0.        ,    0.        ]]),\n",
       " array([[-578.62604  , -578.62604  , -578.62604  , ..., -169.45543  ,\n",
       "         -164.57309  , -163.66446  ],\n",
       "        [   0.       ,    0.       ,    0.       , ...,  -24.243195 ,\n",
       "          -24.526459 ,   -9.869892 ],\n",
       "        [   0.       ,    0.       ,    0.       , ...,   45.577774 ,\n",
       "           47.7421   ,   48.640793 ],\n",
       "        ...,\n",
       "        [   0.       ,    0.       ,    0.       , ...,   -6.623995 ,\n",
       "           -5.260404 ,   -7.071123 ],\n",
       "        [   0.       ,    0.       ,    0.       , ...,   -7.977792 ,\n",
       "           -4.3134623,   -3.6656165],\n",
       "        [   0.       ,    0.       ,    0.       , ...,   -4.4061213,\n",
       "           -2.3800502,   -1.0647979]], dtype=float32),\n",
       " array([[-1.63461014e+02, -1.58560974e+02, -1.75499924e+02, ...,\n",
       "         -1.19564705e+02, -1.33626755e+02, -1.52520218e+02],\n",
       "        [ 3.95339775e+01,  2.04646111e+01,  1.19637089e+01, ...,\n",
       "          1.09890045e+02,  9.18917847e+01,  7.65661011e+01],\n",
       "        [ 7.09836884e+01,  8.69642258e+01,  8.99127274e+01, ...,\n",
       "          2.71841888e+01,  4.30529060e+01,  4.86911888e+01],\n",
       "        ...,\n",
       "        [ 1.32889879e+00, -7.55636692e-01, -5.72527051e-02, ...,\n",
       "         -1.35781355e+01, -5.67204857e+00, -1.03063798e+00],\n",
       "        [ 2.62219012e-01, -5.44161272e+00, -5.68245029e+00, ...,\n",
       "         -9.87150383e+00, -5.72508430e+00,  5.71034145e+00],\n",
       "        [ 3.29792738e+00,  3.07152987e+00,  2.93987894e+00, ...,\n",
       "         -1.39000025e+01, -1.20972948e+01, -1.09116497e+01]], dtype=float32),\n",
       " array([[-91.9001    , -15.2842655 ,   7.1102543 , ..., -44.431385  ,\n",
       "           2.655643  , -11.290967  ],\n",
       "        [104.91754   ,  71.47712   ,  51.520096  , ...,  71.68771   ,\n",
       "          68.72565   ,  69.73041   ],\n",
       "        [-42.611748  ,  -7.911603  ,  12.527099  , ..., -23.100666  ,\n",
       "         -14.630544  , -20.474346  ],\n",
       "        ...,\n",
       "        [-10.642803  ,  -5.444637  ,  -3.0759077 , ...,  -5.2814484 ,\n",
       "          -2.4203954 ,  -2.020989  ],\n",
       "        [ -6.8100986 , -12.151712  , -13.411253  , ...,  -1.5924412 ,\n",
       "          -5.95174   ,  -6.437164  ],\n",
       "        [ -8.221068  ,  -7.1831694 ,  -9.199215  , ...,  -3.915326  ,\n",
       "          -3.2187352 ,  -0.70118284]], dtype=float32),\n",
       " array([[ -92.17936   ,  -84.9027    ,  -71.66348   , ..., -160.96387   ,\n",
       "         -162.37114   , -158.03998   ],\n",
       "        [ 111.34958   ,  119.92233   ,  114.25786   , ...,   76.897354  ,\n",
       "          121.742935  ,  173.9123    ],\n",
       "        [  -3.7289524 ,   -7.1712046 ,   -8.191738  , ...,   10.696708  ,\n",
       "            6.9890494 ,    1.9910893 ],\n",
       "        ...,\n",
       "        [  -7.2034564 ,   -5.484373  ,  -10.633632  , ...,   -4.289142  ,\n",
       "           -9.9423485 ,  -12.467281  ],\n",
       "        [   0.8661921 ,   -0.5280442 ,    2.2124171 , ...,   -0.8556328 ,\n",
       "           -2.5156732 ,    0.19674146],\n",
       "        [  -3.2496614 ,   -2.0518847 ,    5.470894  , ...,   -4.8892775 ,\n",
       "            0.68278193,    1.639531  ]], dtype=float32),\n",
       " array([[-203.35905457, -164.00509644, -148.28395081, ...,    0.        ,\n",
       "            0.        ,    0.        ],\n",
       "        [ -62.27759552,  -61.70541   ,  -62.67927551, ...,    0.        ,\n",
       "            0.        ,    0.        ],\n",
       "        [  97.03873444,   97.5736618 ,   89.02082825, ...,    0.        ,\n",
       "            0.        ,    0.        ],\n",
       "        ...,\n",
       "        [  -6.46181917,   -9.38064671,   -7.7925849 , ...,    0.        ,\n",
       "            0.        ,    0.        ],\n",
       "        [   2.07004356,    3.54490328,    2.20879412, ...,    0.        ,\n",
       "            0.        ,    0.        ],\n",
       "        [   1.20385003,   -1.24855494,   -6.27158451, ...,    0.        ,\n",
       "            0.        ,    0.        ]]),\n",
       " array([[-132.70753   ,  -62.03287   ,  -56.199764  , ...,  -73.84513   ,\n",
       "           -3.73197   ,    5.042281  ],\n",
       "        [  65.26394   ,   21.447308  ,   22.720436  , ...,  109.17582   ,\n",
       "           91.432274  ,   71.896866  ],\n",
       "        [   4.5578012 ,   20.019394  ,   21.553284  , ...,  -17.025478  ,\n",
       "          -26.680706  ,  -33.622135  ],\n",
       "        ...,\n",
       "        [   1.6174467 ,   -3.474916  ,   -5.0223565 , ...,   -6.336725  ,\n",
       "           -7.351384  ,   -7.8074718 ],\n",
       "        [  -0.27283144,   -2.516171  ,    0.5119708 , ...,    4.8899355 ,\n",
       "            3.6229813 ,   -0.4861467 ],\n",
       "        [  -2.0694234 ,    2.1575155 ,    8.18449   , ...,   -3.3708665 ,\n",
       "           -1.482421  ,   -4.9590635 ]], dtype=float32),\n",
       " array([[-141.51789856,  -77.23695374,  -39.51513672, ...,    0.        ,\n",
       "            0.        ,    0.        ],\n",
       "        [ -15.49220467,    3.10063934,   62.94624329, ...,    0.        ,\n",
       "            0.        ,    0.        ],\n",
       "        [  29.33560181,   22.45228195,  -19.65413284, ...,    0.        ,\n",
       "            0.        ,    0.        ],\n",
       "        ...,\n",
       "        [  -9.75054359,  -14.15964985,  -11.27909851, ...,    0.        ,\n",
       "            0.        ,    0.        ],\n",
       "        [  -0.69763398,   -4.86281681,   -5.38955307, ...,    0.        ,\n",
       "            0.        ,    0.        ],\n",
       "        [  -2.61667633,   -7.14285183,   -9.83388138, ...,    0.        ,\n",
       "            0.        ,    0.        ]]),\n",
       " array([[-5.8434241e+02, -5.8434241e+02, -5.8434241e+02, ...,\n",
       "         -2.1870367e+02, -2.1435599e+02, -2.0168066e+02],\n",
       "        [ 0.0000000e+00,  0.0000000e+00,  0.0000000e+00, ...,\n",
       "          4.5407673e+01,  3.7738525e+01,  4.9912533e+01],\n",
       "        [ 0.0000000e+00,  0.0000000e+00,  0.0000000e+00, ...,\n",
       "          5.7168297e+01,  5.2134094e+01,  4.7371231e+01],\n",
       "        ...,\n",
       "        [ 0.0000000e+00,  0.0000000e+00,  0.0000000e+00, ...,\n",
       "         -6.5406265e+00, -3.8422236e+00, -4.0426388e+00],\n",
       "        [ 0.0000000e+00,  0.0000000e+00,  0.0000000e+00, ...,\n",
       "         -4.1074681e+00, -4.5840697e+00, -4.1548986e+00],\n",
       "        [ 0.0000000e+00,  0.0000000e+00,  0.0000000e+00, ...,\n",
       "          2.2623086e-01,  2.5022149e-01, -1.4512573e+00]], dtype=float32),\n",
       " array([[-195.76470947, -163.59701538, -177.23962402, ...,    0.        ,\n",
       "            0.        ,    0.        ],\n",
       "        [ 132.1116333 ,  112.85936737,  110.21154785, ...,    0.        ,\n",
       "            0.        ,    0.        ],\n",
       "        [  -6.35940409,    6.42633724,   15.55762768, ...,    0.        ,\n",
       "            0.        ,    0.        ],\n",
       "        ...,\n",
       "        [  -9.05330849,   -9.04241657,   -8.95916176, ...,    0.        ,\n",
       "            0.        ,    0.        ],\n",
       "        [ -16.5962162 ,  -13.21764755,  -11.48476028, ...,    0.        ,\n",
       "            0.        ,    0.        ],\n",
       "        [  -0.84701097,    0.75192869,   -3.14350748, ...,    0.        ,\n",
       "            0.        ,    0.        ]]),\n",
       " array([[-2.70005402e+02, -2.51148972e+02, -2.60597839e+02, ...,\n",
       "         -1.25809372e+02, -1.03062584e+02, -1.30099258e+02],\n",
       "        [ 1.05974854e+02,  1.08065300e+02,  1.14422989e+02, ...,\n",
       "          1.01405975e+02,  8.30239868e+01,  8.23738556e+01],\n",
       "        [ 2.04856777e+01,  1.75511856e+01,  1.76664085e+01, ...,\n",
       "          2.24298325e+01,  2.82135029e+01,  3.97859421e+01],\n",
       "        ...,\n",
       "        [-1.91514373e-01, -3.96101332e+00, -6.40452099e+00, ...,\n",
       "         -3.07804608e+00, -2.79807758e+00, -3.49444270e-01],\n",
       "        [ 5.29664803e+00,  6.54385662e+00,  1.52106190e+00, ...,\n",
       "         -1.01541786e+01, -1.25859280e+01, -9.78425789e+00],\n",
       "        [ 5.73305178e+00,  2.97179246e+00,  9.43795085e-01, ...,\n",
       "         -9.90630722e+00, -6.88899660e+00, -4.22974730e+00]], dtype=float32),\n",
       " array([[-156.0541    , -159.40086   , -204.34372   , ..., -152.3191    ,\n",
       "         -161.31541   , -174.26787   ],\n",
       "        [  95.81127   ,   82.40541   ,   87.29617   , ...,   18.791464  ,\n",
       "          -31.3519    ,  -67.531555  ],\n",
       "        [  22.244946  ,   14.775926  ,    3.3031988 , ...,   92.88827   ,\n",
       "           95.24843   ,   68.56766   ],\n",
       "        ...,\n",
       "        [  -4.246435  ,   -4.144442  ,   -3.252275  , ...,   -1.8628907 ,\n",
       "            1.9877224 ,    4.1933665 ],\n",
       "        [  -2.404663  ,   -3.3468487 ,   -3.0075507 , ...,   -2.3401096 ,\n",
       "           -5.115589  ,   -2.8717878 ],\n",
       "        [   8.331902  ,    9.083012  ,    8.763454  , ...,   -1.578294  ,\n",
       "           -3.71033   ,   -0.98591346]], dtype=float32),\n",
       " array([[-355.46243   , -326.32077   , -320.10052   , ..., -239.15828   ,\n",
       "         -243.86992   , -251.7911    ],\n",
       "        [ 109.011635  ,  109.673355  ,  102.999176  , ...,  149.69458   ,\n",
       "          145.9237    ,  141.6622    ],\n",
       "        [ -10.068054  ,  -10.037258  ,   -9.855906  , ...,    2.0617702 ,\n",
       "           11.128066  ,   16.09394   ],\n",
       "        ...,\n",
       "        [  -6.992461  ,   -0.91546553,   -2.3565977 , ...,   -4.394701  ,\n",
       "           -8.89305   ,  -10.450357  ],\n",
       "        [  -1.9626975 ,    3.9459965 ,    1.9238479 , ...,    3.5289392 ,\n",
       "            6.600073  ,    5.489935  ],\n",
       "        [   2.909434  ,    0.9782402 ,    1.7569715 , ...,   -5.541895  ,\n",
       "           -5.445133  ,   -8.541929  ]], dtype=float32),\n",
       " array([[-560.4079   , -560.4079   , -560.4079   , ..., -189.01344  ,\n",
       "         -117.40385  , -103.63266  ],\n",
       "        [   0.       ,    0.       ,    0.       , ...,  142.66902  ,\n",
       "          131.18658  ,  125.64914  ],\n",
       "        [   0.       ,    0.       ,    0.       , ...,   15.334629 ,\n",
       "           20.777084 ,   37.89012  ],\n",
       "        ...,\n",
       "        [   0.       ,    0.       ,    0.       , ...,    2.4674585,\n",
       "            0.7606369,   -3.149026 ],\n",
       "        [   0.       ,    0.       ,    0.       , ...,   -6.585682 ,\n",
       "          -11.958538 ,  -14.827232 ],\n",
       "        [   0.       ,    0.       ,    0.       , ...,    3.0912218,\n",
       "           -2.5788975,   -7.752817 ]], dtype=float32),\n",
       " array([[-587.39929199, -587.39929199, -587.39929199, ...,    0.        ,\n",
       "            0.        ,    0.        ],\n",
       "        [   0.        ,    0.        ,    0.        , ...,    0.        ,\n",
       "            0.        ,    0.        ],\n",
       "        [   0.        ,    0.        ,    0.        , ...,    0.        ,\n",
       "            0.        ,    0.        ],\n",
       "        ...,\n",
       "        [   0.        ,    0.        ,    0.        , ...,    0.        ,\n",
       "            0.        ,    0.        ],\n",
       "        [   0.        ,    0.        ,    0.        , ...,    0.        ,\n",
       "            0.        ,    0.        ],\n",
       "        [   0.        ,    0.        ,    0.        , ...,    0.        ,\n",
       "            0.        ,    0.        ]]),\n",
       " array([[-44.20115   , -35.30453   , -63.600655  , ..., -49.643734  ,\n",
       "         -55.596066  , -66.25331   ],\n",
       "        [ 89.21466   ,  91.57735   ,  99.89637   , ..., 110.94101   ,\n",
       "         124.34597   , 122.724945  ],\n",
       "        [-22.190884  , -27.172054  , -27.165375  , ..., -43.758858  ,\n",
       "         -48.591896  , -46.802124  ],\n",
       "        ...,\n",
       "        [ -3.4993482 , -14.555342  , -24.716377  , ...,  -9.124225  ,\n",
       "          -7.37408   ,  -6.7944546 ],\n",
       "        [ 13.53414   ,  16.138279  ,   6.1022444 , ...,  -6.748516  ,\n",
       "          -4.172815  ,   1.4554254 ],\n",
       "        [ -9.517405  ,  -2.503831  ,  -0.62533355, ...,  -6.3564825 ,\n",
       "          -4.289998  , -13.1843815 ]], dtype=float32),\n",
       " array([[-304.4658   , -194.1649   , -185.10263  , ..., -165.24098  ,\n",
       "         -160.6804   , -173.68843  ],\n",
       "        [ 117.787186 ,  130.93446  ,  141.2472   , ...,  172.65344  ,\n",
       "          154.82135  ,  151.38828  ],\n",
       "        [  30.783775 ,   41.35978  ,   54.615696 , ...,  -53.80555  ,\n",
       "          -41.252724 ,  -39.101486 ],\n",
       "        ...,\n",
       "        [  -8.727143 ,   -8.793489 ,   -5.5908537, ...,    9.359716 ,\n",
       "           11.0328   ,   12.506544 ],\n",
       "        [   2.2415826,    1.1913602,   -1.3633568, ...,  -10.070939 ,\n",
       "          -13.53855  ,  -15.836614 ],\n",
       "        [  -3.9941812,   -5.0067196,   -7.4423943, ...,   -2.725502 ,\n",
       "           -1.0785608,   -4.772234 ]], dtype=float32),\n",
       " array([[ -91.804695  ,  -83.40258   , -129.0699    , ..., -171.85075   ,\n",
       "         -141.99069   , -178.19664   ],\n",
       "        [  82.60568   ,   82.14534   ,   85.9619    , ...,   64.23325   ,\n",
       "          107.00562   ,  158.0606    ],\n",
       "        [  10.255394  ,    3.3926916 ,   -3.6377778 , ...,    4.376197  ,\n",
       "           -8.592697  ,  -37.71488   ],\n",
       "        ...,\n",
       "        [ -13.522434  ,  -12.241663  ,  -10.786108  , ...,   -8.513503  ,\n",
       "          -13.504354  ,  -12.205835  ],\n",
       "        [   2.3260045 ,    5.477849  ,    6.434676  , ...,   -2.01647   ,\n",
       "           -0.81946623,   -5.3619595 ],\n",
       "        [  -8.197781  ,  -14.194054  ,  -16.133778  , ...,   -5.893585  ,\n",
       "           -2.1159642 ,   -0.29500747]], dtype=float32),\n",
       " array([[-3.4234337e+01, -3.7997997e+01, -7.6189888e+01, ...,\n",
       "         -2.2828255e+02, -2.0732678e+02, -2.0055092e+02],\n",
       "        [ 9.3982178e+01,  7.6518738e+01,  4.5959427e+01, ...,\n",
       "          1.2247104e+02,  1.3724487e+02,  1.5132329e+02],\n",
       "        [-2.0221918e+01, -2.5444305e+01, -3.6833984e+01, ...,\n",
       "         -1.0354664e+01, -1.0022571e+01, -1.9968491e+01],\n",
       "        ...,\n",
       "        [-1.9296728e+01, -2.1006401e+01, -2.0773661e+01, ...,\n",
       "         -8.8438654e+00, -1.5033571e+01, -1.9847225e+01],\n",
       "        [ 4.7031075e-02,  2.5673729e-01, -3.3895402e+00, ...,\n",
       "         -1.9668734e+00, -6.5369892e+00, -2.7702529e+00],\n",
       "        [-6.1158977e+00, -9.8475819e+00, -1.5800413e+01, ...,\n",
       "         -2.3246794e+00, -3.6193814e+00, -4.1269197e+00]], dtype=float32),\n",
       " array([[-2.15304070e+01,  1.48577821e+00, -2.90083542e+01, ...,\n",
       "          0.00000000e+00,  0.00000000e+00,  0.00000000e+00],\n",
       "        [ 8.88967285e+01,  7.05613708e+01,  5.77746658e+01, ...,\n",
       "          0.00000000e+00,  0.00000000e+00,  0.00000000e+00],\n",
       "        [-9.20823669e+00, -1.65563354e+01, -6.28167725e+00, ...,\n",
       "          0.00000000e+00,  0.00000000e+00,  0.00000000e+00],\n",
       "        ...,\n",
       "        [-1.09586649e+01, -9.30211353e+00, -7.42065048e+00, ...,\n",
       "          0.00000000e+00,  0.00000000e+00,  0.00000000e+00],\n",
       "        [-1.04505749e+01, -1.01060658e+01, -6.56816149e+00, ...,\n",
       "          0.00000000e+00,  0.00000000e+00,  0.00000000e+00],\n",
       "        [ 5.67181301e+00,  7.20815659e-02, -1.93830872e+00, ...,\n",
       "          0.00000000e+00,  0.00000000e+00,  0.00000000e+00]]),\n",
       " array([[-5.5020459e+02, -5.3174017e+02, -5.4063019e+02, ...,\n",
       "         -2.2268643e+02, -2.2370175e+02, -2.4966354e+02],\n",
       "        [ 6.3713631e+01,  7.4624344e+01,  6.7994606e+01, ...,\n",
       "          1.5993195e+02,  1.6279036e+02,  1.7165479e+02],\n",
       "        [ 3.0772301e+01,  2.2853844e+01,  2.5000875e+01, ...,\n",
       "         -2.6418329e+01, -4.8700432e+01, -6.0438347e+01],\n",
       "        ...,\n",
       "        [-2.4116795e+00, -4.7801886e+00, -4.7712908e+00, ...,\n",
       "          2.1833358e+00, -1.2465912e+00, -4.2416511e+00],\n",
       "        [ 3.5825634e-01, -6.4795494e-01, -4.2052927e+00, ...,\n",
       "         -1.0232853e+01, -6.9360785e+00, -2.2415569e+00],\n",
       "        [ 3.2731225e+00,  4.3461761e+00, -4.6709338e-01, ...,\n",
       "         -8.1394730e+00, -7.5955868e+00, -9.4577284e+00]], dtype=float32),\n",
       " array([[-134.65157   ,  -30.707443  ,    4.2932754 , ..., -249.315     ,\n",
       "         -243.54695   , -251.13892   ],\n",
       "        [ 134.33794   ,  118.32854   ,  112.568344  , ...,   85.13417   ,\n",
       "           91.058914  ,   96.2968    ],\n",
       "        [ -18.522871  ,  -29.00319   ,  -27.842165  , ...,   38.29474   ,\n",
       "           36.0511    ,   33.81582   ],\n",
       "        ...,\n",
       "        [  -2.2898016 ,  -10.809864  ,  -15.193861  , ...,   -8.729027  ,\n",
       "           -9.565692  ,   -9.8369465 ],\n",
       "        [   7.902862  ,    1.8241544 ,    2.646933  , ...,   -1.3219262 ,\n",
       "            1.4401287 ,   -0.87660825],\n",
       "        [   1.8787596 ,   -0.92096776,    1.5582397 , ...,   -5.5796957 ,\n",
       "           -2.8854947 ,    0.7464154 ]], dtype=float32),\n",
       " array([[-1.75917389e+02, -1.50861038e+02, -1.32078339e+02, ...,\n",
       "         -1.52517990e+02, -1.53999176e+02, -1.68621552e+02],\n",
       "        [ 1.18019302e+02,  1.27875984e+02,  1.27343987e+02, ...,\n",
       "          1.46178009e+02,  1.61790253e+02,  1.64229736e+02],\n",
       "        [ 2.47369175e+01,  8.99604702e+00, -9.35583019e+00, ...,\n",
       "          6.83767891e+00, -5.58600950e+00,  9.10601497e-01],\n",
       "        ...,\n",
       "        [-2.19674134e+00,  2.61318660e+00,  1.98338711e+00, ...,\n",
       "         -3.70312858e+00, -2.67181730e+00, -3.78250194e+00],\n",
       "        [-4.71253300e+00, -2.27128983e+00,  6.22248650e-02, ...,\n",
       "         -6.39796066e+00, -6.11785233e-01, -2.46852398e+00],\n",
       "        [ 2.07062101e+00,  1.05573118e+00, -1.30075860e+00, ...,\n",
       "         -5.10201073e+00,  2.72212625e-01, -2.22177124e+00]], dtype=float32),\n",
       " array([[-144.16139221, -103.12846375, -124.02215576, ...,    0.        ,\n",
       "            0.        ,    0.        ],\n",
       "        [  80.78684998,  117.86865234,  157.95857239, ...,    0.        ,\n",
       "            0.        ,    0.        ],\n",
       "        [ -62.79639435,  -54.35176468,  -59.56349564, ...,    0.        ,\n",
       "            0.        ,    0.        ],\n",
       "        ...,\n",
       "        [   2.55856705,   -3.94699669,   -5.37105846, ...,    0.        ,\n",
       "            0.        ,    0.        ],\n",
       "        [   3.30561996,    0.40150315,    1.69142842, ...,    0.        ,\n",
       "            0.        ,    0.        ],\n",
       "        [  -6.22164631,   -6.7859273 ,   -8.29661465, ...,    0.        ,\n",
       "            0.        ,    0.        ]]),\n",
       " array([[-1.3254834e+02, -7.3065628e+01, -7.1932320e+01, ...,\n",
       "         -1.8693001e+02, -2.1855405e+02, -1.4031870e+02],\n",
       "        [ 1.7701556e+02,  1.6622736e+02,  1.5401672e+02, ...,\n",
       "          9.3854111e+01,  1.1988665e+02,  1.0159621e+02],\n",
       "        [-5.1089012e+01, -6.2653862e+01, -5.7917934e+01, ...,\n",
       "          2.3363926e+01,  5.1200118e+00, -2.3814325e+00],\n",
       "        ...,\n",
       "        [-2.3060892e+00, -1.2309254e+00, -6.6256642e-01, ...,\n",
       "          1.1235687e+01, -1.7364717e-01, -1.3882561e+01],\n",
       "        [ 1.5135884e-02, -2.9220462e+00, -2.1859863e+00, ...,\n",
       "         -1.6061050e+01, -1.6527414e+01, -1.3140159e+00],\n",
       "        [ 1.2271194e+00,  3.5267966e+00,  2.7698226e+00, ...,\n",
       "         -2.3786802e+00,  1.0210905e+00, -9.4901741e-01]], dtype=float32),\n",
       " array([[-187.6230011 , -171.7276001 , -186.38668823, ..., -165.91409302,\n",
       "         -222.28741455,    0.        ],\n",
       "        [  89.81179047,   76.9485321 ,   75.55418396, ...,  157.67024231,\n",
       "          150.46160889,    0.        ],\n",
       "        [  30.97602463,   43.20536041,   46.87569427, ...,  -15.69116497,\n",
       "            6.30845547,    0.        ],\n",
       "        ...,\n",
       "        [  -8.46163654,  -11.01136398,  -10.09639168, ...,  -11.41308022,\n",
       "           -7.73072147,    0.        ],\n",
       "        [  -3.15590596,   -0.34956396,   -6.07005072, ...,    1.45767009,\n",
       "           -2.87367582,    0.        ],\n",
       "        [  -0.7564559 ,   -2.54076791,   -2.3564105 , ...,  -10.66618347,\n",
       "           -9.0611105 ,    0.        ]]),\n",
       " array([[-1.8947311e+02, -1.6475612e+02, -1.4387042e+02, ...,\n",
       "         -1.7893053e+02, -2.0139934e+02, -2.4280542e+02],\n",
       "        [ 5.3088365e+00,  1.2265209e+01,  5.9637672e+01, ...,\n",
       "          1.3236481e+02,  1.3359720e+02,  1.4338831e+02],\n",
       "        [ 8.0958458e+01,  8.1290627e+01,  7.4060455e+01, ...,\n",
       "         -2.3767178e+01, -2.0286774e+01, -4.3802514e+00],\n",
       "        ...,\n",
       "        [-1.0211201e+01, -1.7542654e+01, -1.7999573e+01, ...,\n",
       "         -2.0700662e+00, -6.8164449e+00, -1.0752462e+01],\n",
       "        [ 1.4896309e+00, -3.2665203e+00, -8.1692600e+00, ...,\n",
       "         -5.1590853e+00,  6.5634406e-01, -1.4070466e+00],\n",
       "        [ 1.7940426e-01, -3.0701003e+00, -3.3001597e+00, ...,\n",
       "         -6.9631042e+00, -2.7041647e+00, -2.6162171e+00]], dtype=float32),\n",
       " array([[-4.6551370e+02, -4.4809323e+02, -4.6998422e+02, ...,\n",
       "         -3.6131451e+02, -2.6248062e+02, -2.4982912e+02],\n",
       "        [ 4.8234871e+01,  5.8302216e+01,  6.1847900e+01, ...,\n",
       "          5.3159691e+01,  4.7595913e+01,  4.1498886e+01],\n",
       "        [-1.8108456e+01, -2.4839474e+01, -1.8843908e+01, ...,\n",
       "          4.4086006e+01,  5.1396484e+01,  6.1418793e+01],\n",
       "        ...,\n",
       "        [-3.4025731e+00, -3.8086627e+00, -4.8016644e+00, ...,\n",
       "         -5.4508486e+00, -1.0497183e+01, -9.4765987e+00],\n",
       "        [-2.2952378e+00, -1.7789295e+00,  7.8538686e-01, ...,\n",
       "          5.4190989e+00, -2.7687426e+00, -9.3346386e+00],\n",
       "        [ 2.5147600e+00, -3.2083511e-02,  2.9779792e-01, ...,\n",
       "         -1.2632910e+01, -1.3771957e+01, -1.1881402e+01]], dtype=float32),\n",
       " array([[-220.89267   , -125.4721    ,  -94.41107   , ..., -169.50597   ,\n",
       "         -176.5718    , -164.76424   ],\n",
       "        [  99.07309   ,   92.59482   ,   99.19746   , ...,  162.67691   ,\n",
       "          163.33661   ,  163.61337   ],\n",
       "        [  -0.8061304 ,  -19.462814  ,  -38.846817  , ...,   47.917686  ,\n",
       "           36.586998  ,   12.669626  ],\n",
       "        ...,\n",
       "        [ -13.617308  ,  -10.71401   ,  -11.308287  , ...,  -20.687078  ,\n",
       "          -15.762708  ,   -6.9782133 ],\n",
       "        [   3.0712948 ,    0.23216808,   -2.3399515 , ...,   -6.857715  ,\n",
       "           -5.8128843 ,   -9.371618  ],\n",
       "        [ -14.6383    ,  -13.055277  ,  -10.778496  , ...,  -14.791272  ,\n",
       "          -10.841222  ,   -8.689669  ]], dtype=float32),\n",
       " array([[-5.65574280e+02, -5.65574280e+02, -5.65574280e+02, ...,\n",
       "         -9.23214111e+01, -5.53327675e+01, -2.19600658e+01],\n",
       "        [ 0.00000000e+00,  0.00000000e+00,  0.00000000e+00, ...,\n",
       "          1.32255768e+02,  1.32807343e+02,  1.27466934e+02],\n",
       "        [ 0.00000000e+00,  0.00000000e+00,  0.00000000e+00, ...,\n",
       "         -3.56302452e+01, -4.54787903e+01, -5.93855820e+01],\n",
       "        ...,\n",
       "        [ 0.00000000e+00,  0.00000000e+00,  0.00000000e+00, ...,\n",
       "          1.42094958e+00, -3.70684355e-01,  1.77619421e+00],\n",
       "        [ 0.00000000e+00,  0.00000000e+00,  0.00000000e+00, ...,\n",
       "         -1.44636326e+01, -1.36282568e+01, -1.08695717e+01],\n",
       "        [ 0.00000000e+00,  0.00000000e+00,  0.00000000e+00, ...,\n",
       "         -1.28560925e+00, -1.56246519e+00,  2.64766753e-01]], dtype=float32),\n",
       " array([[-200.88426208, -191.68084717, -179.97312927, ...,    0.        ,\n",
       "            0.        ,    0.        ],\n",
       "        [ 114.3042984 ,  127.12832642,  142.35427856, ...,    0.        ,\n",
       "            0.        ,    0.        ],\n",
       "        [  25.06568146,   14.52105904,   -5.6166172 , ...,    0.        ,\n",
       "            0.        ,    0.        ],\n",
       "        ...,\n",
       "        [  -9.24852371,   -4.88574839,   -3.29912591, ...,    0.        ,\n",
       "            0.        ,    0.        ],\n",
       "        [  -8.29627323,   -5.82116079,    0.84048676, ...,    0.        ,\n",
       "            0.        ,    0.        ],\n",
       "        [  -6.85459471,   -7.99189234,   -7.14135504, ...,    0.        ,\n",
       "            0.        ,    0.        ]]),\n",
       " array([[-146.06987   ,  -60.51657104,  -36.12244797, ...,    0.        ,\n",
       "            0.        ,    0.        ],\n",
       "        [  74.53487396,   28.45928383,   23.46010971, ...,    0.        ,\n",
       "            0.        ,    0.        ],\n",
       "        [  -2.31513834,   20.76887321,    9.21835709, ...,    0.        ,\n",
       "            0.        ,    0.        ],\n",
       "        ...,\n",
       "        [  14.47139168,   21.63870621,   15.62875175, ...,    0.        ,\n",
       "            0.        ,    0.        ],\n",
       "        [  11.09955597,    3.33076429,    1.44585037, ...,    0.        ,\n",
       "            0.        ,    0.        ],\n",
       "        [  -5.95433187,  -12.58970642,  -13.87738609, ...,    0.        ,\n",
       "            0.        ,    0.        ]]),\n",
       " array([[-336.11957   , -185.91237   , -134.93608   , ...,  -92.22836   ,\n",
       "          -92.231026  ,  -88.28569   ],\n",
       "        [ 115.43445   ,   83.18886   ,   72.5464    , ...,  106.26227   ,\n",
       "           96.30467   ,  107.30513   ],\n",
       "        [   5.79702   ,  -26.441595  ,  -32.209064  , ...,   -8.289004  ,\n",
       "          -24.97723   ,  -34.835575  ],\n",
       "        ...,\n",
       "        [   1.5947623 ,   -4.9686284 ,   -2.920594  , ...,   -9.023987  ,\n",
       "           -8.873697  ,   -4.5861135 ],\n",
       "        [  -0.70340794,    3.701439  ,    2.3714745 , ...,    7.385851  ,\n",
       "            9.233717  ,    9.313874  ],\n",
       "        [  -2.3569446 ,   -9.03828   ,   -7.5004144 , ...,   -4.0912466 ,\n",
       "           -3.794354  ,   -2.834937  ]], dtype=float32),\n",
       " array([[-1.3690016e+02, -1.1547678e+02, -1.1259579e+02, ...,\n",
       "         -2.5960797e+02, -2.0906853e+02, -1.6199486e+02],\n",
       "        [ 1.4331537e+02,  1.1968800e+02,  9.3626480e+01, ...,\n",
       "          1.5082791e+02,  1.8049712e+02,  1.8578589e+02],\n",
       "        [-3.8297714e+01, -3.2759811e+01, -2.7601860e+01, ...,\n",
       "          2.1875935e+01, -6.2854528e+00, -3.0563320e+01],\n",
       "        ...,\n",
       "        [-1.8822212e+00, -2.2596755e+00, -2.7592125e+00, ...,\n",
       "         -3.8545885e+00, -9.2449341e+00, -9.8455105e+00],\n",
       "        [-1.2670023e+01, -1.7438080e+01, -1.7496515e+01, ...,\n",
       "          1.2829077e+00, -8.9355087e-01, -5.5700116e+00],\n",
       "        [-1.0059395e+01, -8.5609341e+00, -9.0667143e+00, ...,\n",
       "          4.4878739e-01,  5.3910131e+00,  2.3155510e-02]], dtype=float32),\n",
       " array([[-5.64103149e+02, -5.64103149e+02, -5.64103149e+02, ...,\n",
       "         -1.95272430e+02, -1.10017021e+02, -9.26599121e+01],\n",
       "        [ 0.00000000e+00,  0.00000000e+00,  0.00000000e+00, ...,\n",
       "          8.58928146e+01,  8.10357208e+01,  5.78586273e+01],\n",
       "        [ 0.00000000e+00,  0.00000000e+00,  0.00000000e+00, ...,\n",
       "          2.47310600e+01,  1.31032505e+01,  1.39694176e+01],\n",
       "        ...,\n",
       "        [ 0.00000000e+00,  0.00000000e+00,  0.00000000e+00, ...,\n",
       "         -1.59186468e+01, -7.37714958e+00, -1.27470613e+00],\n",
       "        [ 0.00000000e+00,  0.00000000e+00,  0.00000000e+00, ...,\n",
       "         -3.26475430e+00, -4.94944286e+00, -7.41587734e+00],\n",
       "        [ 0.00000000e+00,  0.00000000e+00,  0.00000000e+00, ...,\n",
       "         -3.96648002e+00, -2.77218461e-01,  1.73827636e+00]], dtype=float32),\n",
       " array([[-309.9042   , -324.28452  , -374.93805  , ..., -181.69237  ,\n",
       "         -189.47835  , -184.44223  ],\n",
       "        [  83.1815   ,   75.58562  ,   95.821106 , ...,   90.41307  ,\n",
       "           72.423805 ,   74.48186  ],\n",
       "        [  58.090782 ,   58.10868  ,   38.968742 , ...,  -14.718355 ,\n",
       "           -7.08696  ,   -8.135917 ],\n",
       "        ...,\n",
       "        [   6.69921  ,    5.959044 ,    2.8453727, ...,  -13.808165 ,\n",
       "          -12.703247 ,  -13.739268 ],\n",
       "        [ -12.268732 ,  -15.91452  ,  -14.088428 , ...,   -1.9320312,\n",
       "           -3.215697 ,   -6.1703196],\n",
       "        [   7.1459494,    1.8597715,   -2.5122852, ...,  -13.846144 ,\n",
       "          -14.873735 ,  -16.331257 ]], dtype=float32),\n",
       " array([[-422.6219    , -393.02914   , -388.17502   , ..., -134.15459   ,\n",
       "         -118.05891   , -139.16829   ],\n",
       "        [  95.895035  ,   96.76999   ,   89.12123   , ...,  169.52948   ,\n",
       "          156.42043   ,  148.91861   ],\n",
       "        [   8.618647  ,   -2.8815436 ,  -10.111132  , ...,  -50.01482   ,\n",
       "          -69.20521   ,  -64.003685  ],\n",
       "        ...,\n",
       "        [   2.8020742 ,    3.925187  ,    1.8872039 , ...,   -0.47954798,\n",
       "            3.9593816 ,    2.6506643 ],\n",
       "        [   0.83377373,    3.951802  ,    5.2269373 , ...,   -2.7822278 ,\n",
       "           -4.4630675 ,   -3.669662  ],\n",
       "        [  -3.7704787 ,   -2.542667  ,    1.6486126 , ...,   -4.174632  ,\n",
       "           -1.3792963 ,   -6.2564898 ]], dtype=float32),\n",
       " array([[-97.74812317, -58.90908432, -81.10816193, ...,   0.        ,\n",
       "           0.        ,   0.        ],\n",
       "        [115.67758179, 123.85697937, 128.0446167 , ...,   0.        ,\n",
       "           0.        ,   0.        ],\n",
       "        [  9.39671898,   0.36127859,  -3.81443501, ...,   0.        ,\n",
       "           0.        ,   0.        ],\n",
       "        ...,\n",
       "        [ -6.71092319,  -9.5957098 ,  -9.00986004, ...,   0.        ,\n",
       "           0.        ,   0.        ],\n",
       "        [  4.9759059 ,   2.62620497,  -0.35986865, ...,   0.        ,\n",
       "           0.        ,   0.        ],\n",
       "        [ -3.5190134 ,  -4.92536545,  -5.99754143, ...,   0.        ,\n",
       "           0.        ,   0.        ]]),\n",
       " array([[-5.2799921e+02, -5.2799921e+02, -5.2799921e+02, ...,\n",
       "         -1.5582652e+02, -1.4763556e+02, -1.7244397e+02],\n",
       "        [ 0.0000000e+00,  0.0000000e+00,  0.0000000e+00, ...,\n",
       "          4.5859013e+01,  9.0875931e+00, -3.5543488e+01],\n",
       "        [ 0.0000000e+00,  0.0000000e+00,  0.0000000e+00, ...,\n",
       "          3.8084038e+01,  6.3856453e+01,  6.5016380e+01],\n",
       "        ...,\n",
       "        [ 0.0000000e+00,  0.0000000e+00,  0.0000000e+00, ...,\n",
       "         -4.3502922e+00, -5.3271971e+00, -5.6470146e+00],\n",
       "        [ 0.0000000e+00,  0.0000000e+00,  0.0000000e+00, ...,\n",
       "          2.9822147e+00,  4.2550868e-01, -6.8567371e-01],\n",
       "        [ 0.0000000e+00,  0.0000000e+00,  0.0000000e+00, ...,\n",
       "          3.6030679e+00,  3.2363448e+00, -1.1259776e-01]], dtype=float32),\n",
       " array([[-1.69925888e+02, -1.40156357e+02, -1.51158752e+02, ...,\n",
       "         -1.44502243e+02, -1.50807648e+02, -1.92907227e+02],\n",
       "        [ 9.24447861e+01,  1.02842865e+02,  1.16174942e+02, ...,\n",
       "          1.10007202e+02,  1.19446899e+02,  1.23534058e+02],\n",
       "        [ 6.34224319e+00,  4.40778446e+00,  2.33126235e+00, ...,\n",
       "         -5.23703575e+00, -5.01435280e+00,  7.93497753e+00],\n",
       "        ...,\n",
       "        [-9.02751827e+00, -8.05556488e+00, -5.91985893e+00, ...,\n",
       "         -2.25100994e+00, -1.21891975e+01, -1.04106941e+01],\n",
       "        [-6.88980341e-01, -4.11778259e+00, -7.24141741e+00, ...,\n",
       "         -2.66312885e+00,  5.17652154e-01, -2.24003983e+00],\n",
       "        [ 5.58684731e+00, -4.50095773e-01,  5.77332973e-02, ...,\n",
       "          2.11550331e+00, -3.77236557e+00, -7.52800083e+00]], dtype=float32),\n",
       " array([[-142.62257385, -137.68312073, -158.81077576, ...,    0.        ,\n",
       "            0.        ,    0.        ],\n",
       "        [ 140.30960083,  141.50604248,  148.45385742, ...,    0.        ,\n",
       "            0.        ,    0.        ],\n",
       "        [ -39.77386093,  -42.5995903 ,  -51.25447845, ...,    0.        ,\n",
       "            0.        ,    0.        ],\n",
       "        ...,\n",
       "        [  -4.51078224,   -8.29094124,   -8.85516739, ...,    0.        ,\n",
       "            0.        ,    0.        ],\n",
       "        [   8.25779629,    5.6041441 ,    0.9267869 , ...,    0.        ,\n",
       "            0.        ,    0.        ],\n",
       "        [  -8.64557743,   -9.66425991,   -5.19212484, ...,    0.        ,\n",
       "            0.        ,    0.        ]]),\n",
       " array([[-140.10336   ,  -93.31271   ,  -94.36818   , ..., -169.28526   ,\n",
       "         -168.70203   , -158.1075    ],\n",
       "        [  56.780502  ,   87.36691   ,  124.169174  , ...,  102.7305    ,\n",
       "          109.20245   ,  128.02957   ],\n",
       "        [  24.129173  ,    1.0714507 ,  -14.380707  , ...,   -9.1829815 ,\n",
       "           -3.093111  ,  -14.222034  ],\n",
       "        ...,\n",
       "        [  -4.9855747 ,   -1.9692982 ,    0.53713846, ...,  -12.003977  ,\n",
       "           -9.849443  ,   -9.299738  ],\n",
       "        [  -8.203018  ,   -4.1193247 ,   -3.8302171 , ...,    0.9934658 ,\n",
       "           -1.8163017 ,   -2.1737351 ],\n",
       "        [ -21.332193  ,  -15.431181  ,   -6.285779  , ...,    9.803294  ,\n",
       "           13.210087  ,    3.0100856 ]], dtype=float32),\n",
       " array([[-3.38634644e+02, -3.23195801e+02, -3.48540009e+02, ...,\n",
       "          0.00000000e+00,  0.00000000e+00,  0.00000000e+00],\n",
       "        [ 9.95345917e+01,  1.00116570e+02,  1.05954117e+02, ...,\n",
       "          0.00000000e+00,  0.00000000e+00,  0.00000000e+00],\n",
       "        [-2.87384167e+01, -3.04476242e+01, -2.06423492e+01, ...,\n",
       "          0.00000000e+00,  0.00000000e+00,  0.00000000e+00],\n",
       "        ...,\n",
       "        [-2.38305539e-01,  3.81425858e+00,  2.61812162e+00, ...,\n",
       "          0.00000000e+00,  0.00000000e+00,  0.00000000e+00],\n",
       "        [ 5.06413269e+00,  6.04643822e+00,  5.98089075e+00, ...,\n",
       "          0.00000000e+00,  0.00000000e+00,  0.00000000e+00],\n",
       "        [-5.27794838e+00, -8.85526562e+00, -3.03122425e+00, ...,\n",
       "          0.00000000e+00,  0.00000000e+00,  0.00000000e+00]]),\n",
       " array([[-1.34801651e+02, -1.23734276e+02, -1.73345123e+02, ...,\n",
       "         -1.86530609e+02, -1.93903061e+02, -2.01685349e+02],\n",
       "        [ 9.51735229e+01,  9.02768860e+01,  1.04461502e+02, ...,\n",
       "          1.92869965e+02,  1.88152985e+02,  1.75089386e+02],\n",
       "        [ 4.41923523e+01,  4.12719574e+01,  3.59381409e+01, ...,\n",
       "         -1.97757378e+01, -1.11021423e+01, -7.74861813e+00],\n",
       "        ...,\n",
       "        [-1.83935852e+01, -2.01012383e+01, -1.93321342e+01, ...,\n",
       "         -1.09828625e+01, -1.10414143e+01, -1.08969116e+01],\n",
       "        [-4.35440063e+00, -7.80575275e-02, -3.12661314e+00, ...,\n",
       "         -1.10917339e+01, -1.52747946e+01, -1.66136150e+01],\n",
       "        [-8.19219351e-01,  2.56648278e+00,  5.80619431e+00, ...,\n",
       "         -7.62881041e+00, -9.72384167e+00, -8.67283249e+00]], dtype=float32),\n",
       " array([[-9.72333069e+01, -7.55555801e+01, -8.24535522e+01, ...,\n",
       "         -9.58799591e+01, -5.44028664e+01, -5.39748192e+01],\n",
       "        [ 1.35499603e+02,  1.36469498e+02,  1.46924454e+02, ...,\n",
       "          3.57475929e+01,  8.56163025e+01,  1.11209946e+02],\n",
       "        [ 4.65924740e+00, -5.75495386e+00, -1.26764393e+01, ...,\n",
       "          6.22407761e+01,  2.08649769e+01,  3.84299278e+00],\n",
       "        ...,\n",
       "        [-2.23471117e+00, -4.58002090e+00, -4.07682943e+00, ...,\n",
       "         -1.56295452e+01, -1.36052780e+01, -1.15263376e+01],\n",
       "        [-3.82873750e+00, -2.88275385e+00, -5.05749416e+00, ...,\n",
       "          5.01299429e+00,  5.63480139e+00,  2.31804776e+00],\n",
       "        [-6.71872807e+00, -6.26808643e+00, -8.03561687e+00, ...,\n",
       "         -1.80591011e+00, -1.69955230e+00, -1.78849697e-03]], dtype=float32),\n",
       " array([[-143.36650085, -115.89363861, -137.70536804, ...,    0.        ,\n",
       "            0.        ,    0.        ],\n",
       "        [ 105.45721436,  118.96837616,  137.51579285, ...,    0.        ,\n",
       "            0.        ,    0.        ],\n",
       "        [  28.89253616,    4.06920958,  -21.67062759, ...,    0.        ,\n",
       "            0.        ,    0.        ],\n",
       "        ...,\n",
       "        [ -16.65009308,  -10.98402214,  -11.14587212, ...,    0.        ,\n",
       "            0.        ,    0.        ],\n",
       "        [  -6.33768606,   -6.76886082,   -4.13232327, ...,    0.        ,\n",
       "            0.        ,    0.        ],\n",
       "        [   4.78269863,   -3.40511727,   -6.75311375, ...,    0.        ,\n",
       "            0.        ,    0.        ]]),\n",
       " array([[-2.17468903e+02, -1.87741730e+02, -1.95194931e+02, ...,\n",
       "          0.00000000e+00,  0.00000000e+00,  0.00000000e+00],\n",
       "        [ 7.07088165e+01,  7.38786163e+01,  7.86022644e+01, ...,\n",
       "          0.00000000e+00,  0.00000000e+00,  0.00000000e+00],\n",
       "        [ 1.78566704e+01,  2.14043503e+01,  2.03559227e+01, ...,\n",
       "          0.00000000e+00,  0.00000000e+00,  0.00000000e+00],\n",
       "        ...,\n",
       "        [-3.30689621e+00, -3.99279714e+00, -4.82521629e+00, ...,\n",
       "          0.00000000e+00,  0.00000000e+00,  0.00000000e+00],\n",
       "        [ 6.54563141e+00,  5.36088657e+00, -4.81191874e-02, ...,\n",
       "          0.00000000e+00,  0.00000000e+00,  0.00000000e+00],\n",
       "        [-4.89280748e+00, -5.23827267e+00, -4.02513599e+00, ...,\n",
       "          0.00000000e+00,  0.00000000e+00,  0.00000000e+00]]),\n",
       " array([[ -91.24668  ,  -82.13566  , -106.11234  , ..., -202.35469  ,\n",
       "         -225.99817  , -243.55763  ],\n",
       "        [ 108.19915  ,  115.63308  ,  128.71312  , ...,  109.00992  ,\n",
       "          118.99054  ,  127.7422   ],\n",
       "        [   7.9207563,    3.1257238,    0.3853563, ...,   28.606407 ,\n",
       "           22.49305  ,   19.215488 ],\n",
       "        ...,\n",
       "        [   8.346418 ,   12.839145 ,    8.495609 , ...,   -5.308246 ,\n",
       "           -6.093652 ,  -11.674454 ],\n",
       "        [  -6.97946  ,   -7.869812 ,  -10.9207325, ...,  -10.099065 ,\n",
       "           -5.4454093,   -9.044167 ],\n",
       "        [  -1.0692471,   -3.731277 ,   -1.7606585, ...,   -3.2085881,\n",
       "           -1.9884918,   -5.251491 ]], dtype=float32),\n",
       " array([[-202.15222  , -158.61302  ,  -99.12738  , ..., -251.32996  ,\n",
       "         -237.1669   , -187.534    ],\n",
       "        [ 120.360695 ,  118.665665 ,  113.06029  , ...,  165.60269  ,\n",
       "          168.15999  ,  154.7167   ],\n",
       "        [  23.428148 ,   23.90571  ,   -1.8788671, ...,   24.78143  ,\n",
       "           32.576035 ,   21.496103 ],\n",
       "        ...,\n",
       "        [ -12.328888 ,  -12.477106 ,  -23.026226 , ...,   -4.8339443,\n",
       "           -5.0281262,   -4.004634 ],\n",
       "        [  -7.081043 ,   -6.5493593,   -3.182987 , ...,   -8.139949 ,\n",
       "           -6.008337 ,  -11.893901 ],\n",
       "        [  -2.6215758,  -13.158972 ,  -14.101053 , ...,    0.9815837,\n",
       "           -2.6780863,   -6.150651 ]], dtype=float32),\n",
       " array([[-146.16525  , -153.75822  , -209.83786  , ..., -204.123    ,\n",
       "         -206.1369   , -223.82681  ],\n",
       "        [ 114.14151  ,  119.39262  ,  131.22934  , ...,   58.68586  ,\n",
       "           61.326797 ,   77.42601  ],\n",
       "        [  28.4942   ,   21.295753 ,   18.114286 , ...,    6.099702 ,\n",
       "            4.175985 ,    5.9754205],\n",
       "        ...,\n",
       "        [ -13.970184 ,  -12.032752 ,   -9.703442 , ...,   -2.9826674,\n",
       "           -1.9022963,   -1.871146 ],\n",
       "        [ -10.87307  ,   -9.361385 ,   -1.0831976, ...,   -5.405855 ,\n",
       "           -5.851388 ,   -0.8684856],\n",
       "        [  -1.3847275,   -3.4698443,   -2.2314978, ...,   -2.8923635,\n",
       "           -3.8169527,   -1.964834 ]], dtype=float32)]"
      ]
     },
     "execution_count": 27,
     "metadata": {},
     "output_type": "execute_result"
    }
   ],
   "source": [
    "padded_processed_data[\"id10082\"]"
   ]
  },
  {
   "cell_type": "markdown",
   "id": "d800a902",
   "metadata": {},
   "source": [
    "# EDA"
   ]
  },
  {
   "cell_type": "code",
   "execution_count": 28,
   "id": "18f1eb65",
   "metadata": {},
   "outputs": [],
   "source": [
    "def plot_random_mfccs_from_dict(data_dict, num_samples=10):\n",
    "    \"\"\"\n",
    "    Plots random MFCCs for a specified number of samples from different speakers in the dataset.\n",
    "\n",
    "    Parameters:\n",
    "    data_dict (dict): Dictionary with speaker IDs as keys and lists of arrays of MFCC data as values.\n",
    "    num_samples (int): Total number of random samples to plot.\n",
    "    \"\"\"\n",
    "    speaker_ids = list(data_dict.keys())\n",
    "    fig, axes = plt.subplots(num_samples, 1, figsize=(12, 4 * num_samples))\n",
    "    if num_samples == 1:\n",
    "        axes = [axes]  # Ensure axes is iterable for a single plot\n",
    "\n",
    "    for i in range(num_samples):\n",
    "        # Randomly select a speaker\n",
    "        speaker = random.choice(speaker_ids)\n",
    "        # Randomly select a sample from the chosen speaker\n",
    "        sample_index = random.randint(0, len(data_dict[speaker]) - 1)\n",
    "        mfcc_sample = data_dict[speaker][sample_index]\n",
    "\n",
    "        axes[i].set_title(f'Speaker {speaker}, Sample {sample_index}')\n",
    "        librosa.display.specshow(mfcc_sample, x_axis='time', ax=axes[i])\n",
    "        axes[i].label_outer()  # Hide labels except for the bottom plot\n",
    "\n",
    "    plt.tight_layout()\n",
    "    plt.show()"
   ]
  },
  {
   "cell_type": "code",
   "execution_count": 29,
   "id": "9f58e24d",
   "metadata": {
    "scrolled": false
   },
   "outputs": [
    {
     "data": {
      "image/png": "[encoded data removed]",
      "text/plain": [
       "<Figure size 1200x4000 with 10 Axes>"
      ]
     },
     "metadata": {},
     "output_type": "display_data"
    }
   ],
   "source": [
    "# Example usage:\n",
    "plot_random_mfccs_from_dict(padded_processed_data, num_samples=10)"
   ]
  },
  {
   "cell_type": "markdown",
   "id": "7b1e28b1",
   "metadata": {},
   "source": [
    "# Model 1"
   ]
  },
  {
   "cell_type": "code",
   "execution_count": 30,
   "id": "49f524c1",
   "metadata": {},
   "outputs": [],
   "source": [
    "def build_cnn_lstm_model(input_shape, num_classes, filters=64, kernel_size=3, pool_size=2, lstm_units=64, dropout_rate=0.5):\n",
    "    \"\"\"\n",
    "    Build a CNN-LSTM model for classification.\n",
    "\n",
    "    Parameters:\n",
    "    input_shape (tuple): Shape of the input features (timesteps, features).\n",
    "    num_classes (int): Number of classes in the target output.\n",
    "    filters (int): Number of filters in the Conv layer.\n",
    "    kernel_size (int): Size of the kernel in the Conv layer.\n",
    "    pool_size (int): Size of the pooling window in the MaxPooling layer.\n",
    "    lstm_units (int): Number of units in the LSTM layer.\n",
    "    dropout_rate (float): Dropout rate for regularization.\n",
    "\n",
    "    Returns:\n",
    "    keras.Model: The constructed CNN-LSTM model.\n",
    "    \"\"\"\n",
    "    model = Sequential()\n",
    "\n",
    "    # Convolutional layer\n",
    "    model.add(Conv1D(filters=filters, kernel_size=kernel_size, activation='relu', input_shape=input_shape))\n",
    "    model.add(BatchNormalization())\n",
    "    model.add(MaxPooling1D(pool_size=pool_size))\n",
    "    model.add(Dropout(dropout_rate))\n",
    "\n",
    "    # LSTM layer\n",
    "    model.add(LSTM(lstm_units))\n",
    "    model.add(BatchNormalization())\n",
    "    model.add(Dropout(dropout_rate))\n",
    "\n",
    "    # Dense layer\n",
    "    model.add(Dense(units=64, activation='relu'))\n",
    "    model.add(BatchNormalization())\n",
    "    model.add(Dropout(dropout_rate))\n",
    "\n",
    "    # Output layer\n",
    "    model.add(Flatten())  # Flatten before passing to the Dense layer\n",
    "    model.add(Dense(num_classes, activation='softmax'))\n",
    "\n",
    "    return model\n",
    "\n"
   ]
  },
  {
   "cell_type": "code",
   "execution_count": 31,
   "id": "eb20a065",
   "metadata": {},
   "outputs": [],
   "source": [
    "def compile_model(model):\n",
    "    model.compile(optimizer=Adam(),\n",
    "                  loss='categorical_crossentropy',\n",
    "                  metrics=['accuracy'])\n",
    "    return model"
   ]
  },
  {
   "cell_type": "code",
   "execution_count": 32,
   "id": "ad6a5cfc",
   "metadata": {},
   "outputs": [
    {
     "name": "stdout",
     "output_type": "stream",
     "text": [
      "Input Shape: (23, 153)\n",
      "Number of Classes: 1211\n"
     ]
    }
   ],
   "source": [
    "# Check the input shape\n",
    "input_shape = X_train[0].shape\n",
    "print(\"Input Shape:\", input_shape)\n",
    "\n",
    "# Check the number of classes\n",
    "num_classes = y_train.shape[1]\n",
    "print(\"Number of Classes:\", num_classes)"
   ]
  },
  {
   "cell_type": "code",
   "execution_count": 33,
   "id": "3843e5a5",
   "metadata": {},
   "outputs": [
    {
     "name": "stdout",
     "output_type": "stream",
     "text": [
      "Shape of y_train: (42385, 1211)\n",
      "Shape of y_val: (6055, 1211)\n",
      "Number of classes: 1211\n",
      "First 5 labels in y_train:\n",
      "[[0. 0. 0. ... 0. 0. 0.]\n",
      " [0. 0. 0. ... 0. 0. 0.]\n",
      " [0. 0. 0. ... 0. 0. 0.]\n",
      " [0. 0. 0. ... 0. 0. 0.]\n",
      " [0. 0. 0. ... 0. 0. 0.]]\n"
     ]
    }
   ],
   "source": [
    "# Check the shape of the labels\n",
    "print(\"Shape of y_train:\", y_train.shape)\n",
    "print(\"Shape of y_val:\", y_val.shape)\n",
    "\n",
    "# Assuming you have more than 1 class, check the number of unique classes\n",
    "num_classes = y_train.shape[1]  # Number of columns in y_train represents the number of classes\n",
    "print(\"Number of classes:\", num_classes)\n",
    "\n",
    "# Examine the first few labels\n",
    "print(\"First 5 labels in y_train:\")\n",
    "print(y_train[:5])"
   ]
  },
  {
   "cell_type": "code",
   "execution_count": 34,
   "id": "37a577bc",
   "metadata": {},
   "outputs": [],
   "source": [
    "# Assuming y_train is correctly one-hot encoded and has the shape (16954, 1211)\n",
    "num_classes = y_train.shape[1]\n",
    "\n",
    "# Define early stopping callback\n",
    "early_stopping = EarlyStopping(monitor='val_loss', patience=10, min_delta=0.001, mode='min', verbose=1)\n",
    "\n",
    "# Build the model with the correct number of output neurons\n",
    "model = build_cnn_lstm_model(X_train[0].shape, num_classes)"
   ]
  },
  {
   "cell_type": "code",
   "execution_count": 35,
   "id": "7cc88438",
   "metadata": {},
   "outputs": [
    {
     "data": {
      "image/png": "[encoded data removed]",
      "text/plain": [
       "<IPython.core.display.Image object>"
      ]
     },
     "execution_count": 35,
     "metadata": {},
     "output_type": "execute_result"
    }
   ],
   "source": [
    "plot_model(model, to_file='model_plot.png', show_shapes=True, show_layer_names=True)"
   ]
  },
  {
   "cell_type": "code",
   "execution_count": 36,
   "id": "5ab510b5",
   "metadata": {
    "scrolled": false
   },
   "outputs": [
    {
     "name": "stdout",
     "output_type": "stream",
     "text": [
      "Epoch 1/500\n",
      "1325/1325 [==============================] - 211s 156ms/step - loss: 7.0290 - accuracy: 0.0025 - val_loss: 6.7737 - val_accuracy: 0.0051\n",
      "Epoch 2/500\n",
      "1325/1325 [==============================] - 277s 209ms/step - loss: 6.7641 - accuracy: 0.0054 - val_loss: 6.4640 - val_accuracy: 0.0132\n",
      "Epoch 3/500\n",
      "1325/1325 [==============================] - 382s 289ms/step - loss: 6.4429 - accuracy: 0.0100 - val_loss: 6.0143 - val_accuracy: 0.0314\n",
      "Epoch 4/500\n",
      "1325/1325 [==============================] - 355s 268ms/step - loss: 6.1485 - accuracy: 0.0167 - val_loss: 5.6683 - val_accuracy: 0.0528\n",
      "Epoch 5/500\n",
      "1325/1325 [==============================] - 312s 235ms/step - loss: 5.9804 - accuracy: 0.0224 - val_loss: 5.5145 - val_accuracy: 0.0598\n",
      "Epoch 6/500\n",
      "1325/1325 [==============================] - 407s 307ms/step - loss: 5.8758 - accuracy: 0.0258 - val_loss: 5.3958 - val_accuracy: 0.0740\n",
      "Epoch 7/500\n",
      "1325/1325 [==============================] - 333s 251ms/step - loss: 5.7956 - accuracy: 0.0297 - val_loss: 5.2841 - val_accuracy: 0.0857\n",
      "Epoch 8/500\n",
      "1325/1325 [==============================] - 328s 247ms/step - loss: 5.7217 - accuracy: 0.0339 - val_loss: 5.2162 - val_accuracy: 0.0913\n",
      "Epoch 9/500\n",
      "1325/1325 [==============================] - 217s 164ms/step - loss: 5.6707 - accuracy: 0.0353 - val_loss: 5.1472 - val_accuracy: 0.0979\n",
      "Epoch 10/500\n",
      "1325/1325 [==============================] - 213s 161ms/step - loss: 5.6259 - accuracy: 0.0388 - val_loss: 5.0833 - val_accuracy: 0.1092\n",
      "Epoch 11/500\n",
      "1325/1325 [==============================] - 216s 163ms/step - loss: 5.5771 - accuracy: 0.0413 - val_loss: 5.0236 - val_accuracy: 0.1102\n",
      "Epoch 12/500\n",
      "1325/1325 [==============================] - 213s 161ms/step - loss: 5.5344 - accuracy: 0.0434 - val_loss: 4.9483 - val_accuracy: 0.1280\n",
      "Epoch 13/500\n",
      "1325/1325 [==============================] - 213s 160ms/step - loss: 5.4949 - accuracy: 0.0474 - val_loss: 4.9013 - val_accuracy: 0.1290\n",
      "Epoch 14/500\n",
      "1325/1325 [==============================] - 211s 160ms/step - loss: 5.4516 - accuracy: 0.0490 - val_loss: 4.8451 - val_accuracy: 0.1386\n",
      "Epoch 15/500\n",
      "1325/1325 [==============================] - 207s 157ms/step - loss: 5.4270 - accuracy: 0.0507 - val_loss: 4.8290 - val_accuracy: 0.1472\n",
      "Epoch 16/500\n",
      "1325/1325 [==============================] - 205s 155ms/step - loss: 5.3867 - accuracy: 0.0527 - val_loss: 4.7642 - val_accuracy: 0.1506\n",
      "Epoch 17/500\n",
      "1325/1325 [==============================] - 209s 158ms/step - loss: 5.3621 - accuracy: 0.0546 - val_loss: 4.7338 - val_accuracy: 0.1576\n",
      "Epoch 18/500\n",
      "1325/1325 [==============================] - 209s 158ms/step - loss: 5.3392 - accuracy: 0.0579 - val_loss: 4.7071 - val_accuracy: 0.1546\n",
      "Epoch 19/500\n",
      "1325/1325 [==============================] - 211s 159ms/step - loss: 5.3268 - accuracy: 0.0578 - val_loss: 4.6738 - val_accuracy: 0.1618\n",
      "Epoch 20/500\n",
      "1325/1325 [==============================] - 211s 159ms/step - loss: 5.2971 - accuracy: 0.0599 - val_loss: 4.6527 - val_accuracy: 0.1670\n",
      "Epoch 21/500\n",
      "1325/1325 [==============================] - 215s 163ms/step - loss: 5.2814 - accuracy: 0.0609 - val_loss: 4.6015 - val_accuracy: 0.1759\n",
      "Epoch 22/500\n",
      "1325/1325 [==============================] - 212s 160ms/step - loss: 5.2687 - accuracy: 0.0623 - val_loss: 4.5916 - val_accuracy: 0.1772\n",
      "Epoch 23/500\n",
      "1325/1325 [==============================] - 212s 160ms/step - loss: 5.2499 - accuracy: 0.0646 - val_loss: 4.5860 - val_accuracy: 0.1785\n",
      "Epoch 24/500\n",
      "1325/1325 [==============================] - 215s 162ms/step - loss: 5.2400 - accuracy: 0.0662 - val_loss: 4.5705 - val_accuracy: 0.1792\n",
      "Epoch 25/500\n",
      "1325/1325 [==============================] - 219s 165ms/step - loss: 5.2140 - accuracy: 0.0688 - val_loss: 4.5387 - val_accuracy: 0.1805\n",
      "Epoch 26/500\n",
      "1325/1325 [==============================] - 217s 164ms/step - loss: 5.2071 - accuracy: 0.0675 - val_loss: 4.5375 - val_accuracy: 0.1850\n",
      "Epoch 27/500\n",
      "1325/1325 [==============================] - 222s 168ms/step - loss: 5.2031 - accuracy: 0.0699 - val_loss: 4.5122 - val_accuracy: 0.1911\n",
      "Epoch 28/500\n",
      "1325/1325 [==============================] - 222s 168ms/step - loss: 5.1934 - accuracy: 0.0696 - val_loss: 4.5045 - val_accuracy: 0.1833\n",
      "Epoch 29/500\n",
      "1325/1325 [==============================] - 218s 165ms/step - loss: 5.1720 - accuracy: 0.0721 - val_loss: 4.4787 - val_accuracy: 0.1908\n",
      "Epoch 30/500\n",
      "1325/1325 [==============================] - 212s 160ms/step - loss: 5.1712 - accuracy: 0.0720 - val_loss: 4.4746 - val_accuracy: 0.1884\n",
      "Epoch 31/500\n",
      "1325/1325 [==============================] - 214s 161ms/step - loss: 5.1746 - accuracy: 0.0735 - val_loss: 4.4915 - val_accuracy: 0.1914\n",
      "Epoch 32/500\n",
      "1325/1325 [==============================] - 213s 161ms/step - loss: 5.1449 - accuracy: 0.0744 - val_loss: 4.4505 - val_accuracy: 0.1969\n",
      "Epoch 33/500\n",
      "1325/1325 [==============================] - 216s 163ms/step - loss: 5.1374 - accuracy: 0.0764 - val_loss: 4.4217 - val_accuracy: 0.1969\n",
      "Epoch 34/500\n",
      "1325/1325 [==============================] - 214s 162ms/step - loss: 5.1419 - accuracy: 0.0735 - val_loss: 4.4328 - val_accuracy: 0.1965\n",
      "Epoch 35/500\n",
      "1325/1325 [==============================] - 210s 159ms/step - loss: 5.1257 - accuracy: 0.0736 - val_loss: 4.4093 - val_accuracy: 0.1969\n",
      "Epoch 36/500\n",
      "1325/1325 [==============================] - 207s 156ms/step - loss: 5.1199 - accuracy: 0.0770 - val_loss: 4.4211 - val_accuracy: 0.2048\n",
      "Epoch 37/500\n",
      "1325/1325 [==============================] - 206s 156ms/step - loss: 5.1134 - accuracy: 0.0780 - val_loss: 4.3863 - val_accuracy: 0.1959\n",
      "Epoch 38/500\n",
      "1325/1325 [==============================] - 205s 154ms/step - loss: 5.1041 - accuracy: 0.0774 - val_loss: 4.3879 - val_accuracy: 0.2038\n",
      "Epoch 39/500\n",
      "1325/1325 [==============================] - 211s 159ms/step - loss: 5.1037 - accuracy: 0.0787 - val_loss: 4.3964 - val_accuracy: 0.2026\n",
      "Epoch 40/500\n",
      "1325/1325 [==============================] - 207s 156ms/step - loss: 5.0922 - accuracy: 0.0806 - val_loss: 4.4086 - val_accuracy: 0.2030\n",
      "Epoch 41/500\n",
      "1325/1325 [==============================] - 209s 158ms/step - loss: 5.0849 - accuracy: 0.0814 - val_loss: 4.3850 - val_accuracy: 0.2038\n",
      "Epoch 42/500\n",
      "1325/1325 [==============================] - 221s 167ms/step - loss: 5.0858 - accuracy: 0.0801 - val_loss: 4.3535 - val_accuracy: 0.2059\n",
      "Epoch 43/500\n",
      "1325/1325 [==============================] - 220s 166ms/step - loss: 5.0932 - accuracy: 0.0788 - val_loss: 4.3741 - val_accuracy: 0.2033\n",
      "Epoch 44/500\n",
      "1325/1325 [==============================] - 219s 165ms/step - loss: 5.0761 - accuracy: 0.0802 - val_loss: 4.3861 - val_accuracy: 0.2000\n",
      "Epoch 45/500\n",
      "1325/1325 [==============================] - 219s 166ms/step - loss: 5.0701 - accuracy: 0.0820 - val_loss: 4.3601 - val_accuracy: 0.2083\n",
      "Epoch 46/500\n",
      "1325/1325 [==============================] - 213s 161ms/step - loss: 5.0657 - accuracy: 0.0818 - val_loss: 4.3394 - val_accuracy: 0.2079\n",
      "Epoch 47/500\n",
      "1325/1325 [==============================] - 214s 162ms/step - loss: 5.0572 - accuracy: 0.0847 - val_loss: 4.3642 - val_accuracy: 0.2101\n",
      "Epoch 48/500\n",
      "1325/1325 [==============================] - 220s 166ms/step - loss: 5.0541 - accuracy: 0.0824 - val_loss: 4.3570 - val_accuracy: 0.2114\n",
      "Epoch 49/500\n",
      "1325/1325 [==============================] - 226s 170ms/step - loss: 5.0440 - accuracy: 0.0866 - val_loss: 4.3407 - val_accuracy: 0.2033\n",
      "Epoch 50/500\n",
      "1325/1325 [==============================] - 220s 166ms/step - loss: 5.0510 - accuracy: 0.0830 - val_loss: 4.3300 - val_accuracy: 0.2144\n",
      "Epoch 51/500\n",
      "1325/1325 [==============================] - 222s 168ms/step - loss: 5.0468 - accuracy: 0.0834 - val_loss: 4.3459 - val_accuracy: 0.2145\n",
      "Epoch 52/500\n",
      "1325/1325 [==============================] - 230s 173ms/step - loss: 5.0423 - accuracy: 0.0847 - val_loss: 4.3121 - val_accuracy: 0.2112\n",
      "Epoch 53/500\n",
      "1325/1325 [==============================] - 220s 166ms/step - loss: 5.0312 - accuracy: 0.0839 - val_loss: 4.3154 - val_accuracy: 0.2130\n",
      "Epoch 54/500\n",
      "1325/1325 [==============================] - 217s 164ms/step - loss: 5.0274 - accuracy: 0.0870 - val_loss: 4.3566 - val_accuracy: 0.2119\n",
      "Epoch 55/500\n",
      "1325/1325 [==============================] - 219s 166ms/step - loss: 5.0201 - accuracy: 0.0868 - val_loss: 4.3342 - val_accuracy: 0.2116\n"
     ]
    },
    {
     "name": "stdout",
     "output_type": "stream",
     "text": [
      "Epoch 56/500\n",
      "1325/1325 [==============================] - 237s 179ms/step - loss: 5.0212 - accuracy: 0.0859 - val_loss: 4.3234 - val_accuracy: 0.2150\n",
      "Epoch 57/500\n",
      "1325/1325 [==============================] - 223s 168ms/step - loss: 5.0092 - accuracy: 0.0892 - val_loss: 4.3168 - val_accuracy: 0.2058\n",
      "Epoch 58/500\n",
      "1325/1325 [==============================] - 264s 199ms/step - loss: 5.0173 - accuracy: 0.0866 - val_loss: 4.3202 - val_accuracy: 0.2058\n",
      "Epoch 59/500\n",
      "1325/1325 [==============================] - 345s 261ms/step - loss: 5.0081 - accuracy: 0.0882 - val_loss: 4.2816 - val_accuracy: 0.2197\n",
      "Epoch 60/500\n",
      "1325/1325 [==============================] - 329s 248ms/step - loss: 5.0031 - accuracy: 0.0898 - val_loss: 4.2931 - val_accuracy: 0.2149\n",
      "Epoch 61/500\n",
      "1325/1325 [==============================] - 337s 255ms/step - loss: 5.0046 - accuracy: 0.0901 - val_loss: 4.3022 - val_accuracy: 0.2134\n",
      "Epoch 62/500\n",
      "1325/1325 [==============================] - 332s 251ms/step - loss: 4.9931 - accuracy: 0.0906 - val_loss: 4.2844 - val_accuracy: 0.2168\n",
      "Epoch 63/500\n",
      "1325/1325 [==============================] - 389s 294ms/step - loss: 4.9947 - accuracy: 0.0895 - val_loss: 4.2901 - val_accuracy: 0.2187\n",
      "Epoch 64/500\n",
      "1325/1325 [==============================] - 454s 342ms/step - loss: 4.9868 - accuracy: 0.0901 - val_loss: 4.2961 - val_accuracy: 0.2112\n",
      "Epoch 65/500\n",
      "1325/1325 [==============================] - 377s 285ms/step - loss: 4.9818 - accuracy: 0.0926 - val_loss: 4.2725 - val_accuracy: 0.2155\n",
      "Epoch 66/500\n",
      "1325/1325 [==============================] - 337s 254ms/step - loss: 4.9938 - accuracy: 0.0882 - val_loss: 4.2785 - val_accuracy: 0.2223\n",
      "Epoch 67/500\n",
      "1325/1325 [==============================] - 381s 288ms/step - loss: 4.9741 - accuracy: 0.0916 - val_loss: 4.2862 - val_accuracy: 0.2192\n",
      "Epoch 68/500\n",
      "1325/1325 [==============================] - 329s 248ms/step - loss: 4.9821 - accuracy: 0.0903 - val_loss: 4.2640 - val_accuracy: 0.2226\n",
      "Epoch 69/500\n",
      "1325/1325 [==============================] - 421s 317ms/step - loss: 4.9769 - accuracy: 0.0895 - val_loss: 4.2795 - val_accuracy: 0.2172\n",
      "Epoch 70/500\n",
      "1325/1325 [==============================] - 368s 278ms/step - loss: 4.9810 - accuracy: 0.0899 - val_loss: 4.2870 - val_accuracy: 0.2210\n",
      "Epoch 71/500\n",
      "1325/1325 [==============================] - 223s 168ms/step - loss: 4.9808 - accuracy: 0.0892 - val_loss: 4.2658 - val_accuracy: 0.2198\n",
      "Epoch 72/500\n",
      "1325/1325 [==============================] - 245s 185ms/step - loss: 4.9580 - accuracy: 0.0909 - val_loss: 4.2670 - val_accuracy: 0.2187\n",
      "Epoch 73/500\n",
      "1325/1325 [==============================] - 229s 173ms/step - loss: 4.9639 - accuracy: 0.0930 - val_loss: 4.2557 - val_accuracy: 0.2216\n",
      "Epoch 74/500\n",
      "1325/1325 [==============================] - 218s 165ms/step - loss: 4.9689 - accuracy: 0.0923 - val_loss: 4.2684 - val_accuracy: 0.2213\n",
      "Epoch 75/500\n",
      "1325/1325 [==============================] - 218s 165ms/step - loss: 4.9595 - accuracy: 0.0945 - val_loss: 4.2689 - val_accuracy: 0.2178\n",
      "Epoch 76/500\n",
      "1325/1325 [==============================] - 218s 165ms/step - loss: 4.9545 - accuracy: 0.0932 - val_loss: 4.2475 - val_accuracy: 0.2215\n",
      "Epoch 77/500\n",
      "1325/1325 [==============================] - 219s 165ms/step - loss: 4.9528 - accuracy: 0.0925 - val_loss: 4.2612 - val_accuracy: 0.2205\n",
      "Epoch 78/500\n",
      "1325/1325 [==============================] - 219s 165ms/step - loss: 4.9557 - accuracy: 0.0968 - val_loss: 4.2548 - val_accuracy: 0.2241\n",
      "Epoch 79/500\n",
      "1325/1325 [==============================] - 221s 167ms/step - loss: 4.9481 - accuracy: 0.0924 - val_loss: 4.2472 - val_accuracy: 0.2254\n",
      "Epoch 80/500\n",
      "1325/1325 [==============================] - 230s 173ms/step - loss: 4.9518 - accuracy: 0.0950 - val_loss: 4.2336 - val_accuracy: 0.2269\n",
      "Epoch 81/500\n",
      "1325/1325 [==============================] - 266s 200ms/step - loss: 4.9503 - accuracy: 0.0955 - val_loss: 4.2407 - val_accuracy: 0.2228\n",
      "Epoch 82/500\n",
      "1325/1325 [==============================] - 541s 408ms/step - loss: 4.9400 - accuracy: 0.0957 - val_loss: 4.2411 - val_accuracy: 0.2178\n",
      "Epoch 83/500\n",
      "1325/1325 [==============================] - 664s 501ms/step - loss: 4.9453 - accuracy: 0.0949 - val_loss: 4.2581 - val_accuracy: 0.2228\n",
      "Epoch 84/500\n",
      "1325/1325 [==============================] - 753s 568ms/step - loss: 4.9420 - accuracy: 0.0940 - val_loss: 4.2222 - val_accuracy: 0.2246\n",
      "Epoch 85/500\n",
      "1325/1325 [==============================] - 698s 527ms/step - loss: 4.9464 - accuracy: 0.0953 - val_loss: 4.2488 - val_accuracy: 0.2238\n",
      "Epoch 86/500\n",
      "1325/1325 [==============================] - 680s 513ms/step - loss: 4.9341 - accuracy: 0.0957 - val_loss: 4.2329 - val_accuracy: 0.2235\n",
      "Epoch 87/500\n",
      "1325/1325 [==============================] - 655s 495ms/step - loss: 4.9302 - accuracy: 0.0958 - val_loss: 4.2199 - val_accuracy: 0.2203\n",
      "Epoch 88/500\n",
      "1325/1325 [==============================] - 592s 447ms/step - loss: 4.9359 - accuracy: 0.0974 - val_loss: 4.2486 - val_accuracy: 0.2251\n",
      "Epoch 89/500\n",
      "1325/1325 [==============================] - 220s 166ms/step - loss: 4.9289 - accuracy: 0.0971 - val_loss: 4.2156 - val_accuracy: 0.2239\n",
      "Epoch 90/500\n",
      "1325/1325 [==============================] - 315s 237ms/step - loss: 4.9321 - accuracy: 0.0970 - val_loss: 4.2243 - val_accuracy: 0.2291\n",
      "Epoch 91/500\n",
      "1325/1325 [==============================] - 407s 307ms/step - loss: 4.9192 - accuracy: 0.0970 - val_loss: 4.2138 - val_accuracy: 0.2276\n",
      "Epoch 92/500\n",
      "1325/1325 [==============================] - 336s 254ms/step - loss: 4.9157 - accuracy: 0.0981 - val_loss: 4.2316 - val_accuracy: 0.2248\n",
      "Epoch 93/500\n",
      "1325/1325 [==============================] - 355s 268ms/step - loss: 4.9162 - accuracy: 0.0963 - val_loss: 4.2206 - val_accuracy: 0.2261\n",
      "Epoch 94/500\n",
      "1325/1325 [==============================] - 308s 232ms/step - loss: 4.9102 - accuracy: 0.0988 - val_loss: 4.2141 - val_accuracy: 0.2301\n",
      "Epoch 95/500\n",
      "1325/1325 [==============================] - 389s 293ms/step - loss: 4.9211 - accuracy: 0.0982 - val_loss: 4.2197 - val_accuracy: 0.2264\n",
      "Epoch 96/500\n",
      "1325/1325 [==============================] - 342s 258ms/step - loss: 4.9089 - accuracy: 0.0996 - val_loss: 4.2207 - val_accuracy: 0.2266\n",
      "Epoch 97/500\n",
      "1325/1325 [==============================] - 338s 255ms/step - loss: 4.9116 - accuracy: 0.0983 - val_loss: 4.1894 - val_accuracy: 0.2299\n",
      "Epoch 98/500\n",
      "1325/1325 [==============================] - 323s 244ms/step - loss: 4.9087 - accuracy: 0.0980 - val_loss: 4.2194 - val_accuracy: 0.2332\n",
      "Epoch 99/500\n",
      "1325/1325 [==============================] - 308s 232ms/step - loss: 4.8939 - accuracy: 0.1002 - val_loss: 4.2012 - val_accuracy: 0.2289\n",
      "Epoch 100/500\n",
      "1325/1325 [==============================] - 279s 211ms/step - loss: 4.9154 - accuracy: 0.0963 - val_loss: 4.2080 - val_accuracy: 0.2348\n",
      "Epoch 101/500\n",
      "1325/1325 [==============================] - 290s 219ms/step - loss: 4.9006 - accuracy: 0.1002 - val_loss: 4.1949 - val_accuracy: 0.2287\n",
      "Epoch 102/500\n",
      "1325/1325 [==============================] - 306s 231ms/step - loss: 4.9067 - accuracy: 0.0958 - val_loss: 4.2150 - val_accuracy: 0.2302\n",
      "Epoch 103/500\n",
      "1325/1325 [==============================] - 340s 256ms/step - loss: 4.9063 - accuracy: 0.0992 - val_loss: 4.2146 - val_accuracy: 0.2332\n",
      "Epoch 104/500\n",
      "1325/1325 [==============================] - 343s 259ms/step - loss: 4.8995 - accuracy: 0.0993 - val_loss: 4.1827 - val_accuracy: 0.2253\n",
      "Epoch 105/500\n",
      "1325/1325 [==============================] - 340s 257ms/step - loss: 4.9032 - accuracy: 0.0992 - val_loss: 4.2028 - val_accuracy: 0.2345\n",
      "Epoch 106/500\n",
      "1325/1325 [==============================] - 348s 262ms/step - loss: 4.8989 - accuracy: 0.0981 - val_loss: 4.1888 - val_accuracy: 0.2344\n",
      "Epoch 107/500\n",
      "1325/1325 [==============================] - 322s 243ms/step - loss: 4.9000 - accuracy: 0.0995 - val_loss: 4.2084 - val_accuracy: 0.2309\n",
      "Epoch 108/500\n",
      "1325/1325 [==============================] - 293s 221ms/step - loss: 4.9013 - accuracy: 0.1009 - val_loss: 4.1930 - val_accuracy: 0.2307\n",
      "Epoch 109/500\n",
      "1325/1325 [==============================] - 297s 224ms/step - loss: 4.8900 - accuracy: 0.1007 - val_loss: 4.2128 - val_accuracy: 0.2287\n",
      "Epoch 110/500\n",
      "1325/1325 [==============================] - 219s 165ms/step - loss: 4.8938 - accuracy: 0.1010 - val_loss: 4.2141 - val_accuracy: 0.2310\n",
      "Epoch 111/500\n",
      "1325/1325 [==============================] - 196s 148ms/step - loss: 4.8885 - accuracy: 0.1007 - val_loss: 4.1936 - val_accuracy: 0.2297\n",
      "Epoch 112/500\n",
      "1325/1325 [==============================] - 197s 148ms/step - loss: 4.8936 - accuracy: 0.1015 - val_loss: 4.1910 - val_accuracy: 0.2319\n",
      "Epoch 113/500\n",
      "1325/1325 [==============================] - 204s 154ms/step - loss: 4.8955 - accuracy: 0.0986 - val_loss: 4.1965 - val_accuracy: 0.2309\n",
      "Epoch 114/500\n",
      "1325/1325 [==============================] - 203s 153ms/step - loss: 4.8916 - accuracy: 0.1023 - val_loss: 4.1740 - val_accuracy: 0.2340\n",
      "Epoch 115/500\n",
      "1325/1325 [==============================] - 205s 155ms/step - loss: 4.8898 - accuracy: 0.1020 - val_loss: 4.1784 - val_accuracy: 0.2340\n",
      "Epoch 116/500\n",
      "1325/1325 [==============================] - 203s 153ms/step - loss: 4.8811 - accuracy: 0.1033 - val_loss: 4.1911 - val_accuracy: 0.2291\n",
      "Epoch 117/500\n",
      "1325/1325 [==============================] - 200s 151ms/step - loss: 4.8815 - accuracy: 0.1008 - val_loss: 4.1845 - val_accuracy: 0.2239\n",
      "Epoch 118/500\n",
      "1325/1325 [==============================] - 204s 154ms/step - loss: 4.8800 - accuracy: 0.1015 - val_loss: 4.1944 - val_accuracy: 0.2319\n",
      "Epoch 119/500\n",
      "1325/1325 [==============================] - 203s 153ms/step - loss: 4.8851 - accuracy: 0.1039 - val_loss: 4.1759 - val_accuracy: 0.2289\n",
      "Epoch 120/500\n",
      "1325/1325 [==============================] - 196s 148ms/step - loss: 4.8774 - accuracy: 0.1025 - val_loss: 4.1854 - val_accuracy: 0.2266\n",
      "Epoch 121/500\n",
      "1325/1325 [==============================] - 199s 150ms/step - loss: 4.8674 - accuracy: 0.1027 - val_loss: 4.1736 - val_accuracy: 0.2327\n",
      "Epoch 122/500\n",
      "1325/1325 [==============================] - 193s 145ms/step - loss: 4.8768 - accuracy: 0.1010 - val_loss: 4.1734 - val_accuracy: 0.2284\n",
      "Epoch 123/500\n",
      "1325/1325 [==============================] - 198s 149ms/step - loss: 4.8712 - accuracy: 0.1042 - val_loss: 4.1836 - val_accuracy: 0.2302\n",
      "Epoch 124/500\n",
      "1325/1325 [==============================] - 203s 153ms/step - loss: 4.8753 - accuracy: 0.1029 - val_loss: 4.1851 - val_accuracy: 0.2263\n",
      "Epoch 124: early stopping\n"
     ]
    }
   ],
   "source": [
    "# Compile the model with an appropriate loss function and optimizer\n",
    "model.compile(optimizer='adam', loss='categorical_crossentropy', metrics=['accuracy'])\n",
    "\n",
    "# Then train your model\n",
    "history = model.fit(X_train, \n",
    "                    y_train, \n",
    "                    validation_data=(X_val, y_val), \n",
    "                    epochs=500, \n",
    "                    batch_size=32,\n",
    "                    callbacks=[early_stopping])"
   ]
  },
  {
   "cell_type": "code",
   "execution_count": 37,
   "id": "2c51fe40",
   "metadata": {},
   "outputs": [
    {
     "name": "stdout",
     "output_type": "stream",
     "text": [
      "379/379 [==============================] - 22s 59ms/step - loss: 4.2069 - accuracy: 0.2248\n",
      "Test Accuracy: 0.22477291524410248\n"
     ]
    }
   ],
   "source": [
    "test_loss, test_accuracy = model.evaluate(X_test, y_test)\n",
    "print(f\"Test Accuracy: {test_accuracy}\")"
   ]
  },
  {
   "cell_type": "markdown",
   "id": "848c5037",
   "metadata": {},
   "source": [
    "# Model 2"
   ]
  },
  {
   "cell_type": "code",
   "execution_count": 38,
   "id": "30614230",
   "metadata": {},
   "outputs": [],
   "source": [
    "def cnn_lstm_classifier_2(input_shape, num_classes):\n",
    "    \"\"\"\n",
    "    Build a CNN-LSTM model for audio classification using MFCC features.\n",
    "\n",
    "    Parameters:\n",
    "    input_shape (tuple): Shape of the input features (e.g., (timesteps, mfcc_features, 1)).\n",
    "    num_classes (int): Number of classes in the target output.\n",
    "\n",
    "    Returns:\n",
    "    keras.Model: The constructed CNN-LSTM model.\n",
    "    \"\"\"\n",
    "    model = Sequential()\n",
    "\n",
    "    # Convolutional layers\n",
    "    model.add(Conv2D(32, kernel_size=(3, 3), activation='relu', input_shape=(20, 254, 1)))\n",
    "    model.add(BatchNormalization())\n",
    "    model.add(MaxPooling2D(pool_size=(2, 2)))\n",
    "    model.add(Conv2D(64, kernel_size=(3, 3), activation='relu'))\n",
    "    model.add(BatchNormalization())\n",
    "    model.add(MaxPooling2D(pool_size=(2, 2)))\n",
    "\n",
    "    # Flatten the output before feeding into LSTM\n",
    "    model.add(Flatten())\n",
    "\n",
    "    # Dense layer for feature interpretation\n",
    "    model.add(Dense(64, activation='relu'))\n",
    "    model.add(Dropout(0.5))\n",
    "    model.add(BatchNormalization())\n",
    "\n",
    "    # Reshape the output for LSTM layer\n",
    "    model.add(Reshape((-1, 64)))  \n",
    "    model.add(Bidirectional(LSTM(128, return_sequences=False)))\n",
    "    model.add(Dropout(0.5))\n",
    "    model.add(BatchNormalization())\n",
    "\n",
    "    # Additional Dense layer\n",
    "    model.add(Dense(64, activation='relu'))\n",
    "    model.add(Dropout(0.5))\n",
    "    model.add(BatchNormalization())\n",
    "\n",
    "    # Output layer\n",
    "    model.add(Dense(num_classes, activation='softmax'))\n",
    "\n",
    "    # Compile the model\n",
    "    model.compile(optimizer=Adam(), loss='categorical_crossentropy', metrics=['accuracy'])\n",
    "\n",
    "    return model"
   ]
  },
  {
   "cell_type": "code",
   "execution_count": 39,
   "id": "e541a721",
   "metadata": {},
   "outputs": [
    {
     "name": "stdout",
     "output_type": "stream",
     "text": [
      "Input Shape: (23, 153)\n",
      "Number of Classes: 1211\n"
     ]
    }
   ],
   "source": [
    "# Check the input shape\n",
    "input_shape = X_train[0].shape\n",
    "print(\"Input Shape:\", input_shape)\n",
    "\n",
    "# Check the number of classes\n",
    "num_classes = y_train.shape[1]\n",
    "print(\"Number of Classes:\", num_classes)"
   ]
  },
  {
   "cell_type": "code",
   "execution_count": 40,
   "id": "8ead9dc6",
   "metadata": {},
   "outputs": [
    {
     "name": "stdout",
     "output_type": "stream",
     "text": [
      "Shape of y_train: (42385, 1211)\n",
      "Shape of y_val: (6055, 1211)\n",
      "Number of classes: 1211\n",
      "First 5 labels in y_train:\n",
      "[[0. 0. 0. ... 0. 0. 0.]\n",
      " [0. 0. 0. ... 0. 0. 0.]\n",
      " [0. 0. 0. ... 0. 0. 0.]\n",
      " [0. 0. 0. ... 0. 0. 0.]\n",
      " [0. 0. 0. ... 0. 0. 0.]]\n"
     ]
    }
   ],
   "source": [
    "# Check the shape of the labels\n",
    "print(\"Shape of y_train:\", y_train.shape)\n",
    "print(\"Shape of y_val:\", y_val.shape)\n",
    "\n",
    "# Assuming more than 1 class, check the number of unique classes\n",
    "num_classes = y_train.shape[1]  \n",
    "print(\"Number of classes:\", num_classes)\n",
    "\n",
    "# Examine the first few labels\n",
    "print(\"First 5 labels in y_train:\")\n",
    "print(y_train[:5])"
   ]
  },
  {
   "cell_type": "code",
   "execution_count": 41,
   "id": "338ca316",
   "metadata": {
    "scrolled": true
   },
   "outputs": [
    {
     "name": "stdout",
     "output_type": "stream",
     "text": [
      "Epoch 1/500\n"
     ]
    },
    {
     "ename": "ValueError",
     "evalue": "in user code:\n\n    File \"C:\\Users\\bradl\\anaconda3\\Lib\\site-packages\\keras\\src\\engine\\training.py\", line 1377, in train_function  *\n        return step_function(self, iterator)\n    File \"C:\\Users\\bradl\\anaconda3\\Lib\\site-packages\\keras\\src\\engine\\training.py\", line 1360, in step_function  **\n        outputs = model.distribute_strategy.run(run_step, args=(data,))\n    File \"C:\\Users\\bradl\\anaconda3\\Lib\\site-packages\\keras\\src\\engine\\training.py\", line 1349, in run_step  **\n        outputs = model.train_step(data)\n    File \"C:\\Users\\bradl\\anaconda3\\Lib\\site-packages\\keras\\src\\engine\\training.py\", line 1126, in train_step\n        y_pred = self(x, training=True)\n    File \"C:\\Users\\bradl\\anaconda3\\Lib\\site-packages\\keras\\src\\utils\\traceback_utils.py\", line 70, in error_handler\n        raise e.with_traceback(filtered_tb) from None\n    File \"C:\\Users\\bradl\\anaconda3\\Lib\\site-packages\\keras\\src\\engine\\input_spec.py\", line 298, in assert_input_compatibility\n        raise ValueError(\n\n    ValueError: Input 0 of layer \"sequential_1\" is incompatible with the layer: expected shape=(None, 20, 254, 1), found shape=(None, 23, 153)\n",
     "output_type": "error",
     "traceback": [
      "\u001b[1;31m---------------------------------------------------------------------------\u001b[0m",
      "\u001b[1;31mValueError\u001b[0m                                Traceback (most recent call last)",
      "Cell \u001b[1;32mIn[41], line 14\u001b[0m\n\u001b[0;32m     11\u001b[0m model_2\u001b[38;5;241m.\u001b[39mcompile(optimizer\u001b[38;5;241m=\u001b[39m\u001b[38;5;124m'\u001b[39m\u001b[38;5;124madam\u001b[39m\u001b[38;5;124m'\u001b[39m, loss\u001b[38;5;241m=\u001b[39m\u001b[38;5;124m'\u001b[39m\u001b[38;5;124mcategorical_crossentropy\u001b[39m\u001b[38;5;124m'\u001b[39m, metrics\u001b[38;5;241m=\u001b[39m[\u001b[38;5;124m'\u001b[39m\u001b[38;5;124maccuracy\u001b[39m\u001b[38;5;124m'\u001b[39m])\n\u001b[0;32m     13\u001b[0m \u001b[38;5;66;03m# Then train your model\u001b[39;00m\n\u001b[1;32m---> 14\u001b[0m history \u001b[38;5;241m=\u001b[39m model_2\u001b[38;5;241m.\u001b[39mfit(X_train, \n\u001b[0;32m     15\u001b[0m                     y_train, \n\u001b[0;32m     16\u001b[0m                     validation_data\u001b[38;5;241m=\u001b[39m(X_val, y_val), \n\u001b[0;32m     17\u001b[0m                     epochs\u001b[38;5;241m=\u001b[39m\u001b[38;5;241m500\u001b[39m, \n\u001b[0;32m     18\u001b[0m                     batch_size\u001b[38;5;241m=\u001b[39m\u001b[38;5;241m32\u001b[39m,\n\u001b[0;32m     19\u001b[0m                     callbacks\u001b[38;5;241m=\u001b[39m[early_stopping])\n",
      "File \u001b[1;32m~\\anaconda3\\Lib\\site-packages\\keras\\src\\utils\\traceback_utils.py:70\u001b[0m, in \u001b[0;36mfilter_traceback.<locals>.error_handler\u001b[1;34m(*args, **kwargs)\u001b[0m\n\u001b[0;32m     67\u001b[0m     filtered_tb \u001b[38;5;241m=\u001b[39m _process_traceback_frames(e\u001b[38;5;241m.\u001b[39m__traceback__)\n\u001b[0;32m     68\u001b[0m     \u001b[38;5;66;03m# To get the full stack trace, call:\u001b[39;00m\n\u001b[0;32m     69\u001b[0m     \u001b[38;5;66;03m# `tf.debugging.disable_traceback_filtering()`\u001b[39;00m\n\u001b[1;32m---> 70\u001b[0m     \u001b[38;5;28;01mraise\u001b[39;00m e\u001b[38;5;241m.\u001b[39mwith_traceback(filtered_tb) \u001b[38;5;28;01mfrom\u001b[39;00m \u001b[38;5;28;01mNone\u001b[39;00m\n\u001b[0;32m     71\u001b[0m \u001b[38;5;28;01mfinally\u001b[39;00m:\n\u001b[0;32m     72\u001b[0m     \u001b[38;5;28;01mdel\u001b[39;00m filtered_tb\n",
      "File \u001b[1;32m~\\AppData\\Local\\Temp\\__autograph_generated_fileuh18011u.py:15\u001b[0m, in \u001b[0;36mouter_factory.<locals>.inner_factory.<locals>.tf__train_function\u001b[1;34m(iterator)\u001b[0m\n\u001b[0;32m     13\u001b[0m \u001b[38;5;28;01mtry\u001b[39;00m:\n\u001b[0;32m     14\u001b[0m     do_return \u001b[38;5;241m=\u001b[39m \u001b[38;5;28;01mTrue\u001b[39;00m\n\u001b[1;32m---> 15\u001b[0m     retval_ \u001b[38;5;241m=\u001b[39m ag__\u001b[38;5;241m.\u001b[39mconverted_call(ag__\u001b[38;5;241m.\u001b[39mld(step_function), (ag__\u001b[38;5;241m.\u001b[39mld(\u001b[38;5;28mself\u001b[39m), ag__\u001b[38;5;241m.\u001b[39mld(iterator)), \u001b[38;5;28;01mNone\u001b[39;00m, fscope)\n\u001b[0;32m     16\u001b[0m \u001b[38;5;28;01mexcept\u001b[39;00m:\n\u001b[0;32m     17\u001b[0m     do_return \u001b[38;5;241m=\u001b[39m \u001b[38;5;28;01mFalse\u001b[39;00m\n",
      "\u001b[1;31mValueError\u001b[0m: in user code:\n\n    File \"C:\\Users\\bradl\\anaconda3\\Lib\\site-packages\\keras\\src\\engine\\training.py\", line 1377, in train_function  *\n        return step_function(self, iterator)\n    File \"C:\\Users\\bradl\\anaconda3\\Lib\\site-packages\\keras\\src\\engine\\training.py\", line 1360, in step_function  **\n        outputs = model.distribute_strategy.run(run_step, args=(data,))\n    File \"C:\\Users\\bradl\\anaconda3\\Lib\\site-packages\\keras\\src\\engine\\training.py\", line 1349, in run_step  **\n        outputs = model.train_step(data)\n    File \"C:\\Users\\bradl\\anaconda3\\Lib\\site-packages\\keras\\src\\engine\\training.py\", line 1126, in train_step\n        y_pred = self(x, training=True)\n    File \"C:\\Users\\bradl\\anaconda3\\Lib\\site-packages\\keras\\src\\utils\\traceback_utils.py\", line 70, in error_handler\n        raise e.with_traceback(filtered_tb) from None\n    File \"C:\\Users\\bradl\\anaconda3\\Lib\\site-packages\\keras\\src\\engine\\input_spec.py\", line 298, in assert_input_compatibility\n        raise ValueError(\n\n    ValueError: Input 0 of layer \"sequential_1\" is incompatible with the layer: expected shape=(None, 20, 254, 1), found shape=(None, 23, 153)\n"
     ]
    }
   ],
   "source": [
    "# Assuming y_train is correctly one-hot encoded and has the shape (16954, 1211)\n",
    "num_classes = y_train.shape[1]\n",
    "\n",
    "# Define early stopping callback\n",
    "early_stopping = EarlyStopping(monitor='val_loss', patience=10, min_delta=0.001, mode='min', verbose=1)\n",
    "\n",
    "# Build the model with the correct number of output neurons\n",
    "model_2 = cnn_lstm_classifier_2(X_train[0].shape, num_classes)\n",
    "\n",
    "# Compile the model with an appropriate loss function and optimizer\n",
    "model_2.compile(optimizer='adam', loss='categorical_crossentropy', metrics=['accuracy'])\n",
    "\n",
    "l\n",
    "history = model_2.fit(X_train, \n",
    "                    y_train, \n",
    "                    validation_data=(X_val, y_val), \n",
    "                    epochs=500, \n",
    "                    batch_size=32,\n",
    "                    callbacks=[early_stopping])"
   ]
  },
  {
   "cell_type": "code",
   "execution_count": null,
   "id": "1a32b084",
   "metadata": {},
   "outputs": [],
   "source": [
    "test_loss, test_accuracy = model_2.evaluate(X_test, y_test)\n",
    "print(f\"Test Accuracy: {test_accuracy}\")"
   ]
  },
  {
   "cell_type": "code",
   "execution_count": null,
   "id": "bceeed60",
   "metadata": {},
   "outputs": [],
   "source": []
  }
 ],
 "metadata": {
  "kernelspec": {
   "display_name": "Python 3 (ipykernel)",
   "language": "python",
   "name": "python3"
  },
  "language_info": {
   "codemirror_mode": {
    "name": "ipython",
    "version": 3
   },
   "file_extension": ".py",
   "mimetype": "text/x-python",
   "name": "python",
   "nbconvert_exporter": "python",
   "pygments_lexer": "ipython3",
   "version": "3.11.5"
  }
 },
 "nbformat": 4,
 "nbformat_minor": 5
}
